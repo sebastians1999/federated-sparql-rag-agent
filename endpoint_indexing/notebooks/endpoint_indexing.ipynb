{
 "cells": [
  {
   "cell_type": "code",
   "execution_count": 1,
   "metadata": {},
   "outputs": [],
   "source": [
    "from sparql_llm import SparqlExamplesLoader, SparqlInfoLoader, SparqlVoidShapesLoader\n",
    "from langchain_core.documents import Document\n"
   ]
  },
  {
   "cell_type": "code",
   "execution_count": 2,
   "metadata": {},
   "outputs": [],
   "source": [
    "endpoints = [\n",
    "    \"https://sparql.uniprot.org/sparql/\",\n",
    "    \"https://sparql.rhea-db.org/sparql/\",\n",
    "    \"https://beta.sparql.swisslipids.org/\",\n",
    "    \"https://biosoda.unil.ch/emi/sparql/\"\n",
    "]"
   ]
  },
  {
   "cell_type": "code",
   "execution_count": 3,
   "metadata": {},
   "outputs": [],
   "source": [
    "from typing import List, Dict, Optional\n",
    "from qdrant_client import QdrantClient\n",
    "from qdrant_client.http.models import SearchRequest, NamedVector, NamedSparseVector, SparseIndexParams, SparseVector\n",
    "from langchain_qdrant.fastembed_sparse import FastEmbedSparse\n",
    "from langchain_community.embeddings.fastembed import FastEmbedEmbeddings\n",
    "import gc\n",
    "import time\n",
    "from langchain_qdrant import QdrantVectorStore\n",
    "\n",
    "\n",
    "\n",
    "def init_endpoint_examples(endpoints: List[str], collection_name: str = \"biomedical_examples_collection_v1.0\", embedding_model: str = \"BAAI/bge-base-en-v1.5\", parallel: int = 4) -> None:\n",
    "\n",
    "    docs = []\n",
    " \n",
    "    \n",
    "    for endpoint in endpoints:\n",
    "        docs += SparqlExamplesLoader(endpoint_url=endpoint).load()\n",
    "    \n",
    "\n",
    "    print(f\"Loaded {len(docs)} documents from {len(endpoints)} endpoints\")\n",
    "\n",
    "    start_time = time.time()\n",
    "\n",
    "    QdrantVectorStore.from_documents(\n",
    "        docs,\n",
    "        host=\"localhost\",\n",
    "        grpc_port=6334,\n",
    "        prefer_grpc=True,\n",
    "        collection_name=collection_name,\n",
    "        force_recreate=True,\n",
    "        embedding= FastEmbedEmbeddings(model_name=embedding_model, parallel=parallel),\n",
    "    )\n",
    "\n",
    "    print(f\"Done generating and indexing {len(docs)} documents into the vectordb in {time.time() - start_time} seconds\")\n",
    "\n",
    "\n",
    "\n",
    "    "
   ]
  },
  {
   "cell_type": "code",
   "execution_count": 4,
   "metadata": {},
   "outputs": [
    {
     "name": "stderr",
     "output_type": "stream",
     "text": [
      "Found 111 examples queries for https://sparql.uniprot.org/sparql/\n",
      "Found 121 examples queries for https://sparql.rhea-db.org/sparql/\n",
      "Found 23 examples queries for https://beta.sparql.swisslipids.org/\n",
      "Found 19 examples queries for https://biosoda.unil.ch/emi/sparql/\n"
     ]
    },
    {
     "name": "stdout",
     "output_type": "stream",
     "text": [
      "Loaded 274 documents from 4 endpoints\n",
      "Done generating and indexing 274 documents into the vectordb in 39.81329107284546 seconds\n"
     ]
    }
   ],
   "source": [
    "init_endpoint_examples(endpoints)\n",
    "    "
   ]
  },
  {
   "cell_type": "code",
   "execution_count": 5,
   "metadata": {},
   "outputs": [],
   "source": [
    "import os\n",
    "import sys\n",
    "\n",
    "sys.path.append('/Users/sebastian/Documents/Bachelor Thesis/sparql-rag-agent/sparql-rag-agent')"
   ]
  },
  {
   "cell_type": "code",
   "execution_count": 6,
   "metadata": {},
   "outputs": [
    {
     "ename": "NameError",
     "evalue": "name 'docs' is not defined",
     "output_type": "error",
     "traceback": [
      "\u001b[31m---------------------------------------------------------------------------\u001b[39m",
      "\u001b[31mNameError\u001b[39m                                 Traceback (most recent call last)",
      "\u001b[36mCell\u001b[39m\u001b[36m \u001b[39m\u001b[32mIn[6]\u001b[39m\u001b[32m, line 1\u001b[39m\n\u001b[32m----> \u001b[39m\u001b[32m1\u001b[39m \u001b[38;5;28mprint\u001b[39m(\u001b[43mdocs\u001b[49m[\u001b[32m0\u001b[39m])\n",
      "\u001b[31mNameError\u001b[39m: name 'docs' is not defined"
     ]
    }
   ],
   "source": [
    "print(docs[0])"
   ]
  },
  {
   "cell_type": "code",
   "execution_count": null,
   "metadata": {},
   "outputs": [],
   "source": [
    "\n",
    "client = QdrantClient(\n",
    "            host=\"localhost\",\n",
    "            grpc_port=6334,\n",
    "            prefer_grpc=True,\n",
    "            timeout=60\n",
    "        )\n",
    "\n",
    "\n",
    "for question i"
   ]
  },
  {
   "cell_type": "code",
   "execution_count": null,
   "metadata": {},
   "outputs": [],
   "source": [
    "embeddings = FastEmbedEmbeddings(\n",
    "            model_name=rag_config.dense_embedding_model,\n",
    "            cache_dir=cache_dir,\n",
    "        )\n",
    "        \n",
    "        # Initialize the Qdrant client\n",
    "        logger.info(f\"Connecting to Qdrant at {vectordb_url}\")\n",
    "        client = QdrantClient(\n",
    "            host=rag_config.host,\n",
    "            grpc_port=rag_config.grpc_port,\n",
    "            prefer_grpc=True,\n",
    "            timeout=rag_config.timeout\n",
    "        )\n",
    "        \n",
    "        entities_list = []\n",
    "        classes_list = []\n",
    "        steps = []\n",
    "        \n",
    "        # Get all entities to process\n",
    "        entities = state.structured_question.extracted_entities\n",
    "        \n",
    "        # Get all classes to process\n",
    "        classes = state.structured_question.extracted_classes\n",
    "        \n",
    "        has_entities_or_classes = False\n",
    "        \n",
    "        # Process entities if they exist\n",
    "        if entities:\n",
    "            has_entities_or_classes = True\n",
    "            # Generate embeddings for all entities in a single batch\n",
    "            logger.info(f\"Generating batch embeddings for {len(entities)} entities\")\n",
    "            entity_embeddings = embeddings.embed_documents(entities)\n",
    "            \n",
    "            # Process each entity with its embedding\n",
    "            for i, potential_entity in enumerate(entities):\n",
    "                try:\n",
    "                    dense_vector = entity_embeddings[i]\n",
    "                    \n",
    "                    if dense_vector is not None:\n",
    "                        # Use direct query_points method as requested\n",
    "                        logger.info(f\"Querying Qdrant for entity: {potential_entity}\")\n",
    "                        results = client.query_points(\n",
    "                            collection_name=collection_name,\n",
    "                            query=dense_vector,\n",
    "                            using=\"dense\",\n",
    "                            with_payload=True,\n",
    "                            limit=top_k,\n",
    "                        )"
   ]
  },
  {
   "cell_type": "code",
   "execution_count": null,
   "metadata": {},
   "outputs": [],
   "source": []
  }
 ],
 "metadata": {
  "kernelspec": {
   "display_name": ".venv",
   "language": "python",
   "name": "python3"
  },
  "language_info": {
   "codemirror_mode": {
    "name": "ipython",
    "version": 3
   },
   "file_extension": ".py",
   "mimetype": "text/x-python",
   "name": "python",
   "nbconvert_exporter": "python",
   "pygments_lexer": "ipython3",
   "version": "3.11.5"
  }
 },
 "nbformat": 4,
 "nbformat_minor": 2
}
