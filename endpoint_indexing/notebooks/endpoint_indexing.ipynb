{
 "cells": [
  {
   "cell_type": "code",
   "execution_count": 1,
   "metadata": {},
   "outputs": [],
   "source": [
    "from sparql_llm import SparqlExamplesLoader, SparqlInfoLoader, SparqlVoidShapesLoader\n",
    "from langchain_core.documents import Document\n"
   ]
  },
  {
   "cell_type": "code",
   "execution_count": 2,
   "metadata": {},
   "outputs": [],
   "source": [
    "endpoints = [\n",
    "    \"https://sparql.uniprot.org/sparql/\",\n",
    "    \"https://sparql.rhea-db.org/sparql/\",\n",
    "    \"https://beta.sparql.swisslipids.org/\",\n",
    "    #\"https://biosoda.unil.ch/emi/sparql/\"\n",
    "]\n",
    "\n",
    "embedding_model = \"BAAI/bge-large-en-v1.5\"\n",
    "#embedding_model = \"BAAI/bge-small-en-v1.5\"\n",
    "\n",
    "collection_name = \"biomedical_examples_collection_v1.0\"\n",
    "\n",
    "vector_size = 384"
   ]
  },
  {
   "cell_type": "code",
   "execution_count": 3,
   "metadata": {},
   "outputs": [],
   "source": [
    "from typing import List, Dict, Optional\n",
    "from qdrant_client import QdrantClient\n",
    "from qdrant_client.http.models import SearchRequest, NamedVector, NamedSparseVector, SparseIndexParams, SparseVector\n",
    "from langchain_qdrant.fastembed_sparse import FastEmbedSparse\n",
    "from langchain_community.embeddings.fastembed import FastEmbedEmbeddings\n",
    "import gc\n",
    "import time\n",
    "from langchain_qdrant import QdrantVectorStore\n",
    "from qdrant_client.http import models\n",
    "\n",
    "\n",
    "\n",
    "def init_endpoint_examples(endpoints: List[str], collection_name: str = \"biomedical_examples_collection_v1.0\", embedding_model: str = \"BAAI/bge-base-en-v1.5\", parallel: int = 4, vector_size: int = 768) -> None:\n",
    "\n",
    "    client = QdrantClient(\n",
    "            host=\"localhost\",\n",
    "            grpc_port=6334,\n",
    "            prefer_grpc=True,\n",
    "            timeout=60\n",
    "        )\n",
    "\n",
    "\n",
    "    collections = client.get_collections()\n",
    "\n",
    "    if collection_name in [c.name for c in collections.collections]:\n",
    "        print(f\"Collection '{collection_name}' exists, deleting...\")\n",
    "        client.delete_collection(collection_name)\n",
    "\n",
    "    client.create_collection(\n",
    "        collection_name=collection_name,\n",
    "        vectors_config={\n",
    "            \"dense\": models.VectorParams(\n",
    "                size= vector_size,\n",
    "                distance=models.Distance.COSINE\n",
    "            )\n",
    "        },\n",
    "        hnsw_config=models.HnswConfigDiff(\n",
    "            on_disk=True\n",
    "        ),\n",
    "    )\n",
    "\n",
    "    \n",
    "    docs = []\n",
    " \n",
    "    \n",
    "    for endpoint in endpoints:\n",
    "        docs += SparqlExamplesLoader(endpoint_url=endpoint).load()\n",
    "    \n",
    "\n",
    "    print(f\"Loaded {len(docs)} documents from {len(endpoints)} endpoints\")\n",
    "\n",
    "    start_time = time.time()\n",
    "\n",
    "    QdrantVectorStore.from_documents(\n",
    "        docs,\n",
    "        host=\"localhost\",\n",
    "        grpc_port=6334,\n",
    "        prefer_grpc=True,\n",
    "        collection_name=collection_name,\n",
    "        force_recreate=True,\n",
    "        embedding= FastEmbedEmbeddings(model_name=embedding_model, parallel=parallel),\n",
    "        vector_name=\"dense\"\n",
    "    )\n",
    "\n",
    "    print(f\"Done generating and indexing {len(docs)} documents into the vectordb in {time.time() - start_time} seconds\")"
   ]
  },
  {
   "cell_type": "code",
   "execution_count": 4,
   "metadata": {},
   "outputs": [
    {
     "name": "stdout",
     "output_type": "stream",
     "text": [
      "Collection 'biomedical_examples_collection_v1.0' exists, deleting...\n"
     ]
    },
    {
     "name": "stderr",
     "output_type": "stream",
     "text": [
      "Found 111 examples queries for https://sparql.uniprot.org/sparql/\n",
      "Found 121 examples queries for https://sparql.rhea-db.org/sparql/\n",
      "Found 23 examples queries for https://beta.sparql.swisslipids.org/\n"
     ]
    },
    {
     "name": "stdout",
     "output_type": "stream",
     "text": [
      "Loaded 255 documents from 3 endpoints\n"
     ]
    },
    {
     "data": {
      "application/vnd.jupyter.widget-view+json": {
       "model_id": "b300846f08fa4fa2a1a8c8b1e0893e66",
       "version_major": 2,
       "version_minor": 0
      },
      "text/plain": [
       "Fetching 5 files:   0%|          | 0/5 [00:00<?, ?it/s]"
      ]
     },
     "metadata": {},
     "output_type": "display_data"
    },
    {
     "data": {
      "application/vnd.jupyter.widget-view+json": {
       "model_id": "0abff0a13f924c3a9df3a6aaf36d316a",
       "version_major": 2,
       "version_minor": 0
      },
      "text/plain": [
       "tokenizer.json:   0%|          | 0.00/711k [00:00<?, ?B/s]"
      ]
     },
     "metadata": {},
     "output_type": "display_data"
    },
    {
     "data": {
      "application/vnd.jupyter.widget-view+json": {
       "model_id": "0c4aa4f62e8e4891a3872559c5899db1",
       "version_major": 2,
       "version_minor": 0
      },
      "text/plain": [
       "special_tokens_map.json:   0%|          | 0.00/695 [00:00<?, ?B/s]"
      ]
     },
     "metadata": {},
     "output_type": "display_data"
    },
    {
     "data": {
      "application/vnd.jupyter.widget-view+json": {
       "model_id": "0d3fe0092c574a9b862f51ad222cbc9b",
       "version_major": 2,
       "version_minor": 0
      },
      "text/plain": [
       "tokenizer_config.json:   0%|          | 0.00/1.24k [00:00<?, ?B/s]"
      ]
     },
     "metadata": {},
     "output_type": "display_data"
    },
    {
     "data": {
      "application/vnd.jupyter.widget-view+json": {
       "model_id": "bf7b86091f5f4056a4085240bd29f569",
       "version_major": 2,
       "version_minor": 0
      },
      "text/plain": [
       "config.json:   0%|          | 0.00/742 [00:00<?, ?B/s]"
      ]
     },
     "metadata": {},
     "output_type": "display_data"
    },
    {
     "data": {
      "application/vnd.jupyter.widget-view+json": {
       "model_id": "7fb58d5b62824257997bdb94de5471e3",
       "version_major": 2,
       "version_minor": 0
      },
      "text/plain": [
       "model.onnx:   0%|          | 0.00/1.34G [00:00<?, ?B/s]"
      ]
     },
     "metadata": {},
     "output_type": "display_data"
    },
    {
     "name": "stdout",
     "output_type": "stream",
     "text": [
      "Done generating and indexing 255 documents into the vectordb in 137.44155192375183 seconds\n"
     ]
    }
   ],
   "source": [
    "init_endpoint_examples(endpoints= endpoints, embedding_model= embedding_model, collection_name= collection_name, vector_size= vector_size)\n",
    "    "
   ]
  },
  {
   "cell_type": "code",
   "execution_count": 5,
   "metadata": {},
   "outputs": [
    {
     "name": "stderr",
     "output_type": "stream",
     "text": [
      "Found 111 examples queries for https://sparql.uniprot.org/sparql/\n",
      "Found 121 examples queries for https://sparql.rhea-db.org/sparql/\n",
      "Found 23 examples queries for https://beta.sparql.swisslipids.org/\n"
     ]
    }
   ],
   "source": [
    "examples = []\n",
    "\n",
    "\n",
    "for endpoint in endpoints:\n",
    "    examples += SparqlExamplesLoader(endpoint_url=endpoint).load()"
   ]
  },
  {
   "cell_type": "code",
   "execution_count": 36,
   "metadata": {},
   "outputs": [
    {
     "name": "stdout",
     "output_type": "stream",
     "text": [
      "dict_keys(['question', 'answer', 'endpoint_url', 'query_type', 'doc_type'])\n"
     ]
    }
   ],
   "source": [
    "print(examples[0].metadata.keys())"
   ]
  },
  {
   "cell_type": "code",
   "execution_count": 39,
   "metadata": {},
   "outputs": [
    {
     "name": "stdout",
     "output_type": "stream",
     "text": [
      "page_content='Select all taxa from the UniProt taxonomy' metadata={'question': 'Select all taxa from the UniProt taxonomy', 'answer': 'PREFIX up: <http://purl.uniprot.org/core/>\\n\\nSELECT ?taxon\\nFROM <http://sparql.uniprot.org/taxonomy>\\nWHERE\\n{\\n    ?taxon a up:Taxon .\\n}', 'endpoint_url': 'https://sparql.uniprot.org/sparql/', 'query_type': 'SelectQuery', 'doc_type': 'SPARQL endpoints query examples'}\n"
     ]
    }
   ],
   "source": [
    "print(examples[0])"
   ]
  },
  {
   "cell_type": "code",
   "execution_count": 6,
   "metadata": {},
   "outputs": [],
   "source": [
    "import numpy as np\n",
    "import pandas as pd\n",
    "\n",
    "rows = []\n",
    "\n",
    "client = QdrantClient(\n",
    "    host=\"localhost\",\n",
    "    grpc_port=6334,\n",
    "    prefer_grpc=True,\n",
    "    timeout=60\n",
    ")\n",
    "\n",
    "dense_embeddings = FastEmbedEmbeddings(\n",
    "    model_name=embedding_model\n",
    ")\n",
    "\n",
    "for q_idx, question in enumerate(examples): \n",
    "    dense_vector = dense_embeddings.embed_query(question.page_content)\n",
    "\n",
    "    if dense_vector is not None:\n",
    "        results = client.query_points(\n",
    "            collection_name=collection_name,\n",
    "            query=dense_vector,\n",
    "            using=\"dense\",\n",
    "            with_payload=True,\n",
    "            limit=10,\n",
    "        )\n",
    "\n",
    "        for r_idx, point in enumerate(results.points):\n",
    "\n",
    "            if question.page_content in point.payload[\"metadata\"][\"question\"]:\n",
    "                rows.append({\n",
    "                    \"question\": question.page_content,\n",
    "                    \"rank\": r_idx,\n",
    "                    \"similarity_score\": point.score,\n",
    "                })\n",
    "\n",
    "df = pd.DataFrame(rows)"
   ]
  },
  {
   "cell_type": "code",
   "execution_count": 8,
   "metadata": {},
   "outputs": [
    {
     "data": {
      "text/html": [
       "<div>\n",
       "<style scoped>\n",
       "    .dataframe tbody tr th:only-of-type {\n",
       "        vertical-align: middle;\n",
       "    }\n",
       "\n",
       "    .dataframe tbody tr th {\n",
       "        vertical-align: top;\n",
       "    }\n",
       "\n",
       "    .dataframe thead th {\n",
       "        text-align: right;\n",
       "    }\n",
       "</style>\n",
       "<table border=\"1\" class=\"dataframe\">\n",
       "  <thead>\n",
       "    <tr style=\"text-align: right;\">\n",
       "      <th></th>\n",
       "      <th>question</th>\n",
       "      <th>rank</th>\n",
       "      <th>similarity_score</th>\n",
       "    </tr>\n",
       "  </thead>\n",
       "  <tbody>\n",
       "    <tr>\n",
       "      <th>0</th>\n",
       "      <td>Select all taxa from the UniProt taxonomy</td>\n",
       "      <td>0</td>\n",
       "      <td>1.0</td>\n",
       "    </tr>\n",
       "    <tr>\n",
       "      <th>1</th>\n",
       "      <td>Select all human UniProtKB entries with a sequ...</td>\n",
       "      <td>0</td>\n",
       "      <td>1.0</td>\n",
       "    </tr>\n",
       "    <tr>\n",
       "      <th>2</th>\n",
       "      <td>List the proteins encoded by a gene that is lo...</td>\n",
       "      <td>0</td>\n",
       "      <td>1.0</td>\n",
       "    </tr>\n",
       "    <tr>\n",
       "      <th>3</th>\n",
       "      <td>List all human UniProtKB entries and their com...</td>\n",
       "      <td>0</td>\n",
       "      <td>1.0</td>\n",
       "    </tr>\n",
       "    <tr>\n",
       "      <th>4</th>\n",
       "      <td>Extracting an UniProtKB primary accession from...</td>\n",
       "      <td>0</td>\n",
       "      <td>1.0</td>\n",
       "    </tr>\n",
       "    <tr>\n",
       "      <th>...</th>\n",
       "      <td>...</td>\n",
       "      <td>...</td>\n",
       "      <td>...</td>\n",
       "    </tr>\n",
       "    <tr>\n",
       "      <th>266</th>\n",
       "      <td>For a given lipid (SWISSLIPID:000399814, Ceram...</td>\n",
       "      <td>0</td>\n",
       "      <td>1.0</td>\n",
       "    </tr>\n",
       "    <tr>\n",
       "      <th>267</th>\n",
       "      <td>For a given lipid (SWISSLIPID:000399814, Ceram...</td>\n",
       "      <td>0</td>\n",
       "      <td>1.0</td>\n",
       "    </tr>\n",
       "    <tr>\n",
       "      <th>268</th>\n",
       "      <td>For a given list of lipid Species, return a li...</td>\n",
       "      <td>0</td>\n",
       "      <td>1.0</td>\n",
       "    </tr>\n",
       "    <tr>\n",
       "      <th>269</th>\n",
       "      <td>Retrieve mapping between SwissLipids lipid ide...</td>\n",
       "      <td>0</td>\n",
       "      <td>1.0</td>\n",
       "    </tr>\n",
       "    <tr>\n",
       "      <th>270</th>\n",
       "      <td>For a given list of LIPID MAPS identifiers ret...</td>\n",
       "      <td>0</td>\n",
       "      <td>1.0</td>\n",
       "    </tr>\n",
       "  </tbody>\n",
       "</table>\n",
       "<p>271 rows × 3 columns</p>\n",
       "</div>"
      ],
      "text/plain": [
       "                                              question  rank  similarity_score\n",
       "0            Select all taxa from the UniProt taxonomy     0               1.0\n",
       "1    Select all human UniProtKB entries with a sequ...     0               1.0\n",
       "2    List the proteins encoded by a gene that is lo...     0               1.0\n",
       "3    List all human UniProtKB entries and their com...     0               1.0\n",
       "4    Extracting an UniProtKB primary accession from...     0               1.0\n",
       "..                                                 ...   ...               ...\n",
       "266  For a given lipid (SWISSLIPID:000399814, Ceram...     0               1.0\n",
       "267  For a given lipid (SWISSLIPID:000399814, Ceram...     0               1.0\n",
       "268  For a given list of lipid Species, return a li...     0               1.0\n",
       "269  Retrieve mapping between SwissLipids lipid ide...     0               1.0\n",
       "270  For a given list of LIPID MAPS identifiers ret...     0               1.0\n",
       "\n",
       "[271 rows x 3 columns]"
      ]
     },
     "execution_count": 8,
     "metadata": {},
     "output_type": "execute_result"
    }
   ],
   "source": [
    "df.head(500)"
   ]
  },
  {
   "cell_type": "code",
   "execution_count": 11,
   "metadata": {},
   "outputs": [
    {
     "name": "stdout",
     "output_type": "stream",
     "text": [
      "0      1.0\n",
      "1      NaN\n",
      "2      NaN\n",
      "3      1.0\n",
      "4      NaN\n",
      "      ... \n",
      "266    1.0\n",
      "267    NaN\n",
      "268    NaN\n",
      "269    NaN\n",
      "270    1.0\n",
      "Name: similarity_score, Length: 271, dtype: float64\n"
     ]
    }
   ],
   "source": [
    "print(df[\"similarity_score\"].where(df[\"similarity_score\"] < 1.0))"
   ]
  },
  {
   "cell_type": "code",
   "execution_count": 12,
   "metadata": {},
   "outputs": [
    {
     "name": "stdout",
     "output_type": "stream",
     "text": [
      "89\n"
     ]
    }
   ],
   "source": [
    "print(df[\"similarity_score\"].where(df[\"similarity_score\"] < 1.0).count())"
   ]
  },
  {
   "cell_type": "code",
   "execution_count": 49,
   "metadata": {},
   "outputs": [],
   "source": [
    "dense_vector = dense_embeddings.embed_query(examples[0].page_content)\n",
    "\n",
    "matches = []\n",
    "\n",
    "if dense_vector is not None:\n",
    "    results = client.query_points(\n",
    "        collection_name=collection_name,\n",
    "        query=dense_vector,\n",
    "        using=\"dense\",\n",
    "        with_payload=True,\n",
    "        limit=10,\n",
    "    )\n",
    "\n",
    "for r_idx, point in enumerate(results.points):\n",
    "\n",
    "    if point.score < 0.9:\n",
    "        doc = Document(\n",
    "            page_content=point.payload.get(\"page_content\", \"\"),\n",
    "            metadata=point.payload.get(\"metadata\", \"\"),\n",
    "        )\n",
    "        matches.append(doc)"
   ]
  },
  {
   "cell_type": "code",
   "execution_count": 45,
   "metadata": {},
   "outputs": [
    {
     "name": "stdout",
     "output_type": "stream",
     "text": [
      "dict_keys(['endpoint_url', 'doc_type', 'answer', 'question', 'query_type'])\n"
     ]
    }
   ],
   "source": [
    "print(matches[0].page_content.keys())"
   ]
  },
  {
   "cell_type": "code",
   "execution_count": 46,
   "metadata": {},
   "outputs": [
    {
     "name": "stdout",
     "output_type": "stream",
     "text": [
      "page_content='Select all Rhea reactions used in UniProtKB/Swiss-Prot for a given organism (NCBI taxonomy ID).' metadata={'endpoint_url': 'https://sparql.rhea-db.org/sparql/', 'doc_type': 'SPARQL endpoints query examples', 'answer': 'PREFIX rh: <http://rdf.rhea-db.org/>\\nPREFIX taxon: <http://purl.uniprot.org/taxonomy/>\\nPREFIX up: <http://purl.uniprot.org/core/>\\n\\n# Query 13\\n# Select all Rhea reactions used to annotate Escherichia coli (taxid=83333) in UniProtKB/Swiss-Prot\\n# return the number of UniProtKB entries\\n# \\n# Federated query using a service to UniProt SPARQL endpoint\\n#\\n# This query cannot be performed using the Rhea search website\\nSELECT ?uniprot ?mnemo ?rhea ?accession ?equation \\nWHERE {\\n  SERVICE <https://sparql.uniprot.org/sparql> { \\n    VALUES (?taxid) { (taxon:83333) }\\n    GRAPH <http://sparql.uniprot.org/uniprot> {\\n      ?uniprot up:reviewed true . \\n      ?uniprot up:mnemonic ?mnemo . \\n      ?uniprot up:organism ?taxid .\\n      ?uniprot up:annotation/up:catalyticActivity/up:catalyzedReaction ?rhea . \\n    }\\n  }\\n  ?rhea rh:accession ?accession .\\n  ?rhea rh:equation ?equation .\\n}', 'question': 'Select all Rhea reactions used in UniProtKB/Swiss-Prot for a given organism (NCBI taxonomy ID).', 'query_type': 'SelectQuery'}\n"
     ]
    }
   ],
   "source": [
    "print(matches[0])"
   ]
  },
  {
   "cell_type": "code",
   "execution_count": null,
   "metadata": {},
   "outputs": [],
   "source": []
  }
 ],
 "metadata": {
  "kernelspec": {
   "display_name": ".venv",
   "language": "python",
   "name": "python3"
  },
  "language_info": {
   "codemirror_mode": {
    "name": "ipython",
    "version": 3
   },
   "file_extension": ".py",
   "mimetype": "text/x-python",
   "name": "python",
   "nbconvert_exporter": "python",
   "pygments_lexer": "ipython3",
   "version": "3.11.5"
  }
 },
 "nbformat": 4,
 "nbformat_minor": 2
}
