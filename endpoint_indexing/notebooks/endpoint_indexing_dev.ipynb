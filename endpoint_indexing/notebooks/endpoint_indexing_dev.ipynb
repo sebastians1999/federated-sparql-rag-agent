{
 "cells": [
  {
   "cell_type": "code",
   "execution_count": 1,
   "metadata": {},
   "outputs": [],
   "source": [
    "from sparql_llm import SparqlExamplesLoader, SparqlInfoLoader, SparqlVoidShapesLoader, get_shex_from_void"
   ]
  },
  {
   "cell_type": "code",
   "execution_count": null,
   "metadata": {},
   "outputs": [],
   "source": [
    "uniprot = \"https://sparql.uniprot.org/sparql/\"\n",
    "\n",
    "rhea = \"https://sparql.rhea-db.org/sparql/\"\n",
    "\n",
    "swisslipids = \"https://beta.sparql.swisslipids.org\"\n",
    "\n",
    "biosoda = \"https://biosoda.unil.ch/emi/sparql/\"\n",
    "\n",
    "endpoints = [uniprot, rhea, swisslipids, biosoda]\n"
   ]
  },
  {
   "cell_type": "code",
   "execution_count": 9,
   "metadata": {},
   "outputs": [
    {
     "name": "stderr",
     "output_type": "stream",
     "text": [
      "Found 111 examples queries for https://sparql.uniprot.org/sparql/\n"
     ]
    }
   ],
   "source": [
    "example_loader = SparqlExamplesLoader(endpoint_url=uniprot)\n",
    "examples = example_loader.load()"
   ]
  },
  {
   "cell_type": "code",
   "execution_count": 10,
   "metadata": {},
   "outputs": [
    {
     "name": "stdout",
     "output_type": "stream",
     "text": [
      "page_content='Select all taxa from the UniProt taxonomy' metadata={'question': 'Select all taxa from the UniProt taxonomy', 'answer': 'PREFIX up: <http://purl.uniprot.org/core/>\\n\\nSELECT ?taxon\\nFROM <http://sparql.uniprot.org/taxonomy>\\nWHERE\\n{\\n    ?taxon a up:Taxon .\\n}', 'endpoint_url': 'https://sparql.uniprot.org/sparql/', 'query_type': 'SelectQuery', 'doc_type': 'SPARQL endpoints query examples'}\n"
     ]
    }
   ],
   "source": [
    "print(examples[0])"
   ]
  },
  {
   "cell_type": "code",
   "execution_count": 17,
   "metadata": {},
   "outputs": [],
   "source": [
    "answers = [doc.metadata[\"answer\"] for doc in docs]"
   ]
  },
  {
   "cell_type": "code",
   "execution_count": 4,
   "metadata": {},
   "outputs": [],
   "source": [
    "import os\n",
    "import sys\n",
    "\n",
    "\n",
    "loader = SparqlVoidShapesLoader(endpoint_url=uniprot)"
   ]
  },
  {
   "cell_type": "code",
   "execution_count": 21,
   "metadata": {},
   "outputs": [
    {
     "name": "stderr",
     "output_type": "stream",
     "text": [
      "Could not retrieve VoID description from /Users/sebastian/Documents/Bachelor Thesis/sparql-rag-agent/sparql-rag-agent/endpoint_indexing/data/void-rhea.ttl: No VoID description found\n",
      "Extracted 0 ShEx shapes for https://sparql.rhea-db.org/sparql/\n"
     ]
    }
   ],
   "source": [
    "docs = loader.load()"
   ]
  },
  {
   "cell_type": "code",
   "execution_count": 5,
   "metadata": {},
   "outputs": [],
   "source": [
    "import os\n",
    "import sys\n",
    "import logging\n",
    "\n",
    "\n",
    "\n",
    "logging.getLogger(\"httpx\").setLevel(logging.WARNING)\n",
    "logging.info(\"Initializing endpoints metadata...\")\n",
    "#sys.path.append('/Users/sebastian/Documents/Bachelor Thesis/sparql-rag-agent/sparql-rag-agent/')\n",
    "\n",
    "\n",
    "loader = SparqlVoidShapesLoader(endpoint_url=swisslipids)"
   ]
  },
  {
   "cell_type": "code",
   "execution_count": 14,
   "metadata": {},
   "outputs": [
    {
     "name": "stderr",
     "output_type": "stream",
     "text": [
      "Could not retrieve VoID description from /Users/sebastian/Documents/Bachelor Thesis/sparql-rag-agent/sparql-rag-agent/endpoint_indexing/data/void-rhea.ttl: No VoID description found\n",
      "WARNING:sparql_llm:Could not retrieve VoID description from /Users/sebastian/Documents/Bachelor Thesis/sparql-rag-agent/sparql-rag-agent/endpoint_indexing/data/void-rhea.ttl: No VoID description found\n",
      "Extracted 0 ShEx shapes for https://sparql.rhea-db.org/sparql/\n",
      "INFO:sparql_llm:Extracted 0 ShEx shapes for https://sparql.rhea-db.org/sparql/\n"
     ]
    }
   ],
   "source": [
    "docs = loader.load()"
   ]
  },
  {
   "cell_type": "code",
   "execution_count": 22,
   "metadata": {},
   "outputs": [],
   "source": [
    "import os\n",
    "import sys\n",
    "\n",
    "#sys.path.append('/Users/sebastian/Documents/Bachelor Thesis/sparql-rag-agent/sparql-rag-agent/')\n",
    "\n",
    "\n",
    "loader = SparqlVoidShapesLoader(endpoint_url=biosoda)"
   ]
  },
  {
   "cell_type": "code",
   "execution_count": 23,
   "metadata": {},
   "outputs": [
    {
     "name": "stderr",
     "output_type": "stream",
     "text": [
      "Extracted 86 ShEx shapes for https://biosoda.unil.ch/emi/sparql/\n"
     ]
    }
   ],
   "source": [
    "docs = loader.load()"
   ]
  },
  {
   "cell_type": "code",
   "execution_count": 11,
   "metadata": {},
   "outputs": [
    {
     "name": "stdout",
     "output_type": "stream",
     "text": [
      "[]\n"
     ]
    }
   ],
   "source": [
    "print(docs)"
   ]
  },
  {
   "cell_type": "code",
   "execution_count": 7,
   "metadata": {},
   "outputs": [],
   "source": [
    "import os\n",
    "import sys\n",
    "\n",
    "loader = SparqlVoidShapesLoader(endpoint_url=rhea, void_file=\"/Users/sebastian/Documents/Bachelor Thesis/sparql-rag-agent/sparql-rag-agent/endpoint_indexing/data/swisslipids-void.ttl\")"
   ]
  },
  {
   "cell_type": "code",
   "execution_count": 8,
   "metadata": {},
   "outputs": [
    {
     "name": "stderr",
     "output_type": "stream",
     "text": [
      "Extracted 0 ShEx shapes for https://sparql.rhea-db.org/sparql/\n"
     ]
    }
   ],
   "source": [
    "docs = loader.load()"
   ]
  },
  {
   "cell_type": "code",
   "execution_count": 27,
   "metadata": {},
   "outputs": [
    {
     "name": "stderr",
     "output_type": "stream",
     "text": [
      "Extracted 0 ShEx shapes for https://beta.sparql.swisslipids.org\n"
     ]
    }
   ],
   "source": [
    "loader_example = SparqlVoidShapesLoader(swisslipids, void_file = \"/Users/sebastian/Documents/Bachelor Thesis/sparql-rag-agent/sparql-rag-agent/endpoint_indexing/data/swisslipids-void.ttl\")\n",
    "\n",
    "docs = loader_example.load()"
   ]
  },
  {
   "cell_type": "code",
   "execution_count": 32,
   "metadata": {},
   "outputs": [
    {
     "name": "stdout",
     "output_type": "stream",
     "text": [
      "page_content='Select the SwissLipids categories and their labels.' metadata={'question': 'Select the SwissLipids categories and their labels.', 'answer': 'PREFIX SWISSLIPID: <https://swisslipids.org/rdf/SLM_>\\nPREFIX rdfs: <http://www.w3.org/2000/01/rdf-schema#>\\n\\n# Example 1\\nSELECT ?category ?label\\nWHERE\\n{\\n    ?category SWISSLIPID:rank SWISSLIPID:Category .\\n    ?category rdfs:label ?label .\\n}', 'endpoint_url': 'https://beta.sparql.swisslipids.org/', 'query_type': 'SelectQuery', 'doc_type': 'SPARQL endpoints query examples'}\n"
     ]
    }
   ],
   "source": [
    "print(docs[0])"
   ]
  },
  {
   "cell_type": "code",
   "execution_count": 33,
   "metadata": {},
   "outputs": [
    {
     "name": "stdout",
     "output_type": "stream",
     "text": [
      "23\n"
     ]
    }
   ],
   "source": [
    "print(len(docs))"
   ]
  },
  {
   "cell_type": "code",
   "execution_count": 34,
   "metadata": {},
   "outputs": [
    {
     "name": "stderr",
     "output_type": "stream",
     "text": [
      "Extracted 86 ShEx shapes for https://biosoda.unil.ch/emi/sparql/\n"
     ]
    },
    {
     "name": "stdout",
     "output_type": "stream",
     "text": [
      "[Document(metadata={'question': 'http://www.w3.org/1999/02/22-rdf-syntax-ns#Property', 'answer': 'rdf:Property {\\n  a [ rdf:Property ] ;\\n  rdfs:range [ rdfs:Class owl:Class ] ;\\n  rdfs:domain [ rdfs:Class owl:Class ] ;\\n  rdfs:label xsd:string ;\\n  rdfs:subPropertyOf IRI\\n}', 'endpoint_url': 'https://biosoda.unil.ch/emi/sparql/', 'iri': 'http://www.w3.org/1999/02/22-rdf-syntax-ns#Property', 'doc_type': 'SPARQL endpoints classes schema'}, page_content='http://www.w3.org/1999/02/22-rdf-syntax-ns#Property'), Document(metadata={'question': 'LCMS feature pair', 'answer': 'emi:LFpair {\\n  a [ emi:LFpair ] ;\\n  emi:hasSecondMember [ emi:MS2Spectrum emi:LCMSFeature ] ;\\n  emi:hasPairMember [ emi:LCMSFeature emi:MS2Spectrum ] ;\\n  emi:hasFirstMember [ emi:MS2Spectrum emi:LCMSFeature ] ;\\n  prov:wasInfluencedBy [ prov:Activity ] ;\\n  prov:wasGeneratedBy [ prov:Activity ] ;\\n  emi:hasMassDifference xsd:double ;\\n  emi:hasCosine xsd:double\\n}', 'endpoint_url': 'https://biosoda.unil.ch/emi/sparql/', 'iri': 'https://purl.org/emi#LFpair', 'doc_type': 'SPARQL endpoints classes schema'}, page_content='LCMS feature pair'), Document(metadata={'question': 'A pair of LCMSFeature.', 'answer': 'emi:LFpair {\\n  a [ emi:LFpair ] ;\\n  emi:hasSecondMember [ emi:MS2Spectrum emi:LCMSFeature ] ;\\n  emi:hasPairMember [ emi:LCMSFeature emi:MS2Spectrum ] ;\\n  emi:hasFirstMember [ emi:MS2Spectrum emi:LCMSFeature ] ;\\n  prov:wasInfluencedBy [ prov:Activity ] ;\\n  prov:wasGeneratedBy [ prov:Activity ] ;\\n  emi:hasMassDifference xsd:double ;\\n  emi:hasCosine xsd:double\\n}', 'endpoint_url': 'https://biosoda.unil.ch/emi/sparql/', 'iri': 'https://purl.org/emi#LFpair', 'doc_type': 'SPARQL endpoints classes schema'}, page_content='A pair of LCMSFeature.')]\n"
     ]
    }
   ],
   "source": [
    "loader = SparqlVoidShapesLoader(biosoda)\n",
    "docs = loader.load()\n",
    "\n",
    "print(docs[0:3])"
   ]
  },
  {
   "cell_type": "code",
   "execution_count": 9,
   "metadata": {},
   "outputs": [],
   "source": [
    "endpoints: list[dict[str, str]] = [\n",
    "    # {\n",
    "    #     \"endpoint_url\": \"https://www.bgee.org/sparql/\",\n",
    "    # }\n",
    "    {\"endpoint_url\": \"https://beta.sparql.swisslipids.org/\",}\n",
    "]"
   ]
  },
  {
   "cell_type": "code",
   "execution_count": 10,
   "metadata": {},
   "outputs": [],
   "source": [
    "import logging\n",
    "from sparql_llm.utils import get_prefixes_and_schema_for_endpoints\n",
    "\n",
    "logging.getLogger(\"httpx\").setLevel(logging.WARNING)\n",
    "logging.info(\"Initializing endpoints metadata...\")\n",
    "prefixes_map, endpoints_void_dict = get_prefixes_and_schema_for_endpoints(endpoints)"
   ]
  },
  {
   "cell_type": "code",
   "execution_count": 11,
   "metadata": {},
   "outputs": [
    {
     "name": "stdout",
     "output_type": "stream",
     "text": [
      "{'https://beta.sparql.swisslipids.org/': {'http://www.w3.org/2002/07/owl#Ontology': {'http://www.w3.org/2002/07/owl#imports': [], 'http://www.w3.org/2000/01/rdf-schema#comment': ['http://www.w3.org/2001/XMLSchema#string'], 'http://www.w3.org/ns/shacl#declare': []}, 'http://www.w3.org/2002/07/owl#Class': {'http://purl.obolibrary.org/obo/chebi/charge': ['http://www.w3.org/2001/XMLSchema#string'], 'https://w3id.org/chemrof/charge': ['http://www.w3.org/2001/XMLSchema#string'], 'http://purl.obolibrary.org/obo/chebi/formula': ['http://www.w3.org/2001/XMLSchema#string'], 'http://purl.obolibrary.org/obo/chebi/inchi': ['http://www.w3.org/2001/XMLSchema#string'], 'http://purl.obolibrary.org/obo/chebi/inchikey': ['http://www.w3.org/2001/XMLSchema#string'], 'http://purl.obolibrary.org/obo/chebi/smiles': ['http://www.w3.org/2001/XMLSchema#string'], 'http://semanticscience.org/resource/CHEMINF_000570': ['http://www.w3.org/2001/XMLSchema#string'], 'http://www.geneontology.org/formats/oboInOwl#hasDbXref': [], 'http://www.geneontology.org/formats/oboInOwl#hasRelatedSynonym': ['http://www.w3.org/2001/XMLSchema#string'], 'http://www.w3.org/2000/01/rdf-schema#comment': ['http://www.w3.org/2001/XMLSchema#string'], 'http://www.w3.org/2000/01/rdf-schema#label': ['http://www.w3.org/2001/XMLSchema#string'], 'http://www.w3.org/2000/01/rdf-schema#seeAlso': [], 'http://www.w3.org/2000/01/rdf-schema#subClassOf': ['http://www.w3.org/2002/07/owl#Class'], 'http://www.w3.org/2002/07/owl#equivalentClass': [], 'http://www.w3.org/2004/02/skos/core#altLabel': ['http://www.w3.org/2001/XMLSchema#string'], 'http://www.w3.org/2004/02/skos/core#prefLabel': ['http://www.w3.org/2001/XMLSchema#string'], 'http://xmlns.com/foaf/0.1/depiction': [], 'https://swisslipids.org/rdf/SLM_citation': [], 'https://swisslipids.org/rdf/SLM_hasPart': [], 'https://swisslipids.org/rdf/SLM_rank': ['http://www.w3.org/2002/07/owl#Class'], 'https://swisslipids.org/rdf/SLM_rankPreference': ['http://www.w3.org/2001/XMLSchema#integer'], 'https://w3id.org/chemrof/inchi_key_string': ['http://www.w3.org/2001/XMLSchema#string'], 'https://w3id.org/chemrof/inchi_string': ['http://www.w3.org/2001/XMLSchema#string'], 'https://w3id.org/chemrof/smiles_string': ['http://www.w3.org/2001/XMLSchema#string']}, 'http://www.w3.org/2002/07/owl#DatatypeProperty': {'http://www.w3.org/2000/01/rdf-schema#label': ['http://www.w3.org/2001/XMLSchema#string']}, 'http://www.w3.org/2002/07/owl#AnnotationProperty': {'http://www.w3.org/2000/01/rdf-schema#label': ['http://www.w3.org/2001/XMLSchema#string']}, 'http://www.w3.org/2002/07/owl#ObjectProperty': {'http://www.w3.org/2000/01/rdf-schema#comment': ['http://www.w3.org/2001/XMLSchema#string'], 'http://www.w3.org/2000/01/rdf-schema#domain': ['http://www.w3.org/2002/07/owl#Class']}, 'http://www.w3.org/ns/shacl#SPARQLSelectExecutable': {'http://www.w3.org/2000/01/rdf-schema#comment': ['http://www.w3.org/1999/02/22-rdf-syntax-ns#langString'], 'http://www.w3.org/2000/01/rdf-schema#label': ['http://www.w3.org/1999/02/22-rdf-syntax-ns#langString'], 'http://www.w3.org/ns/shacl#prefixes': ['http://www.w3.org/2002/07/owl#Ontology'], 'http://www.w3.org/ns/shacl#select': ['http://www.w3.org/2001/XMLSchema#string'], 'https://purl.expasy.org/sparql-examples/ontology#federatesWith': [], 'https://schema.org/target': []}, 'http://www.w3.org/ns/shacl#SPARQLExecutable': {'http://www.w3.org/2000/01/rdf-schema#comment': ['http://www.w3.org/1999/02/22-rdf-syntax-ns#langString'], 'http://www.w3.org/2000/01/rdf-schema#label': ['http://www.w3.org/1999/02/22-rdf-syntax-ns#langString'], 'http://www.w3.org/ns/shacl#prefixes': ['http://www.w3.org/2002/07/owl#Ontology'], 'http://www.w3.org/ns/shacl#select': ['http://www.w3.org/2001/XMLSchema#string'], 'https://purl.expasy.org/sparql-examples/ontology#federatesWith': [], 'https://schema.org/target': []}, 'http://www.w3.org/ns/sparql-service-description#Service': {'http://www.w3.org/ns/sparql-service-description#defaultDataset': ['http://www.w3.org/ns/sparql-service-description#Dataset'], 'http://www.w3.org/ns/sparql-service-description#endpoint': ['http://www.w3.org/ns/sparql-service-description#Service'], 'http://www.w3.org/ns/sparql-service-description#feature': [], 'http://www.w3.org/ns/sparql-service-description#resultFormat': [], 'http://www.w3.org/ns/sparql-service-description#supportedLanguage': []}, 'http://www.w3.org/ns/sparql-service-description#Dataset': {'http://purl.org/dc/terms/issued': ['http://www.w3.org/2001/XMLSchema#date'], 'http://purl.org/pav/version': ['http://www.w3.org/2001/XMLSchema#string'], 'http://www.w3.org/ns/sparql-service-description#defaultGraph': ['http://www.w3.org/ns/sparql-service-description#Graph'], 'http://www.w3.org/ns/sparql-service-description#namedGraph': []}, 'http://www.w3.org/ns/sparql-service-description#Graph': {'http://ldf.fi/void-ext#distinctBlankNodeSubjects': ['http://www.w3.org/2001/XMLSchema#long'], 'http://ldf.fi/void-ext#distinctIRIReferenceObjects': ['http://www.w3.org/2001/XMLSchema#long'], 'http://ldf.fi/void-ext#distinctIRIReferenceSubjects': ['http://www.w3.org/2001/XMLSchema#long'], 'http://ldf.fi/void-ext#distinctLiterals': ['http://www.w3.org/2001/XMLSchema#long'], 'http://purl.org/dc/terms/issued': ['http://www.w3.org/2001/XMLSchema#date'], 'http://purl.org/dc/terms/license': [], 'http://purl.org/dc/terms/title': ['http://www.w3.org/2001/XMLSchema#string'], 'http://rdfs.org/ns/void#classPartition': [], 'http://rdfs.org/ns/void#classes': ['http://www.w3.org/2001/XMLSchema#long'], 'http://rdfs.org/ns/void#distinctObjects': ['http://www.w3.org/2001/XMLSchema#long'], 'http://rdfs.org/ns/void#distinctSubjects': ['http://www.w3.org/2001/XMLSchema#long'], 'http://rdfs.org/ns/void#propertyPartition': [], 'http://rdfs.org/ns/void#triples': ['http://www.w3.org/2001/XMLSchema#long']}}}\n"
     ]
    }
   ],
   "source": [
    "print(endpoints_void_dict)"
   ]
  },
  {
   "cell_type": "code",
   "execution_count": 12,
   "metadata": {},
   "outputs": [
    {
     "name": "stdout",
     "output_type": "stream",
     "text": [
      "{'CHEBI': 'http://purl.obolibrary.org/obo/CHEBI_', 'ECO': 'http://purl.obolibrary.org/obo/ECO_', 'GO': 'http://purl.obolibrary.org/obo/GO_', 'SWISSLIPID': 'https://swisslipids.org/rdf/SLM_', 'allie': 'http://allie.dbcls.jp/', 'bibo': 'http://purl.org/ontology/bibo/', 'busco': 'http://busco.ezlab.org/schema#', 'cco': 'http://rdf.ebi.ac.uk/terms/chembl#', 'chebihash': 'http://purl.obolibrary.org/obo/chebi#', 'chebislash': 'http://purl.obolibrary.org/obo/chebi/', 'dc': 'http://purl.org/dc/terms/', 'ec': 'http://purl.uniprot.org/enzyme/', 'ensembl': 'http://rdf.ebi.ac.uk/resource/ensembl/', 'ensemblexon': 'http://rdf.ebi.ac.uk/resource/ensembl.exon/', 'ensemblprotein': 'http://rdf.ebi.ac.uk/resource/ensembl.protein/', 'ensemblterms': 'http://rdf.ebi.ac.uk/terms/ensembl/', 'ensembltranscript': 'http://rdf.ebi.ac.uk/resource/ensembl.transcript/', 'eunisSpecies': 'http://eunis.eea.europa.eu/rdf/species-schema.rdf#', 'faldo': 'http://biohackathon.org/resource/faldo#', 'foaf': 'http://xmlns.com/foaf/0.1/', 'genex': 'http://purl.org/genex#', 'glycan': 'http://purl.jp/bio/12/glyco/glycan#', 'glyconnect': 'https://purl.org/glyconnect/', 'identifiers': 'http://identifiers.org/', 'insdc': 'http://identifiers.org/insdc/', 'insdcschema': 'http://ddbj.nig.ac.jp/ontologies/nucleotide/', 'keywords': 'http://purl.uniprot.org/keywords/', 'lipidmaps': 'https://www.lipidmaps.org/rdf/', 'lscr': 'http://purl.org/lscr#', 'mesh': 'http://id.nlm.nih.gov/mesh/', 'mnet': 'https://rdf.metanetx.org/mnet/', 'mnx': 'https://rdf.metanetx.org/schema/', 'obo': 'http://purl.obolibrary.org/obo/', 'oboInOwl': 'http://www.geneontology.org/formats/oboInOwl#', 'orth': 'http://purl.org/net/orth#', 'orthodb': 'http://purl.orthodb.org/', 'orthodbGroup': 'http://purl.orthodb.org/odbgroup/', 'owl': 'http://www.w3.org/2002/07/owl#', 'p': 'http://www.wikidata.org/prop/', 'patent': 'http://data.epo.org/linked-data/def/patent/', 'pq': 'http://www.wikidata.org/prop/qualifier/', 'pr': 'http://www.wikidata.org/prop/reference/', 'prov': 'http://www.w3.org/ns/prov#', 'ps': 'http://www.wikidata.org/prop/statement/', 'pubmed': 'http://rdf.ncbi.nlm.nih.gov/pubmed/', 'rdf': 'http://www.w3.org/1999/02/22-rdf-syntax-ns#', 'rdfs': 'http://www.w3.org/2000/01/rdf-schema#', 'rh': 'http://rdf.rhea-db.org/', 'sachem': 'http://bioinfo.uochb.cas.cz/rdf/v1.0/sachem#', 'schema': 'http://schema.org/', 'sd': 'http://www.w3.org/ns/sparql-service-description#', 'sh': 'http://www.w3.org/ns/shacl#', 'sio': 'http://semanticscience.org/resource/', 'skos': 'http://www.w3.org/2004/02/skos/core#', 'sp': 'http://spinrdf.org/sp#', 'taxon': 'http://purl.uniprot.org/taxonomy/', 'uberon': 'http://purl.obolibrary.org/obo/uo#', 'uniprotkb': 'http://purl.uniprot.org/uniprot/', 'up': 'http://purl.uniprot.org/core/', 'vg': 'http://biohackathon.org/resource/vg#', 'wd': 'http://www.wikidata.org/entity/', 'wdt': 'http://www.wikidata.org/prop/direct/', 'wikibase': 'http://wikiba.se/ontology#', 'xsd': 'http://www.w3.org/2001/XMLSchema#'}\n"
     ]
    }
   ],
   "source": [
    "print(prefixes_map)"
   ]
  }
 ],
 "metadata": {
  "kernelspec": {
   "display_name": ".venv",
   "language": "python",
   "name": "python3"
  },
  "language_info": {
   "codemirror_mode": {
    "name": "ipython",
    "version": 3
   },
   "file_extension": ".py",
   "mimetype": "text/x-python",
   "name": "python",
   "nbconvert_exporter": "python",
   "pygments_lexer": "ipython3",
   "version": "3.11.5"
  }
 },
 "nbformat": 4,
 "nbformat_minor": 2
}
