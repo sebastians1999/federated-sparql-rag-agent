{
 "cells": [
  {
   "cell_type": "code",
   "execution_count": 9,
   "metadata": {},
   "outputs": [],
   "source": [
    "\n",
    "import httpx\n",
    "from typing import Optional, Any\n",
    "\n",
    "\n",
    "def query_sparql(\n",
    "    query: str,\n",
    "    endpoint_url: str,\n",
    "    post: bool = False,\n",
    "    timeout: Optional[int] = None,\n",
    "    client: Optional[httpx.Client] = None\n",
    ") -> Any:\n",
    "    \"\"\"Execute a SPARQL query on a SPARQL endpoint using httpx.\n",
    "\n",
    "    Returns 'error' if an HTTPStatusError occurs during the request.\n",
    "    \"\"\"\n",
    "    should_close = False\n",
    "    if client is None:\n",
    "        client = httpx.Client(\n",
    "            follow_redirects=True, headers={\"Accept\": \"application/sparql-results+json\"}, timeout=timeout\n",
    "        )\n",
    "        should_close = True\n",
    "\n",
    "    try:\n",
    "        if post:\n",
    "            resp = client.post(\n",
    "                endpoint_url,\n",
    "                data={\"query\": query},\n",
    "            )\n",
    "        else:\n",
    "            resp = client.get(\n",
    "                endpoint_url,\n",
    "                params={\"query\": query},\n",
    "            )\n",
    "\n",
    "        try:\n",
    "            resp.raise_for_status() \n",
    "            return resp.json()\n",
    "        except httpx.HTTPStatusError as e:\n",
    "            #logging.warning(f\"HTTP Status Error executing SPARQL query: {e}\\nURL: {e.request.url}\\nQuery: {query}\")\n",
    "            return e # Return \"error\" as requested when an HTTP error occurs\n",
    "\n",
    "    except httpx.RequestError as e:\n",
    "        #logging.error(f\"HTTP Request Error executing SPARQL query: {e}\\nURL: {e.request.url}\\nQuery: {query}\")\n",
    "        return e # Also return \"error\" for these request-level issues\n",
    "\n",
    "    finally:\n",
    "        if should_close:\n",
    "            client.close()"
   ]
  },
  {
   "cell_type": "code",
   "execution_count": null,
   "metadata": {},
   "outputs": [],
   "source": [
    "from SPARQLWrapper import SPARQLWrapper, JSON\n",
    "from typing import Optional, Any\n",
    "\n",
    "def query_sparql_wrapper(\n",
    "    query: str,\n",
    "    endpoint_url: str,\n",
    "    post: bool = False,\n",
    "    timeout: Optional[int] = None\n",
    ") -> Any:\n",
    "    \"\"\"\n",
    "    Execute a SPARQL query on a SPARQL endpoint using SPARQLWrapper.\n",
    "\n",
    "    Returns 'error' if an exception occurs during the request.\n",
    "    \"\"\"\n",
    "    sparql = SPARQLWrapper(endpoint_url)\n",
    "    sparql.setQuery(query)\n",
    "    sparql.setReturnFormat(JSON)\n",
    "    \n",
    "    if post:\n",
    "        sparql.setMethod('POST')\n",
    "    else:\n",
    "        sparql.setMethod('GET')\n",
    "    \n",
    "    if timeout is not None:\n",
    "        # SPARQLWrapper uses urllib, which supports timeout in seconds\n",
    "        sparql.setTimeout(timeout)\n",
    "    \n",
    "    try:\n",
    "        results = sparql.query().convert()\n",
    "        return results\n",
    "    except Exception as e:\n",
    "        # You can add logging here if needed\n",
    "        return \"error\""
   ]
  },
  {
   "cell_type": "code",
   "execution_count": 3,
   "metadata": {},
   "outputs": [],
   "source": [
    "ground_truth_query = \"\"\"PREFIX CHEBI: <http://purl.obolibrary.org/obo/CHEBI_>\n",
    "PREFIX rh: <http://rdf.rhea-db.org/>\n",
    "PREFIX skos: <http://www.w3.org/2004/02/skos/core#>\n",
    "PREFIX up: <http://purl.uniprot.org/core/>\n",
    "\n",
    "\n",
    "SELECT \n",
    "    DISTINCT\n",
    "        ?uniprot\n",
    "        ?uniprotID\n",
    "        ?recname\n",
    "        ?gene\n",
    "        ?chebi\n",
    "        ?uniprotName\n",
    "WHERE {\n",
    "  SERVICE <https://sparql.rhea-db.org/sparql> {\n",
    "     VALUES (?chebi) { (CHEBI:32395) }\n",
    "     ?rhea rh:side/rh:contains/rh:compound ?compound .\n",
    "     ?compound rh:chebi ?chebi .\n",
    "     ?chebi up:name ?uniprotName .\n",
    "  }\n",
    "  ?uniprot up:annotation/up:catalyticActivity/up:catalyzedReaction ?rhea .\n",
    "  ?uniprot up:mnemonic ?uniprotID .\n",
    "  ?uniprot up:recommendedName/up:fullName ?recname .\n",
    "  OPTIONAL {?uniprot up:encodedBy/skos:prefLabel ?gene .}\n",
    "}\n",
    "LIMIT 100\n",
    "\"\"\"\n",
    "\n",
    "ground_truth_endpoint = \"https://sparql.uniprot.org/sparql/\""
   ]
  },
  {
   "cell_type": "code",
   "execution_count": 4,
   "metadata": {},
   "outputs": [
    {
     "name": "stdout",
     "output_type": "stream",
     "text": [
      "{'head': {'vars': ['uniprot', 'uniprotID', 'recname', 'gene', 'chebi', 'uniprotName']}, 'results': {'bindings': [{'uniprotName': {'type': 'literal', 'value': '(5Z,8Z,11Z,14Z)-eicosatetraenoate'}, 'chebi': {'type': 'uri', 'value': 'http://purl.obolibrary.org/obo/CHEBI_32395'}, 'gene': {'type': 'literal', 'value': 'CYP1A2'}, 'uniprot': {'type': 'uri', 'value': 'http://purl.uniprot.org/uniprot/O77809'}, 'uniprotID': {'type': 'literal', 'value': 'CP1A2_MACFA'}, 'recname': {'type': 'literal', 'value': 'Cytochrome P450 1A2'}}, {'uniprotName': {'type': 'literal', 'value': '(5Z,8Z,11Z,14Z)-eicosatetraenoate'}, 'chebi': {'type': 'uri', 'value': 'http://purl.obolibrary.org/obo/CHEBI_32395'}, 'gene': {'type': 'literal', 'value': 'CYP1A2'}, 'uniprot': {'type': 'uri', 'value': 'http://purl.uniprot.org/uniprot/O77810'}, 'uniprotID': {'type': 'literal', 'value': 'CP1A2_CALJA'}, 'recname': {'type': 'literal', 'value': 'Cytochrome P450 1A2'}}, {'uniprotName': {'type': 'literal', 'value': '(5Z,8Z,11Z,14Z)-eicosatetraenoate'}, 'chebi': {'type': 'uri', 'value': 'http://purl.obolibrary.org/obo/CHEBI_32395'}, 'gene': {'type': 'literal', 'value': 'Cyp1a1'}, 'uniprot': {'type': 'uri', 'value': 'http://purl.uniprot.org/uniprot/P00184'}, 'uniprotID': {'type': 'literal', 'value': 'CP1A1_MOUSE'}, 'recname': {'type': 'literal', 'value': 'Cytochrome P450 1A1'}}, {'uniprotName': {'type': 'literal', 'value': '(5Z,8Z,11Z,14Z)-eicosatetraenoate'}, 'chebi': {'type': 'uri', 'value': 'http://purl.obolibrary.org/obo/CHEBI_32395'}, 'gene': {'type': 'literal', 'value': 'Cyp1a2'}, 'uniprot': {'type': 'uri', 'value': 'http://purl.uniprot.org/uniprot/P00186'}, 'uniprotID': {'type': 'literal', 'value': 'CP1A2_MOUSE'}, 'recname': {'type': 'literal', 'value': 'Cytochrome P450 1A2'}}, {'uniprotName': {'type': 'literal', 'value': '(5Z,8Z,11Z,14Z)-eicosatetraenoate'}, 'chebi': {'type': 'uri', 'value': 'http://purl.obolibrary.org/obo/CHEBI_32395'}, 'gene': {'type': 'literal', 'value': 'CYP1A2'}, 'uniprot': {'type': 'uri', 'value': 'http://purl.uniprot.org/uniprot/P00187'}, 'uniprotID': {'type': 'literal', 'value': 'CP1A2_RABIT'}, 'recname': {'type': 'literal', 'value': 'Cytochrome P450 1A2'}}, {'uniprotName': {'type': 'literal', 'value': '(5Z,8Z,11Z,14Z)-eicosatetraenoate'}, 'chebi': {'type': 'uri', 'value': 'http://purl.obolibrary.org/obo/CHEBI_32395'}, 'gene': {'type': 'literal', 'value': 'CYP1A1'}, 'uniprot': {'type': 'uri', 'value': 'http://purl.uniprot.org/uniprot/P04798'}, 'uniprotID': {'type': 'literal', 'value': 'CP1A1_HUMAN'}, 'recname': {'type': 'literal', 'value': 'Cytochrome P450 1A1'}}, {'uniprotName': {'type': 'literal', 'value': '(5Z,8Z,11Z,14Z)-eicosatetraenoate'}, 'chebi': {'type': 'uri', 'value': 'http://purl.obolibrary.org/obo/CHEBI_32395'}, 'gene': {'type': 'literal', 'value': 'Cyp1a2'}, 'uniprot': {'type': 'uri', 'value': 'http://purl.uniprot.org/uniprot/P04799'}, 'uniprotID': {'type': 'literal', 'value': 'CP1A2_RAT'}, 'recname': {'type': 'literal', 'value': 'Cytochrome P450 1A2'}}, {'uniprotName': {'type': 'literal', 'value': '(5Z,8Z,11Z,14Z)-eicosatetraenoate'}, 'chebi': {'type': 'uri', 'value': 'http://purl.obolibrary.org/obo/CHEBI_32395'}, 'gene': {'type': 'literal', 'value': 'CYP1A1'}, 'uniprot': {'type': 'uri', 'value': 'http://purl.uniprot.org/uniprot/P05176'}, 'uniprotID': {'type': 'literal', 'value': 'CP1A1_RABIT'}, 'recname': {'type': 'literal', 'value': 'Cytochrome P450 1A1'}}, {'uniprotName': {'type': 'literal', 'value': '(5Z,8Z,11Z,14Z)-eicosatetraenoate'}, 'chebi': {'type': 'uri', 'value': 'http://purl.obolibrary.org/obo/CHEBI_32395'}, 'gene': {'type': 'literal', 'value': 'CYP1A2'}, 'uniprot': {'type': 'uri', 'value': 'http://purl.uniprot.org/uniprot/P05177'}, 'uniprotID': {'type': 'literal', 'value': 'CP1A2_HUMAN'}, 'recname': {'type': 'literal', 'value': 'Cytochrome P450 1A2'}}, {'uniprotName': {'type': 'literal', 'value': '(5Z,8Z,11Z,14Z)-eicosatetraenoate'}, 'chebi': {'type': 'uri', 'value': 'http://purl.obolibrary.org/obo/CHEBI_32395'}, 'gene': {'type': 'literal', 'value': 'CYP1A2'}, 'uniprot': {'type': 'uri', 'value': 'http://purl.uniprot.org/uniprot/P24453'}, 'uniprotID': {'type': 'literal', 'value': 'CP1A2_MESAU'}, 'recname': {'type': 'literal', 'value': 'Cytochrome P450 1A2'}}, {'uniprotName': {'type': 'literal', 'value': '(5Z,8Z,11Z,14Z)-eicosatetraenoate'}, 'chebi': {'type': 'uri', 'value': 'http://purl.obolibrary.org/obo/CHEBI_32395'}, 'gene': {'type': 'literal', 'value': 'CYP1A1'}, 'uniprot': {'type': 'uri', 'value': 'http://purl.uniprot.org/uniprot/P33616'}, 'uniprotID': {'type': 'literal', 'value': 'CP1A1_MACFA'}, 'recname': {'type': 'literal', 'value': 'Cytochrome P450 1A1'}}, {'uniprotName': {'type': 'literal', 'value': '(5Z,8Z,11Z,14Z)-eicosatetraenoate'}, 'chebi': {'type': 'uri', 'value': 'http://purl.obolibrary.org/obo/CHEBI_32395'}, 'gene': {'type': 'literal', 'value': 'CYP1A1'}, 'uniprot': {'type': 'uri', 'value': 'http://purl.uniprot.org/uniprot/P56590'}, 'uniprotID': {'type': 'literal', 'value': 'CP1A1_CANLF'}, 'recname': {'type': 'literal', 'value': 'Cytochrome P450 1A1'}}, {'uniprotName': {'type': 'literal', 'value': '(5Z,8Z,11Z,14Z)-eicosatetraenoate'}, 'chebi': {'type': 'uri', 'value': 'http://purl.obolibrary.org/obo/CHEBI_32395'}, 'gene': {'type': 'literal', 'value': 'CYP1A1'}, 'uniprot': {'type': 'uri', 'value': 'http://purl.uniprot.org/uniprot/P56591'}, 'uniprotID': {'type': 'literal', 'value': 'CP1A1_SHEEP'}, 'recname': {'type': 'literal', 'value': 'Cytochrome P450 1A1'}}, {'uniprotName': {'type': 'literal', 'value': '(5Z,8Z,11Z,14Z)-eicosatetraenoate'}, 'chebi': {'type': 'uri', 'value': 'http://purl.obolibrary.org/obo/CHEBI_32395'}, 'gene': {'type': 'literal', 'value': 'CYP1A2'}, 'uniprot': {'type': 'uri', 'value': 'http://purl.uniprot.org/uniprot/P56592'}, 'uniprotID': {'type': 'literal', 'value': 'CP1A2_CANLF'}, 'recname': {'type': 'literal', 'value': 'Cytochrome P450 1A2'}}, {'uniprotName': {'type': 'literal', 'value': '(5Z,8Z,11Z,14Z)-eicosatetraenoate'}, 'chebi': {'type': 'uri', 'value': 'http://purl.obolibrary.org/obo/CHEBI_32395'}, 'gene': {'type': 'literal', 'value': 'CYP1A1'}, 'uniprot': {'type': 'uri', 'value': 'http://purl.uniprot.org/uniprot/Q00557'}, 'uniprotID': {'type': 'literal', 'value': 'CP1A1_MESAU'}, 'recname': {'type': 'literal', 'value': 'Cytochrome P450 1A1'}}, {'uniprotName': {'type': 'literal', 'value': '(5Z,8Z,11Z,14Z)-eicosatetraenoate'}, 'chebi': {'type': 'uri', 'value': 'http://purl.obolibrary.org/obo/CHEBI_32395'}, 'gene': {'type': 'literal', 'value': 'CYP1A1'}, 'uniprot': {'type': 'uri', 'value': 'http://purl.uniprot.org/uniprot/Q06367'}, 'uniprotID': {'type': 'literal', 'value': 'CP1A1_CAVPO'}, 'recname': {'type': 'literal', 'value': 'Cytochrome P450 1A1'}}, {'uniprotName': {'type': 'literal', 'value': '(5Z,8Z,11Z,14Z)-eicosatetraenoate'}, 'chebi': {'type': 'uri', 'value': 'http://purl.obolibrary.org/obo/CHEBI_32395'}, 'gene': {'type': 'literal', 'value': 'CYP1A2'}, 'uniprot': {'type': 'uri', 'value': 'http://purl.uniprot.org/uniprot/Q3LFT9'}, 'uniprotID': {'type': 'literal', 'value': 'CP1A2_BALAC'}, 'recname': {'type': 'literal', 'value': 'Cytochrome P450 1A2'}}, {'uniprotName': {'type': 'literal', 'value': '(5Z,8Z,11Z,14Z)-eicosatetraenoate'}, 'chebi': {'type': 'uri', 'value': 'http://purl.obolibrary.org/obo/CHEBI_32395'}, 'gene': {'type': 'literal', 'value': 'CYP1A1'}, 'uniprot': {'type': 'uri', 'value': 'http://purl.uniprot.org/uniprot/Q3LFU0'}, 'uniprotID': {'type': 'literal', 'value': 'CP1A1_BALAC'}, 'recname': {'type': 'literal', 'value': 'Cytochrome P450 1A1'}}, {'uniprotName': {'type': 'literal', 'value': '(5Z,8Z,11Z,14Z)-eicosatetraenoate'}, 'chebi': {'type': 'uri', 'value': 'http://purl.obolibrary.org/obo/CHEBI_32395'}, 'gene': {'type': 'literal', 'value': 'CYP1A2'}, 'uniprot': {'type': 'uri', 'value': 'http://purl.uniprot.org/uniprot/Q4H4C3'}, 'uniprotID': {'type': 'literal', 'value': 'CP1A2_MACFU'}, 'recname': {'type': 'literal', 'value': 'Cytochrome P450 1A2'}}, {'uniprotName': {'type': 'literal', 'value': '(5Z,8Z,11Z,14Z)-eicosatetraenoate'}, 'chebi': {'type': 'uri', 'value': 'http://purl.obolibrary.org/obo/CHEBI_32395'}, 'gene': {'type': 'literal', 'value': 'CYP1A2'}, 'uniprot': {'type': 'uri', 'value': 'http://purl.uniprot.org/uniprot/Q5KQT6'}, 'uniprotID': {'type': 'literal', 'value': 'CP1A2_FELCA'}, 'recname': {'type': 'literal', 'value': 'Cytochrome P450 1A2'}}, {'uniprotName': {'type': 'literal', 'value': '(5Z,8Z,11Z,14Z)-eicosatetraenoate'}, 'chebi': {'type': 'uri', 'value': 'http://purl.obolibrary.org/obo/CHEBI_32395'}, 'gene': {'type': 'literal', 'value': 'CYP1A1'}, 'uniprot': {'type': 'uri', 'value': 'http://purl.uniprot.org/uniprot/Q5KQT7'}, 'uniprotID': {'type': 'literal', 'value': 'CP1A1_FELCA'}, 'recname': {'type': 'literal', 'value': 'Cytochrome P450 1A1'}}, {'uniprotName': {'type': 'literal', 'value': '(5Z,8Z,11Z,14Z)-eicosatetraenoate'}, 'chebi': {'type': 'uri', 'value': 'http://purl.obolibrary.org/obo/CHEBI_32395'}, 'gene': {'type': 'literal', 'value': 'CYP1A2'}, 'uniprot': {'type': 'uri', 'value': 'http://purl.uniprot.org/uniprot/Q5RBQ1'}, 'uniprotID': {'type': 'literal', 'value': 'CP1A2_PONAB'}, 'recname': {'type': 'literal', 'value': 'Cytochrome P450 1A2'}}, {'uniprotName': {'type': 'literal', 'value': '(5Z,8Z,11Z,14Z)-eicosatetraenoate'}, 'chebi': {'type': 'uri', 'value': 'http://purl.obolibrary.org/obo/CHEBI_32395'}, 'gene': {'type': 'literal', 'value': 'CYP1A2'}, 'uniprot': {'type': 'uri', 'value': 'http://purl.uniprot.org/uniprot/Q64391'}, 'uniprotID': {'type': 'literal', 'value': 'CP1A2_CAVPO'}, 'recname': {'type': 'literal', 'value': 'Cytochrome P450 1A2'}}, {'uniprotName': {'type': 'literal', 'value': '(5Z,8Z,11Z,14Z)-eicosatetraenoate'}, 'chebi': {'type': 'uri', 'value': 'http://purl.obolibrary.org/obo/CHEBI_32395'}, 'gene': {'type': 'literal', 'value': 'Cyp1b1'}, 'uniprot': {'type': 'uri', 'value': 'http://purl.uniprot.org/uniprot/Q64678'}, 'uniprotID': {'type': 'literal', 'value': 'CP1B1_RAT'}, 'recname': {'type': 'literal', 'value': 'Cytochrome P450 1B1'}}, {'uniprotName': {'type': 'literal', 'value': '(5Z,8Z,11Z,14Z)-eicosatetraenoate'}, 'chebi': {'type': 'uri', 'value': 'http://purl.obolibrary.org/obo/CHEBI_32395'}, 'gene': {'type': 'literal', 'value': 'CYP1A1'}, 'uniprot': {'type': 'uri', 'value': 'http://purl.uniprot.org/uniprot/Q6GUR1'}, 'uniprotID': {'type': 'literal', 'value': 'CP1A1_MACMU'}, 'recname': {'type': 'literal', 'value': 'Cytochrome P450 1A1'}}, {'uniprotName': {'type': 'literal', 'value': '(5Z,8Z,11Z,14Z)-eicosatetraenoate'}, 'chebi': {'type': 'uri', 'value': 'http://purl.obolibrary.org/obo/CHEBI_32395'}, 'gene': {'type': 'literal', 'value': 'CYP3A4'}, 'uniprot': {'type': 'uri', 'value': 'http://purl.uniprot.org/uniprot/P08684'}, 'uniprotID': {'type': 'literal', 'value': 'CP3A4_HUMAN'}, 'recname': {'type': 'literal', 'value': 'Cytochrome P450 3A4'}}, {'uniprotName': {'type': 'literal', 'value': '(5Z,8Z,11Z,14Z)-eicosatetraenoate'}, 'chebi': {'type': 'uri', 'value': 'http://purl.obolibrary.org/obo/CHEBI_32395'}, 'gene': {'type': 'literal', 'value': 'CYP2J2'}, 'uniprot': {'type': 'uri', 'value': 'http://purl.uniprot.org/uniprot/P51589'}, 'uniprotID': {'type': 'literal', 'value': 'CP2J2_HUMAN'}, 'recname': {'type': 'literal', 'value': 'Cytochrome P450 2J2'}}, {'uniprotName': {'type': 'literal', 'value': '(5Z,8Z,11Z,14Z)-eicosatetraenoate'}, 'chebi': {'type': 'uri', 'value': 'http://purl.obolibrary.org/obo/CHEBI_32395'}, 'gene': {'type': 'literal', 'value': 'CYP4F8'}, 'uniprot': {'type': 'uri', 'value': 'http://purl.uniprot.org/uniprot/P98187'}, 'uniprotID': {'type': 'literal', 'value': 'CP4F8_HUMAN'}, 'recname': {'type': 'literal', 'value': 'Cytochrome P450 4F8'}}, {'uniprotName': {'type': 'literal', 'value': '(5Z,8Z,11Z,14Z)-eicosatetraenoate'}, 'chebi': {'type': 'uri', 'value': 'http://purl.obolibrary.org/obo/CHEBI_32395'}, 'gene': {'type': 'literal', 'value': 'Cyp2c11'}, 'uniprot': {'type': 'uri', 'value': 'http://purl.uniprot.org/uniprot/P08683'}, 'uniprotID': {'type': 'literal', 'value': 'CP2CB_RAT'}, 'recname': {'type': 'literal', 'value': 'Cytochrome P450 2C11'}}, {'uniprotName': {'type': 'literal', 'value': '(5Z,8Z,11Z,14Z)-eicosatetraenoate'}, 'chebi': {'type': 'uri', 'value': 'http://purl.obolibrary.org/obo/CHEBI_32395'}, 'gene': {'type': 'literal', 'value': 'CYP2C8'}, 'uniprot': {'type': 'uri', 'value': 'http://purl.uniprot.org/uniprot/P10632'}, 'uniprotID': {'type': 'literal', 'value': 'CP2C8_HUMAN'}, 'recname': {'type': 'literal', 'value': 'Cytochrome P450 2C8'}}, {'uniprotName': {'type': 'literal', 'value': '(5Z,8Z,11Z,14Z)-eicosatetraenoate'}, 'chebi': {'type': 'uri', 'value': 'http://purl.obolibrary.org/obo/CHEBI_32395'}, 'gene': {'type': 'literal', 'value': 'CYP2D6'}, 'uniprot': {'type': 'uri', 'value': 'http://purl.uniprot.org/uniprot/P10635'}, 'uniprotID': {'type': 'literal', 'value': 'CP2D6_HUMAN'}, 'recname': {'type': 'literal', 'value': 'Cytochrome P450 2D6'}}, {'uniprotName': {'type': 'literal', 'value': '(5Z,8Z,11Z,14Z)-eicosatetraenoate'}, 'chebi': {'type': 'uri', 'value': 'http://purl.obolibrary.org/obo/CHEBI_32395'}, 'gene': {'type': 'literal', 'value': 'CYP2C9'}, 'uniprot': {'type': 'uri', 'value': 'http://purl.uniprot.org/uniprot/P11712'}, 'uniprotID': {'type': 'literal', 'value': 'CP2C9_HUMAN'}, 'recname': {'type': 'literal', 'value': 'Cytochrome P450 2C9'}}, {'uniprotName': {'type': 'literal', 'value': '(5Z,8Z,11Z,14Z)-eicosatetraenoate'}, 'chebi': {'type': 'uri', 'value': 'http://purl.obolibrary.org/obo/CHEBI_32395'}, 'gene': {'type': 'literal', 'value': 'Cyp2c23'}, 'uniprot': {'type': 'uri', 'value': 'http://purl.uniprot.org/uniprot/P24470'}, 'uniprotID': {'type': 'literal', 'value': 'CP2CN_RAT'}, 'recname': {'type': 'literal', 'value': 'Cytochrome P450 2C23'}}, {'uniprotName': {'type': 'literal', 'value': '(5Z,8Z,11Z,14Z)-eicosatetraenoate'}, 'chebi': {'type': 'uri', 'value': 'http://purl.obolibrary.org/obo/CHEBI_32395'}, 'gene': {'type': 'literal', 'value': 'Cyp2c40'}, 'uniprot': {'type': 'uri', 'value': 'http://purl.uniprot.org/uniprot/P56657'}, 'uniprotID': {'type': 'literal', 'value': 'CP240_MOUSE'}, 'recname': {'type': 'literal', 'value': 'Cytochrome P450 2C40'}}, {'uniprotName': {'type': 'literal', 'value': '(5Z,8Z,11Z,14Z)-eicosatetraenoate'}, 'chebi': {'type': 'uri', 'value': 'http://purl.obolibrary.org/obo/CHEBI_32395'}, 'gene': {'type': 'literal', 'value': 'CYP2D6'}, 'uniprot': {'type': 'uri', 'value': 'http://purl.uniprot.org/uniprot/Q2XNC8'}, 'uniprotID': {'type': 'literal', 'value': 'CP2D6_PANTR'}, 'recname': {'type': 'literal', 'value': 'Cytochrome P450 2D6'}}, {'uniprotName': {'type': 'literal', 'value': '(5Z,8Z,11Z,14Z)-eicosatetraenoate'}, 'chebi': {'type': 'uri', 'value': 'http://purl.obolibrary.org/obo/CHEBI_32395'}, 'gene': {'type': 'literal', 'value': 'CYP2D6'}, 'uniprot': {'type': 'uri', 'value': 'http://purl.uniprot.org/uniprot/Q2XNC9'}, 'uniprotID': {'type': 'literal', 'value': 'CP2D6_PANPA'}, 'recname': {'type': 'literal', 'value': 'Cytochrome P450 2D6'}}, {'uniprotName': {'type': 'literal', 'value': '(5Z,8Z,11Z,14Z)-eicosatetraenoate'}, 'chebi': {'type': 'uri', 'value': 'http://purl.obolibrary.org/obo/CHEBI_32395'}, 'gene': {'type': 'literal', 'value': 'CYP4Z1'}, 'uniprot': {'type': 'uri', 'value': 'http://purl.uniprot.org/uniprot/Q86W10'}, 'uniprotID': {'type': 'literal', 'value': 'CP4Z1_HUMAN'}, 'recname': {'type': 'literal', 'value': 'Cytochrome P450 4Z1'}}, {'uniprotName': {'type': 'literal', 'value': '(5Z,8Z,11Z,14Z)-eicosatetraenoate'}, 'chebi': {'type': 'uri', 'value': 'http://purl.obolibrary.org/obo/CHEBI_32395'}, 'gene': {'type': 'literal', 'value': 'ALOX15B'}, 'uniprot': {'type': 'uri', 'value': 'http://purl.uniprot.org/uniprot/O15296'}, 'uniprotID': {'type': 'literal', 'value': 'LX15B_HUMAN'}, 'recname': {'type': 'literal', 'value': 'Polyunsaturated fatty acid lipoxygenase ALOX15B'}}, {'uniprotName': {'type': 'literal', 'value': '(5Z,8Z,11Z,14Z)-eicosatetraenoate'}, 'chebi': {'type': 'uri', 'value': 'http://purl.obolibrary.org/obo/CHEBI_32395'}, 'gene': {'type': 'literal', 'value': 'Alox15b'}, 'uniprot': {'type': 'uri', 'value': 'http://purl.uniprot.org/uniprot/Q8K4F2'}, 'uniprotID': {'type': 'literal', 'value': 'LX15B_RAT'}, 'recname': {'type': 'literal', 'value': 'Polyunsaturated fatty acid lipoxygenase ALOX15B'}}, {'uniprotName': {'type': 'literal', 'value': '(5Z,8Z,11Z,14Z)-eicosatetraenoate'}, 'chebi': {'type': 'uri', 'value': 'http://purl.obolibrary.org/obo/CHEBI_32395'}, 'gene': {'type': 'literal', 'value': 'CYP1A1'}, 'uniprot': {'type': 'uri', 'value': 'http://purl.uniprot.org/uniprot/E7EMT5'}, 'uniprotID': {'type': 'literal', 'value': 'E7EMT5_HUMAN'}, 'recname': {'type': 'literal', 'value': 'Cytochrome P450 1A'}}, {'uniprotName': {'type': 'literal', 'value': '(5Z,8Z,11Z,14Z)-eicosatetraenoate'}, 'chebi': {'type': 'uri', 'value': 'http://purl.obolibrary.org/obo/CHEBI_32395'}, 'gene': {'type': 'literal', 'value': 'CYP1A1'}, 'uniprot': {'type': 'uri', 'value': 'http://purl.uniprot.org/uniprot/A0N0X8'}, 'uniprotID': {'type': 'literal', 'value': 'A0N0X8_HUMAN'}, 'recname': {'type': 'literal', 'value': 'Cytochrome P450 1A'}}, {'uniprotName': {'type': 'literal', 'value': '(5Z,8Z,11Z,14Z)-eicosatetraenoate'}, 'chebi': {'type': 'uri', 'value': 'http://purl.obolibrary.org/obo/CHEBI_32395'}, 'gene': {'type': 'literal', 'value': 'CYP1A1'}, 'uniprot': {'type': 'uri', 'value': 'http://purl.uniprot.org/uniprot/A4F3V8'}, 'uniprotID': {'type': 'literal', 'value': 'A4F3V8_HUMAN'}, 'recname': {'type': 'literal', 'value': 'Cytochrome P450 1A'}}, {'uniprotName': {'type': 'literal', 'value': '(5Z,8Z,11Z,14Z)-eicosatetraenoate'}, 'chebi': {'type': 'uri', 'value': 'http://purl.obolibrary.org/obo/CHEBI_32395'}, 'gene': {'type': 'literal', 'value': 'CYP1A1'}, 'uniprot': {'type': 'uri', 'value': 'http://purl.uniprot.org/uniprot/A4F4K4'}, 'uniprotID': {'type': 'literal', 'value': 'A4F4K4_HUMAN'}, 'recname': {'type': 'literal', 'value': 'Cytochrome P450 1A'}}, {'uniprotName': {'type': 'literal', 'value': '(5Z,8Z,11Z,14Z)-eicosatetraenoate'}, 'chebi': {'type': 'uri', 'value': 'http://purl.obolibrary.org/obo/CHEBI_32395'}, 'gene': {'type': 'literal', 'value': 'CYP1A1'}, 'uniprot': {'type': 'uri', 'value': 'http://purl.uniprot.org/uniprot/Q0VHD5'}, 'uniprotID': {'type': 'literal', 'value': 'Q0VHD5_HUMAN'}, 'recname': {'type': 'literal', 'value': 'Cytochrome P450 1A'}}, {'uniprotName': {'type': 'literal', 'value': '(5Z,8Z,11Z,14Z)-eicosatetraenoate'}, 'chebi': {'type': 'uri', 'value': 'http://purl.obolibrary.org/obo/CHEBI_32395'}, 'gene': {'type': 'literal', 'value': 'CYP1A1'}, 'uniprot': {'type': 'uri', 'value': 'http://purl.uniprot.org/uniprot/A4F4K3'}, 'uniprotID': {'type': 'literal', 'value': 'A4F4K3_HUMAN'}, 'recname': {'type': 'literal', 'value': 'Cytochrome P450 1A'}}, {'uniprotName': {'type': 'literal', 'value': '(5Z,8Z,11Z,14Z)-eicosatetraenoate'}, 'chebi': {'type': 'uri', 'value': 'http://purl.obolibrary.org/obo/CHEBI_32395'}, 'gene': {'type': 'literal', 'value': 'CYP1A1'}, 'uniprot': {'type': 'uri', 'value': 'http://purl.uniprot.org/uniprot/Q5J9B1'}, 'uniprotID': {'type': 'literal', 'value': 'Q5J9B1_HUMAN'}, 'recname': {'type': 'literal', 'value': 'Cytochrome P450 1A'}}, {'uniprotName': {'type': 'literal', 'value': '(5Z,8Z,11Z,14Z)-eicosatetraenoate'}, 'chebi': {'type': 'uri', 'value': 'http://purl.obolibrary.org/obo/CHEBI_32395'}, 'gene': {'type': 'literal', 'value': 'CYP1A1'}, 'uniprot': {'type': 'uri', 'value': 'http://purl.uniprot.org/uniprot/A0A2K6Q3V3'}, 'uniprotID': {'type': 'literal', 'value': 'A0A2K6Q3V3_RHIRO'}, 'recname': {'type': 'literal', 'value': 'Cytochrome P450 1A'}}, {'uniprotName': {'type': 'literal', 'value': '(5Z,8Z,11Z,14Z)-eicosatetraenoate'}, 'chebi': {'type': 'uri', 'value': 'http://purl.obolibrary.org/obo/CHEBI_32395'}, 'gene': {'type': 'literal', 'value': 'CYP1A1'}, 'uniprot': {'type': 'uri', 'value': 'http://purl.uniprot.org/uniprot/A0A2K6Q3V4'}, 'uniprotID': {'type': 'literal', 'value': 'A0A2K6Q3V4_RHIRO'}, 'recname': {'type': 'literal', 'value': 'Cytochrome P450 1A'}}, {'uniprotName': {'type': 'literal', 'value': '(5Z,8Z,11Z,14Z)-eicosatetraenoate'}, 'chebi': {'type': 'uri', 'value': 'http://purl.obolibrary.org/obo/CHEBI_32395'}, 'gene': {'type': 'literal', 'value': 'CYP1A2'}, 'uniprot': {'type': 'uri', 'value': 'http://purl.uniprot.org/uniprot/A0A2K6PHN4'}, 'uniprotID': {'type': 'literal', 'value': 'A0A2K6PHN4_RHIRO'}, 'recname': {'type': 'literal', 'value': 'Cytochrome P450 1A'}}, {'uniprotName': {'type': 'literal', 'value': '(5Z,8Z,11Z,14Z)-eicosatetraenoate'}, 'chebi': {'type': 'uri', 'value': 'http://purl.obolibrary.org/obo/CHEBI_32395'}, 'gene': {'type': 'literal', 'value': 'CYP1A1'}, 'uniprot': {'type': 'uri', 'value': 'http://purl.uniprot.org/uniprot/C5IMY1'}, 'uniprotID': {'type': 'literal', 'value': 'C5IMY1_PAPCY'}, 'recname': {'type': 'literal', 'value': 'Cytochrome P450 1A'}}, {'uniprotName': {'type': 'literal', 'value': '(5Z,8Z,11Z,14Z)-eicosatetraenoate'}, 'chebi': {'type': 'uri', 'value': 'http://purl.obolibrary.org/obo/CHEBI_32395'}, 'gene': {'type': 'literal', 'value': 'CYP1A1'}, 'uniprot': {'type': 'uri', 'value': 'http://purl.uniprot.org/uniprot/C5IN31'}, 'uniprotID': {'type': 'literal', 'value': 'C5IN31_PAPCY'}, 'recname': {'type': 'literal', 'value': 'Cytochrome P450 1A'}}, {'uniprotName': {'type': 'literal', 'value': '(5Z,8Z,11Z,14Z)-eicosatetraenoate'}, 'chebi': {'type': 'uri', 'value': 'http://purl.obolibrary.org/obo/CHEBI_32395'}, 'gene': {'type': 'literal', 'value': 'CYP1A1'}, 'uniprot': {'type': 'uri', 'value': 'http://purl.uniprot.org/uniprot/C5IN69'}, 'uniprotID': {'type': 'literal', 'value': 'C5IN69_PAPCY'}, 'recname': {'type': 'literal', 'value': 'Cytochrome P450 1A'}}, {'uniprotName': {'type': 'literal', 'value': '(5Z,8Z,11Z,14Z)-eicosatetraenoate'}, 'chebi': {'type': 'uri', 'value': 'http://purl.obolibrary.org/obo/CHEBI_32395'}, 'gene': {'type': 'literal', 'value': 'CYP1A1'}, 'uniprot': {'type': 'uri', 'value': 'http://purl.uniprot.org/uniprot/C5IMY0'}, 'uniprotID': {'type': 'literal', 'value': 'C5IMY0_PAPCY'}, 'recname': {'type': 'literal', 'value': 'Cytochrome P450 1A'}}, {'uniprotName': {'type': 'literal', 'value': '(5Z,8Z,11Z,14Z)-eicosatetraenoate'}, 'chebi': {'type': 'uri', 'value': 'http://purl.obolibrary.org/obo/CHEBI_32395'}, 'gene': {'type': 'literal', 'value': 'CYP1A2'}, 'uniprot': {'type': 'uri', 'value': 'http://purl.uniprot.org/uniprot/A0A2K5MBX2'}, 'uniprotID': {'type': 'literal', 'value': 'A0A2K5MBX2_CERAT'}, 'recname': {'type': 'literal', 'value': 'Cytochrome P450 1A'}}, {'uniprotName': {'type': 'literal', 'value': '(5Z,8Z,11Z,14Z)-eicosatetraenoate'}, 'chebi': {'type': 'uri', 'value': 'http://purl.obolibrary.org/obo/CHEBI_32395'}, 'gene': {'type': 'literal', 'value': 'CYP1D1'}, 'uniprot': {'type': 'uri', 'value': 'http://purl.uniprot.org/uniprot/A0A2K5KXR0'}, 'uniprotID': {'type': 'literal', 'value': 'A0A2K5KXR0_CERAT'}, 'recname': {'type': 'literal', 'value': 'Cytochrome P450 1A'}}, {'uniprotName': {'type': 'literal', 'value': '(5Z,8Z,11Z,14Z)-eicosatetraenoate'}, 'chebi': {'type': 'uri', 'value': 'http://purl.obolibrary.org/obo/CHEBI_32395'}, 'gene': {'type': 'literal', 'value': 'CYP1A1'}, 'uniprot': {'type': 'uri', 'value': 'http://purl.uniprot.org/uniprot/A0A2K5MMW4'}, 'uniprotID': {'type': 'literal', 'value': 'A0A2K5MMW4_CERAT'}, 'recname': {'type': 'literal', 'value': 'Cytochrome P450 1A'}}, {'uniprotName': {'type': 'literal', 'value': '(5Z,8Z,11Z,14Z)-eicosatetraenoate'}, 'chebi': {'type': 'uri', 'value': 'http://purl.obolibrary.org/obo/CHEBI_32395'}, 'gene': {'type': 'literal', 'value': 'CYP1A1'}, 'uniprot': {'type': 'uri', 'value': 'http://purl.uniprot.org/uniprot/A0A2K5PV53'}, 'uniprotID': {'type': 'literal', 'value': 'A0A2K5PV53_CEBIM'}, 'recname': {'type': 'literal', 'value': 'Cytochrome P450 1A'}}, {'uniprotName': {'type': 'literal', 'value': '(5Z,8Z,11Z,14Z)-eicosatetraenoate'}, 'chebi': {'type': 'uri', 'value': 'http://purl.obolibrary.org/obo/CHEBI_32395'}, 'gene': {'type': 'literal', 'value': 'CYP1A1'}, 'uniprot': {'type': 'uri', 'value': 'http://purl.uniprot.org/uniprot/A0A2K5PV71'}, 'uniprotID': {'type': 'literal', 'value': 'A0A2K5PV71_CEBIM'}, 'recname': {'type': 'literal', 'value': 'Cytochrome P450 1A'}}, {'uniprotName': {'type': 'literal', 'value': '(5Z,8Z,11Z,14Z)-eicosatetraenoate'}, 'chebi': {'type': 'uri', 'value': 'http://purl.obolibrary.org/obo/CHEBI_32395'}, 'gene': {'type': 'literal', 'value': 'CYP1A1'}, 'uniprot': {'type': 'uri', 'value': 'http://purl.uniprot.org/uniprot/A0A8I3VYX7'}, 'uniprotID': {'type': 'literal', 'value': 'A0A8I3VYX7_CALJA'}, 'recname': {'type': 'literal', 'value': 'Cytochrome P450 1A'}}, {'uniprotName': {'type': 'literal', 'value': '(5Z,8Z,11Z,14Z)-eicosatetraenoate'}, 'chebi': {'type': 'uri', 'value': 'http://purl.obolibrary.org/obo/CHEBI_32395'}, 'gene': {'type': 'literal', 'value': 'CYP1A1'}, 'uniprot': {'type': 'uri', 'value': 'http://purl.uniprot.org/uniprot/A0A2I3LF45'}, 'uniprotID': {'type': 'literal', 'value': 'A0A2I3LF45_PAPAN'}, 'recname': {'type': 'literal', 'value': 'Cytochrome P450 1A'}}, {'uniprotName': {'type': 'literal', 'value': '(5Z,8Z,11Z,14Z)-eicosatetraenoate'}, 'chebi': {'type': 'uri', 'value': 'http://purl.obolibrary.org/obo/CHEBI_32395'}, 'gene': {'type': 'literal', 'value': 'CYP1A2'}, 'uniprot': {'type': 'uri', 'value': 'http://purl.uniprot.org/uniprot/F7EIM3'}, 'uniprotID': {'type': 'literal', 'value': 'F7EIM3_MACMU'}, 'recname': {'type': 'literal', 'value': 'Cytochrome P450 1A'}}, {'uniprotName': {'type': 'literal', 'value': '(5Z,8Z,11Z,14Z)-eicosatetraenoate'}, 'chebi': {'type': 'uri', 'value': 'http://purl.obolibrary.org/obo/CHEBI_32395'}, 'gene': {'type': 'literal', 'value': 'CYP1A2'}, 'uniprot': {'type': 'uri', 'value': 'http://purl.uniprot.org/uniprot/A0A096NMR5'}, 'uniprotID': {'type': 'literal', 'value': 'A0A096NMR5_PAPAN'}, 'recname': {'type': 'literal', 'value': 'Cytochrome P450 1A'}}, {'uniprotName': {'type': 'literal', 'value': '(5Z,8Z,11Z,14Z)-eicosatetraenoate'}, 'chebi': {'type': 'uri', 'value': 'http://purl.obolibrary.org/obo/CHEBI_32395'}, 'gene': {'type': 'literal', 'value': 'CYP1A1'}, 'uniprot': {'type': 'uri', 'value': 'http://purl.uniprot.org/uniprot/A0A096NMR4'}, 'uniprotID': {'type': 'literal', 'value': 'A0A096NMR4_PAPAN'}, 'recname': {'type': 'literal', 'value': 'Cytochrome P450 1A'}}, {'uniprotName': {'type': 'literal', 'value': '(5Z,8Z,11Z,14Z)-eicosatetraenoate'}, 'chebi': {'type': 'uri', 'value': 'http://purl.obolibrary.org/obo/CHEBI_32395'}, 'gene': {'type': 'literal', 'value': 'CYP1D1'}, 'uniprot': {'type': 'uri', 'value': 'http://purl.uniprot.org/uniprot/G4V3Q9'}, 'uniprotID': {'type': 'literal', 'value': 'G4V3Q9_MACMU'}, 'recname': {'type': 'literal', 'value': 'Cytochrome P450 1A'}}, {'uniprotName': {'type': 'literal', 'value': '(5Z,8Z,11Z,14Z)-eicosatetraenoate'}, 'chebi': {'type': 'uri', 'value': 'http://purl.obolibrary.org/obo/CHEBI_32395'}, 'gene': {'type': 'literal', 'value': 'CYP1D1'}, 'uniprot': {'type': 'uri', 'value': 'http://purl.uniprot.org/uniprot/F7D7J7'}, 'uniprotID': {'type': 'literal', 'value': 'F7D7J7_MACMU'}, 'recname': {'type': 'literal', 'value': 'Cytochrome P450 1A'}}, {'uniprotName': {'type': 'literal', 'value': '(5Z,8Z,11Z,14Z)-eicosatetraenoate'}, 'chebi': {'type': 'uri', 'value': 'http://purl.obolibrary.org/obo/CHEBI_32395'}, 'gene': {'type': 'literal', 'value': 'LOC105854822'}, 'uniprot': {'type': 'uri', 'value': 'http://purl.uniprot.org/uniprot/A0A8B7E9I7'}, 'uniprotID': {'type': 'literal', 'value': 'A0A8B7E9I7_MICMU'}, 'recname': {'type': 'literal', 'value': 'Cytochrome P450 1A'}}, {'uniprotName': {'type': 'literal', 'value': '(5Z,8Z,11Z,14Z)-eicosatetraenoate'}, 'chebi': {'type': 'uri', 'value': 'http://purl.obolibrary.org/obo/CHEBI_32395'}, 'gene': {'type': 'literal', 'value': 'CYP1A1'}, 'uniprot': {'type': 'uri', 'value': 'http://purl.uniprot.org/uniprot/A0A2K6T358'}, 'uniprotID': {'type': 'literal', 'value': 'A0A2K6T358_SAIBB'}, 'recname': {'type': 'literal', 'value': 'Cytochrome P450 1A'}}, {'uniprotName': {'type': 'literal', 'value': '(5Z,8Z,11Z,14Z)-eicosatetraenoate'}, 'chebi': {'type': 'uri', 'value': 'http://purl.obolibrary.org/obo/CHEBI_32395'}, 'gene': {'type': 'literal', 'value': 'CYP1A1'}, 'uniprot': {'type': 'uri', 'value': 'http://purl.uniprot.org/uniprot/A0A8C5UY91'}, 'uniprotID': {'type': 'literal', 'value': 'A0A8C5UY91_MICMU'}, 'recname': {'type': 'literal', 'value': 'Cytochrome P450 1A'}}, {'uniprotName': {'type': 'literal', 'value': '(5Z,8Z,11Z,14Z)-eicosatetraenoate'}, 'chebi': {'type': 'uri', 'value': 'http://purl.obolibrary.org/obo/CHEBI_32395'}, 'gene': {'type': 'literal', 'value': 'CYP1A1'}, 'uniprot': {'type': 'uri', 'value': 'http://purl.uniprot.org/uniprot/A0A2K6Q3U5'}, 'uniprotID': {'type': 'literal', 'value': 'A0A2K6Q3U5_RHIRO'}, 'recname': {'type': 'literal', 'value': 'Cytochrome P450 1A'}}, {'uniprotName': {'type': 'literal', 'value': '(5Z,8Z,11Z,14Z)-eicosatetraenoate'}, 'chebi': {'type': 'uri', 'value': 'http://purl.obolibrary.org/obo/CHEBI_32395'}, 'gene': {'type': 'literal', 'value': 'CYP1A1'}, 'uniprot': {'type': 'uri', 'value': 'http://purl.uniprot.org/uniprot/C5IMY2'}, 'uniprotID': {'type': 'literal', 'value': 'C5IMY2_PAPCY'}, 'recname': {'type': 'literal', 'value': 'Cytochrome P450 1A'}}, {'uniprotName': {'type': 'literal', 'value': '(5Z,8Z,11Z,14Z)-eicosatetraenoate'}, 'chebi': {'type': 'uri', 'value': 'http://purl.obolibrary.org/obo/CHEBI_32395'}, 'gene': {'type': 'literal', 'value': 'CYP1A1'}, 'uniprot': {'type': 'uri', 'value': 'http://purl.uniprot.org/uniprot/C5IMY6'}, 'uniprotID': {'type': 'literal', 'value': 'C5IMY6_PAPCY'}, 'recname': {'type': 'literal', 'value': 'Cytochrome P450 1A'}}, {'uniprotName': {'type': 'literal', 'value': '(5Z,8Z,11Z,14Z)-eicosatetraenoate'}, 'chebi': {'type': 'uri', 'value': 'http://purl.obolibrary.org/obo/CHEBI_32395'}, 'gene': {'type': 'literal', 'value': 'CYP1A2'}, 'uniprot': {'type': 'uri', 'value': 'http://purl.uniprot.org/uniprot/A0A8C5XD37'}, 'uniprotID': {'type': 'literal', 'value': 'A0A8C5XD37_MICMU'}, 'recname': {'type': 'literal', 'value': 'Cytochrome P450 1A'}}, {'uniprotName': {'type': 'literal', 'value': '(5Z,8Z,11Z,14Z)-eicosatetraenoate'}, 'chebi': {'type': 'uri', 'value': 'http://purl.obolibrary.org/obo/CHEBI_32395'}, 'gene': {'type': 'literal', 'value': 'CYP1A2'}, 'uniprot': {'type': 'uri', 'value': 'http://purl.uniprot.org/uniprot/B6EY14'}, 'uniprotID': {'type': 'literal', 'value': 'B6EY14_MACFA'}, 'recname': {'type': 'literal', 'value': 'Cytochrome P450 1A'}}, {'uniprotName': {'type': 'literal', 'value': '(5Z,8Z,11Z,14Z)-eicosatetraenoate'}, 'chebi': {'type': 'uri', 'value': 'http://purl.obolibrary.org/obo/CHEBI_32395'}, 'gene': {'type': 'literal', 'value': 'CYP1A2'}, 'uniprot': {'type': 'uri', 'value': 'http://purl.uniprot.org/uniprot/B6EY27'}, 'uniprotID': {'type': 'literal', 'value': 'B6EY27_MACFA'}, 'recname': {'type': 'literal', 'value': 'Cytochrome P450 1A'}}, {'uniprotName': {'type': 'literal', 'value': '(5Z,8Z,11Z,14Z)-eicosatetraenoate'}, 'chebi': {'type': 'uri', 'value': 'http://purl.obolibrary.org/obo/CHEBI_32395'}, 'gene': {'type': 'literal', 'value': 'CYP1A2'}, 'uniprot': {'type': 'uri', 'value': 'http://purl.uniprot.org/uniprot/B6EY34'}, 'uniprotID': {'type': 'literal', 'value': 'B6EY34_MACFA'}, 'recname': {'type': 'literal', 'value': 'Cytochrome P450 1A'}}, {'uniprotName': {'type': 'literal', 'value': '(5Z,8Z,11Z,14Z)-eicosatetraenoate'}, 'chebi': {'type': 'uri', 'value': 'http://purl.obolibrary.org/obo/CHEBI_32395'}, 'gene': {'type': 'literal', 'value': 'CYP1A1'}, 'uniprot': {'type': 'uri', 'value': 'http://purl.uniprot.org/uniprot/A0A2K5VAK7'}, 'uniprotID': {'type': 'literal', 'value': 'A0A2K5VAK7_MACFA'}, 'recname': {'type': 'literal', 'value': 'Cytochrome P450 1A'}}, {'uniprotName': {'type': 'literal', 'value': '(5Z,8Z,11Z,14Z)-eicosatetraenoate'}, 'chebi': {'type': 'uri', 'value': 'http://purl.obolibrary.org/obo/CHEBI_32395'}, 'gene': {'type': 'literal', 'value': 'CYP1A1'}, 'uniprot': {'type': 'uri', 'value': 'http://purl.uniprot.org/uniprot/A0A2R9B9N4'}, 'uniprotID': {'type': 'literal', 'value': 'A0A2R9B9N4_PANPA'}, 'recname': {'type': 'literal', 'value': 'Cytochrome P450 1A'}}, {'uniprotName': {'type': 'literal', 'value': '(5Z,8Z,11Z,14Z)-eicosatetraenoate'}, 'chebi': {'type': 'uri', 'value': 'http://purl.obolibrary.org/obo/CHEBI_32395'}, 'gene': {'type': 'literal', 'value': 'CYP1D1'}, 'uniprot': {'type': 'uri', 'value': 'http://purl.uniprot.org/uniprot/G4V3Q8'}, 'uniprotID': {'type': 'literal', 'value': 'G4V3Q8_MACFA'}, 'recname': {'type': 'literal', 'value': 'Cytochrome P450 1A'}}, {'uniprotName': {'type': 'literal', 'value': '(5Z,8Z,11Z,14Z)-eicosatetraenoate'}, 'chebi': {'type': 'uri', 'value': 'http://purl.obolibrary.org/obo/CHEBI_32395'}, 'gene': {'type': 'literal', 'value': 'CYP1A2'}, 'uniprot': {'type': 'uri', 'value': 'http://purl.uniprot.org/uniprot/A0A7N9D4P8'}, 'uniprotID': {'type': 'literal', 'value': 'A0A7N9D4P8_MACFA'}, 'recname': {'type': 'literal', 'value': 'Cytochrome P450 1A'}}, {'uniprotName': {'type': 'literal', 'value': '(5Z,8Z,11Z,14Z)-eicosatetraenoate'}, 'chebi': {'type': 'uri', 'value': 'http://purl.obolibrary.org/obo/CHEBI_32395'}, 'gene': {'type': 'literal', 'value': 'CYP1A2'}, 'uniprot': {'type': 'uri', 'value': 'http://purl.uniprot.org/uniprot/B6EY15'}, 'uniprotID': {'type': 'literal', 'value': 'B6EY15_MACFA'}, 'recname': {'type': 'literal', 'value': 'Cytochrome P450 1A'}}, {'uniprotName': {'type': 'literal', 'value': '(5Z,8Z,11Z,14Z)-eicosatetraenoate'}, 'chebi': {'type': 'uri', 'value': 'http://purl.obolibrary.org/obo/CHEBI_32395'}, 'gene': {'type': 'literal', 'value': 'CYP1A2'}, 'uniprot': {'type': 'uri', 'value': 'http://purl.uniprot.org/uniprot/H0XNE6'}, 'uniprotID': {'type': 'literal', 'value': 'H0XNE6_OTOGA'}, 'recname': {'type': 'literal', 'value': 'Cytochrome P450 1A'}}, {'uniprotName': {'type': 'literal', 'value': '(5Z,8Z,11Z,14Z)-eicosatetraenoate'}, 'chebi': {'type': 'uri', 'value': 'http://purl.obolibrary.org/obo/CHEBI_32395'}, 'gene': {'type': 'literal', 'value': 'CYP1A1'}, 'uniprot': {'type': 'uri', 'value': 'http://purl.uniprot.org/uniprot/A0A2R9B9N0'}, 'uniprotID': {'type': 'literal', 'value': 'A0A2R9B9N0_PANPA'}, 'recname': {'type': 'literal', 'value': 'Cytochrome P450 1A'}}, {'uniprotName': {'type': 'literal', 'value': '(5Z,8Z,11Z,14Z)-eicosatetraenoate'}, 'chebi': {'type': 'uri', 'value': 'http://purl.obolibrary.org/obo/CHEBI_32395'}, 'gene': {'type': 'literal', 'value': 'CYP1A2'}, 'uniprot': {'type': 'uri', 'value': 'http://purl.uniprot.org/uniprot/B6EY23'}, 'uniprotID': {'type': 'literal', 'value': 'B6EY23_MACFA'}, 'recname': {'type': 'literal', 'value': 'Cytochrome P450 1A'}}, {'uniprotName': {'type': 'literal', 'value': '(5Z,8Z,11Z,14Z)-eicosatetraenoate'}, 'chebi': {'type': 'uri', 'value': 'http://purl.obolibrary.org/obo/CHEBI_32395'}, 'gene': {'type': 'literal', 'value': 'CYP1A2'}, 'uniprot': {'type': 'uri', 'value': 'http://purl.uniprot.org/uniprot/B6EY18'}, 'uniprotID': {'type': 'literal', 'value': 'B6EY18_MACFA'}, 'recname': {'type': 'literal', 'value': 'Cytochrome P450 1A'}}, {'uniprotName': {'type': 'literal', 'value': '(5Z,8Z,11Z,14Z)-eicosatetraenoate'}, 'chebi': {'type': 'uri', 'value': 'http://purl.obolibrary.org/obo/CHEBI_32395'}, 'gene': {'type': 'literal', 'value': 'CYP1A2'}, 'uniprot': {'type': 'uri', 'value': 'http://purl.uniprot.org/uniprot/B6EY36'}, 'uniprotID': {'type': 'literal', 'value': 'B6EY36_MACFA'}, 'recname': {'type': 'literal', 'value': 'Cytochrome P450 1A'}}, {'uniprotName': {'type': 'literal', 'value': '(5Z,8Z,11Z,14Z)-eicosatetraenoate'}, 'chebi': {'type': 'uri', 'value': 'http://purl.obolibrary.org/obo/CHEBI_32395'}, 'gene': {'type': 'literal', 'value': 'CYP1A1'}, 'uniprot': {'type': 'uri', 'value': 'http://purl.uniprot.org/uniprot/A0A481YJW7'}, 'uniprotID': {'type': 'literal', 'value': 'A0A481YJW7_MACFA'}, 'recname': {'type': 'literal', 'value': 'Cytochrome P450 1A'}}, {'uniprotName': {'type': 'literal', 'value': '(5Z,8Z,11Z,14Z)-eicosatetraenoate'}, 'chebi': {'type': 'uri', 'value': 'http://purl.obolibrary.org/obo/CHEBI_32395'}, 'gene': {'type': 'literal', 'value': 'CYP1A2'}, 'uniprot': {'type': 'uri', 'value': 'http://purl.uniprot.org/uniprot/B6EY30'}, 'uniprotID': {'type': 'literal', 'value': 'B6EY30_MACFA'}, 'recname': {'type': 'literal', 'value': 'Cytochrome P450 1A'}}, {'uniprotName': {'type': 'literal', 'value': '(5Z,8Z,11Z,14Z)-eicosatetraenoate'}, 'chebi': {'type': 'uri', 'value': 'http://purl.obolibrary.org/obo/CHEBI_32395'}, 'gene': {'type': 'literal', 'value': 'CYP1A2'}, 'uniprot': {'type': 'uri', 'value': 'http://purl.uniprot.org/uniprot/A0A2K5U801'}, 'uniprotID': {'type': 'literal', 'value': 'A0A2K5U801_MACFA'}, 'recname': {'type': 'literal', 'value': 'Cytochrome P450 1A'}}, {'uniprotName': {'type': 'literal', 'value': '(5Z,8Z,11Z,14Z)-eicosatetraenoate'}, 'chebi': {'type': 'uri', 'value': 'http://purl.obolibrary.org/obo/CHEBI_32395'}, 'gene': {'type': 'literal', 'value': 'CYP1A2'}, 'uniprot': {'type': 'uri', 'value': 'http://purl.uniprot.org/uniprot/B6EY24'}, 'uniprotID': {'type': 'literal', 'value': 'B6EY24_MACFA'}, 'recname': {'type': 'literal', 'value': 'Cytochrome P450 1A'}}, {'uniprotName': {'type': 'literal', 'value': '(5Z,8Z,11Z,14Z)-eicosatetraenoate'}, 'chebi': {'type': 'uri', 'value': 'http://purl.obolibrary.org/obo/CHEBI_32395'}, 'gene': {'type': 'literal', 'value': 'CYP1A2'}, 'uniprot': {'type': 'uri', 'value': 'http://purl.uniprot.org/uniprot/A0A481YIE0'}, 'uniprotID': {'type': 'literal', 'value': 'A0A481YIE0_MACFA'}, 'recname': {'type': 'literal', 'value': 'Cytochrome P450 1A'}}, {'uniprotName': {'type': 'literal', 'value': '(5Z,8Z,11Z,14Z)-eicosatetraenoate'}, 'chebi': {'type': 'uri', 'value': 'http://purl.obolibrary.org/obo/CHEBI_32395'}, 'gene': {'type': 'literal', 'value': 'CYP1D1'}, 'uniprot': {'type': 'uri', 'value': 'http://purl.uniprot.org/uniprot/A0A2K5VMH7'}, 'uniprotID': {'type': 'literal', 'value': 'A0A2K5VMH7_MACFA'}, 'recname': {'type': 'literal', 'value': 'Cytochrome P450 1A'}}, {'uniprotName': {'type': 'literal', 'value': '(5Z,8Z,11Z,14Z)-eicosatetraenoate'}, 'chebi': {'type': 'uri', 'value': 'http://purl.obolibrary.org/obo/CHEBI_32395'}, 'gene': {'type': 'literal', 'value': 'CYP1A1'}, 'uniprot': {'type': 'uri', 'value': 'http://purl.uniprot.org/uniprot/A0A2K5MN94'}, 'uniprotID': {'type': 'literal', 'value': 'A0A2K5MN94_CERAT'}, 'recname': {'type': 'literal', 'value': 'Cytochrome P450 1A'}}, {'uniprotName': {'type': 'literal', 'value': '(5Z,8Z,11Z,14Z)-eicosatetraenoate'}, 'chebi': {'type': 'uri', 'value': 'http://purl.obolibrary.org/obo/CHEBI_32395'}, 'gene': {'type': 'literal', 'value': 'CYP1A2'}, 'uniprot': {'type': 'uri', 'value': 'http://purl.uniprot.org/uniprot/B6EY19'}, 'uniprotID': {'type': 'literal', 'value': 'B6EY19_MACFA'}, 'recname': {'type': 'literal', 'value': 'Cytochrome P450 1A'}}, {'uniprotName': {'type': 'literal', 'value': '(5Z,8Z,11Z,14Z)-eicosatetraenoate'}, 'chebi': {'type': 'uri', 'value': 'http://purl.obolibrary.org/obo/CHEBI_32395'}, 'gene': {'type': 'literal', 'value': 'CYP1A2'}, 'uniprot': {'type': 'uri', 'value': 'http://purl.uniprot.org/uniprot/B6EY25'}, 'uniprotID': {'type': 'literal', 'value': 'B6EY25_MACFA'}, 'recname': {'type': 'literal', 'value': 'Cytochrome P450 1A'}}, {'uniprotName': {'type': 'literal', 'value': '(5Z,8Z,11Z,14Z)-eicosatetraenoate'}, 'chebi': {'type': 'uri', 'value': 'http://purl.obolibrary.org/obo/CHEBI_32395'}, 'gene': {'type': 'literal', 'value': 'CYP1A1'}, 'uniprot': {'type': 'uri', 'value': 'http://purl.uniprot.org/uniprot/G7P943'}, 'uniprotID': {'type': 'literal', 'value': 'G7P943_MACFA'}, 'recname': {'type': 'literal', 'value': 'Cytochrome P450 1A'}}, {'uniprotName': {'type': 'literal', 'value': '(5Z,8Z,11Z,14Z)-eicosatetraenoate'}, 'chebi': {'type': 'uri', 'value': 'http://purl.obolibrary.org/obo/CHEBI_32395'}, 'gene': {'type': 'literal', 'value': 'CYP1D1'}, 'uniprot': {'type': 'uri', 'value': 'http://purl.uniprot.org/uniprot/H0XKZ2'}, 'uniprotID': {'type': 'literal', 'value': 'H0XKZ2_OTOGA'}, 'recname': {'type': 'literal', 'value': 'Cytochrome P450 1A'}}, {'uniprotName': {'type': 'literal', 'value': '(5Z,8Z,11Z,14Z)-eicosatetraenoate'}, 'chebi': {'type': 'uri', 'value': 'http://purl.obolibrary.org/obo/CHEBI_32395'}, 'gene': {'type': 'literal', 'value': 'CYP1A2'}, 'uniprot': {'type': 'uri', 'value': 'http://purl.uniprot.org/uniprot/A0A2R8ZXU3'}, 'uniprotID': {'type': 'literal', 'value': 'A0A2R8ZXU3_PANPA'}, 'recname': {'type': 'literal', 'value': 'Cytochrome P450 1A'}}, {'uniprotName': {'type': 'literal', 'value': '(5Z,8Z,11Z,14Z)-eicosatetraenoate'}, 'chebi': {'type': 'uri', 'value': 'http://purl.obolibrary.org/obo/CHEBI_32395'}, 'gene': {'type': 'literal', 'value': 'CYP1A1'}, 'uniprot': {'type': 'uri', 'value': 'http://purl.uniprot.org/uniprot/H0XB84'}, 'uniprotID': {'type': 'literal', 'value': 'H0XB84_OTOGA'}, 'recname': {'type': 'literal', 'value': 'Cytochrome P450 1A'}}, {'uniprotName': {'type': 'literal', 'value': '(5Z,8Z,11Z,14Z)-eicosatetraenoate'}, 'chebi': {'type': 'uri', 'value': 'http://purl.obolibrary.org/obo/CHEBI_32395'}, 'gene': {'type': 'literal', 'value': 'CYP1A1'}, 'uniprot': {'type': 'uri', 'value': 'http://purl.uniprot.org/uniprot/A0A0D9RP42'}, 'uniprotID': {'type': 'literal', 'value': 'A0A0D9RP42_CHLSB'}, 'recname': {'type': 'literal', 'value': 'Cytochrome P450 1A'}}, {'uniprotName': {'type': 'literal', 'value': '(5Z,8Z,11Z,14Z)-eicosatetraenoate'}, 'chebi': {'type': 'uri', 'value': 'http://purl.obolibrary.org/obo/CHEBI_32395'}, 'gene': {'type': 'literal', 'value': 'CYP1A2'}, 'uniprot': {'type': 'uri', 'value': 'http://purl.uniprot.org/uniprot/B6EY29'}, 'uniprotID': {'type': 'literal', 'value': 'B6EY29_MACFA'}, 'recname': {'type': 'literal', 'value': 'Cytochrome P450 1A'}}]}}\n"
     ]
    }
   ],
   "source": [
    "result = query_sparql_wrapper(ground_truth_query, ground_truth_endpoint)\n",
    "print(result)"
   ]
  },
  {
   "cell_type": "code",
   "execution_count": 6,
   "metadata": {},
   "outputs": [
    {
     "name": "stdout",
     "output_type": "stream",
     "text": [
      "{'head': {'vars': ['uniprot', 'uniprotID', 'recname', 'gene', 'chebi', 'uniprotName']}, 'results': {'bindings': [{'uniprotName': {'type': 'literal', 'value': '(5Z,8Z,11Z,14Z)-eicosatetraenoate'}, 'chebi': {'type': 'uri', 'value': 'http://purl.obolibrary.org/obo/CHEBI_32395'}, 'gene': {'type': 'literal', 'value': 'CYP1A2'}, 'uniprot': {'type': 'uri', 'value': 'http://purl.uniprot.org/uniprot/O77809'}, 'uniprotID': {'type': 'literal', 'value': 'CP1A2_MACFA'}, 'recname': {'type': 'literal', 'value': 'Cytochrome P450 1A2'}}, {'uniprotName': {'type': 'literal', 'value': '(5Z,8Z,11Z,14Z)-eicosatetraenoate'}, 'chebi': {'type': 'uri', 'value': 'http://purl.obolibrary.org/obo/CHEBI_32395'}, 'gene': {'type': 'literal', 'value': 'CYP1A2'}, 'uniprot': {'type': 'uri', 'value': 'http://purl.uniprot.org/uniprot/O77810'}, 'uniprotID': {'type': 'literal', 'value': 'CP1A2_CALJA'}, 'recname': {'type': 'literal', 'value': 'Cytochrome P450 1A2'}}, {'uniprotName': {'type': 'literal', 'value': '(5Z,8Z,11Z,14Z)-eicosatetraenoate'}, 'chebi': {'type': 'uri', 'value': 'http://purl.obolibrary.org/obo/CHEBI_32395'}, 'gene': {'type': 'literal', 'value': 'Cyp1a1'}, 'uniprot': {'type': 'uri', 'value': 'http://purl.uniprot.org/uniprot/P00184'}, 'uniprotID': {'type': 'literal', 'value': 'CP1A1_MOUSE'}, 'recname': {'type': 'literal', 'value': 'Cytochrome P450 1A1'}}, {'uniprotName': {'type': 'literal', 'value': '(5Z,8Z,11Z,14Z)-eicosatetraenoate'}, 'chebi': {'type': 'uri', 'value': 'http://purl.obolibrary.org/obo/CHEBI_32395'}, 'gene': {'type': 'literal', 'value': 'Cyp1a2'}, 'uniprot': {'type': 'uri', 'value': 'http://purl.uniprot.org/uniprot/P00186'}, 'uniprotID': {'type': 'literal', 'value': 'CP1A2_MOUSE'}, 'recname': {'type': 'literal', 'value': 'Cytochrome P450 1A2'}}, {'uniprotName': {'type': 'literal', 'value': '(5Z,8Z,11Z,14Z)-eicosatetraenoate'}, 'chebi': {'type': 'uri', 'value': 'http://purl.obolibrary.org/obo/CHEBI_32395'}, 'gene': {'type': 'literal', 'value': 'CYP1A2'}, 'uniprot': {'type': 'uri', 'value': 'http://purl.uniprot.org/uniprot/P00187'}, 'uniprotID': {'type': 'literal', 'value': 'CP1A2_RABIT'}, 'recname': {'type': 'literal', 'value': 'Cytochrome P450 1A2'}}, {'uniprotName': {'type': 'literal', 'value': '(5Z,8Z,11Z,14Z)-eicosatetraenoate'}, 'chebi': {'type': 'uri', 'value': 'http://purl.obolibrary.org/obo/CHEBI_32395'}, 'gene': {'type': 'literal', 'value': 'CYP1A1'}, 'uniprot': {'type': 'uri', 'value': 'http://purl.uniprot.org/uniprot/P04798'}, 'uniprotID': {'type': 'literal', 'value': 'CP1A1_HUMAN'}, 'recname': {'type': 'literal', 'value': 'Cytochrome P450 1A1'}}, {'uniprotName': {'type': 'literal', 'value': '(5Z,8Z,11Z,14Z)-eicosatetraenoate'}, 'chebi': {'type': 'uri', 'value': 'http://purl.obolibrary.org/obo/CHEBI_32395'}, 'gene': {'type': 'literal', 'value': 'Cyp1a2'}, 'uniprot': {'type': 'uri', 'value': 'http://purl.uniprot.org/uniprot/P04799'}, 'uniprotID': {'type': 'literal', 'value': 'CP1A2_RAT'}, 'recname': {'type': 'literal', 'value': 'Cytochrome P450 1A2'}}, {'uniprotName': {'type': 'literal', 'value': '(5Z,8Z,11Z,14Z)-eicosatetraenoate'}, 'chebi': {'type': 'uri', 'value': 'http://purl.obolibrary.org/obo/CHEBI_32395'}, 'gene': {'type': 'literal', 'value': 'CYP1A1'}, 'uniprot': {'type': 'uri', 'value': 'http://purl.uniprot.org/uniprot/P05176'}, 'uniprotID': {'type': 'literal', 'value': 'CP1A1_RABIT'}, 'recname': {'type': 'literal', 'value': 'Cytochrome P450 1A1'}}, {'uniprotName': {'type': 'literal', 'value': '(5Z,8Z,11Z,14Z)-eicosatetraenoate'}, 'chebi': {'type': 'uri', 'value': 'http://purl.obolibrary.org/obo/CHEBI_32395'}, 'gene': {'type': 'literal', 'value': 'CYP1A2'}, 'uniprot': {'type': 'uri', 'value': 'http://purl.uniprot.org/uniprot/P05177'}, 'uniprotID': {'type': 'literal', 'value': 'CP1A2_HUMAN'}, 'recname': {'type': 'literal', 'value': 'Cytochrome P450 1A2'}}, {'uniprotName': {'type': 'literal', 'value': '(5Z,8Z,11Z,14Z)-eicosatetraenoate'}, 'chebi': {'type': 'uri', 'value': 'http://purl.obolibrary.org/obo/CHEBI_32395'}, 'gene': {'type': 'literal', 'value': 'CYP1A2'}, 'uniprot': {'type': 'uri', 'value': 'http://purl.uniprot.org/uniprot/P24453'}, 'uniprotID': {'type': 'literal', 'value': 'CP1A2_MESAU'}, 'recname': {'type': 'literal', 'value': 'Cytochrome P450 1A2'}}, {'uniprotName': {'type': 'literal', 'value': '(5Z,8Z,11Z,14Z)-eicosatetraenoate'}, 'chebi': {'type': 'uri', 'value': 'http://purl.obolibrary.org/obo/CHEBI_32395'}, 'gene': {'type': 'literal', 'value': 'CYP1A1'}, 'uniprot': {'type': 'uri', 'value': 'http://purl.uniprot.org/uniprot/P33616'}, 'uniprotID': {'type': 'literal', 'value': 'CP1A1_MACFA'}, 'recname': {'type': 'literal', 'value': 'Cytochrome P450 1A1'}}, {'uniprotName': {'type': 'literal', 'value': '(5Z,8Z,11Z,14Z)-eicosatetraenoate'}, 'chebi': {'type': 'uri', 'value': 'http://purl.obolibrary.org/obo/CHEBI_32395'}, 'gene': {'type': 'literal', 'value': 'CYP1A1'}, 'uniprot': {'type': 'uri', 'value': 'http://purl.uniprot.org/uniprot/P56590'}, 'uniprotID': {'type': 'literal', 'value': 'CP1A1_CANLF'}, 'recname': {'type': 'literal', 'value': 'Cytochrome P450 1A1'}}, {'uniprotName': {'type': 'literal', 'value': '(5Z,8Z,11Z,14Z)-eicosatetraenoate'}, 'chebi': {'type': 'uri', 'value': 'http://purl.obolibrary.org/obo/CHEBI_32395'}, 'gene': {'type': 'literal', 'value': 'CYP1A1'}, 'uniprot': {'type': 'uri', 'value': 'http://purl.uniprot.org/uniprot/P56591'}, 'uniprotID': {'type': 'literal', 'value': 'CP1A1_SHEEP'}, 'recname': {'type': 'literal', 'value': 'Cytochrome P450 1A1'}}, {'uniprotName': {'type': 'literal', 'value': '(5Z,8Z,11Z,14Z)-eicosatetraenoate'}, 'chebi': {'type': 'uri', 'value': 'http://purl.obolibrary.org/obo/CHEBI_32395'}, 'gene': {'type': 'literal', 'value': 'CYP1A2'}, 'uniprot': {'type': 'uri', 'value': 'http://purl.uniprot.org/uniprot/P56592'}, 'uniprotID': {'type': 'literal', 'value': 'CP1A2_CANLF'}, 'recname': {'type': 'literal', 'value': 'Cytochrome P450 1A2'}}, {'uniprotName': {'type': 'literal', 'value': '(5Z,8Z,11Z,14Z)-eicosatetraenoate'}, 'chebi': {'type': 'uri', 'value': 'http://purl.obolibrary.org/obo/CHEBI_32395'}, 'gene': {'type': 'literal', 'value': 'CYP1A1'}, 'uniprot': {'type': 'uri', 'value': 'http://purl.uniprot.org/uniprot/Q00557'}, 'uniprotID': {'type': 'literal', 'value': 'CP1A1_MESAU'}, 'recname': {'type': 'literal', 'value': 'Cytochrome P450 1A1'}}, {'uniprotName': {'type': 'literal', 'value': '(5Z,8Z,11Z,14Z)-eicosatetraenoate'}, 'chebi': {'type': 'uri', 'value': 'http://purl.obolibrary.org/obo/CHEBI_32395'}, 'gene': {'type': 'literal', 'value': 'CYP1A1'}, 'uniprot': {'type': 'uri', 'value': 'http://purl.uniprot.org/uniprot/Q06367'}, 'uniprotID': {'type': 'literal', 'value': 'CP1A1_CAVPO'}, 'recname': {'type': 'literal', 'value': 'Cytochrome P450 1A1'}}, {'uniprotName': {'type': 'literal', 'value': '(5Z,8Z,11Z,14Z)-eicosatetraenoate'}, 'chebi': {'type': 'uri', 'value': 'http://purl.obolibrary.org/obo/CHEBI_32395'}, 'gene': {'type': 'literal', 'value': 'CYP1A2'}, 'uniprot': {'type': 'uri', 'value': 'http://purl.uniprot.org/uniprot/Q3LFT9'}, 'uniprotID': {'type': 'literal', 'value': 'CP1A2_BALAC'}, 'recname': {'type': 'literal', 'value': 'Cytochrome P450 1A2'}}, {'uniprotName': {'type': 'literal', 'value': '(5Z,8Z,11Z,14Z)-eicosatetraenoate'}, 'chebi': {'type': 'uri', 'value': 'http://purl.obolibrary.org/obo/CHEBI_32395'}, 'gene': {'type': 'literal', 'value': 'CYP1A1'}, 'uniprot': {'type': 'uri', 'value': 'http://purl.uniprot.org/uniprot/Q3LFU0'}, 'uniprotID': {'type': 'literal', 'value': 'CP1A1_BALAC'}, 'recname': {'type': 'literal', 'value': 'Cytochrome P450 1A1'}}, {'uniprotName': {'type': 'literal', 'value': '(5Z,8Z,11Z,14Z)-eicosatetraenoate'}, 'chebi': {'type': 'uri', 'value': 'http://purl.obolibrary.org/obo/CHEBI_32395'}, 'gene': {'type': 'literal', 'value': 'CYP1A2'}, 'uniprot': {'type': 'uri', 'value': 'http://purl.uniprot.org/uniprot/Q4H4C3'}, 'uniprotID': {'type': 'literal', 'value': 'CP1A2_MACFU'}, 'recname': {'type': 'literal', 'value': 'Cytochrome P450 1A2'}}, {'uniprotName': {'type': 'literal', 'value': '(5Z,8Z,11Z,14Z)-eicosatetraenoate'}, 'chebi': {'type': 'uri', 'value': 'http://purl.obolibrary.org/obo/CHEBI_32395'}, 'gene': {'type': 'literal', 'value': 'CYP1A2'}, 'uniprot': {'type': 'uri', 'value': 'http://purl.uniprot.org/uniprot/Q5KQT6'}, 'uniprotID': {'type': 'literal', 'value': 'CP1A2_FELCA'}, 'recname': {'type': 'literal', 'value': 'Cytochrome P450 1A2'}}, {'uniprotName': {'type': 'literal', 'value': '(5Z,8Z,11Z,14Z)-eicosatetraenoate'}, 'chebi': {'type': 'uri', 'value': 'http://purl.obolibrary.org/obo/CHEBI_32395'}, 'gene': {'type': 'literal', 'value': 'CYP1A1'}, 'uniprot': {'type': 'uri', 'value': 'http://purl.uniprot.org/uniprot/Q5KQT7'}, 'uniprotID': {'type': 'literal', 'value': 'CP1A1_FELCA'}, 'recname': {'type': 'literal', 'value': 'Cytochrome P450 1A1'}}, {'uniprotName': {'type': 'literal', 'value': '(5Z,8Z,11Z,14Z)-eicosatetraenoate'}, 'chebi': {'type': 'uri', 'value': 'http://purl.obolibrary.org/obo/CHEBI_32395'}, 'gene': {'type': 'literal', 'value': 'CYP1A2'}, 'uniprot': {'type': 'uri', 'value': 'http://purl.uniprot.org/uniprot/Q5RBQ1'}, 'uniprotID': {'type': 'literal', 'value': 'CP1A2_PONAB'}, 'recname': {'type': 'literal', 'value': 'Cytochrome P450 1A2'}}, {'uniprotName': {'type': 'literal', 'value': '(5Z,8Z,11Z,14Z)-eicosatetraenoate'}, 'chebi': {'type': 'uri', 'value': 'http://purl.obolibrary.org/obo/CHEBI_32395'}, 'gene': {'type': 'literal', 'value': 'CYP1A2'}, 'uniprot': {'type': 'uri', 'value': 'http://purl.uniprot.org/uniprot/Q64391'}, 'uniprotID': {'type': 'literal', 'value': 'CP1A2_CAVPO'}, 'recname': {'type': 'literal', 'value': 'Cytochrome P450 1A2'}}, {'uniprotName': {'type': 'literal', 'value': '(5Z,8Z,11Z,14Z)-eicosatetraenoate'}, 'chebi': {'type': 'uri', 'value': 'http://purl.obolibrary.org/obo/CHEBI_32395'}, 'gene': {'type': 'literal', 'value': 'Cyp1b1'}, 'uniprot': {'type': 'uri', 'value': 'http://purl.uniprot.org/uniprot/Q64678'}, 'uniprotID': {'type': 'literal', 'value': 'CP1B1_RAT'}, 'recname': {'type': 'literal', 'value': 'Cytochrome P450 1B1'}}, {'uniprotName': {'type': 'literal', 'value': '(5Z,8Z,11Z,14Z)-eicosatetraenoate'}, 'chebi': {'type': 'uri', 'value': 'http://purl.obolibrary.org/obo/CHEBI_32395'}, 'gene': {'type': 'literal', 'value': 'CYP1A1'}, 'uniprot': {'type': 'uri', 'value': 'http://purl.uniprot.org/uniprot/Q6GUR1'}, 'uniprotID': {'type': 'literal', 'value': 'CP1A1_MACMU'}, 'recname': {'type': 'literal', 'value': 'Cytochrome P450 1A1'}}, {'uniprotName': {'type': 'literal', 'value': '(5Z,8Z,11Z,14Z)-eicosatetraenoate'}, 'chebi': {'type': 'uri', 'value': 'http://purl.obolibrary.org/obo/CHEBI_32395'}, 'gene': {'type': 'literal', 'value': 'CYP3A4'}, 'uniprot': {'type': 'uri', 'value': 'http://purl.uniprot.org/uniprot/P08684'}, 'uniprotID': {'type': 'literal', 'value': 'CP3A4_HUMAN'}, 'recname': {'type': 'literal', 'value': 'Cytochrome P450 3A4'}}, {'uniprotName': {'type': 'literal', 'value': '(5Z,8Z,11Z,14Z)-eicosatetraenoate'}, 'chebi': {'type': 'uri', 'value': 'http://purl.obolibrary.org/obo/CHEBI_32395'}, 'gene': {'type': 'literal', 'value': 'CYP2J2'}, 'uniprot': {'type': 'uri', 'value': 'http://purl.uniprot.org/uniprot/P51589'}, 'uniprotID': {'type': 'literal', 'value': 'CP2J2_HUMAN'}, 'recname': {'type': 'literal', 'value': 'Cytochrome P450 2J2'}}, {'uniprotName': {'type': 'literal', 'value': '(5Z,8Z,11Z,14Z)-eicosatetraenoate'}, 'chebi': {'type': 'uri', 'value': 'http://purl.obolibrary.org/obo/CHEBI_32395'}, 'gene': {'type': 'literal', 'value': 'CYP4F8'}, 'uniprot': {'type': 'uri', 'value': 'http://purl.uniprot.org/uniprot/P98187'}, 'uniprotID': {'type': 'literal', 'value': 'CP4F8_HUMAN'}, 'recname': {'type': 'literal', 'value': 'Cytochrome P450 4F8'}}, {'uniprotName': {'type': 'literal', 'value': '(5Z,8Z,11Z,14Z)-eicosatetraenoate'}, 'chebi': {'type': 'uri', 'value': 'http://purl.obolibrary.org/obo/CHEBI_32395'}, 'gene': {'type': 'literal', 'value': 'Cyp2c11'}, 'uniprot': {'type': 'uri', 'value': 'http://purl.uniprot.org/uniprot/P08683'}, 'uniprotID': {'type': 'literal', 'value': 'CP2CB_RAT'}, 'recname': {'type': 'literal', 'value': 'Cytochrome P450 2C11'}}, {'uniprotName': {'type': 'literal', 'value': '(5Z,8Z,11Z,14Z)-eicosatetraenoate'}, 'chebi': {'type': 'uri', 'value': 'http://purl.obolibrary.org/obo/CHEBI_32395'}, 'gene': {'type': 'literal', 'value': 'CYP2C8'}, 'uniprot': {'type': 'uri', 'value': 'http://purl.uniprot.org/uniprot/P10632'}, 'uniprotID': {'type': 'literal', 'value': 'CP2C8_HUMAN'}, 'recname': {'type': 'literal', 'value': 'Cytochrome P450 2C8'}}, {'uniprotName': {'type': 'literal', 'value': '(5Z,8Z,11Z,14Z)-eicosatetraenoate'}, 'chebi': {'type': 'uri', 'value': 'http://purl.obolibrary.org/obo/CHEBI_32395'}, 'gene': {'type': 'literal', 'value': 'CYP2D6'}, 'uniprot': {'type': 'uri', 'value': 'http://purl.uniprot.org/uniprot/P10635'}, 'uniprotID': {'type': 'literal', 'value': 'CP2D6_HUMAN'}, 'recname': {'type': 'literal', 'value': 'Cytochrome P450 2D6'}}, {'uniprotName': {'type': 'literal', 'value': '(5Z,8Z,11Z,14Z)-eicosatetraenoate'}, 'chebi': {'type': 'uri', 'value': 'http://purl.obolibrary.org/obo/CHEBI_32395'}, 'gene': {'type': 'literal', 'value': 'CYP2C9'}, 'uniprot': {'type': 'uri', 'value': 'http://purl.uniprot.org/uniprot/P11712'}, 'uniprotID': {'type': 'literal', 'value': 'CP2C9_HUMAN'}, 'recname': {'type': 'literal', 'value': 'Cytochrome P450 2C9'}}, {'uniprotName': {'type': 'literal', 'value': '(5Z,8Z,11Z,14Z)-eicosatetraenoate'}, 'chebi': {'type': 'uri', 'value': 'http://purl.obolibrary.org/obo/CHEBI_32395'}, 'gene': {'type': 'literal', 'value': 'Cyp2c23'}, 'uniprot': {'type': 'uri', 'value': 'http://purl.uniprot.org/uniprot/P24470'}, 'uniprotID': {'type': 'literal', 'value': 'CP2CN_RAT'}, 'recname': {'type': 'literal', 'value': 'Cytochrome P450 2C23'}}, {'uniprotName': {'type': 'literal', 'value': '(5Z,8Z,11Z,14Z)-eicosatetraenoate'}, 'chebi': {'type': 'uri', 'value': 'http://purl.obolibrary.org/obo/CHEBI_32395'}, 'gene': {'type': 'literal', 'value': 'Cyp2c40'}, 'uniprot': {'type': 'uri', 'value': 'http://purl.uniprot.org/uniprot/P56657'}, 'uniprotID': {'type': 'literal', 'value': 'CP240_MOUSE'}, 'recname': {'type': 'literal', 'value': 'Cytochrome P450 2C40'}}, {'uniprotName': {'type': 'literal', 'value': '(5Z,8Z,11Z,14Z)-eicosatetraenoate'}, 'chebi': {'type': 'uri', 'value': 'http://purl.obolibrary.org/obo/CHEBI_32395'}, 'gene': {'type': 'literal', 'value': 'CYP2D6'}, 'uniprot': {'type': 'uri', 'value': 'http://purl.uniprot.org/uniprot/Q2XNC8'}, 'uniprotID': {'type': 'literal', 'value': 'CP2D6_PANTR'}, 'recname': {'type': 'literal', 'value': 'Cytochrome P450 2D6'}}, {'uniprotName': {'type': 'literal', 'value': '(5Z,8Z,11Z,14Z)-eicosatetraenoate'}, 'chebi': {'type': 'uri', 'value': 'http://purl.obolibrary.org/obo/CHEBI_32395'}, 'gene': {'type': 'literal', 'value': 'CYP2D6'}, 'uniprot': {'type': 'uri', 'value': 'http://purl.uniprot.org/uniprot/Q2XNC9'}, 'uniprotID': {'type': 'literal', 'value': 'CP2D6_PANPA'}, 'recname': {'type': 'literal', 'value': 'Cytochrome P450 2D6'}}, {'uniprotName': {'type': 'literal', 'value': '(5Z,8Z,11Z,14Z)-eicosatetraenoate'}, 'chebi': {'type': 'uri', 'value': 'http://purl.obolibrary.org/obo/CHEBI_32395'}, 'gene': {'type': 'literal', 'value': 'CYP4Z1'}, 'uniprot': {'type': 'uri', 'value': 'http://purl.uniprot.org/uniprot/Q86W10'}, 'uniprotID': {'type': 'literal', 'value': 'CP4Z1_HUMAN'}, 'recname': {'type': 'literal', 'value': 'Cytochrome P450 4Z1'}}, {'uniprotName': {'type': 'literal', 'value': '(5Z,8Z,11Z,14Z)-eicosatetraenoate'}, 'chebi': {'type': 'uri', 'value': 'http://purl.obolibrary.org/obo/CHEBI_32395'}, 'gene': {'type': 'literal', 'value': 'ALOX15B'}, 'uniprot': {'type': 'uri', 'value': 'http://purl.uniprot.org/uniprot/O15296'}, 'uniprotID': {'type': 'literal', 'value': 'LX15B_HUMAN'}, 'recname': {'type': 'literal', 'value': 'Polyunsaturated fatty acid lipoxygenase ALOX15B'}}, {'uniprotName': {'type': 'literal', 'value': '(5Z,8Z,11Z,14Z)-eicosatetraenoate'}, 'chebi': {'type': 'uri', 'value': 'http://purl.obolibrary.org/obo/CHEBI_32395'}, 'gene': {'type': 'literal', 'value': 'Alox15b'}, 'uniprot': {'type': 'uri', 'value': 'http://purl.uniprot.org/uniprot/Q8K4F2'}, 'uniprotID': {'type': 'literal', 'value': 'LX15B_RAT'}, 'recname': {'type': 'literal', 'value': 'Polyunsaturated fatty acid lipoxygenase ALOX15B'}}, {'uniprotName': {'type': 'literal', 'value': '(5Z,8Z,11Z,14Z)-eicosatetraenoate'}, 'chebi': {'type': 'uri', 'value': 'http://purl.obolibrary.org/obo/CHEBI_32395'}, 'gene': {'type': 'literal', 'value': 'CYP1A1'}, 'uniprot': {'type': 'uri', 'value': 'http://purl.uniprot.org/uniprot/E7EMT5'}, 'uniprotID': {'type': 'literal', 'value': 'E7EMT5_HUMAN'}, 'recname': {'type': 'literal', 'value': 'Cytochrome P450 1A'}}, {'uniprotName': {'type': 'literal', 'value': '(5Z,8Z,11Z,14Z)-eicosatetraenoate'}, 'chebi': {'type': 'uri', 'value': 'http://purl.obolibrary.org/obo/CHEBI_32395'}, 'gene': {'type': 'literal', 'value': 'CYP1A1'}, 'uniprot': {'type': 'uri', 'value': 'http://purl.uniprot.org/uniprot/A0N0X8'}, 'uniprotID': {'type': 'literal', 'value': 'A0N0X8_HUMAN'}, 'recname': {'type': 'literal', 'value': 'Cytochrome P450 1A'}}, {'uniprotName': {'type': 'literal', 'value': '(5Z,8Z,11Z,14Z)-eicosatetraenoate'}, 'chebi': {'type': 'uri', 'value': 'http://purl.obolibrary.org/obo/CHEBI_32395'}, 'gene': {'type': 'literal', 'value': 'CYP1A1'}, 'uniprot': {'type': 'uri', 'value': 'http://purl.uniprot.org/uniprot/A4F3V8'}, 'uniprotID': {'type': 'literal', 'value': 'A4F3V8_HUMAN'}, 'recname': {'type': 'literal', 'value': 'Cytochrome P450 1A'}}, {'uniprotName': {'type': 'literal', 'value': '(5Z,8Z,11Z,14Z)-eicosatetraenoate'}, 'chebi': {'type': 'uri', 'value': 'http://purl.obolibrary.org/obo/CHEBI_32395'}, 'gene': {'type': 'literal', 'value': 'CYP1A1'}, 'uniprot': {'type': 'uri', 'value': 'http://purl.uniprot.org/uniprot/A4F4K4'}, 'uniprotID': {'type': 'literal', 'value': 'A4F4K4_HUMAN'}, 'recname': {'type': 'literal', 'value': 'Cytochrome P450 1A'}}, {'uniprotName': {'type': 'literal', 'value': '(5Z,8Z,11Z,14Z)-eicosatetraenoate'}, 'chebi': {'type': 'uri', 'value': 'http://purl.obolibrary.org/obo/CHEBI_32395'}, 'gene': {'type': 'literal', 'value': 'CYP1A1'}, 'uniprot': {'type': 'uri', 'value': 'http://purl.uniprot.org/uniprot/Q0VHD5'}, 'uniprotID': {'type': 'literal', 'value': 'Q0VHD5_HUMAN'}, 'recname': {'type': 'literal', 'value': 'Cytochrome P450 1A'}}, {'uniprotName': {'type': 'literal', 'value': '(5Z,8Z,11Z,14Z)-eicosatetraenoate'}, 'chebi': {'type': 'uri', 'value': 'http://purl.obolibrary.org/obo/CHEBI_32395'}, 'gene': {'type': 'literal', 'value': 'CYP1A1'}, 'uniprot': {'type': 'uri', 'value': 'http://purl.uniprot.org/uniprot/A4F4K3'}, 'uniprotID': {'type': 'literal', 'value': 'A4F4K3_HUMAN'}, 'recname': {'type': 'literal', 'value': 'Cytochrome P450 1A'}}, {'uniprotName': {'type': 'literal', 'value': '(5Z,8Z,11Z,14Z)-eicosatetraenoate'}, 'chebi': {'type': 'uri', 'value': 'http://purl.obolibrary.org/obo/CHEBI_32395'}, 'gene': {'type': 'literal', 'value': 'CYP1A1'}, 'uniprot': {'type': 'uri', 'value': 'http://purl.uniprot.org/uniprot/Q5J9B1'}, 'uniprotID': {'type': 'literal', 'value': 'Q5J9B1_HUMAN'}, 'recname': {'type': 'literal', 'value': 'Cytochrome P450 1A'}}, {'uniprotName': {'type': 'literal', 'value': '(5Z,8Z,11Z,14Z)-eicosatetraenoate'}, 'chebi': {'type': 'uri', 'value': 'http://purl.obolibrary.org/obo/CHEBI_32395'}, 'gene': {'type': 'literal', 'value': 'CYP1A1'}, 'uniprot': {'type': 'uri', 'value': 'http://purl.uniprot.org/uniprot/A0A2K6Q3V3'}, 'uniprotID': {'type': 'literal', 'value': 'A0A2K6Q3V3_RHIRO'}, 'recname': {'type': 'literal', 'value': 'Cytochrome P450 1A'}}, {'uniprotName': {'type': 'literal', 'value': '(5Z,8Z,11Z,14Z)-eicosatetraenoate'}, 'chebi': {'type': 'uri', 'value': 'http://purl.obolibrary.org/obo/CHEBI_32395'}, 'gene': {'type': 'literal', 'value': 'CYP1A1'}, 'uniprot': {'type': 'uri', 'value': 'http://purl.uniprot.org/uniprot/A0A2K6Q3V4'}, 'uniprotID': {'type': 'literal', 'value': 'A0A2K6Q3V4_RHIRO'}, 'recname': {'type': 'literal', 'value': 'Cytochrome P450 1A'}}, {'uniprotName': {'type': 'literal', 'value': '(5Z,8Z,11Z,14Z)-eicosatetraenoate'}, 'chebi': {'type': 'uri', 'value': 'http://purl.obolibrary.org/obo/CHEBI_32395'}, 'gene': {'type': 'literal', 'value': 'CYP1A2'}, 'uniprot': {'type': 'uri', 'value': 'http://purl.uniprot.org/uniprot/A0A2K6PHN4'}, 'uniprotID': {'type': 'literal', 'value': 'A0A2K6PHN4_RHIRO'}, 'recname': {'type': 'literal', 'value': 'Cytochrome P450 1A'}}, {'uniprotName': {'type': 'literal', 'value': '(5Z,8Z,11Z,14Z)-eicosatetraenoate'}, 'chebi': {'type': 'uri', 'value': 'http://purl.obolibrary.org/obo/CHEBI_32395'}, 'gene': {'type': 'literal', 'value': 'CYP1A1'}, 'uniprot': {'type': 'uri', 'value': 'http://purl.uniprot.org/uniprot/C5IMY1'}, 'uniprotID': {'type': 'literal', 'value': 'C5IMY1_PAPCY'}, 'recname': {'type': 'literal', 'value': 'Cytochrome P450 1A'}}, {'uniprotName': {'type': 'literal', 'value': '(5Z,8Z,11Z,14Z)-eicosatetraenoate'}, 'chebi': {'type': 'uri', 'value': 'http://purl.obolibrary.org/obo/CHEBI_32395'}, 'gene': {'type': 'literal', 'value': 'CYP1A1'}, 'uniprot': {'type': 'uri', 'value': 'http://purl.uniprot.org/uniprot/C5IN31'}, 'uniprotID': {'type': 'literal', 'value': 'C5IN31_PAPCY'}, 'recname': {'type': 'literal', 'value': 'Cytochrome P450 1A'}}, {'uniprotName': {'type': 'literal', 'value': '(5Z,8Z,11Z,14Z)-eicosatetraenoate'}, 'chebi': {'type': 'uri', 'value': 'http://purl.obolibrary.org/obo/CHEBI_32395'}, 'gene': {'type': 'literal', 'value': 'CYP1A1'}, 'uniprot': {'type': 'uri', 'value': 'http://purl.uniprot.org/uniprot/C5IN69'}, 'uniprotID': {'type': 'literal', 'value': 'C5IN69_PAPCY'}, 'recname': {'type': 'literal', 'value': 'Cytochrome P450 1A'}}, {'uniprotName': {'type': 'literal', 'value': '(5Z,8Z,11Z,14Z)-eicosatetraenoate'}, 'chebi': {'type': 'uri', 'value': 'http://purl.obolibrary.org/obo/CHEBI_32395'}, 'gene': {'type': 'literal', 'value': 'CYP1A1'}, 'uniprot': {'type': 'uri', 'value': 'http://purl.uniprot.org/uniprot/C5IMY0'}, 'uniprotID': {'type': 'literal', 'value': 'C5IMY0_PAPCY'}, 'recname': {'type': 'literal', 'value': 'Cytochrome P450 1A'}}, {'uniprotName': {'type': 'literal', 'value': '(5Z,8Z,11Z,14Z)-eicosatetraenoate'}, 'chebi': {'type': 'uri', 'value': 'http://purl.obolibrary.org/obo/CHEBI_32395'}, 'gene': {'type': 'literal', 'value': 'CYP1A2'}, 'uniprot': {'type': 'uri', 'value': 'http://purl.uniprot.org/uniprot/A0A2K5MBX2'}, 'uniprotID': {'type': 'literal', 'value': 'A0A2K5MBX2_CERAT'}, 'recname': {'type': 'literal', 'value': 'Cytochrome P450 1A'}}, {'uniprotName': {'type': 'literal', 'value': '(5Z,8Z,11Z,14Z)-eicosatetraenoate'}, 'chebi': {'type': 'uri', 'value': 'http://purl.obolibrary.org/obo/CHEBI_32395'}, 'gene': {'type': 'literal', 'value': 'CYP1D1'}, 'uniprot': {'type': 'uri', 'value': 'http://purl.uniprot.org/uniprot/A0A2K5KXR0'}, 'uniprotID': {'type': 'literal', 'value': 'A0A2K5KXR0_CERAT'}, 'recname': {'type': 'literal', 'value': 'Cytochrome P450 1A'}}, {'uniprotName': {'type': 'literal', 'value': '(5Z,8Z,11Z,14Z)-eicosatetraenoate'}, 'chebi': {'type': 'uri', 'value': 'http://purl.obolibrary.org/obo/CHEBI_32395'}, 'gene': {'type': 'literal', 'value': 'CYP1A1'}, 'uniprot': {'type': 'uri', 'value': 'http://purl.uniprot.org/uniprot/A0A2K5MMW4'}, 'uniprotID': {'type': 'literal', 'value': 'A0A2K5MMW4_CERAT'}, 'recname': {'type': 'literal', 'value': 'Cytochrome P450 1A'}}, {'uniprotName': {'type': 'literal', 'value': '(5Z,8Z,11Z,14Z)-eicosatetraenoate'}, 'chebi': {'type': 'uri', 'value': 'http://purl.obolibrary.org/obo/CHEBI_32395'}, 'gene': {'type': 'literal', 'value': 'CYP1A1'}, 'uniprot': {'type': 'uri', 'value': 'http://purl.uniprot.org/uniprot/A0A2K5PV53'}, 'uniprotID': {'type': 'literal', 'value': 'A0A2K5PV53_CEBIM'}, 'recname': {'type': 'literal', 'value': 'Cytochrome P450 1A'}}, {'uniprotName': {'type': 'literal', 'value': '(5Z,8Z,11Z,14Z)-eicosatetraenoate'}, 'chebi': {'type': 'uri', 'value': 'http://purl.obolibrary.org/obo/CHEBI_32395'}, 'gene': {'type': 'literal', 'value': 'CYP1A1'}, 'uniprot': {'type': 'uri', 'value': 'http://purl.uniprot.org/uniprot/A0A2K5PV71'}, 'uniprotID': {'type': 'literal', 'value': 'A0A2K5PV71_CEBIM'}, 'recname': {'type': 'literal', 'value': 'Cytochrome P450 1A'}}, {'uniprotName': {'type': 'literal', 'value': '(5Z,8Z,11Z,14Z)-eicosatetraenoate'}, 'chebi': {'type': 'uri', 'value': 'http://purl.obolibrary.org/obo/CHEBI_32395'}, 'gene': {'type': 'literal', 'value': 'CYP1A1'}, 'uniprot': {'type': 'uri', 'value': 'http://purl.uniprot.org/uniprot/A0A8I3VYX7'}, 'uniprotID': {'type': 'literal', 'value': 'A0A8I3VYX7_CALJA'}, 'recname': {'type': 'literal', 'value': 'Cytochrome P450 1A'}}, {'uniprotName': {'type': 'literal', 'value': '(5Z,8Z,11Z,14Z)-eicosatetraenoate'}, 'chebi': {'type': 'uri', 'value': 'http://purl.obolibrary.org/obo/CHEBI_32395'}, 'gene': {'type': 'literal', 'value': 'CYP1A1'}, 'uniprot': {'type': 'uri', 'value': 'http://purl.uniprot.org/uniprot/A0A2I3LF45'}, 'uniprotID': {'type': 'literal', 'value': 'A0A2I3LF45_PAPAN'}, 'recname': {'type': 'literal', 'value': 'Cytochrome P450 1A'}}, {'uniprotName': {'type': 'literal', 'value': '(5Z,8Z,11Z,14Z)-eicosatetraenoate'}, 'chebi': {'type': 'uri', 'value': 'http://purl.obolibrary.org/obo/CHEBI_32395'}, 'gene': {'type': 'literal', 'value': 'CYP1A2'}, 'uniprot': {'type': 'uri', 'value': 'http://purl.uniprot.org/uniprot/F7EIM3'}, 'uniprotID': {'type': 'literal', 'value': 'F7EIM3_MACMU'}, 'recname': {'type': 'literal', 'value': 'Cytochrome P450 1A'}}, {'uniprotName': {'type': 'literal', 'value': '(5Z,8Z,11Z,14Z)-eicosatetraenoate'}, 'chebi': {'type': 'uri', 'value': 'http://purl.obolibrary.org/obo/CHEBI_32395'}, 'gene': {'type': 'literal', 'value': 'CYP1A2'}, 'uniprot': {'type': 'uri', 'value': 'http://purl.uniprot.org/uniprot/A0A096NMR5'}, 'uniprotID': {'type': 'literal', 'value': 'A0A096NMR5_PAPAN'}, 'recname': {'type': 'literal', 'value': 'Cytochrome P450 1A'}}, {'uniprotName': {'type': 'literal', 'value': '(5Z,8Z,11Z,14Z)-eicosatetraenoate'}, 'chebi': {'type': 'uri', 'value': 'http://purl.obolibrary.org/obo/CHEBI_32395'}, 'gene': {'type': 'literal', 'value': 'CYP1A1'}, 'uniprot': {'type': 'uri', 'value': 'http://purl.uniprot.org/uniprot/A0A096NMR4'}, 'uniprotID': {'type': 'literal', 'value': 'A0A096NMR4_PAPAN'}, 'recname': {'type': 'literal', 'value': 'Cytochrome P450 1A'}}, {'uniprotName': {'type': 'literal', 'value': '(5Z,8Z,11Z,14Z)-eicosatetraenoate'}, 'chebi': {'type': 'uri', 'value': 'http://purl.obolibrary.org/obo/CHEBI_32395'}, 'gene': {'type': 'literal', 'value': 'CYP1D1'}, 'uniprot': {'type': 'uri', 'value': 'http://purl.uniprot.org/uniprot/G4V3Q9'}, 'uniprotID': {'type': 'literal', 'value': 'G4V3Q9_MACMU'}, 'recname': {'type': 'literal', 'value': 'Cytochrome P450 1A'}}, {'uniprotName': {'type': 'literal', 'value': '(5Z,8Z,11Z,14Z)-eicosatetraenoate'}, 'chebi': {'type': 'uri', 'value': 'http://purl.obolibrary.org/obo/CHEBI_32395'}, 'gene': {'type': 'literal', 'value': 'CYP1D1'}, 'uniprot': {'type': 'uri', 'value': 'http://purl.uniprot.org/uniprot/F7D7J7'}, 'uniprotID': {'type': 'literal', 'value': 'F7D7J7_MACMU'}, 'recname': {'type': 'literal', 'value': 'Cytochrome P450 1A'}}, {'uniprotName': {'type': 'literal', 'value': '(5Z,8Z,11Z,14Z)-eicosatetraenoate'}, 'chebi': {'type': 'uri', 'value': 'http://purl.obolibrary.org/obo/CHEBI_32395'}, 'gene': {'type': 'literal', 'value': 'LOC105854822'}, 'uniprot': {'type': 'uri', 'value': 'http://purl.uniprot.org/uniprot/A0A8B7E9I7'}, 'uniprotID': {'type': 'literal', 'value': 'A0A8B7E9I7_MICMU'}, 'recname': {'type': 'literal', 'value': 'Cytochrome P450 1A'}}, {'uniprotName': {'type': 'literal', 'value': '(5Z,8Z,11Z,14Z)-eicosatetraenoate'}, 'chebi': {'type': 'uri', 'value': 'http://purl.obolibrary.org/obo/CHEBI_32395'}, 'gene': {'type': 'literal', 'value': 'CYP1A1'}, 'uniprot': {'type': 'uri', 'value': 'http://purl.uniprot.org/uniprot/A0A2K6T358'}, 'uniprotID': {'type': 'literal', 'value': 'A0A2K6T358_SAIBB'}, 'recname': {'type': 'literal', 'value': 'Cytochrome P450 1A'}}, {'uniprotName': {'type': 'literal', 'value': '(5Z,8Z,11Z,14Z)-eicosatetraenoate'}, 'chebi': {'type': 'uri', 'value': 'http://purl.obolibrary.org/obo/CHEBI_32395'}, 'gene': {'type': 'literal', 'value': 'CYP1A1'}, 'uniprot': {'type': 'uri', 'value': 'http://purl.uniprot.org/uniprot/A0A8C5UY91'}, 'uniprotID': {'type': 'literal', 'value': 'A0A8C5UY91_MICMU'}, 'recname': {'type': 'literal', 'value': 'Cytochrome P450 1A'}}, {'uniprotName': {'type': 'literal', 'value': '(5Z,8Z,11Z,14Z)-eicosatetraenoate'}, 'chebi': {'type': 'uri', 'value': 'http://purl.obolibrary.org/obo/CHEBI_32395'}, 'gene': {'type': 'literal', 'value': 'CYP1A1'}, 'uniprot': {'type': 'uri', 'value': 'http://purl.uniprot.org/uniprot/A0A2K6Q3U5'}, 'uniprotID': {'type': 'literal', 'value': 'A0A2K6Q3U5_RHIRO'}, 'recname': {'type': 'literal', 'value': 'Cytochrome P450 1A'}}, {'uniprotName': {'type': 'literal', 'value': '(5Z,8Z,11Z,14Z)-eicosatetraenoate'}, 'chebi': {'type': 'uri', 'value': 'http://purl.obolibrary.org/obo/CHEBI_32395'}, 'gene': {'type': 'literal', 'value': 'CYP1A1'}, 'uniprot': {'type': 'uri', 'value': 'http://purl.uniprot.org/uniprot/C5IMY2'}, 'uniprotID': {'type': 'literal', 'value': 'C5IMY2_PAPCY'}, 'recname': {'type': 'literal', 'value': 'Cytochrome P450 1A'}}, {'uniprotName': {'type': 'literal', 'value': '(5Z,8Z,11Z,14Z)-eicosatetraenoate'}, 'chebi': {'type': 'uri', 'value': 'http://purl.obolibrary.org/obo/CHEBI_32395'}, 'gene': {'type': 'literal', 'value': 'CYP1A1'}, 'uniprot': {'type': 'uri', 'value': 'http://purl.uniprot.org/uniprot/C5IMY6'}, 'uniprotID': {'type': 'literal', 'value': 'C5IMY6_PAPCY'}, 'recname': {'type': 'literal', 'value': 'Cytochrome P450 1A'}}, {'uniprotName': {'type': 'literal', 'value': '(5Z,8Z,11Z,14Z)-eicosatetraenoate'}, 'chebi': {'type': 'uri', 'value': 'http://purl.obolibrary.org/obo/CHEBI_32395'}, 'gene': {'type': 'literal', 'value': 'CYP1A2'}, 'uniprot': {'type': 'uri', 'value': 'http://purl.uniprot.org/uniprot/A0A8C5XD37'}, 'uniprotID': {'type': 'literal', 'value': 'A0A8C5XD37_MICMU'}, 'recname': {'type': 'literal', 'value': 'Cytochrome P450 1A'}}, {'uniprotName': {'type': 'literal', 'value': '(5Z,8Z,11Z,14Z)-eicosatetraenoate'}, 'chebi': {'type': 'uri', 'value': 'http://purl.obolibrary.org/obo/CHEBI_32395'}, 'gene': {'type': 'literal', 'value': 'CYP1A2'}, 'uniprot': {'type': 'uri', 'value': 'http://purl.uniprot.org/uniprot/B6EY14'}, 'uniprotID': {'type': 'literal', 'value': 'B6EY14_MACFA'}, 'recname': {'type': 'literal', 'value': 'Cytochrome P450 1A'}}, {'uniprotName': {'type': 'literal', 'value': '(5Z,8Z,11Z,14Z)-eicosatetraenoate'}, 'chebi': {'type': 'uri', 'value': 'http://purl.obolibrary.org/obo/CHEBI_32395'}, 'gene': {'type': 'literal', 'value': 'CYP1A2'}, 'uniprot': {'type': 'uri', 'value': 'http://purl.uniprot.org/uniprot/B6EY27'}, 'uniprotID': {'type': 'literal', 'value': 'B6EY27_MACFA'}, 'recname': {'type': 'literal', 'value': 'Cytochrome P450 1A'}}, {'uniprotName': {'type': 'literal', 'value': '(5Z,8Z,11Z,14Z)-eicosatetraenoate'}, 'chebi': {'type': 'uri', 'value': 'http://purl.obolibrary.org/obo/CHEBI_32395'}, 'gene': {'type': 'literal', 'value': 'CYP1A2'}, 'uniprot': {'type': 'uri', 'value': 'http://purl.uniprot.org/uniprot/B6EY34'}, 'uniprotID': {'type': 'literal', 'value': 'B6EY34_MACFA'}, 'recname': {'type': 'literal', 'value': 'Cytochrome P450 1A'}}, {'uniprotName': {'type': 'literal', 'value': '(5Z,8Z,11Z,14Z)-eicosatetraenoate'}, 'chebi': {'type': 'uri', 'value': 'http://purl.obolibrary.org/obo/CHEBI_32395'}, 'gene': {'type': 'literal', 'value': 'CYP1A1'}, 'uniprot': {'type': 'uri', 'value': 'http://purl.uniprot.org/uniprot/A0A2K5VAK7'}, 'uniprotID': {'type': 'literal', 'value': 'A0A2K5VAK7_MACFA'}, 'recname': {'type': 'literal', 'value': 'Cytochrome P450 1A'}}, {'uniprotName': {'type': 'literal', 'value': '(5Z,8Z,11Z,14Z)-eicosatetraenoate'}, 'chebi': {'type': 'uri', 'value': 'http://purl.obolibrary.org/obo/CHEBI_32395'}, 'gene': {'type': 'literal', 'value': 'CYP1A1'}, 'uniprot': {'type': 'uri', 'value': 'http://purl.uniprot.org/uniprot/A0A2R9B9N4'}, 'uniprotID': {'type': 'literal', 'value': 'A0A2R9B9N4_PANPA'}, 'recname': {'type': 'literal', 'value': 'Cytochrome P450 1A'}}, {'uniprotName': {'type': 'literal', 'value': '(5Z,8Z,11Z,14Z)-eicosatetraenoate'}, 'chebi': {'type': 'uri', 'value': 'http://purl.obolibrary.org/obo/CHEBI_32395'}, 'gene': {'type': 'literal', 'value': 'CYP1D1'}, 'uniprot': {'type': 'uri', 'value': 'http://purl.uniprot.org/uniprot/G4V3Q8'}, 'uniprotID': {'type': 'literal', 'value': 'G4V3Q8_MACFA'}, 'recname': {'type': 'literal', 'value': 'Cytochrome P450 1A'}}, {'uniprotName': {'type': 'literal', 'value': '(5Z,8Z,11Z,14Z)-eicosatetraenoate'}, 'chebi': {'type': 'uri', 'value': 'http://purl.obolibrary.org/obo/CHEBI_32395'}, 'gene': {'type': 'literal', 'value': 'CYP1A2'}, 'uniprot': {'type': 'uri', 'value': 'http://purl.uniprot.org/uniprot/A0A7N9D4P8'}, 'uniprotID': {'type': 'literal', 'value': 'A0A7N9D4P8_MACFA'}, 'recname': {'type': 'literal', 'value': 'Cytochrome P450 1A'}}, {'uniprotName': {'type': 'literal', 'value': '(5Z,8Z,11Z,14Z)-eicosatetraenoate'}, 'chebi': {'type': 'uri', 'value': 'http://purl.obolibrary.org/obo/CHEBI_32395'}, 'gene': {'type': 'literal', 'value': 'CYP1A2'}, 'uniprot': {'type': 'uri', 'value': 'http://purl.uniprot.org/uniprot/B6EY15'}, 'uniprotID': {'type': 'literal', 'value': 'B6EY15_MACFA'}, 'recname': {'type': 'literal', 'value': 'Cytochrome P450 1A'}}, {'uniprotName': {'type': 'literal', 'value': '(5Z,8Z,11Z,14Z)-eicosatetraenoate'}, 'chebi': {'type': 'uri', 'value': 'http://purl.obolibrary.org/obo/CHEBI_32395'}, 'gene': {'type': 'literal', 'value': 'CYP1A2'}, 'uniprot': {'type': 'uri', 'value': 'http://purl.uniprot.org/uniprot/H0XNE6'}, 'uniprotID': {'type': 'literal', 'value': 'H0XNE6_OTOGA'}, 'recname': {'type': 'literal', 'value': 'Cytochrome P450 1A'}}, {'uniprotName': {'type': 'literal', 'value': '(5Z,8Z,11Z,14Z)-eicosatetraenoate'}, 'chebi': {'type': 'uri', 'value': 'http://purl.obolibrary.org/obo/CHEBI_32395'}, 'gene': {'type': 'literal', 'value': 'CYP1A1'}, 'uniprot': {'type': 'uri', 'value': 'http://purl.uniprot.org/uniprot/A0A2R9B9N0'}, 'uniprotID': {'type': 'literal', 'value': 'A0A2R9B9N0_PANPA'}, 'recname': {'type': 'literal', 'value': 'Cytochrome P450 1A'}}, {'uniprotName': {'type': 'literal', 'value': '(5Z,8Z,11Z,14Z)-eicosatetraenoate'}, 'chebi': {'type': 'uri', 'value': 'http://purl.obolibrary.org/obo/CHEBI_32395'}, 'gene': {'type': 'literal', 'value': 'CYP1A2'}, 'uniprot': {'type': 'uri', 'value': 'http://purl.uniprot.org/uniprot/B6EY23'}, 'uniprotID': {'type': 'literal', 'value': 'B6EY23_MACFA'}, 'recname': {'type': 'literal', 'value': 'Cytochrome P450 1A'}}, {'uniprotName': {'type': 'literal', 'value': '(5Z,8Z,11Z,14Z)-eicosatetraenoate'}, 'chebi': {'type': 'uri', 'value': 'http://purl.obolibrary.org/obo/CHEBI_32395'}, 'gene': {'type': 'literal', 'value': 'CYP1A2'}, 'uniprot': {'type': 'uri', 'value': 'http://purl.uniprot.org/uniprot/B6EY18'}, 'uniprotID': {'type': 'literal', 'value': 'B6EY18_MACFA'}, 'recname': {'type': 'literal', 'value': 'Cytochrome P450 1A'}}, {'uniprotName': {'type': 'literal', 'value': '(5Z,8Z,11Z,14Z)-eicosatetraenoate'}, 'chebi': {'type': 'uri', 'value': 'http://purl.obolibrary.org/obo/CHEBI_32395'}, 'gene': {'type': 'literal', 'value': 'CYP1A2'}, 'uniprot': {'type': 'uri', 'value': 'http://purl.uniprot.org/uniprot/B6EY36'}, 'uniprotID': {'type': 'literal', 'value': 'B6EY36_MACFA'}, 'recname': {'type': 'literal', 'value': 'Cytochrome P450 1A'}}, {'uniprotName': {'type': 'literal', 'value': '(5Z,8Z,11Z,14Z)-eicosatetraenoate'}, 'chebi': {'type': 'uri', 'value': 'http://purl.obolibrary.org/obo/CHEBI_32395'}, 'gene': {'type': 'literal', 'value': 'CYP1A1'}, 'uniprot': {'type': 'uri', 'value': 'http://purl.uniprot.org/uniprot/A0A481YJW7'}, 'uniprotID': {'type': 'literal', 'value': 'A0A481YJW7_MACFA'}, 'recname': {'type': 'literal', 'value': 'Cytochrome P450 1A'}}, {'uniprotName': {'type': 'literal', 'value': '(5Z,8Z,11Z,14Z)-eicosatetraenoate'}, 'chebi': {'type': 'uri', 'value': 'http://purl.obolibrary.org/obo/CHEBI_32395'}, 'gene': {'type': 'literal', 'value': 'CYP1A2'}, 'uniprot': {'type': 'uri', 'value': 'http://purl.uniprot.org/uniprot/B6EY30'}, 'uniprotID': {'type': 'literal', 'value': 'B6EY30_MACFA'}, 'recname': {'type': 'literal', 'value': 'Cytochrome P450 1A'}}, {'uniprotName': {'type': 'literal', 'value': '(5Z,8Z,11Z,14Z)-eicosatetraenoate'}, 'chebi': {'type': 'uri', 'value': 'http://purl.obolibrary.org/obo/CHEBI_32395'}, 'gene': {'type': 'literal', 'value': 'CYP1A2'}, 'uniprot': {'type': 'uri', 'value': 'http://purl.uniprot.org/uniprot/A0A2K5U801'}, 'uniprotID': {'type': 'literal', 'value': 'A0A2K5U801_MACFA'}, 'recname': {'type': 'literal', 'value': 'Cytochrome P450 1A'}}, {'uniprotName': {'type': 'literal', 'value': '(5Z,8Z,11Z,14Z)-eicosatetraenoate'}, 'chebi': {'type': 'uri', 'value': 'http://purl.obolibrary.org/obo/CHEBI_32395'}, 'gene': {'type': 'literal', 'value': 'CYP1A2'}, 'uniprot': {'type': 'uri', 'value': 'http://purl.uniprot.org/uniprot/B6EY24'}, 'uniprotID': {'type': 'literal', 'value': 'B6EY24_MACFA'}, 'recname': {'type': 'literal', 'value': 'Cytochrome P450 1A'}}, {'uniprotName': {'type': 'literal', 'value': '(5Z,8Z,11Z,14Z)-eicosatetraenoate'}, 'chebi': {'type': 'uri', 'value': 'http://purl.obolibrary.org/obo/CHEBI_32395'}, 'gene': {'type': 'literal', 'value': 'CYP1A2'}, 'uniprot': {'type': 'uri', 'value': 'http://purl.uniprot.org/uniprot/A0A481YIE0'}, 'uniprotID': {'type': 'literal', 'value': 'A0A481YIE0_MACFA'}, 'recname': {'type': 'literal', 'value': 'Cytochrome P450 1A'}}, {'uniprotName': {'type': 'literal', 'value': '(5Z,8Z,11Z,14Z)-eicosatetraenoate'}, 'chebi': {'type': 'uri', 'value': 'http://purl.obolibrary.org/obo/CHEBI_32395'}, 'gene': {'type': 'literal', 'value': 'CYP1D1'}, 'uniprot': {'type': 'uri', 'value': 'http://purl.uniprot.org/uniprot/A0A2K5VMH7'}, 'uniprotID': {'type': 'literal', 'value': 'A0A2K5VMH7_MACFA'}, 'recname': {'type': 'literal', 'value': 'Cytochrome P450 1A'}}, {'uniprotName': {'type': 'literal', 'value': '(5Z,8Z,11Z,14Z)-eicosatetraenoate'}, 'chebi': {'type': 'uri', 'value': 'http://purl.obolibrary.org/obo/CHEBI_32395'}, 'gene': {'type': 'literal', 'value': 'CYP1A1'}, 'uniprot': {'type': 'uri', 'value': 'http://purl.uniprot.org/uniprot/A0A2K5MN94'}, 'uniprotID': {'type': 'literal', 'value': 'A0A2K5MN94_CERAT'}, 'recname': {'type': 'literal', 'value': 'Cytochrome P450 1A'}}, {'uniprotName': {'type': 'literal', 'value': '(5Z,8Z,11Z,14Z)-eicosatetraenoate'}, 'chebi': {'type': 'uri', 'value': 'http://purl.obolibrary.org/obo/CHEBI_32395'}, 'gene': {'type': 'literal', 'value': 'CYP1A2'}, 'uniprot': {'type': 'uri', 'value': 'http://purl.uniprot.org/uniprot/B6EY19'}, 'uniprotID': {'type': 'literal', 'value': 'B6EY19_MACFA'}, 'recname': {'type': 'literal', 'value': 'Cytochrome P450 1A'}}, {'uniprotName': {'type': 'literal', 'value': '(5Z,8Z,11Z,14Z)-eicosatetraenoate'}, 'chebi': {'type': 'uri', 'value': 'http://purl.obolibrary.org/obo/CHEBI_32395'}, 'gene': {'type': 'literal', 'value': 'CYP1A2'}, 'uniprot': {'type': 'uri', 'value': 'http://purl.uniprot.org/uniprot/B6EY25'}, 'uniprotID': {'type': 'literal', 'value': 'B6EY25_MACFA'}, 'recname': {'type': 'literal', 'value': 'Cytochrome P450 1A'}}, {'uniprotName': {'type': 'literal', 'value': '(5Z,8Z,11Z,14Z)-eicosatetraenoate'}, 'chebi': {'type': 'uri', 'value': 'http://purl.obolibrary.org/obo/CHEBI_32395'}, 'gene': {'type': 'literal', 'value': 'CYP1A1'}, 'uniprot': {'type': 'uri', 'value': 'http://purl.uniprot.org/uniprot/G7P943'}, 'uniprotID': {'type': 'literal', 'value': 'G7P943_MACFA'}, 'recname': {'type': 'literal', 'value': 'Cytochrome P450 1A'}}, {'uniprotName': {'type': 'literal', 'value': '(5Z,8Z,11Z,14Z)-eicosatetraenoate'}, 'chebi': {'type': 'uri', 'value': 'http://purl.obolibrary.org/obo/CHEBI_32395'}, 'gene': {'type': 'literal', 'value': 'CYP1D1'}, 'uniprot': {'type': 'uri', 'value': 'http://purl.uniprot.org/uniprot/H0XKZ2'}, 'uniprotID': {'type': 'literal', 'value': 'H0XKZ2_OTOGA'}, 'recname': {'type': 'literal', 'value': 'Cytochrome P450 1A'}}, {'uniprotName': {'type': 'literal', 'value': '(5Z,8Z,11Z,14Z)-eicosatetraenoate'}, 'chebi': {'type': 'uri', 'value': 'http://purl.obolibrary.org/obo/CHEBI_32395'}, 'gene': {'type': 'literal', 'value': 'CYP1A2'}, 'uniprot': {'type': 'uri', 'value': 'http://purl.uniprot.org/uniprot/A0A2R8ZXU3'}, 'uniprotID': {'type': 'literal', 'value': 'A0A2R8ZXU3_PANPA'}, 'recname': {'type': 'literal', 'value': 'Cytochrome P450 1A'}}, {'uniprotName': {'type': 'literal', 'value': '(5Z,8Z,11Z,14Z)-eicosatetraenoate'}, 'chebi': {'type': 'uri', 'value': 'http://purl.obolibrary.org/obo/CHEBI_32395'}, 'gene': {'type': 'literal', 'value': 'CYP1A1'}, 'uniprot': {'type': 'uri', 'value': 'http://purl.uniprot.org/uniprot/H0XB84'}, 'uniprotID': {'type': 'literal', 'value': 'H0XB84_OTOGA'}, 'recname': {'type': 'literal', 'value': 'Cytochrome P450 1A'}}, {'uniprotName': {'type': 'literal', 'value': '(5Z,8Z,11Z,14Z)-eicosatetraenoate'}, 'chebi': {'type': 'uri', 'value': 'http://purl.obolibrary.org/obo/CHEBI_32395'}, 'gene': {'type': 'literal', 'value': 'CYP1A1'}, 'uniprot': {'type': 'uri', 'value': 'http://purl.uniprot.org/uniprot/A0A0D9RP42'}, 'uniprotID': {'type': 'literal', 'value': 'A0A0D9RP42_CHLSB'}, 'recname': {'type': 'literal', 'value': 'Cytochrome P450 1A'}}, {'uniprotName': {'type': 'literal', 'value': '(5Z,8Z,11Z,14Z)-eicosatetraenoate'}, 'chebi': {'type': 'uri', 'value': 'http://purl.obolibrary.org/obo/CHEBI_32395'}, 'gene': {'type': 'literal', 'value': 'CYP1A2'}, 'uniprot': {'type': 'uri', 'value': 'http://purl.uniprot.org/uniprot/B6EY29'}, 'uniprotID': {'type': 'literal', 'value': 'B6EY29_MACFA'}, 'recname': {'type': 'literal', 'value': 'Cytochrome P450 1A'}}]}}\n"
     ]
    }
   ],
   "source": [
    "result_2 = query_sparql(ground_truth_query, ground_truth_endpoint)\n",
    "print(result_2)"
   ]
  },
  {
   "cell_type": "code",
   "execution_count": 3,
   "metadata": {},
   "outputs": [],
   "source": [
    "ground_truth_query = \"\"\"PREFIX rh: <http://rdf.rhea-db.org/>\n",
    "PREFIX taxon: <http://purl.uniprot.org/taxonomy/>\n",
    "PREFIX up: <http://purl.uniprot.org/core/>\n",
    "\n",
    "# Query 13\n",
    "# Select all Rhea reactions used to annotate Escherichia coli (taxid=83333) in UniProtKB/Swiss-Prot\n",
    "# return the number of UniProtKB entries\n",
    "# \n",
    "# Federated query using a service to UniProt SPARQL endpoint\n",
    "#\n",
    "# This query cannot be performed using the Rhea search website\n",
    "SELECT ?uniprot ?mnemo ?rhea ?accession ?equation \n",
    "WHERE {\n",
    "  SERVICE <https://sparql.uniprot.org/sparql> { \n",
    "    VALUES (?taxid) { (taxon:83333) }\n",
    "    GRAPH <http://sparql.uniprot.org/uniprot> {\n",
    "      ?uniprot up:reviewed true . \n",
    "      ?uniprot up:mnemonic ?mnemo . \n",
    "      ?uniprot up:organism ?taxid .\n",
    "      ?uniprot up:annotation/up:catalyticActivity/up:catalyzedReaction ?rhea . \n",
    "    }\n",
    "  }\n",
    "  ?rhea rh:accession ?accession .\n",
    "  ?rhea rh:equation ?equation .\n",
    "}\"\"\"\n",
    "ground_truth_endpoint = \"https://sparql.rhea-db.org/sparql\""
   ]
  },
  {
   "cell_type": "code",
   "execution_count": 15,
   "metadata": {},
   "outputs": [
    {
     "name": "stdout",
     "output_type": "stream",
     "text": [
      "Client error '400 ' for url 'https://sparql.rhea-db.org/sparql?query=PREFIX+rh%3A+%3Chttp%3A%2F%2Frdf.rhea-db.org%2F%3E%0APREFIX+taxon%3A+%3Chttp%3A%2F%2Fpurl.uniprot.org%2Ftaxonomy%2F%3E%0APREFIX+up%3A+%3Chttp%3A%2F%2Fpurl.uniprot.org%2Fcore%2F%3E%0A%0A%23+Query+13%0A%23+Select+all+Rhea+reactions+used+to+annotate+Escherichia+coli+%28taxid%3D83333%29+in+UniProtKB%2FSwiss-Prot%0A%23+return+the+number+of+UniProtKB+entries%0A%23+%0A%23+Federated+query+using+a+service+to+UniProt+SPARQL+endpoint%0A%23%0A%23+This+query+cannot+be+performed+using+the+Rhea+search+website%0ASELECT+%3Funiprot+%3Fmnemo+%3Frhea+%3Faccession+%3Fequation+%0AWHERE+%7B%0A++SERVICE+%3Chttps%3A%2F%2Fsparql.uniprot.org%2Fsparql%3E+%7B+%0A++++VALUES+%28%3Ftaxid%29+%7B+%28taxon%3A83333%29+%7D%0A++++GRAPH+%3Chttp%3A%2F%2Fsparql.uniprot.org%2Funiprot%3E+%7B%0A++++++%3Funiprot+up%3Areviewed+true+.+%0A++++++%3Funiprot+up%3Amnemonic+%3Fmnemo+.+%0A++++++%3Funiprot+up%3Aorganism+%3Ftaxid+.%0A++++++%3Funiprot+up%3Aannotation%2Fup%3AcatalyticActivity%2Fup%3AcatalyzedReaction+%3Frhea+.+%0A++++%7D%0A++%7D%0A++%3Frhea+rh%3Aaccession+%3Faccession+.%0A++%3Frhea+rh%3Aequation+%3Fequation+.%0A%7D'\n",
      "For more information check: https://developer.mozilla.org/en-US/docs/Web/HTTP/Status/400\n"
     ]
    }
   ],
   "source": [
    "result = query_sparql(ground_truth_query, ground_truth_endpoint)\n",
    "print(result)"
   ]
  },
  {
   "cell_type": "code",
   "execution_count": 16,
   "metadata": {},
   "outputs": [
    {
     "name": "stdout",
     "output_type": "stream",
     "text": [
      "QueryBadFormed: A bad request has been sent to the endpoint: probably the SPARQL query is badly formed. \n",
      "\n",
      "Response:\n",
      "b'<!DOCTYPE html SYSTEM \"about:legacy-compat\">\\n<html xmlns=\"http://www.w3.org/1999/xhtml\" lang=\"en\" xml:lang=\"en\"><head><title>Rhea</title><meta content=\"text/html; charset=UTF-8\" http-equiv=\"Content-Type\"/><link href=\"/\" rel=\"home\"/><link href=\"/base.css\" type=\"text/css\" rel=\"stylesheet\"/><link type=\"image/vnd.microsoft.icon\" href=\"https://www.rhea-db.org//favicon.ico\" rel=\"shortcut icon\"/><link href=\"/rhea-sparql.css\" type=\"text/css\" rel=\"stylesheet\"/><link href=\"https://creativecommons.org/licenses/by/4.0/\" rel=\"license\"/><script src=\"https://cdn.jsdelivr.net/npm/yasgui-yasqe@2.11.22/dist/yasqe.bundled.min.js\"></script><link type=\"text/css\" rel=\"stylesheet\" href=\"https://cdn.jsdelivr.net/yasqe/2.2/yasqe.min.css\"/><meta content=\"width=device-width, initial-scale=1\" name=\"viewport\"/><meta content=\"no-referrer\" name=\"referrer\"/></head><body typeof=\"schema:WebPage\"><header class=\"row-container\"><div class=\"logos row-container\"><a href=\"https://www.sib.swiss\" class=\"sib_logo\"><img src=\"https://www.rhea-db.org//style/images/sib_logo_short.png\" style=\"height: 50px\" alt=\"SIB logo\"/></a><a href=\"https://www.rhea-db.org\" class=\"rhea_logo\"><img src=\"https://www.rhea-db.org//style/images/rhea_logo.png\" style=\"height: 50px\" alt=\"Rhea logo\"/></a></div><nav class=\"row-container\" id=\"menu\"><a href=\"/\" itemprop=\"url\"><svg xmlns=\"http://www.w3.org/2000/svg\" width=\"24\" viewBox=\"0 0 24 24\" height=\"24\"><path fill=\"none\" d=\"M0 0h24v24H0z\"/><path d=\"M3.9 12c0-1.71 1.39-3.1 3.1-3.1h4V7H7c-2.76 0-5 2.24-5 5s2.24 5 5 5h4v-1.9H7c-1.71 0-3.1-1.39-3.1-3.1zM8 13h8v-2H8v2zm9-6h-4v1.9h4c1.71 0 3.1 1.39 3.1 3.1s-1.39 3.1-3.1 3.1h-4V17h4c2.76 0 5-2.24 5-5s-2.24-5-5-5z\"/></svg><span itemprop=\"name\">SPARQL</span></a><a href=\"https://www.rhea-db.org//help/download\" itemprop=\"url\"><svg xmlns=\"http://www.w3.org/2000/svg\" width=\"24\" viewBox=\"0 0 24 24\" height=\"24\"><path fill=\"none\" d=\"M0 0h24v24H0z\"/><path d=\"M19.35 10.04C18.67 6.59 15.64 4 12 4 9.11 4 6.6 5.64 5.35 8.04 2.34 8.36 0 10.91 0 14c0 3.31 2.69 6 6 6h13c2.76 0 5-2.24 5-5 0-2.64-2.05-4.78-4.65-4.96zM17 13l-5 5-5-5h3V9h4v4h3z\"/></svg><span itemprop=\"name\">Download</span></a><a href=\"https://www.rhea-db.org//help\" itemprop=\"url\"><svg xmlns=\"http://www.w3.org/2000/svg\" width=\"24\" viewBox=\"0 0 24 24\" height=\"24\"><path fill=\"none\" d=\"M0 0h24v24H0V0z\"/><path d=\"M19.07 4.93l-1.41 1.41C19.1 7.79 20 9.79 20 12c0 4.42-3.58 8-8 8s-8-3.58-8-8c0-4.08 3.05-7.44 7-7.93v2.02C8.16 6.57 6 9.03 6 12c0 3.31 2.69 6 6 6s6-2.69 6-6c0-1.66-.67-3.16-1.76-4.24l-1.41 1.41C15.55 9.9 16 10.9 16 12c0 2.21-1.79 4-4 4s-4-1.79-4-4c0-1.86 1.28-3.41 3-3.86v2.14c-.6.35-1 .98-1 1.72 0 1.1.9 2 2 2s2-.9 2-2c0-.74-.4-1.38-1-1.72V2h-1C6.48 2 2 6.48 2 12s4.48 10 10 10 10-4.48 10-10c0-2.76-1.12-5.26-2.93-7.07z\"/></svg><span itemprop=\"name\">Help</span></a><a href=\"https://www.rhea-db.org//feedback\" itemprop=\"url\"><svg xmlns=\"http://www.w3.org/2000/svg\" width=\"24\" viewBox=\"0 0 24 24\" height=\"24\"><path fill=\"none\" d=\"M0 0h24v24H0z\"/><path d=\"M20 4H4c-1.1 0-1.99.9-1.99 2L2 18c0 1.1.9 2 2 2h16c1.1 0 2-.9 2-2V6c0-1.1-.9-2-2-2zm0 4l-8 5-8-5V6l8 5 8-5v2z\"/></svg><span itemprop=\"name\">Feedback</span></a></nav></header><a accesskey=\"2\" href=\"#content\" hidden=\"hidden\">Skip Header</a><main class=\"sparql results\" id=\"content\"><section class=\"error\" id=\"page-header\"><h2 class=\"page-title\">Query evaluation exception.</h2><p>org.eclipse.rdf4j.query.QueryEvaluationException: &lt;!DOCTYPE html SYSTEM &quot;about:legacy-compat&quot;&gt;\\n&lt;html xmlns=&quot;http://www.w3.org/1999/xhtml&quot; lang=&quot;en&quot; xml:lang=&quot;en&quot;&gt;&lt;head&gt;&lt;title&gt;UniProt&lt;/title&gt;&lt;meta content=&quot;text/html; charset=UTF-8&quot; http-equiv=&quot;Content-Type&quot;/&gt;&lt;link href=&quot;/&quot; rel=&quot;home&quot;/&gt;&lt;link href=&quot;/base.css&quot; type=&quot;text/css&quot; rel=&quot;stylesheet&quot;/&gt;&lt;link type=&quot;image/vnd.microsoft.icon&quot; href=&quot;/uniprot-favicon.ico&quot; rel=&quot;shortcut icon&quot;/&gt;&lt;link href=&quot;/uniprot-sparql.css&quot; type=&quot;text/css&quot; rel=&quot;stylesheet&quot;/&gt;&lt;link href=&quot;http://creativecommons.org/licenses/by/4.0/&quot; rel=&quot;license&quot;/&gt;&lt;script src=&quot;https://cdn.jsdelivr.net/npm/yasgui-yasqe@2.11.22/dist/yasqe.bundled.min.js&quot;&gt;&lt;/script&gt;&lt;link type=&quot;text/css&quot; rel=&quot;stylesheet&quot; href=&quot;https://cdn.jsdelivr.net/yasqe/2.2/yasqe.min.css&quot;/&gt;&lt;meta content=&quot;width=device-width, initial-scale=1&quot; name=&quot;viewport&quot;/&gt;&lt;meta content=&quot;no-referrer&quot; name=&quot;referrer&quot;/&gt;&lt;/head&gt;&lt;body typeof=&quot;schema:WebPage&quot;&gt;&lt;nav id=&quot;nav-header&quot;&gt;&lt;a accesskey=&quot;1&quot; href=&quot;https://www.uniprot.org/&quot; id=&quot;www&quot;&gt;&lt;img alt=&quot;&quot; src=&quot;data:image/svg+xml;base64,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'\n"
     ]
    }
   ],
   "source": [
    "result = query_sparql_wrapper(ground_truth_query, ground_truth_endpoint)\n",
    "print(result)"
   ]
  },
  {
   "cell_type": "code",
   "execution_count": 1,
   "metadata": {},
   "outputs": [],
   "source": [
    "ground_truth_query = \"\"\"PREFIX CHEBI: <http://purl.obolibrary.org/obo/CHEBI_>\n",
    "PREFIX rh: <http://rdf.rhea-db.org/>\n",
    "PREFIX skos: <http://www.w3.org/2004/02/skos/core#>\n",
    "PREFIX up: <http://purl.uniprot.org/core/>\n",
    "\n",
    "\n",
    "SELECT \n",
    "    DISTINCT\n",
    "        ?uniprot\n",
    "        ?uniprotID\n",
    "        ?recname\n",
    "        ?gene\n",
    "        ?chebi\n",
    "        ?uniprotName\n",
    "WHERE {\n",
    "  SERVICE <https://sparql.rhea-db.org/sparql> {\n",
    "     VALUES (?chebi) { (CHEBI:32395) }\n",
    "     ?rhea rh:side/rh:contains/rh:compound ?compound .\n",
    "     ?compound rh:chebi ?chebi .\n",
    "     ?chebi up:name ?uniprotName .\n",
    "  }\n",
    "  ?uniprot up:annotation/up:catalyticActivity/up:catalyzedReaction ?rhea .\n",
    "  ?uniprot up:mnemonic ?uniprotID .\n",
    "  ?uniprot up:recommendedName/up:fullName ?recname .\n",
    "  OPTIONAL {?uniprot up:encodedBy/skos:prefLabel ?gene .}\n",
    "}\n",
    "LIMIT 100\n",
    "\"\"\"\n",
    "\n",
    "ground_truth_endpoint = \"https://sparql.uniprot.org/sparql/\""
   ]
  },
  {
   "cell_type": "code",
   "execution_count": 2,
   "metadata": {},
   "outputs": [
    {
     "name": "stdout",
     "output_type": "stream",
     "text": [
      "  Using cached result for query\n",
      "Querying ground truth endpoint...\n"
     ]
    }
   ],
   "source": [
    "import os\n",
    "import sys \n",
    "\n",
    "\n",
    "sys.path.append('/Users/sebastian/Documents/Bachelor Thesis/sparql-rag-agent/sparql-rag-agent')\n",
    "\n",
    "\n",
    "from experiments.utilities.result_metric import calculate_column_metrics_with_label_similarity, format_query_result_dataframe\n",
    "\n",
    "\n",
    "\n",
    "\n",
    "df_ground_truth, df_predicted = format_query_result_dataframe(ground_truth_query, ground_truth_endpoint, ground_truth_query, ground_truth_endpoint)\n",
    "\n"
   ]
  },
  {
   "cell_type": "code",
   "execution_count": 3,
   "metadata": {},
   "outputs": [
    {
     "data": {
      "text/html": [
       "<div>\n",
       "<style scoped>\n",
       "    .dataframe tbody tr th:only-of-type {\n",
       "        vertical-align: middle;\n",
       "    }\n",
       "\n",
       "    .dataframe tbody tr th {\n",
       "        vertical-align: top;\n",
       "    }\n",
       "\n",
       "    .dataframe thead th {\n",
       "        text-align: right;\n",
       "    }\n",
       "</style>\n",
       "<table border=\"1\" class=\"dataframe\">\n",
       "  <thead>\n",
       "    <tr style=\"text-align: right;\">\n",
       "      <th></th>\n",
       "      <th>uniprot</th>\n",
       "      <th>uniprotID</th>\n",
       "      <th>recname</th>\n",
       "      <th>gene</th>\n",
       "      <th>chebi</th>\n",
       "      <th>uniprotName</th>\n",
       "    </tr>\n",
       "  </thead>\n",
       "  <tbody>\n",
       "    <tr>\n",
       "      <th>0</th>\n",
       "      <td>http://purl.uniprot.org/uniprot/O77809</td>\n",
       "      <td>CP1A2_MACFA</td>\n",
       "      <td>Cytochrome P450 1A2</td>\n",
       "      <td>CYP1A2</td>\n",
       "      <td>http://purl.obolibrary.org/obo/CHEBI_32395</td>\n",
       "      <td>(5Z,8Z,11Z,14Z)-eicosatetraenoate</td>\n",
       "    </tr>\n",
       "    <tr>\n",
       "      <th>1</th>\n",
       "      <td>http://purl.uniprot.org/uniprot/O77810</td>\n",
       "      <td>CP1A2_CALJA</td>\n",
       "      <td>Cytochrome P450 1A2</td>\n",
       "      <td>CYP1A2</td>\n",
       "      <td>http://purl.obolibrary.org/obo/CHEBI_32395</td>\n",
       "      <td>(5Z,8Z,11Z,14Z)-eicosatetraenoate</td>\n",
       "    </tr>\n",
       "    <tr>\n",
       "      <th>2</th>\n",
       "      <td>http://purl.uniprot.org/uniprot/P00184</td>\n",
       "      <td>CP1A1_MOUSE</td>\n",
       "      <td>Cytochrome P450 1A1</td>\n",
       "      <td>Cyp1a1</td>\n",
       "      <td>http://purl.obolibrary.org/obo/CHEBI_32395</td>\n",
       "      <td>(5Z,8Z,11Z,14Z)-eicosatetraenoate</td>\n",
       "    </tr>\n",
       "    <tr>\n",
       "      <th>3</th>\n",
       "      <td>http://purl.uniprot.org/uniprot/P00186</td>\n",
       "      <td>CP1A2_MOUSE</td>\n",
       "      <td>Cytochrome P450 1A2</td>\n",
       "      <td>Cyp1a2</td>\n",
       "      <td>http://purl.obolibrary.org/obo/CHEBI_32395</td>\n",
       "      <td>(5Z,8Z,11Z,14Z)-eicosatetraenoate</td>\n",
       "    </tr>\n",
       "    <tr>\n",
       "      <th>4</th>\n",
       "      <td>http://purl.uniprot.org/uniprot/P00187</td>\n",
       "      <td>CP1A2_RABIT</td>\n",
       "      <td>Cytochrome P450 1A2</td>\n",
       "      <td>CYP1A2</td>\n",
       "      <td>http://purl.obolibrary.org/obo/CHEBI_32395</td>\n",
       "      <td>(5Z,8Z,11Z,14Z)-eicosatetraenoate</td>\n",
       "    </tr>\n",
       "  </tbody>\n",
       "</table>\n",
       "</div>"
      ],
      "text/plain": [
       "                                  uniprot    uniprotID              recname  \\\n",
       "0  http://purl.uniprot.org/uniprot/O77809  CP1A2_MACFA  Cytochrome P450 1A2   \n",
       "1  http://purl.uniprot.org/uniprot/O77810  CP1A2_CALJA  Cytochrome P450 1A2   \n",
       "2  http://purl.uniprot.org/uniprot/P00184  CP1A1_MOUSE  Cytochrome P450 1A1   \n",
       "3  http://purl.uniprot.org/uniprot/P00186  CP1A2_MOUSE  Cytochrome P450 1A2   \n",
       "4  http://purl.uniprot.org/uniprot/P00187  CP1A2_RABIT  Cytochrome P450 1A2   \n",
       "\n",
       "     gene                                       chebi  \\\n",
       "0  CYP1A2  http://purl.obolibrary.org/obo/CHEBI_32395   \n",
       "1  CYP1A2  http://purl.obolibrary.org/obo/CHEBI_32395   \n",
       "2  Cyp1a1  http://purl.obolibrary.org/obo/CHEBI_32395   \n",
       "3  Cyp1a2  http://purl.obolibrary.org/obo/CHEBI_32395   \n",
       "4  CYP1A2  http://purl.obolibrary.org/obo/CHEBI_32395   \n",
       "\n",
       "                         uniprotName  \n",
       "0  (5Z,8Z,11Z,14Z)-eicosatetraenoate  \n",
       "1  (5Z,8Z,11Z,14Z)-eicosatetraenoate  \n",
       "2  (5Z,8Z,11Z,14Z)-eicosatetraenoate  \n",
       "3  (5Z,8Z,11Z,14Z)-eicosatetraenoate  \n",
       "4  (5Z,8Z,11Z,14Z)-eicosatetraenoate  "
      ]
     },
     "execution_count": 3,
     "metadata": {},
     "output_type": "execute_result"
    }
   ],
   "source": [
    "df_ground_truth.head()"
   ]
  },
  {
   "cell_type": "code",
   "execution_count": 4,
   "metadata": {},
   "outputs": [
    {
     "data": {
      "text/html": [
       "<div>\n",
       "<style scoped>\n",
       "    .dataframe tbody tr th:only-of-type {\n",
       "        vertical-align: middle;\n",
       "    }\n",
       "\n",
       "    .dataframe tbody tr th {\n",
       "        vertical-align: top;\n",
       "    }\n",
       "\n",
       "    .dataframe thead th {\n",
       "        text-align: right;\n",
       "    }\n",
       "</style>\n",
       "<table border=\"1\" class=\"dataframe\">\n",
       "  <thead>\n",
       "    <tr style=\"text-align: right;\">\n",
       "      <th></th>\n",
       "      <th>uniprot</th>\n",
       "      <th>uniprotID</th>\n",
       "      <th>recname</th>\n",
       "      <th>gene</th>\n",
       "      <th>chebi</th>\n",
       "      <th>uniprotName</th>\n",
       "    </tr>\n",
       "  </thead>\n",
       "  <tbody>\n",
       "    <tr>\n",
       "      <th>0</th>\n",
       "      <td>http://purl.uniprot.org/uniprot/O77809</td>\n",
       "      <td>CP1A2_MACFA</td>\n",
       "      <td>Cytochrome P450 1A2</td>\n",
       "      <td>CYP1A2</td>\n",
       "      <td>http://purl.obolibrary.org/obo/CHEBI_32395</td>\n",
       "      <td>(5Z,8Z,11Z,14Z)-eicosatetraenoate</td>\n",
       "    </tr>\n",
       "    <tr>\n",
       "      <th>1</th>\n",
       "      <td>http://purl.uniprot.org/uniprot/O77810</td>\n",
       "      <td>CP1A2_CALJA</td>\n",
       "      <td>Cytochrome P450 1A2</td>\n",
       "      <td>CYP1A2</td>\n",
       "      <td>http://purl.obolibrary.org/obo/CHEBI_32395</td>\n",
       "      <td>(5Z,8Z,11Z,14Z)-eicosatetraenoate</td>\n",
       "    </tr>\n",
       "    <tr>\n",
       "      <th>2</th>\n",
       "      <td>http://purl.uniprot.org/uniprot/P00184</td>\n",
       "      <td>CP1A1_MOUSE</td>\n",
       "      <td>Cytochrome P450 1A1</td>\n",
       "      <td>Cyp1a1</td>\n",
       "      <td>http://purl.obolibrary.org/obo/CHEBI_32395</td>\n",
       "      <td>(5Z,8Z,11Z,14Z)-eicosatetraenoate</td>\n",
       "    </tr>\n",
       "    <tr>\n",
       "      <th>3</th>\n",
       "      <td>http://purl.uniprot.org/uniprot/P00186</td>\n",
       "      <td>CP1A2_MOUSE</td>\n",
       "      <td>Cytochrome P450 1A2</td>\n",
       "      <td>Cyp1a2</td>\n",
       "      <td>http://purl.obolibrary.org/obo/CHEBI_32395</td>\n",
       "      <td>(5Z,8Z,11Z,14Z)-eicosatetraenoate</td>\n",
       "    </tr>\n",
       "    <tr>\n",
       "      <th>4</th>\n",
       "      <td>http://purl.uniprot.org/uniprot/P00187</td>\n",
       "      <td>CP1A2_RABIT</td>\n",
       "      <td>Cytochrome P450 1A2</td>\n",
       "      <td>CYP1A2</td>\n",
       "      <td>http://purl.obolibrary.org/obo/CHEBI_32395</td>\n",
       "      <td>(5Z,8Z,11Z,14Z)-eicosatetraenoate</td>\n",
       "    </tr>\n",
       "  </tbody>\n",
       "</table>\n",
       "</div>"
      ],
      "text/plain": [
       "                                  uniprot    uniprotID              recname  \\\n",
       "0  http://purl.uniprot.org/uniprot/O77809  CP1A2_MACFA  Cytochrome P450 1A2   \n",
       "1  http://purl.uniprot.org/uniprot/O77810  CP1A2_CALJA  Cytochrome P450 1A2   \n",
       "2  http://purl.uniprot.org/uniprot/P00184  CP1A1_MOUSE  Cytochrome P450 1A1   \n",
       "3  http://purl.uniprot.org/uniprot/P00186  CP1A2_MOUSE  Cytochrome P450 1A2   \n",
       "4  http://purl.uniprot.org/uniprot/P00187  CP1A2_RABIT  Cytochrome P450 1A2   \n",
       "\n",
       "     gene                                       chebi  \\\n",
       "0  CYP1A2  http://purl.obolibrary.org/obo/CHEBI_32395   \n",
       "1  CYP1A2  http://purl.obolibrary.org/obo/CHEBI_32395   \n",
       "2  Cyp1a1  http://purl.obolibrary.org/obo/CHEBI_32395   \n",
       "3  Cyp1a2  http://purl.obolibrary.org/obo/CHEBI_32395   \n",
       "4  CYP1A2  http://purl.obolibrary.org/obo/CHEBI_32395   \n",
       "\n",
       "                         uniprotName  \n",
       "0  (5Z,8Z,11Z,14Z)-eicosatetraenoate  \n",
       "1  (5Z,8Z,11Z,14Z)-eicosatetraenoate  \n",
       "2  (5Z,8Z,11Z,14Z)-eicosatetraenoate  \n",
       "3  (5Z,8Z,11Z,14Z)-eicosatetraenoate  \n",
       "4  (5Z,8Z,11Z,14Z)-eicosatetraenoate  "
      ]
     },
     "execution_count": 4,
     "metadata": {},
     "output_type": "execute_result"
    }
   ],
   "source": [
    "df_predicted.head()"
   ]
  },
  {
   "cell_type": "code",
   "execution_count": 5,
   "metadata": {},
   "outputs": [],
   "source": [
    "# Keeps as DataFrame (with column name and structure)\n",
    "df_predicted = df_predicted[[\"uniprotID\"]]\n",
    "df_ground_truth = df_ground_truth[[\"uniprotID\"]]"
   ]
  },
  {
   "cell_type": "code",
   "execution_count": 6,
   "metadata": {},
   "outputs": [
    {
     "name": "stdout",
     "output_type": "stream",
     "text": [
      "10\n",
      "100\n"
     ]
    }
   ],
   "source": [
    "df_predicted = df_predicted[:10]\n",
    "print(len(df_predicted))\n",
    "print(len(df_ground_truth))"
   ]
  },
  {
   "cell_type": "code",
   "execution_count": 7,
   "metadata": {},
   "outputs": [
    {
     "name": "stdout",
     "output_type": "stream",
     "text": [
      "uniprotID -> iprotID (similarity: 0.8259257078170776)\n",
      "100\n",
      "10\n",
      "{('CP2D6_PANPA',), ('A0A8I3VYX7_CALJA',), ('C5IMY1_PAPCY',), ('B6EY23_MACFA',), ('A0A0D9RP42_CHLSB',), ('CP1B1_RAT',), ('A0A8C5XD37_MICMU',), ('B6EY24_MACFA',), ('H0XKZ2_OTOGA',), ('CP1A2_FELCA',), ('CP2D6_PANTR',), ('A0A2K6T358_SAIBB',), ('CP1A1_MESAU',), ('LX15B_HUMAN',), ('CP1A2_MACFU',), ('CP1A2_HUMAN',), ('A0A7N9D4P8_MACFA',), ('B6EY14_MACFA',), ('CP240_MOUSE',), ('A0A2R8ZXU3_PANPA',), ('B6EY34_MACFA',), ('CP1A2_CAVPO',), ('B6EY19_MACFA',), ('CP1A1_RABIT',), ('A0A2K5PV53_CEBIM',), ('CP4Z1_HUMAN',), ('A0A2K5VAK7_MACFA',), ('CP1A2_RAT',), ('CP1A1_CAVPO',), ('B6EY36_MACFA',), ('A0A2K6Q3V3_RHIRO',), ('CP1A2_MOUSE',), ('CP2CN_RAT',), ('CP1A2_CALJA',), ('A0A2R9B9N0_PANPA',), ('CP1A1_FELCA',), ('CP1A2_CANLF',), ('A4F3V8_HUMAN',), ('A0A8C5UY91_MICMU',), ('A0A2K5MMW4_CERAT',), ('A0A2I3LF45_PAPAN',), ('G7P943_MACFA',), ('B6EY30_MACFA',), ('A0A2K5VMH7_MACFA',), ('CP1A2_RABIT',), ('C5IN69_PAPCY',), ('A0A2K6Q3U5_RHIRO',), ('CP3A4_HUMAN',), ('CP1A1_BALAC',), ('A0N0X8_HUMAN',), ('F7D7J7_MACMU',), ('LX15B_RAT',), ('A0A2R9B9N4_PANPA',), ('A0A2K5U801_MACFA',), ('Q0VHD5_HUMAN',), ('CP1A1_SHEEP',), ('H0XNE6_OTOGA',), ('A0A096NMR4_PAPAN',), ('A0A2K6Q3V4_RHIRO',), ('E7EMT5_HUMAN',), ('A0A2K5KXR0_CERAT',), ('B6EY15_MACFA',), ('CP2J2_HUMAN',), ('Q5J9B1_HUMAN',), ('A0A2K5PV71_CEBIM',), ('CP1A2_MACFA',), ('A0A8B7E9I7_MICMU',), ('CP4F8_HUMAN',), ('CP1A1_CANLF',), ('B6EY25_MACFA',), ('C5IMY0_PAPCY',), ('CP1A2_BALAC',), ('A0A096NMR5_PAPAN',), ('CP2CB_RAT',), ('B6EY18_MACFA',), ('C5IN31_PAPCY',), ('B6EY29_MACFA',), ('CP1A2_MESAU',), ('C5IMY6_PAPCY',), ('CP1A1_HUMAN',), ('G4V3Q9_MACMU',), ('CP2C9_HUMAN',), ('CP1A1_MOUSE',), ('CP2C8_HUMAN',), ('F7EIM3_MACMU',), ('CP1A1_MACMU',), ('A0A481YJW7_MACFA',), ('H0XB84_OTOGA',), ('A0A2K5MBX2_CERAT',), ('A0A2K5MN94_CERAT',), ('A4F4K4_HUMAN',), ('G4V3Q8_MACFA',), ('CP2D6_HUMAN',), ('B6EY27_MACFA',), ('A4F4K3_HUMAN',), ('CP1A2_PONAB',), ('C5IMY2_PAPCY',), ('A0A2K6PHN4_RHIRO',), ('A0A481YIE0_MACFA',), ('CP1A1_MACFA',)}\n",
      "\n",
      "\n",
      "{('CP1A2_CALJA',), ('CP1A1_RABIT',), ('CP1A2_MESAU',), ('CP1A1_MOUSE',), ('CP1A2_RAT',), ('CP1A2_RABIT',), ('CP1A2_HUMAN',), ('CP1A2_MACFA',), ('CP1A1_HUMAN',), ('CP1A2_MOUSE',)}\n"
     ]
    }
   ],
   "source": [
    "df_predicted = df_predicted.rename(columns={\"uniprotID\": \"iprotID\"})\n",
    "\n",
    "\n",
    "result = calculate_column_metrics_with_label_similarity(df_ground_truth, df_predicted)"
   ]
  },
  {
   "cell_type": "code",
   "execution_count": 8,
   "metadata": {},
   "outputs": [
    {
     "name": "stdout",
     "output_type": "stream",
     "text": [
      "{'precision': 1.0, 'recall': 0.1, 'f1_score': 0.18181818181818182}\n"
     ]
    }
   ],
   "source": [
    "print(result)"
   ]
  }
 ],
 "metadata": {
  "kernelspec": {
   "display_name": ".venv",
   "language": "python",
   "name": "python3"
  },
  "language_info": {
   "codemirror_mode": {
    "name": "ipython",
    "version": 3
   },
   "file_extension": ".py",
   "mimetype": "text/x-python",
   "name": "python",
   "nbconvert_exporter": "python",
   "pygments_lexer": "ipython3",
   "version": "3.11.5"
  }
 },
 "nbformat": 4,
 "nbformat_minor": 2
}
