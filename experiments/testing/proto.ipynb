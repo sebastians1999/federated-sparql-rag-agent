{
 "cells": [
  {
   "cell_type": "code",
   "execution_count": 1,
   "metadata": {},
   "outputs": [],
   "source": [
    "import sys\n",
    "import os\n",
    "sys.path.append(os.path.abspath(os.path.join(os.path.dirname(\"__file__\"), \"..\", \"utilities\")))\n",
    "from format import process_federated_dataset,process_specific_datasets_and_files\n",
    "\n",
    "# federated_endpoint_sets_to_test = [\"Uniprot\"]\n",
    "# # Process the federated dataset and get the output directory\n",
    "# output_dir = process_federated_dataset(\n",
    "#     endpoint_sets_to_test=federated_endpoint_sets_to_test\n",
    "# )\n",
    "\n",
    "# print(f\"Processing complete. Results stored in: {output_dir}\")"
   ]
  },
  {
   "cell_type": "code",
   "execution_count": 9,
   "metadata": {},
   "outputs": [
    {
     "name": "stdout",
     "output_type": "stream",
     "text": [
      "Processing endpoint set: Uniprot\n",
      "\n",
      "Processed: 50_tissues_where_genes_sphingosines_are_expressed.ttl\n",
      "\n",
      "Processed: 48_glycosylation_sites_and_glycans.ttl\n",
      "Processed 2 files from Uniprot\n",
      "Saved metadata for 2 files from 1 endpoint sets to:\n",
      "  - /Users/sebastian/Documents/Bachelor Thesis/sparql-rag-agent/sparql-rag-agent/experiments/eval/ev_2025-04-07_13-57-51/testset_meta_data.json\n",
      "Processing complete. Results stored in: /Users/sebastian/Documents/Bachelor Thesis/sparql-rag-agent/sparql-rag-agent/experiments/eval/ev_2025-04-07_13-57-51\n"
     ]
    }
   ],
   "source": [
    "result_dir = process_specific_datasets_and_files(\n",
    "    endpoint_files_map={\"Uniprot\": [\"48_glycosylation_sites_and_glycans.ttl\", \"50_tissues_where_genes_sphingosines_are_expressed.ttl\"]}\n",
    ")\n",
    "\n",
    "print(f\"Processing complete. Results stored in: {result_dir}\")"
   ]
  },
  {
   "cell_type": "code",
   "execution_count": 6,
   "metadata": {},
   "outputs": [
    {
     "name": "stdout",
     "output_type": "stream",
     "text": [
      "{'resource': ['https://sparql.uniprot.org/.well-known/sparql-examples/118_biosodafrontend_rat_brain_human_cancer'], 'natural_language_question': ['What are the Homo sapiens genes associated with cancer and their orthologs expressed in the Rattus norvegicus brain?'], 'query': ['PREFIX up:<http://purl.uniprot.org/core/>\\nPREFIX taxon:<http://purl.uniprot.org/taxonomy/>\\nPREFIX rdfs:<http://www.w3.org/2000/01/rdf-schema#>\\nPREFIX orth:<http://purl.org/net/orth#>\\nPREFIX dcterms:<http://purl.org/dc/terms/>\\nPREFIX obo:<http://purl.obolibrary.org/obo/>\\nPREFIX lscr:<http://purl.org/lscr#>\\nPREFIX genex:<http://purl.org/genex#>\\nPREFIX sio: <http://semanticscience.org/resource/>\\nSELECT ?gene ?orthologous_protein2 WHERE {\\n  {\\n    SELECT ?protein1 WHERE {\\n      ?protein1 a up:Protein;\\n        up:organism/up:scientificName \\'Homo sapiens\\' ;\\n        up:annotation ?annotation .\\n      ?annotation rdfs:comment ?annotation_text.\\n      ?annotation a up:Disease_Annotation .\\n      FILTER CONTAINS (?annotation_text, \"cancer\")\\n    }\\n  }\\n  SERVICE <https://sparql.omabrowser.org/sparql/> {\\n    SELECT ?orthologous_protein2 ?protein1 ?gene WHERE {\\n      ?protein_OMA a orth:Protein .\\n      ?orthologous_protein2 a orth:Protein .\\n      ?cluster a orth:OrthologsCluster .\\n      ?cluster orth:hasHomologousMember ?node1 .\\n      ?cluster orth:hasHomologousMember ?node2 .\\n      ?node2 orth:hasHomologousMember* ?protein_OMA .\\n      ?node1 orth:hasHomologousMember* ?orthologous_protein2 \\n      .?orthologous_protein2 orth:organism/obo:RO_0002162/up:scientificName \\'Rattus norvegicus\\' .\\n      ?orthologous_protein2 sio:SIO_010079 ?gene .\\n      ?protein_OMA lscr:xrefUniprot ?protein1 .\\n      FILTER(?node1 != ?node2)\\n    }\\n  }\\n  SERVICE <https://www.bgee.org/sparql/> {\\n    ?gene genex:isExpressedIn ?anatEntity .\\n    ?anatEntity rdfs:label \\'brain\\' .\\n    ?gene orth:organism ?org . \\n    ?org obo:RO_0002162 taxon:10116 .\\n  }\\n}'], 'target_endpoint': ['https://sparql.uniprot.org/sparql'], 'federates_with': ['https://sparql.omabrowser.org/sparql/'], 'endpoint_set': ['Uniprot'], 'file_path': ['UniProt/118_biosodafrontend_rat_brain_human_cancer.ttl']}\n"
     ]
    }
   ],
   "source": [
    "from datasets import Dataset\n",
    "from format import load_data_from_file\n",
    "\n",
    "test_set = load_data_from_file(os.path.join(output_dir, \"testset_meta_data.json\"))\n",
    "\n",
    "test_dataset = Dataset.from_dict(test_set)\n",
    "\n",
    "print(test_dataset[0:1])"
   ]
  },
  {
   "cell_type": "code",
   "execution_count": null,
   "metadata": {},
   "outputs": [
    {
     "ename": "AttributeError",
     "evalue": "'Run' object has no attribute 'model'",
     "output_type": "error",
     "traceback": [
      "\u001b[31m---------------------------------------------------------------------------\u001b[39m",
      "\u001b[31mAttributeError\u001b[39m                            Traceback (most recent call last)",
      "\u001b[36mCell\u001b[39m\u001b[36m \u001b[39m\u001b[32mIn[1]\u001b[39m\u001b[32m, line 32\u001b[39m\n\u001b[32m     18\u001b[39m         \u001b[38;5;28;01mbreak\u001b[39;00m\n\u001b[32m     20\u001b[39m \u001b[38;5;28;01mif\u001b[39;00m sparql_construction_run:\n\u001b[32m     21\u001b[39m     result = {\n\u001b[32m     22\u001b[39m         \u001b[38;5;66;03m# Your existing fields...\u001b[39;00m\n\u001b[32m     23\u001b[39m         \u001b[33m\"\u001b[39m\u001b[33mfinal_state_response\u001b[39m\u001b[33m\"\u001b[39m: \u001b[33m\"\u001b[39m\u001b[33m\"\u001b[39m,\n\u001b[32m     24\u001b[39m         \u001b[33m\"\u001b[39m\u001b[33mrun_id_langsmith\u001b[39m\u001b[33m\"\u001b[39m: \u001b[38;5;28mstr\u001b[39m(first_run.id),\n\u001b[32m     25\u001b[39m         \u001b[38;5;66;03m# Add the specific metrics for the sparql_query_construction run\u001b[39;00m\n\u001b[32m     26\u001b[39m         \u001b[33m\"\u001b[39m\u001b[33msparql_construction_prompt_tokens\u001b[39m\u001b[33m\"\u001b[39m: sparql_construction_run.prompt_tokens \u001b[38;5;129;01mor\u001b[39;00m \u001b[32m0\u001b[39m,\n\u001b[32m     27\u001b[39m         \u001b[33m\"\u001b[39m\u001b[33msparql_construction_completion_tokens\u001b[39m\u001b[33m\"\u001b[39m: sparql_construction_run.completion_tokens \u001b[38;5;129;01mor\u001b[39;00m \u001b[32m0\u001b[39m,\n\u001b[32m     28\u001b[39m         \u001b[33m\"\u001b[39m\u001b[33msparql_construction_total_tokens\u001b[39m\u001b[33m\"\u001b[39m: sparql_construction_run.total_tokens \u001b[38;5;129;01mor\u001b[39;00m \u001b[32m0\u001b[39m,\n\u001b[32m     29\u001b[39m         \u001b[33m\"\u001b[39m\u001b[33msparql_construction_prompt_cost\u001b[39m\u001b[33m\"\u001b[39m: sparql_construction_run.prompt_cost \u001b[38;5;129;01mor\u001b[39;00m \u001b[32m0\u001b[39m,\n\u001b[32m     30\u001b[39m         \u001b[33m\"\u001b[39m\u001b[33msparql_construction_completion_cost\u001b[39m\u001b[33m\"\u001b[39m: sparql_construction_run.completion_cost \u001b[38;5;129;01mor\u001b[39;00m \u001b[32m0\u001b[39m,\n\u001b[32m     31\u001b[39m         \u001b[33m\"\u001b[39m\u001b[33msparql_construction_total_cost\u001b[39m\u001b[33m\"\u001b[39m: sparql_construction_run.total_cost \u001b[38;5;129;01mor\u001b[39;00m \u001b[32m0\u001b[39m,\n\u001b[32m---> \u001b[39m\u001b[32m32\u001b[39m         \u001b[33m\"\u001b[39m\u001b[33msparql_construction_model\u001b[39m\u001b[33m\"\u001b[39m: \u001b[43msparql_construction_run\u001b[49m\u001b[43m.\u001b[49m\u001b[43mmodel\u001b[49m \u001b[38;5;129;01mor\u001b[39;00m \u001b[33m\"\u001b[39m\u001b[33m\"\u001b[39m,\n\u001b[32m     33\u001b[39m         \u001b[38;5;66;03m# Keep the original metrics too if needed\u001b[39;00m\n\u001b[32m     34\u001b[39m         \u001b[33m\"\u001b[39m\u001b[33mprompt_tokens\u001b[39m\u001b[33m\"\u001b[39m: first_run.prompt_tokens \u001b[38;5;129;01mor\u001b[39;00m \u001b[32m0\u001b[39m,\n\u001b[32m     35\u001b[39m         \u001b[33m\"\u001b[39m\u001b[33mcompletion_tokens\u001b[39m\u001b[33m\"\u001b[39m: first_run.completion_tokens \u001b[38;5;129;01mor\u001b[39;00m \u001b[32m0\u001b[39m,\n\u001b[32m     36\u001b[39m         \u001b[33m\"\u001b[39m\u001b[33mtotal_tokens\u001b[39m\u001b[33m\"\u001b[39m: first_run.total_tokens \u001b[38;5;129;01mor\u001b[39;00m \u001b[32m0\u001b[39m,\n\u001b[32m     37\u001b[39m         \u001b[33m\"\u001b[39m\u001b[33mprompt_cost\u001b[39m\u001b[33m\"\u001b[39m: first_run.prompt_cost \u001b[38;5;129;01mor\u001b[39;00m \u001b[32m0\u001b[39m,\n\u001b[32m     38\u001b[39m         \u001b[33m\"\u001b[39m\u001b[33mcompletion_cost\u001b[39m\u001b[33m\"\u001b[39m: first_run.completion_cost \u001b[38;5;129;01mor\u001b[39;00m \u001b[32m0\u001b[39m,\n\u001b[32m     39\u001b[39m         \u001b[33m\"\u001b[39m\u001b[33mtotal_cost\u001b[39m\u001b[33m\"\u001b[39m: first_run.total_cost \u001b[38;5;129;01mor\u001b[39;00m \u001b[32m0\u001b[39m,\n\u001b[32m     40\u001b[39m     }\n\u001b[32m     41\u001b[39m \u001b[38;5;28;01melse\u001b[39;00m:\n\u001b[32m     42\u001b[39m     \u001b[38;5;28mprint\u001b[39m(\u001b[33m\"\u001b[39m\u001b[33mWarning: Could not find the sparql_query_construction run\u001b[39m\u001b[33m\"\u001b[39m)\n",
      "\u001b[31mAttributeError\u001b[39m: 'Run' object has no attribute 'model'"
     ]
    }
   ],
   "source": [
    "from langsmith import Client\n",
    "from datetime import datetime\n",
    "\n",
    "client = Client()\n",
    "runs = client.list_runs(project_name=\"sparql-rag-agent\", is_root=True)\n",
    "first_run = next(runs)\n",
    "\n",
    "\n",
    "child_runs = list(client.list_runs(project_name=\"sparql-rag-agent\", parent_run_id=first_run.id))\n",
    "\n",
    "#print(child_runs)\n",
    "\n",
    "# Filter to find the sparql_query_construction run\n",
    "sparql_construction_run = None\n",
    "for run in child_runs:\n",
    "    if run.name == \"sparql_query_construction\":\n",
    "        sparql_construction_run = run\n",
    "        break\n",
    "\n",
    "if sparql_construction_run:\n",
    "    result = {\n",
    "        # Your existing fields...\n",
    "        \"final_state_response\": \"\",\n",
    "        \"run_id_langsmith\": str(first_run.id),\n",
    "        # Add the specific metrics for the sparql_query_construction run\n",
    "        \"sparql_construction_prompt_tokens\": sparql_construction_run.prompt_tokens or 0,\n",
    "        \"sparql_construction_completion_tokens\": sparql_construction_run.completion_tokens or 0,\n",
    "        \"sparql_construction_total_tokens\": sparql_construction_run.total_tokens or 0,\n",
    "        \"sparql_construction_prompt_cost\": sparql_construction_run.prompt_cost or 0,\n",
    "        \"sparql_construction_completion_cost\": sparql_construction_run.completion_cost or 0,\n",
    "        \"sparql_construction_total_cost\": sparql_construction_run.total_cost or 0,\n",
    "        # Keep the original metrics too if needed\n",
    "        \"prompt_tokens\": first_run.prompt_tokens or 0,\n",
    "        \"completion_tokens\": first_run.completion_tokens or 0,\n",
    "        \"total_tokens\": first_run.total_tokens or 0,\n",
    "        \"prompt_cost\": first_run.prompt_cost or 0,\n",
    "        \"completion_cost\": first_run.completion_cost or 0,\n",
    "        \"total_cost\": first_run.total_cost or 0,\n",
    "    }\n",
    "else:\n",
    "    print(\"Warning: Could not find the sparql_query_construction run\")\n",
    "    # Fall back to using the parent run metrics\n",
    "    result = {\n",
    "        # Original metrics...\n",
    "    }\n",
    "print(result)\n",
    "\n",
    "# # === BASIC INFORMATION ===\n",
    "# print(\"=== BASIC INFORMATION ===\")\n",
    "# print(f\"ID: {first_run.id}\")\n",
    "# print(f\"Name: {first_run.name}\")\n",
    "# print(f\"Run Type: {first_run.run_type}\")\n",
    "# print(f\"Status: {first_run.status}\")\n",
    "# print(f\"App Path: {first_run.app_path}\")\n",
    "\n",
    "# # === TIMING INFORMATION ===\n",
    "# print(\"\\n=== TIMING INFORMATION ===\")\n",
    "# print(f\"Start Time: {first_run.start_time}\")\n",
    "# print(f\"End Time: {first_run.end_time}\")\n",
    "# print(f\"First Token Time: {first_run.first_token_time}\")\n",
    "# print(f\"Execution Time: {first_run.end_time - first_run.start_time}\")\n",
    "\n",
    "# # === TOKEN AND COST METRICS ===\n",
    "# print(\"\\n=== TOKEN AND COST METRICS ===\")\n",
    "# print(f\"Prompt Tokens: {first_run.prompt_tokens}\")\n",
    "# print(f\"Completion Tokens: {first_run.completion_tokens}\")\n",
    "# print(f\"Total Tokens: {first_run.total_tokens}\")\n",
    "# print(f\"Prompt Cost: ${first_run.prompt_cost}\")\n",
    "# print(f\"Completion Cost: ${first_run.completion_cost}\")\n",
    "# print(f\"Total Cost: ${first_run.total_cost}\")\n",
    "\n",
    "# # === INPUT/OUTPUT DATA ===\n",
    "# print(\"\\n=== INPUT/OUTPUT DATA ===\")\n",
    "# print(f\"Inputs: {first_run.inputs}\")\n",
    "# print(f\"Outputs: {first_run.outputs}\")\n",
    "# print(f\"Error: {first_run.error}\")\n",
    "\n",
    "# # === RELATIONSHIP PROPERTIES ===\n",
    "# print(\"\\n=== RELATIONSHIP PROPERTIES ===\")\n",
    "# print(f\"Parent Run ID: {first_run.parent_run_id}\")\n",
    "# print(f\"Parent Run IDs: {first_run.parent_run_ids}\")\n",
    "# print(f\"Child Run IDs: {first_run.child_run_ids}\")\n",
    "# print(f\"Child Runs: {first_run.child_runs}\")\n",
    "# print(f\"Trace ID: {first_run.trace_id}\")\n",
    "# print(f\"Dotted Order: {first_run.dotted_order}\")\n",
    "\n",
    "# # === METADATA ===\n",
    "# print(\"\\n=== METADATA ===\")\n",
    "# print(f\"Tags: {first_run.tags}\")\n",
    "# print(f\"Extra: {first_run.extra}\")\n",
    "# print(f\"Serialized: {first_run.serialized}\")\n",
    "# print(f\"Events: {first_run.events}\")\n",
    "# print(f\"Feedback Stats: {first_run.feedback_stats}\")\n",
    "# print(f\"In Dataset: {first_run.in_dataset}\")\n",
    "# print(f\"Reference Example ID: {first_run.reference_example_id}\")\n",
    "# print(f\"Session ID: {first_run.session_id}\")\n",
    "# print(f\"Manifest ID: {first_run.manifest_id}\")"
   ]
  },
  {
   "cell_type": "code",
   "execution_count": null,
   "metadata": {},
   "outputs": [
    {
     "name": "stdout",
     "output_type": "stream",
     "text": [
      "Processing endpoint set: Uniprot\n",
      "\n",
      "Processed: 48_glycosylation_sites_and_glycans.ttl\n",
      "Processed 1 files from Uniprot\n",
      "Saved metadata for 1 files from 1 endpoint sets to:\n",
      "  - /Users/sebastian/Documents/Bachelor Thesis/sparql-rag-agent/sparql-rag-agent/experiments/eval/ev_2025-04-08_19-54-15/testset_meta_data.json\n",
      "Sending question 1/1 to agent...\n",
      "{'messages': [HumanMessage(content='Retrieve glycosylation sites and glycans on human enzymes (federated with Glyconnect)', additional_kwargs={}, response_metadata={}, id='20d0e730-cfba-4f9d-8838-d1a0e23e07c3')], 'structured_question': StructuredQuestion(intent='access_resources', extracted_classes=['glycosylation sites', 'glycans', 'enzymes'], extracted_entities=['human', 'Glyconnect'], question_steps=['Retrieve glycosylation sites on human enzymes', 'Retrieve glycans on human enzymes']), 'retrieved_docs': [], 'extracted_entities': [{'matchs': [Document(metadata={'uri': 'http://purl.obolibrary.org/obo/CHEBI_30879', 'type': 'literal', 'description': 'Chemical entities in ChEBI.', 'score': 0.6778940558433533, 'endpoint_url': ''}, page_content='alcohol'), Document(metadata={'uri': 'http://purl.obolibrary.org/obo/CHEBI_30212', 'type': 'literal', 'description': 'Chemical entities in ChEBI.', 'score': 0.6591947674751282, 'endpoint_url': ''}, page_content='photon'), Document(metadata={'uri': 'http://purl.obolibrary.org/obo/CHEBI_17347', 'type': 'literal', 'description': 'Chemical entities in ChEBI.', 'score': 0.6580438613891602, 'endpoint_url': ''}, page_content='testosterone'), Document(metadata={'uri': 'http://purl.obolibrary.org/obo/CHEBI_49468', 'type': 'literal', 'description': 'Chemical entities in ChEBI.', 'score': 0.6564264297485352, 'endpoint_url': ''}, page_content='silver(1+)'), Document(metadata={'uri': 'http://purl.obolibrary.org/obo/CHEBI_71406', 'type': 'literal', 'description': 'Chemical entities in ChEBI.', 'score': 0.6510211229324341, 'endpoint_url': ''}, page_content='(R)-adrenaline(1+)')], 'text': 'human'}, {'matchs': [Document(metadata={'uri': 'http://purl.obolibrary.org/obo/CHEBI_131932', 'type': 'literal', 'description': 'Chemical entities in ChEBI.', 'score': 0.7591724991798401, 'endpoint_url': ''}, page_content='glycosmisate'), Document(metadata={'uri': 'http://purl.obolibrary.org/obo/CHEBI_155850', 'type': 'literal', 'description': 'Chemical entities in ChEBI.', 'score': 0.7579116821289062, 'endpoint_url': ''}, page_content='Gly-Gly-Ile zwitterion'), Document(metadata={'uri': 'http://purl.obolibrary.org/obo/CHEBI_229557', 'type': 'literal', 'description': 'Chemical entities in ChEBI.', 'score': 0.7540154457092285, 'endpoint_url': ''}, page_content='N-deacetylisoipecoside aglycone(1+)'), Document(metadata={'uri': 'http://purl.obolibrary.org/obo/CHEBI_131937', 'type': 'literal', 'description': 'Chemical entities in ChEBI.', 'score': 0.7520542144775391, 'endpoint_url': ''}, page_content='ent-glycosmisate'), Document(metadata={'uri': 'http://purl.obolibrary.org/obo/CHEBI_195214', 'type': 'literal', 'description': 'Chemical entities in ChEBI.', 'score': 0.7517569065093994, 'endpoint_url': ''}, page_content='Gly-Gly-Gly zwitterion')], 'text': 'Glyconnect'}], 'structured_output': {'query': '# https://sparql.expasy.org/sparql\\nPREFIX glyconnect: <https://glyconnect.expasy.org/ontology/>\\nPREFIX enzyme: <https://enzyme.expasy.org/>\\nPREFIX rdf: <http://www.w3.org/1999/02/22-rdf-syntax-ns#>\\nPREFIX rdfs: <http://www.w3.org/2000/01/rdf-schema#>\\n\\nSELECT DISTINCT ?enzyme ?glycosylation_site \\nWHERE {\\n  # Retrieve human enzymes from Expasy\\n  SERVICE <https://sparql.expasy.org/sparql> {\\n    ?enzyme a enzyme:Enzyme ;\\n           enzyme:organism ?organism .\\n    ?organism rdfs:label ?organism_label .\\n    FILTER(contains(lcase(?organism_label), \"homo sapiens\"))\\n  }\\n  \\n  # Retrieve glycosylation sites from Glyconnect\\n  SERVICE <https://glyconnect.expasy.org/sparql> {\\n    ?glycosylation_site glyconnect:protein ?enzyme ;\\n                         glyconnect:site ?site .\\n  }\\n  \\n  # Link enzymes from Expasy to glycosylation sites in Glyconnect\\n  FILTER(EXISTS {\\n    SERVICE <https://glyconnect.expasy.org/sparql> {\\n      ?enzyme glyconnect:protein ?protein .\\n    }\\n  })\\n}', 'endpoint_url': 'https://sparql.expasy.org/sparql'}, 'steps': [StepOutput(label='Generated SPARQL query', details='\\t\\t\\t\\t\\t\\t - If an entity or class is not explicitly linked to an endpoint in the context, make an *educated guess* based on the available information. - For classes/entities without a specific endpoint, align them with the most relevant endpoint based on the context. \\n\\t\\t\\t\\t\\t\\t - List assumptions in the comments of the SPARQL query.\\n\\n**User Question:**\\nRetrieve glycosylation sites on human enzymes\\n\\n**Available Classes and Entities:**\\n\\n```json\\n[\\n  {\\n    \"class\": \"enzyme\",\\n    \"entities\": [\\n      {\\n        \"text\": \"human\",\\n        \"matchs\": [\\n          {\"uri\": \"http://purl.obolibrary.org/obo/CHEBI_30879\", \"type\": \"literal\", \"description\": \"Chemical entities in ChEBI.\", \"score\": 0.6778940558433533},\\n          {\"uri\": \"http://purl.obolibrary.org/obo/CHEBI_30212\", \"type\": \"literal\", \"description\": \"Chemical entities in ChEBI.\", \"score\": 0.6591947674751282},\\n          {\"uri\": \"http://purl.obolibrary.org/obo/CHEBI_17347\", \"type\": \"literal\", \"description\": \"Chemical entities in ChEBI.\", \"score\": 0.6580438613891602},\\n          {\"uri\": \"http://purl.obolibrary.org/obo/CHEBI_49468\", \"type\": \"literal\", \"description\": \"Chemical entities in ChEBI.\", \"score\": 0.6564264297485352},\\n          {\"uri\": \"http://purl.obolibrary.org/obo/CHEBI_71406\", \"type\": \"literal\", \"description\": \"Chemical entities in ChEBI.\", \"score\": 0.6510211229324341}\\n        ]\\n      },\\n      {\\n        \"text\": \"Glyconnect\",\\n        \"matchs\": [\\n          {\"uri\": \"http://purl.obolibrary.org/obo/CHEBI_131932\", \"type\": \"literal\", \"description\": \"Chemical entities in ChEBI.\", \"score\": 0.7591724991798401},\\n          {\"uri\": \"http://purl.obolibrary.org/obo/CHEBI_155850\", \"type\": \"literal\", \"description\": \"Chemical entities in ChEBI.\", \"score\": 0.7579116821289062},\\n          {\"uri\": \"http://purl.obolibrary.org/obo/CHEBI_229557\", \"type\": \"literal\", \"description\": \"Chemical entities in ChEBI.\", \"score\": 0.7540154457092285},\\n          {\"uri\": \"http://purl.obolibrary.org/obo/CHEBI_131937\", \"type\": \"literal\", \"description\": \"Chemical entities in ChEBI.\", \"score\": 0.7520542144775391},\\n          {\"uri\": \"http://purl.obolibrary.org/obo/CHEBI_195214\", \"type\": \"literal\", \"description\": \"Chemical entities in ChEBI.\", \"score\": 0.7517569065093994}\\n        ]\\n      }\\n    ]\\n  }\\n]\\n```\\n**Endpoints:**\\n- https://sparql.expasy.org/sparql (Expasy)\\n- https://glyconnect.expasy.org/sparql (Glyconnect)\\n\\n**Schema Information:**\\n- The schema for enzymes and glycosylation sites is available in the Expasy and Glyconnect SPARQL endpoints.\\n\\n**Task Instruction:**\\nUse the available information to construct a federated SPARQL query that retrieves glycosylation sites on human enzymes. Ensure the query is well-commented and follows the specified output format.\\n\\n```sparql\\n# https://sparql.expasy.org/sparql\\nPREFIX glyconnect: <https://glyconnect.expasy.org/ontology/>\\nPREFIX enzyme: <https://enzyme.expasy.org/>\\nPREFIX rdf: <http://www.w3.org/1999/02/22-rdf-syntax-ns#>\\nPREFIX rdfs: <http://www.w3.org/2000/01/rdf-schema#>\\n\\nSELECT DISTINCT ?enzyme ?glycosylation_site \\nWHERE {\\n  # Retrieve human enzymes from Expasy\\n  SERVICE <https://sparql.expasy.org/sparql> {\\n    ?enzyme a enzyme:Enzyme ;\\n           enzyme:organism ?organism .\\n    ?organism rdfs:label ?organism_label .\\n    FILTER(contains(lcase(?organism_label), \"homo sapiens\"))\\n  }\\n  \\n  # Retrieve glycosylation sites from Glyconnect\\n  SERVICE <https://glyconnect.expasy.org/sparql> {\\n    ?glycosylation_site glyconnect:protein ?enzyme ;\\n                         glyconnect:site ?site .\\n  }\\n  \\n  # Link enzymes from Expasy to glycosylation sites in Glyconnect\\n  FILTER(EXISTS {\\n    SERVICE <https://glyconnect.expasy.org/sparql> {\\n      ?enzyme glyconnect:protein ?protein .\\n    }\\n  })\\n}\\n```', substeps=[], type='context', fixed_message=None)]}\n",
      "Got first run!\n",
      "Warning: Run has None value for start_time or end_time\n",
      "Result: {'final_state_response': '# https://sparql.expasy.org/sparql\\nPREFIX glyconnect: <https://glyconnect.expasy.org/ontology/>\\nPREFIX enzyme: <https://enzyme.expasy.org/>\\nPREFIX rdf: <http://www.w3.org/1999/02/22-rdf-syntax-ns#>\\nPREFIX rdfs: <http://www.w3.org/2000/01/rdf-schema#>\\n\\nSELECT DISTINCT ?enzyme ?glycosylation_site \\nWHERE {\\n  # Retrieve human enzymes from Expasy\\n  SERVICE <https://sparql.expasy.org/sparql> {\\n    ?enzyme a enzyme:Enzyme ;\\n           enzyme:organism ?organism .\\n    ?organism rdfs:label ?organism_label .\\n    FILTER(contains(lcase(?organism_label), \"homo sapiens\"))\\n  }\\n  \\n  # Retrieve glycosylation sites from Glyconnect\\n  SERVICE <https://glyconnect.expasy.org/sparql> {\\n    ?glycosylation_site glyconnect:protein ?enzyme ;\\n                         glyconnect:site ?site .\\n  }\\n  \\n  # Link enzymes from Expasy to glycosylation sites in Glyconnect\\n  FILTER(EXISTS {\\n    SERVICE <https://glyconnect.expasy.org/sparql> {\\n      ?enzyme glyconnect:protein ?protein .\\n    }\\n  })\\n}', 'run_id_langsmith': '3ac0fd5d-cec8-41c0-90ee-1488bf359d93', 'in_dataset': False, 'execution_time': '0', 'sparql_construction_prompt_tokens': 1019, 'sparql_construction_completion_tokens': 1065, 'sparql_construction_total_tokens': 2084, 'sparql_construction_prompt_cost': 0, 'sparql_construction_completion_cost': 0, 'sparql_construction_total_cost': 0, 'prompt_tokens': 1559, 'completion_tokens': 73, 'total_tokens': 1632, 'prompt_cost': 0, 'completion_cost': 0, 'total_cost': 0}\n",
      "Got result\n",
      "Saved query comparison to: /Users/sebastian/Documents/Bachelor Thesis/sparql-rag-agent/sparql-rag-agent/experiments/eval/ev_2025-04-08_19-54-15/48_comparison.ttl\n"
     ]
    },
    {
     "data": {
      "text/plain": [
       "'/Users/sebastian/Documents/Bachelor Thesis/sparql-rag-agent/sparql-rag-agent/experiments/eval/ev_2025-04-08_19-54-15/evaluation_dataset.json'"
      ]
     },
     "execution_count": 1,
     "metadata": {},
     "output_type": "execute_result"
    }
   ],
   "source": [
    "import asyncio\n",
    "import sys\n",
    "sys.path.append('/Users/sebastian/Documents/Bachelor Thesis/sparql-rag-agent/sparql-rag-agent')\n",
    "\n",
    "from experiments.utilities.evaluation import AgentEvaluator\n",
    "\n",
    "\n",
    "evaluator = AgentEvaluator(\n",
    "    endpoint_sets={\"Uniprot\": [\"48_glycosylation_sites_and_glycans.ttl\"]},\n",
    "    test=True,\n",
    "    experiment_dir=\"experiments_official\"\n",
    ")\n",
    "\n",
    "await evaluator.run_all_tests()"
   ]
  },
  {
   "cell_type": "code",
   "execution_count": null,
   "metadata": {},
   "outputs": [],
   "source": []
  }
 ],
 "metadata": {
  "kernelspec": {
   "display_name": ".venv",
   "language": "python",
   "name": "python3"
  },
  "language_info": {
   "codemirror_mode": {
    "name": "ipython",
    "version": 3
   },
   "file_extension": ".py",
   "mimetype": "text/x-python",
   "name": "python",
   "nbconvert_exporter": "python",
   "pygments_lexer": "ipython3",
   "version": "3.11.5"
  }
 },
 "nbformat": 4,
 "nbformat_minor": 2
}
