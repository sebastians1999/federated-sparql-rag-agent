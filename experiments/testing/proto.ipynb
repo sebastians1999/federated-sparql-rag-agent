{
 "cells": [
  {
   "cell_type": "code",
   "execution_count": 1,
   "metadata": {},
   "outputs": [],
   "source": [
    "import sys\n",
    "import os\n",
    "sys.path.append(os.path.abspath(os.path.join(os.path.dirname(\"__file__\"), \"..\", \"utilities\")))\n",
    "from format import process_federated_dataset,process_specific_datasets_and_files\n",
    "\n",
    "# federated_endpoint_sets_to_test = [\"Uniprot\"]\n",
    "# # Process the federated dataset and get the output directory\n",
    "# output_dir = process_federated_dataset(\n",
    "#     endpoint_sets_to_test=federated_endpoint_sets_to_test\n",
    "# )\n",
    "\n",
    "# print(f\"Processing complete. Results stored in: {output_dir}\")"
   ]
  },
  {
   "cell_type": "code",
   "execution_count": 9,
   "metadata": {},
   "outputs": [
    {
     "name": "stdout",
     "output_type": "stream",
     "text": [
      "Processing endpoint set: Uniprot\n",
      "\n",
      "Processed: 50_tissues_where_genes_sphingosines_are_expressed.ttl\n",
      "\n",
      "Processed: 48_glycosylation_sites_and_glycans.ttl\n",
      "Processed 2 files from Uniprot\n",
      "Saved metadata for 2 files from 1 endpoint sets to:\n",
      "  - /Users/sebastian/Documents/Bachelor Thesis/sparql-rag-agent/sparql-rag-agent/experiments/eval/ev_2025-04-07_13-57-51/testset_meta_data.json\n",
      "Processing complete. Results stored in: /Users/sebastian/Documents/Bachelor Thesis/sparql-rag-agent/sparql-rag-agent/experiments/eval/ev_2025-04-07_13-57-51\n"
     ]
    }
   ],
   "source": [
    "result_dir = process_specific_datasets_and_files(\n",
    "    endpoint_files_map={\"Uniprot\": [\"48_glycosylation_sites_and_glycans.ttl\", \"50_tissues_where_genes_sphingosines_are_expressed.ttl\"]}\n",
    ")\n",
    "\n",
    "print(f\"Processing complete. Results stored in: {result_dir}\")"
   ]
  },
  {
   "cell_type": "code",
   "execution_count": 6,
   "metadata": {},
   "outputs": [
    {
     "name": "stdout",
     "output_type": "stream",
     "text": [
      "{'resource': ['https://sparql.uniprot.org/.well-known/sparql-examples/118_biosodafrontend_rat_brain_human_cancer'], 'natural_language_question': ['What are the Homo sapiens genes associated with cancer and their orthologs expressed in the Rattus norvegicus brain?'], 'query': ['PREFIX up:<http://purl.uniprot.org/core/>\\nPREFIX taxon:<http://purl.uniprot.org/taxonomy/>\\nPREFIX rdfs:<http://www.w3.org/2000/01/rdf-schema#>\\nPREFIX orth:<http://purl.org/net/orth#>\\nPREFIX dcterms:<http://purl.org/dc/terms/>\\nPREFIX obo:<http://purl.obolibrary.org/obo/>\\nPREFIX lscr:<http://purl.org/lscr#>\\nPREFIX genex:<http://purl.org/genex#>\\nPREFIX sio: <http://semanticscience.org/resource/>\\nSELECT ?gene ?orthologous_protein2 WHERE {\\n  {\\n    SELECT ?protein1 WHERE {\\n      ?protein1 a up:Protein;\\n        up:organism/up:scientificName \\'Homo sapiens\\' ;\\n        up:annotation ?annotation .\\n      ?annotation rdfs:comment ?annotation_text.\\n      ?annotation a up:Disease_Annotation .\\n      FILTER CONTAINS (?annotation_text, \"cancer\")\\n    }\\n  }\\n  SERVICE <https://sparql.omabrowser.org/sparql/> {\\n    SELECT ?orthologous_protein2 ?protein1 ?gene WHERE {\\n      ?protein_OMA a orth:Protein .\\n      ?orthologous_protein2 a orth:Protein .\\n      ?cluster a orth:OrthologsCluster .\\n      ?cluster orth:hasHomologousMember ?node1 .\\n      ?cluster orth:hasHomologousMember ?node2 .\\n      ?node2 orth:hasHomologousMember* ?protein_OMA .\\n      ?node1 orth:hasHomologousMember* ?orthologous_protein2 \\n      .?orthologous_protein2 orth:organism/obo:RO_0002162/up:scientificName \\'Rattus norvegicus\\' .\\n      ?orthologous_protein2 sio:SIO_010079 ?gene .\\n      ?protein_OMA lscr:xrefUniprot ?protein1 .\\n      FILTER(?node1 != ?node2)\\n    }\\n  }\\n  SERVICE <https://www.bgee.org/sparql/> {\\n    ?gene genex:isExpressedIn ?anatEntity .\\n    ?anatEntity rdfs:label \\'brain\\' .\\n    ?gene orth:organism ?org . \\n    ?org obo:RO_0002162 taxon:10116 .\\n  }\\n}'], 'target_endpoint': ['https://sparql.uniprot.org/sparql'], 'federates_with': ['https://sparql.omabrowser.org/sparql/'], 'endpoint_set': ['Uniprot'], 'file_path': ['UniProt/118_biosodafrontend_rat_brain_human_cancer.ttl']}\n"
     ]
    }
   ],
   "source": [
    "from datasets import Dataset\n",
    "from format import load_data_from_file\n",
    "\n",
    "test_set = load_data_from_file(os.path.join(output_dir, \"testset_meta_data.json\"))\n",
    "\n",
    "test_dataset = Dataset.from_dict(test_set)\n",
    "\n",
    "print(test_dataset[0:1])"
   ]
  },
  {
   "cell_type": "code",
   "execution_count": null,
   "metadata": {},
   "outputs": [
    {
     "ename": "AttributeError",
     "evalue": "'Run' object has no attribute 'model'",
     "output_type": "error",
     "traceback": [
      "\u001b[31m---------------------------------------------------------------------------\u001b[39m",
      "\u001b[31mAttributeError\u001b[39m                            Traceback (most recent call last)",
      "\u001b[36mCell\u001b[39m\u001b[36m \u001b[39m\u001b[32mIn[1]\u001b[39m\u001b[32m, line 32\u001b[39m\n\u001b[32m     18\u001b[39m         \u001b[38;5;28;01mbreak\u001b[39;00m\n\u001b[32m     20\u001b[39m \u001b[38;5;28;01mif\u001b[39;00m sparql_construction_run:\n\u001b[32m     21\u001b[39m     result = {\n\u001b[32m     22\u001b[39m         \u001b[38;5;66;03m# Your existing fields...\u001b[39;00m\n\u001b[32m     23\u001b[39m         \u001b[33m\"\u001b[39m\u001b[33mfinal_state_response\u001b[39m\u001b[33m\"\u001b[39m: \u001b[33m\"\u001b[39m\u001b[33m\"\u001b[39m,\n\u001b[32m     24\u001b[39m         \u001b[33m\"\u001b[39m\u001b[33mrun_id_langsmith\u001b[39m\u001b[33m\"\u001b[39m: \u001b[38;5;28mstr\u001b[39m(first_run.id),\n\u001b[32m     25\u001b[39m         \u001b[38;5;66;03m# Add the specific metrics for the sparql_query_construction run\u001b[39;00m\n\u001b[32m     26\u001b[39m         \u001b[33m\"\u001b[39m\u001b[33msparql_construction_prompt_tokens\u001b[39m\u001b[33m\"\u001b[39m: sparql_construction_run.prompt_tokens \u001b[38;5;129;01mor\u001b[39;00m \u001b[32m0\u001b[39m,\n\u001b[32m     27\u001b[39m         \u001b[33m\"\u001b[39m\u001b[33msparql_construction_completion_tokens\u001b[39m\u001b[33m\"\u001b[39m: sparql_construction_run.completion_tokens \u001b[38;5;129;01mor\u001b[39;00m \u001b[32m0\u001b[39m,\n\u001b[32m     28\u001b[39m         \u001b[33m\"\u001b[39m\u001b[33msparql_construction_total_tokens\u001b[39m\u001b[33m\"\u001b[39m: sparql_construction_run.total_tokens \u001b[38;5;129;01mor\u001b[39;00m \u001b[32m0\u001b[39m,\n\u001b[32m     29\u001b[39m         \u001b[33m\"\u001b[39m\u001b[33msparql_construction_prompt_cost\u001b[39m\u001b[33m\"\u001b[39m: sparql_construction_run.prompt_cost \u001b[38;5;129;01mor\u001b[39;00m \u001b[32m0\u001b[39m,\n\u001b[32m     30\u001b[39m         \u001b[33m\"\u001b[39m\u001b[33msparql_construction_completion_cost\u001b[39m\u001b[33m\"\u001b[39m: sparql_construction_run.completion_cost \u001b[38;5;129;01mor\u001b[39;00m \u001b[32m0\u001b[39m,\n\u001b[32m     31\u001b[39m         \u001b[33m\"\u001b[39m\u001b[33msparql_construction_total_cost\u001b[39m\u001b[33m\"\u001b[39m: sparql_construction_run.total_cost \u001b[38;5;129;01mor\u001b[39;00m \u001b[32m0\u001b[39m,\n\u001b[32m---> \u001b[39m\u001b[32m32\u001b[39m         \u001b[33m\"\u001b[39m\u001b[33msparql_construction_model\u001b[39m\u001b[33m\"\u001b[39m: \u001b[43msparql_construction_run\u001b[49m\u001b[43m.\u001b[49m\u001b[43mmodel\u001b[49m \u001b[38;5;129;01mor\u001b[39;00m \u001b[33m\"\u001b[39m\u001b[33m\"\u001b[39m,\n\u001b[32m     33\u001b[39m         \u001b[38;5;66;03m# Keep the original metrics too if needed\u001b[39;00m\n\u001b[32m     34\u001b[39m         \u001b[33m\"\u001b[39m\u001b[33mprompt_tokens\u001b[39m\u001b[33m\"\u001b[39m: first_run.prompt_tokens \u001b[38;5;129;01mor\u001b[39;00m \u001b[32m0\u001b[39m,\n\u001b[32m     35\u001b[39m         \u001b[33m\"\u001b[39m\u001b[33mcompletion_tokens\u001b[39m\u001b[33m\"\u001b[39m: first_run.completion_tokens \u001b[38;5;129;01mor\u001b[39;00m \u001b[32m0\u001b[39m,\n\u001b[32m     36\u001b[39m         \u001b[33m\"\u001b[39m\u001b[33mtotal_tokens\u001b[39m\u001b[33m\"\u001b[39m: first_run.total_tokens \u001b[38;5;129;01mor\u001b[39;00m \u001b[32m0\u001b[39m,\n\u001b[32m     37\u001b[39m         \u001b[33m\"\u001b[39m\u001b[33mprompt_cost\u001b[39m\u001b[33m\"\u001b[39m: first_run.prompt_cost \u001b[38;5;129;01mor\u001b[39;00m \u001b[32m0\u001b[39m,\n\u001b[32m     38\u001b[39m         \u001b[33m\"\u001b[39m\u001b[33mcompletion_cost\u001b[39m\u001b[33m\"\u001b[39m: first_run.completion_cost \u001b[38;5;129;01mor\u001b[39;00m \u001b[32m0\u001b[39m,\n\u001b[32m     39\u001b[39m         \u001b[33m\"\u001b[39m\u001b[33mtotal_cost\u001b[39m\u001b[33m\"\u001b[39m: first_run.total_cost \u001b[38;5;129;01mor\u001b[39;00m \u001b[32m0\u001b[39m,\n\u001b[32m     40\u001b[39m     }\n\u001b[32m     41\u001b[39m \u001b[38;5;28;01melse\u001b[39;00m:\n\u001b[32m     42\u001b[39m     \u001b[38;5;28mprint\u001b[39m(\u001b[33m\"\u001b[39m\u001b[33mWarning: Could not find the sparql_query_construction run\u001b[39m\u001b[33m\"\u001b[39m)\n",
      "\u001b[31mAttributeError\u001b[39m: 'Run' object has no attribute 'model'"
     ]
    }
   ],
   "source": [
    "from langsmith import Client\n",
    "from datetime import datetime\n",
    "\n",
    "client = Client()\n",
    "runs = client.list_runs(project_name=\"sparql-rag-agent\", is_root=True)\n",
    "first_run = next(runs)\n",
    "\n",
    "\n",
    "child_runs = list(client.list_runs(project_name=\"sparql-rag-agent\", parent_run_id=first_run.id))\n",
    "\n",
    "#print(child_runs)\n",
    "\n",
    "# Filter to find the sparql_query_construction run\n",
    "sparql_construction_run = None\n",
    "for run in child_runs:\n",
    "    if run.name == \"sparql_query_construction\":\n",
    "        sparql_construction_run = run\n",
    "        break\n",
    "\n",
    "if sparql_construction_run:\n",
    "    result = {\n",
    "        # Your existing fields...\n",
    "        \"final_state_response\": \"\",\n",
    "        \"run_id_langsmith\": str(first_run.id),\n",
    "        # Add the specific metrics for the sparql_query_construction run\n",
    "        \"sparql_construction_prompt_tokens\": sparql_construction_run.prompt_tokens or 0,\n",
    "        \"sparql_construction_completion_tokens\": sparql_construction_run.completion_tokens or 0,\n",
    "        \"sparql_construction_total_tokens\": sparql_construction_run.total_tokens or 0,\n",
    "        \"sparql_construction_prompt_cost\": sparql_construction_run.prompt_cost or 0,\n",
    "        \"sparql_construction_completion_cost\": sparql_construction_run.completion_cost or 0,\n",
    "        \"sparql_construction_total_cost\": sparql_construction_run.total_cost or 0,\n",
    "        # Keep the original metrics too if needed\n",
    "        \"prompt_tokens\": first_run.prompt_tokens or 0,\n",
    "        \"completion_tokens\": first_run.completion_tokens or 0,\n",
    "        \"total_tokens\": first_run.total_tokens or 0,\n",
    "        \"prompt_cost\": first_run.prompt_cost or 0,\n",
    "        \"completion_cost\": first_run.completion_cost or 0,\n",
    "        \"total_cost\": first_run.total_cost or 0,\n",
    "    }\n",
    "else:\n",
    "    print(\"Warning: Could not find the sparql_query_construction run\")\n",
    "    # Fall back to using the parent run metrics\n",
    "    result = {\n",
    "        # Original metrics...\n",
    "    }\n",
    "print(result)\n",
    "\n",
    "# # === BASIC INFORMATION ===\n",
    "# print(\"=== BASIC INFORMATION ===\")\n",
    "# print(f\"ID: {first_run.id}\")\n",
    "# print(f\"Name: {first_run.name}\")\n",
    "# print(f\"Run Type: {first_run.run_type}\")\n",
    "# print(f\"Status: {first_run.status}\")\n",
    "# print(f\"App Path: {first_run.app_path}\")\n",
    "\n",
    "# # === TIMING INFORMATION ===\n",
    "# print(\"\\n=== TIMING INFORMATION ===\")\n",
    "# print(f\"Start Time: {first_run.start_time}\")\n",
    "# print(f\"End Time: {first_run.end_time}\")\n",
    "# print(f\"First Token Time: {first_run.first_token_time}\")\n",
    "# print(f\"Execution Time: {first_run.end_time - first_run.start_time}\")\n",
    "\n",
    "# # === TOKEN AND COST METRICS ===\n",
    "# print(\"\\n=== TOKEN AND COST METRICS ===\")\n",
    "# print(f\"Prompt Tokens: {first_run.prompt_tokens}\")\n",
    "# print(f\"Completion Tokens: {first_run.completion_tokens}\")\n",
    "# print(f\"Total Tokens: {first_run.total_tokens}\")\n",
    "# print(f\"Prompt Cost: ${first_run.prompt_cost}\")\n",
    "# print(f\"Completion Cost: ${first_run.completion_cost}\")\n",
    "# print(f\"Total Cost: ${first_run.total_cost}\")\n",
    "\n",
    "# # === INPUT/OUTPUT DATA ===\n",
    "# print(\"\\n=== INPUT/OUTPUT DATA ===\")\n",
    "# print(f\"Inputs: {first_run.inputs}\")\n",
    "# print(f\"Outputs: {first_run.outputs}\")\n",
    "# print(f\"Error: {first_run.error}\")\n",
    "\n",
    "# # === RELATIONSHIP PROPERTIES ===\n",
    "# print(\"\\n=== RELATIONSHIP PROPERTIES ===\")\n",
    "# print(f\"Parent Run ID: {first_run.parent_run_id}\")\n",
    "# print(f\"Parent Run IDs: {first_run.parent_run_ids}\")\n",
    "# print(f\"Child Run IDs: {first_run.child_run_ids}\")\n",
    "# print(f\"Child Runs: {first_run.child_runs}\")\n",
    "# print(f\"Trace ID: {first_run.trace_id}\")\n",
    "# print(f\"Dotted Order: {first_run.dotted_order}\")\n",
    "\n",
    "# # === METADATA ===\n",
    "# print(\"\\n=== METADATA ===\")\n",
    "# print(f\"Tags: {first_run.tags}\")\n",
    "# print(f\"Extra: {first_run.extra}\")\n",
    "# print(f\"Serialized: {first_run.serialized}\")\n",
    "# print(f\"Events: {first_run.events}\")\n",
    "# print(f\"Feedback Stats: {first_run.feedback_stats}\")\n",
    "# print(f\"In Dataset: {first_run.in_dataset}\")\n",
    "# print(f\"Reference Example ID: {first_run.reference_example_id}\")\n",
    "# print(f\"Session ID: {first_run.session_id}\")\n",
    "# print(f\"Manifest ID: {first_run.manifest_id}\")"
   ]
  },
  {
   "cell_type": "code",
   "execution_count": 1,
   "metadata": {},
   "outputs": [
    {
     "name": "stdout",
     "output_type": "stream",
     "text": [
      "Downloading wordnet package...\n"
     ]
    },
    {
     "name": "stderr",
     "output_type": "stream",
     "text": [
      "[nltk_data] Downloading package wordnet to\n",
      "[nltk_data]     /Users/sebastian/nltk_data...\n",
      "[nltk_data]   Package wordnet is already up-to-date!\n"
     ]
    },
    {
     "name": "stdout",
     "output_type": "stream",
     "text": [
      "Processing endpoint set: Uniprot\n",
      "\n",
      "Processed: 48_glycosylation_sites_and_glycans.ttl\n",
      "Processed 1 files from Uniprot\n",
      "Saved metadata for 1 files from 1 endpoint sets to:\n",
      "  - /Users/sebastian/Documents/Bachelor Thesis/sparql-rag-agent/sparql-rag-agent/experiments/eval/ev_2025-04-12_21-28-15/testset_meta_data.json\n",
      "Sending question 1/1 to agent...\n",
      "{'messages': [HumanMessage(content='Retrieve glycosylation sites and glycans on human enzymes (federated with Glyconnect)', additional_kwargs={}, response_metadata={}, id='bbe3a773-6b6e-496c-bfa3-a5873c21f29c')], 'structured_question': StructuredQuestion(intent='access_resources', extracted_classes=['glycosylation sites', 'glycans', 'human enzymes'], extracted_entities=['Glyconnect'], question_steps=['Retrieve glycosylation sites on human enzymes', 'Retrieve glycans on human enzymes', 'Federate with Glyconnect']), 'retrieved_docs': [], 'extracted_entities': [{'matchs': [Document(metadata={'uri': 'http://purl.uniprot.org/taxonomy/625622', 'type': 'literal', 'description': 'taxon scientific names', 'score': 0.7900720834732056, 'endpoint_url': ''}, page_content='Strumigenys glycon'), Document(metadata={'uri': 'http://purl.uniprot.org/taxonomy/68543', 'type': 'literal', 'description': 'taxon scientific names', 'score': 0.7608073949813843, 'endpoint_url': ''}, page_content='Glycosmis'), Document(metadata={'uri': 'http://purl.obolibrary.org/obo/CHEBI_131932', 'type': 'literal', 'description': 'Chemical entities in ChEBI.', 'score': 0.7591724991798401, 'endpoint_url': ''}, page_content='glycosmisate'), Document(metadata={'uri': 'http://purl.uniprot.org/taxonomy/862913', 'type': 'literal', 'description': 'taxon scientific names', 'score': 0.7589722275733948, 'endpoint_url': ''}, page_content='Glycinde wireni'), Document(metadata={'uri': 'http://purl.obolibrary.org/obo/CHEBI_155850', 'type': 'literal', 'description': 'Chemical entities in ChEBI.', 'score': 0.7579116821289062, 'endpoint_url': ''}, page_content='Gly-Gly-Ile zwitterion')], 'text': 'Glyconnect'}], 'structured_output': {'query': '# https://sparql.uniprot.org/sparql\\nPREFIX up: <http://purl.uniprot.org/core/>\\nPREFIX gly: <http://purl.obolibrary.org/obo/GlycoConnect#>\\n\\nSELECT DISTINCT ?enzyme ?glycosylationSite ?glycan\\nWHERE {\\n  SERVICE <https://sparql.uniprot.org/sparql> {\\n    ?enzyme a up:Protein ;\\n            up:organism <http://purl.uniprot.org/taxonomy/9606> ;\\n            up:annotation ?annotation .\\n    ?annotation a up:Modified_Residue_Annotation ;\\n                up:range ?range .\\n    FILTER CONTAINS(STR(?annotation), \"glycosylation\")\\n    ?range up:start ?glycosylationSite .\\n  }\\n  # SERVICE <https://example.com/glyconnect/sparql> {\\n  #   ?glycosylationSite gly:hasGlycan ?glycan .\\n  # }\\n}', 'endpoint_url': 'https://sparql.uniprot.org/sparql'}, 'steps': [StepOutput(label='Generated SPARQL query', details='\\t- If specific endpoint URLs or schema details (e.g., predicates, classes) are not provided, rely on general knowledge or common practices in SPARQL querying relevant to the context of the user question. For instance, if the question pertains to proteins or enzymes, consider using UniProt or related resources.\\n\\n6.**Query Structure:** - Construct the query to effectively utilize the SERVICE keyword for federation across relevant endpoints.\\n\\n**Additional Information:**\\n- The user question pertains to glycosylation sites on human enzymes.\\n- Common predicates and classes related to enzymes and glycosylation might include UniProt entries and related ontologies or databases.\\n- Relevant SPARQL endpoints may include UniProt or GlyConnect.\\n\\n**Let\\'s generate the SPARQL query!**\\n\\nTo generate a federated SPARQL query that retrieves glycosylation sites on human enzymes, we need to identify relevant SPARQL endpoints and construct a query that effectively utilizes the SERVICE keyword. \\n\\nFirst, let\\'s consider the information given and the context of the question. The question is about glycosylation sites on human enzymes. Glycosylation is a post-translational modification that can occur on proteins (including enzymes), and it\\'s relevant to consider databases that store information on protein modifications and enzymes.\\n\\n1. **Identifying Relevant Endpoints:**\\n   - UniProt is a comprehensive resource for protein information, including enzymes and their modifications. The UniProt SPARQL endpoint is a key resource here.\\n   - GlyConnect is another relevant resource as it provides information on glycosylation sites. The entities extracted mention \\'Glyconnect\\', indicating its relevance.\\n\\n2. **Constructing the Query:**\\n   - We will query UniProt for human enzymes and their glycosylation sites. UniProt\\'s SPARQL endpoint can be used for this.\\n   - We will also consider querying GlyConnect for glycosylation information.\\n\\nGiven the above considerations, here\\'s how we can construct the federated SPARQL query:\\n\\n```sparql\\n# https://sparql.uniprot.org/sparql\\nPREFIX up: <http://purl.uniprot.org/core/>\\nPREFIX gly: <http://purl.obolibrary.org/obo/GlycoConnect#> # Assuming this is the correct prefix for GlyConnect; actual prefix may vary\\n\\nSELECT DISTINCT ?enzyme ?glycosylationSite ?glycan\\nWHERE {\\n  # Querying UniProt for human enzymes\\n  SERVICE <https://sparql.uniprot.org/sparql> {\\n    ?enzyme a up:Protein ;\\n            up:organism <http://purl.uniprot.org/taxonomy/9606> ; # Human taxonomy ID\\n            up:annotation ?annotation .\\n    ?annotation a up:Modified_Residue_Annotation ;\\n                up:range ?range .\\n    FILTER CONTAINS(STR(?annotation), \"glycosylation\") # Filtering for glycosylation annotations\\n    ?range up:start ?glycosylationSite .\\n  }\\n  \\n  # Optionally querying GlyConnect for additional glycosylation information\\n  # SERVICE <https://example.com/glyconnect/sparql> { # Replace with actual GlyConnect SPARQL endpoint\\n  #   ?glycosylationSite gly:hasGlycan ?glycan .\\n  # }\\n}\\n```\\n\\n**Note:** \\n- The actual SPARQL endpoint for GlyConnect and its schema details are not provided in the input context. The query assumes a hypothetical endpoint and prefix for GlyConnect. You should replace `https://example.com/glyconnect/sparql` with the actual endpoint if available.\\n- The query focuses on retrieving glycosylation sites from UniProt. The optional SERVICE clause for GlyConnect is commented out due to the lack of specific endpoint information.\\n\\nThis query is designed to be executed primarily through the UniProt SPARQL endpoint, as indicated by the first line comment. It retrieves human enzymes and their glycosylation sites. If a GlyConnect SPARQL endpoint is available, you can uncomment the relevant SERVICE clause to federate the query across both endpoints. \\n\\nPlease adjust the query based on the actual schema and endpoint availability for GlyConnect or other relevant resources. \\n\\nLet\\'s proceed with the generated query within the required markdown code block format:\\n\\n```sparql\\n# https://sparql.uniprot.org/sparql\\nPREFIX up: <http://purl.uniprot.org/core/>\\nPREFIX gly: <http://purl.obolibrary.org/obo/GlycoConnect#>\\n\\nSELECT DISTINCT ?enzyme ?glycosylationSite ?glycan\\nWHERE {\\n  SERVICE <https://sparql.uniprot.org/sparql> {\\n    ?enzyme a up:Protein ;\\n            up:organism <http://purl.uniprot.org/taxonomy/9606> ;\\n            up:annotation ?annotation .\\n    ?annotation a up:Modified_Residue_Annotation ;\\n                up:range ?range .\\n    FILTER CONTAINS(STR(?annotation), \"glycosylation\")\\n    ?range up:start ?glycosylationSite .\\n  }\\n  # SERVICE <https://example.com/glyconnect/sparql> {\\n  #   ?glycosylationSite gly:hasGlycan ?glycan .\\n  # }\\n}\\n```', substeps=[], type='context', fixed_message=None)]}\n",
      "Got first run!\n",
      "Warning: Run has None value for start_time or end_time\n",
      "Result: {'final_state_response': '# https://sparql.uniprot.org/sparql\\nPREFIX up: <http://purl.uniprot.org/core/>\\nPREFIX gly: <http://purl.obolibrary.org/obo/GlycoConnect#>\\n\\nSELECT DISTINCT ?enzyme ?glycosylationSite ?glycan\\nWHERE {\\n  SERVICE <https://sparql.uniprot.org/sparql> {\\n    ?enzyme a up:Protein ;\\n            up:organism <http://purl.uniprot.org/taxonomy/9606> ;\\n            up:annotation ?annotation .\\n    ?annotation a up:Modified_Residue_Annotation ;\\n                up:range ?range .\\n    FILTER CONTAINS(STR(?annotation), \"glycosylation\")\\n    ?range up:start ?glycosylationSite .\\n  }\\n  # SERVICE <https://example.com/glyconnect/sparql> {\\n  #   ?glycosylationSite gly:hasGlycan ?glycan .\\n  # }\\n}', 'run_id_langsmith': 'b1935515-bcec-4955-a16e-697cd7ca186a', 'in_dataset': False, 'execution_time': '0', 'sparql_construction_prompt_tokens': 639, 'sparql_construction_completion_tokens': 1069, 'sparql_construction_total_tokens': 1708, 'sparql_construction_prompt_cost': 0, 'sparql_construction_completion_cost': 0, 'sparql_construction_total_cost': 0, 'prompt_tokens': 1131, 'completion_tokens': 83, 'total_tokens': 1214, 'prompt_cost': 0, 'completion_cost': 0, 'total_cost': 0}\n",
      "Got result\n"
     ]
    },
    {
     "name": "stderr",
     "output_type": "stream",
     "text": [
      "/Users/sebastian/Documents/Bachelor Thesis/sparql-rag-agent/sparql-rag-agent/.venv/lib/python3.11/site-packages/nltk/translate/bleu_score.py:577: UserWarning: \n",
      "The hypothesis contains 0 counts of 4-gram overlaps.\n",
      "Therefore the BLEU score evaluates to 0, independently of\n",
      "how many N-gram overlaps of lower order it contains.\n",
      "Consider using lower n-gram order or use SmoothingFunction()\n",
      "  warnings.warn(_msg)\n"
     ]
    },
    {
     "name": "stdout",
     "output_type": "stream",
     "text": [
      "SP-BLEU 0.05295001712264213\n",
      "METEOR 0.3269457682381245\n",
      "F1-score:  0\n",
      "SP-F1-score:  0\n",
      "Number of invalid queries(None): 0\n",
      "Saved query comparison to: /Users/sebastian/Documents/Bachelor Thesis/sparql-rag-agent/sparql-rag-agent/experiments/eval/ev_2025-04-12_21-28-15/48_comparison.ttl\n"
     ]
    },
    {
     "data": {
      "text/plain": [
       "'/Users/sebastian/Documents/Bachelor Thesis/sparql-rag-agent/sparql-rag-agent/experiments/eval/ev_2025-04-12_21-28-15/evaluation_dataset.json'"
      ]
     },
     "execution_count": 1,
     "metadata": {},
     "output_type": "execute_result"
    }
   ],
   "source": [
    "import asyncio\n",
    "import sys\n",
    "sys.path.append('/Users/sebastian/Documents/Bachelor Thesis/sparql-rag-agent/sparql-rag-agent')\n",
    "\n",
    "from experiments.utilities.evaluation import AgentEvaluator\n",
    "\n",
    "\n",
    "evaluator = AgentEvaluator(\n",
    "    endpoint_sets={\"Uniprot\": [\"48_glycosylation_sites_and_glycans.ttl\"]},\n",
    "    test=True,\n",
    "    #experiment_dir=\"experiments_official\"\n",
    ")\n",
    "\n",
    "await evaluator.run_all_tests()"
   ]
  },
  {
   "cell_type": "markdown",
   "metadata": {},
   "source": [
    "# Metric testing"
   ]
  },
  {
   "cell_type": "code",
   "execution_count": 3,
   "metadata": {},
   "outputs": [],
   "source": [
    "# Create test pairs for eval_pairs function with comments to test clean_sparql_query\n",
    "test_pairs = [\n",
    "    (\n",
    "        \"\"\"# This is a comment at the beginning of the query\n",
    "PREFIX rh: <[http://rdf.rhea-db.org/>](http://rdf.rhea-db.org/>)\n",
    "PREFIX up: <[http://purl.uniprot.org/core/>](http://purl.uniprot.org/core/>) # Comment after a PREFIX declaration\n",
    "\n",
    "# Query 12 - This is a descriptive comment\n",
    "# Select all Rhea reactions used to annotate enzyme sequences in UniProtKB\n",
    "SELECT ?uniprotCount ?rhea ?accession ?equation # Comment after SELECT\n",
    "WHERE {\n",
    "  SERVICE <[https://sparql.uniprot.org/sparql>](https://sparql.uniprot.org/sparql>) { # Comment inside the query\n",
    "    SELECT ?rhea (count(?uniprot) as ?uniprotCount) {\n",
    "      ?uniprot up:annotation/up:catalyticActivity/up:catalyzedReaction ?rhea . # Technical comment\n",
    "    }\n",
    "    GROUP BY ?rhea # Grouping comment\n",
    "  }\n",
    "  ?rhea rh:accession ?accession . # Comment with special characters: @#$%^&*()\n",
    "  ?rhea rh:equation ?equation .\n",
    "} # Final comment at the end of the query\"\"\",\n",
    "        \n",
    "        \"\"\"# [https://sparql.rhea-db.org/sparql](https://sparql.rhea-db.org/sparql)\n",
    "PREFIX rhea: <[http://rdf.rhea-db.org/>](http://rdf.rhea-db.org/>) # Namespace for Rhea\n",
    "\n",
    "# This query selects all reactions\n",
    "# It's a simplified version of the ground truth query\n",
    "SELECT DISTINCT ?reaction # Get unique reactions only\n",
    "WHERE {\n",
    "  ?reaction a rhea:Reaction . # This finds all instances of the Reaction class\n",
    "  # The following line is commented out but would filter by status\n",
    "  # ?reaction rhea:status \"approved\" .\n",
    "}\"\"\"\n",
    "    ),\n",
    "    \n",
    "    # Second example with a different query pair and different comment styles\n",
    "    (\n",
    "        \"\"\"PREFIX CHEBI: <[http://purl.obolibrary.org/obo/CHEBI_>](http://purl.obolibrary.org/obo/CHEBI_>) # Chemical Entities of Biological Interest\n",
    "PREFIX rh: <[http://rdf.rhea-db.org/>](http://rdf.rhea-db.org/>)\n",
    "PREFIX skos: <[http://www.w3.org/2004/02/skos/core#>](http://www.w3.org/2004/02/skos/core#>)\n",
    "PREFIX up: <[http://purl.uniprot.org/core/>](http://purl.uniprot.org/core/>)\n",
    "\n",
    "# This query finds proteins linked to arachidonate\n",
    "# CHEBI:32395 is the identifier for arachidonate\n",
    "SELECT \n",
    "    DISTINCT # Ensure unique results\n",
    "        ?uniprot\n",
    "        ?uniprotID\n",
    "        ?recname\n",
    "        ?gene\n",
    "        ?chebi\n",
    "        ?uniprotName # Name from UniProt\n",
    "WHERE {\n",
    "  SERVICE <[https://sparql.rhea-db.org/sparql>](https://sparql.rhea-db.org/sparql>) { # Federated query to Rhea\n",
    "     VALUES (?chebi) { (CHEBI:32395) } # Specify the chemical entity\n",
    "     ?rhea rh:side/rh:contains/rh:compound ?compound . # Path to compound\n",
    "     ?compound rh:chebi ?chebi .\n",
    "     ?chebi up:name ?uniprotName . # Get the name\n",
    "  }\n",
    "  ?uniprot up:annotation/up:catalyticActivity/up:catalyzedReaction ?rhea . # Link to reaction\n",
    "  ?uniprot up:mnemonic ?uniprotID . # Get the ID\n",
    "  ?uniprot up:recommendedName/up:fullName ?recname .\n",
    "  OPTIONAL {?uniprot up:encodedBy/skos:prefLabel ?gene .} # Gene name is optional\n",
    "} # End of query\"\"\",\n",
    "        \n",
    "        \"\"\"# This is the predicted query for arachidonate proteins\n",
    "# It uses different prefixes than the ground truth\n",
    "PREFIX obo: <[http://purl.obolibrary.org/obo/>](http://purl.obolibrary.org/obo/>) # Ontology prefix\n",
    "PREFIX rhea: <[http://rdf.rhea-db.org/reaction/>](http://rdf.rhea-db.org/reaction/>) # Different Rhea prefix\n",
    "\n",
    "SELECT DISTINCT ?protein ?reaction ?ecnumber # Different variables\n",
    "WHERE {\n",
    "    # Identify the CHEBI ID for arachidonate\n",
    "    VALUES ?chebi {obo:CHEBI_32395} # Same entity, different prefix format\n",
    "    \n",
    "    # Query Rhea to find reactions associated with arachidonate\n",
    "    SERVICE <[https://sparql.rhea-db.org/sparql>](https://sparql.rhea-db.org/sparql>) { # Same service endpoint\n",
    "        ?reaction rhea:side ?side . # Different property path\n",
    "        ?side rhea:contains ?chebi .\n",
    "        ?reaction rhea:catalyzedBy ?protein . # Different relationship\n",
    "    }\n",
    "    \n",
    "    # Retrieve EC numbers associated with the reactions\n",
    "    ?reaction obo:RO_0000057 ?ecnumber . # Additional information\n",
    "    # ?protein rdfs:label ?name . # This line is commented out\n",
    "}\"\"\"\n",
    "    )\n",
    "]\n",
    "\n",
    "# Example usage in your notebook:\n",
    "# import sys\n",
    "# sys.path.append('../utilities')\n",
    "# from metrics import eval_pairs\n",
    "# from format import clean_sparql_query\n",
    "# \n",
    "# # Clean the queries before evaluation\n",
    "# cleaned_pairs = [(clean_sparql_query(gt), clean_sparql_query(pred)) for gt, pred in test_pairs]\n",
    "# \n",
    "# # Run evaluation on cleaned pairs\n",
    "# results = eval_pairs(cleaned_pairs)\n",
    "# print(results)"
   ]
  },
  {
   "cell_type": "code",
   "execution_count": 2,
   "metadata": {},
   "outputs": [
    {
     "name": "stdout",
     "output_type": "stream",
     "text": [
      "[('# This is a comment at the beginning of the query\\nPREFIX rh: <[http://rdf.rhea-db.org/>](http://rdf.rhea-db.org/>)\\nPREFIX up: <[http://purl.uniprot.org/core/>](http://purl.uniprot.org/core/>) # Comment after a PREFIX declaration\\n\\n# Query 12 - This is a descriptive comment\\n# Select all Rhea reactions used to annotate enzyme sequences in UniProtKB\\nSELECT ?uniprotCount ?rhea ?accession ?equation # Comment after SELECT\\nWHERE {\\n  SERVICE <[https://sparql.uniprot.org/sparql>](https://sparql.uniprot.org/sparql>) { # Comment inside the query\\n    SELECT ?rhea (count(?uniprot) as ?uniprotCount) {\\n      ?uniprot up:annotation/up:catalyticActivity/up:catalyzedReaction ?rhea . # Technical comment\\n    }\\n    GROUP BY ?rhea # Grouping comment\\n  }\\n  ?rhea rh:accession ?accession . # Comment with special characters: @#$%^&*()\\n  ?rhea rh:equation ?equation .\\n} # Final comment at the end of the query', '# [https://sparql.rhea-db.org/sparql](https://sparql.rhea-db.org/sparql)\\nPREFIX rhea: <[http://rdf.rhea-db.org/>](http://rdf.rhea-db.org/>) # Namespace for Rhea\\n\\n# This query selects all reactions\\n# It\\'s a simplified version of the ground truth query\\nSELECT DISTINCT ?reaction # Get unique reactions only\\nWHERE {\\n  ?reaction a rhea:Reaction . # This finds all instances of the Reaction class\\n  # The following line is commented out but would filter by status\\n  # ?reaction rhea:status \"approved\" .\\n}'), ('PREFIX CHEBI: <[http://purl.obolibrary.org/obo/CHEBI_>](http://purl.obolibrary.org/obo/CHEBI_>) # Chemical Entities of Biological Interest\\nPREFIX rh: <[http://rdf.rhea-db.org/>](http://rdf.rhea-db.org/>)\\nPREFIX skos: <[http://www.w3.org/2004/02/skos/core#>](http://www.w3.org/2004/02/skos/core#>)\\nPREFIX up: <[http://purl.uniprot.org/core/>](http://purl.uniprot.org/core/>)\\n\\n# This query finds proteins linked to arachidonate\\n# CHEBI:32395 is the identifier for arachidonate\\nSELECT \\n    DISTINCT # Ensure unique results\\n        ?uniprot\\n        ?uniprotID\\n        ?recname\\n        ?gene\\n        ?chebi\\n        ?uniprotName # Name from UniProt\\nWHERE {\\n  SERVICE <[https://sparql.rhea-db.org/sparql>](https://sparql.rhea-db.org/sparql>) { # Federated query to Rhea\\n     VALUES (?chebi) { (CHEBI:32395) } # Specify the chemical entity\\n     ?rhea rh:side/rh:contains/rh:compound ?compound . # Path to compound\\n     ?compound rh:chebi ?chebi .\\n     ?chebi up:name ?uniprotName . # Get the name\\n  }\\n  ?uniprot up:annotation/up:catalyticActivity/up:catalyzedReaction ?rhea . # Link to reaction\\n  ?uniprot up:mnemonic ?uniprotID . # Get the ID\\n  ?uniprot up:recommendedName/up:fullName ?recname .\\n  OPTIONAL {?uniprot up:encodedBy/skos:prefLabel ?gene .} # Gene name is optional\\n} # End of query', '# This is the predicted query for arachidonate proteins\\n# It uses different prefixes than the ground truth\\nPREFIX obo: <[http://purl.obolibrary.org/obo/>](http://purl.obolibrary.org/obo/>) # Ontology prefix\\nPREFIX rhea: <[http://rdf.rhea-db.org/reaction/>](http://rdf.rhea-db.org/reaction/>) # Different Rhea prefix\\n\\nSELECT DISTINCT ?protein ?reaction ?ecnumber # Different variables\\nWHERE {\\n    # Identify the CHEBI ID for arachidonate\\n    VALUES ?chebi {obo:CHEBI_32395} # Same entity, different prefix format\\n\\n    # Query Rhea to find reactions associated with arachidonate\\n    SERVICE <[https://sparql.rhea-db.org/sparql>](https://sparql.rhea-db.org/sparql>) { # Same service endpoint\\n        ?reaction rhea:side ?side . # Different property path\\n        ?side rhea:contains ?chebi .\\n        ?reaction rhea:catalyzedBy ?protein . # Different relationship\\n    }\\n\\n    # Retrieve EC numbers associated with the reactions\\n    ?reaction obo:RO_0000057 ?ecnumber . # Additional information\\n    # ?protein rdfs:label ?name . # This line is commented out\\n}')]\n"
     ]
    }
   ],
   "source": [
    "import sys,os\n",
    "\n",
    "\n",
    "sys.path.append('/Users/sebastian/Documents/Bachelor Thesis/sparql-rag-agent/sparql-rag-agent')\n",
    "#from metrics import eval_pairs\n",
    "from experiments.utilities.format import clean_sparql_query\n",
    "\n",
    "# Clean the queries before evaluation\n",
    "cleaned_pairs = [(clean_sparql_query(gt), clean_sparql_query(pred)) for gt, pred in test_pairs]\n",
    "\n",
    "print(test_pairs)\n",
    "#print(cleaned_pairs)"
   ]
  },
  {
   "cell_type": "code",
   "execution_count": 4,
   "metadata": {},
   "outputs": [
    {
     "name": "stderr",
     "output_type": "stream",
     "text": [
      "/Users/sebastian/Documents/Bachelor Thesis/sparql-rag-agent/sparql-rag-agent/.venv/lib/python3.11/site-packages/nltk/translate/bleu_score.py:577: UserWarning: \n",
      "The hypothesis contains 0 counts of 3-gram overlaps.\n",
      "Therefore the BLEU score evaluates to 0, independently of\n",
      "how many N-gram overlaps of lower order it contains.\n",
      "Consider using lower n-gram order or use SmoothingFunction()\n",
      "  warnings.warn(_msg)\n",
      "/Users/sebastian/Documents/Bachelor Thesis/sparql-rag-agent/sparql-rag-agent/.venv/lib/python3.11/site-packages/nltk/translate/bleu_score.py:577: UserWarning: \n",
      "The hypothesis contains 0 counts of 4-gram overlaps.\n",
      "Therefore the BLEU score evaluates to 0, independently of\n",
      "how many N-gram overlaps of lower order it contains.\n",
      "Consider using lower n-gram order or use SmoothingFunction()\n",
      "  warnings.warn(_msg)\n"
     ]
    },
    {
     "name": "stdout",
     "output_type": "stream",
     "text": [
      "SP-BLEU 9.266129794683117e-79\n",
      "METEOR 0.19198805586465886\n",
      "F1-score:  0\n",
      "SP-F1-score:  0\n",
      "Number of invalid queries(None): 0\n",
      "{'SP-BLEU': 9.266129794683117e-79, 'METEOR': 0.19198805586465886, 'f1': 0, 'sp_f1': 0, 'num_none_queries': 0}\n"
     ]
    }
   ],
   "source": [
    "import sys,os\n",
    "\n",
    "sys.path.append('/Users/sebastian/Documents/Bachelor Thesis/sparql-rag-agent/sparql-rag-agent')\n",
    "\n",
    "from experiments.utilities.metrics import eval_pairs\n",
    "from experiments.utilities.format import clean_sparql_query\n",
    "\n",
    "cleaned_pairs = [(clean_sparql_query(gt), clean_sparql_query(pred)) for gt, pred in test_pairs]\n",
    "\n",
    "eval = eval_pairs(cleaned_pairs)\n",
    "\n",
    "print(eval)"
   ]
  },
  {
   "cell_type": "code",
   "execution_count": 7,
   "metadata": {},
   "outputs": [],
   "source": [
    "identical_query = \"\"\"# This is a SPARQL query with comments\n",
    "PREFIX rdf: <[http://www.w3.org/1999/02/22-rdf-syntax-ns#>](http://www.w3.org/1999/02/22-rdf-syntax-ns#>)\n",
    "PREFIX rdfs: <[http://www.w3.org/2000/01/rdf-schema#>](http://www.w3.org/2000/01/rdf-schema#>) # RDF Schema namespace\n",
    "\n",
    "# This query finds all classes in the dataset\n",
    "SELECT DISTINCT ?class ?label # Get classes and their labels\n",
    "WHERE {\n",
    "  ?instance a ?class . # This finds all classes used in the dataset\n",
    "  OPTIONAL { \n",
    "    ?class rdfs:label ?label . # Get the label if available\n",
    "    # Labels make the results more readable\n",
    "  }\n",
    "} \n",
    "ORDER BY ?class # Sort alphabetically by class URI\n",
    "LIMIT 100 # Only return the first 100 results\n",
    "# End of query\"\"\"\n",
    "\n",
    "test_pairs = [\n",
    "    (identical_query, identical_query),  # Same query for ground truth and prediction\n",
    "    (identical_query, identical_query)   # Second pair, also identical\n",
    "]"
   ]
  },
  {
   "cell_type": "code",
   "execution_count": null,
   "metadata": {},
   "outputs": [
    {
     "name": "stdout",
     "output_type": "stream",
     "text": [
      "SP-BLEU 1.0\n",
      "METEOR 0.9999794989544467\n",
      "F1-score:  0\n",
      "SP-F1-score:  0\n",
      "Number of invalid queries(None): 0\n",
      "Evaluation results saved to: evaluation_results_20250412_162049.json\n",
      "Metrics: {'SP-BLEU': 1.0, 'METEOR': 0.9999794989544467, 'f1': 0, 'sp_f1': 0, 'num_none_queries': 0}\n"
     ]
    }
   ],
   "source": [
    "#!/usr/bin/env python3\n",
    "import sys\n",
    "import os\n",
    "import json\n",
    "from datetime import datetime\n",
    "\n",
    "# Add project root to path\n",
    "sys.path.append('/Users/sebastian/Documents/Bachelor Thesis/sparql-rag-agent/sparql-rag-agent')\n",
    "\n",
    "from experiments.utilities.metrics import eval_pairs\n",
    "from experiments.utilities.format import clean_sparql_query\n",
    "\n",
    "# Assuming test_pairs is defined in the environment where this script is run\n",
    "# Clean the SPARQL queries\n",
    "cleaned_pairs = [(clean_sparql_query(gt), clean_sparql_query(pred)) for gt, pred in test_pairs]\n",
    "\n",
    "# Run evaluation\n",
    "evaluation_results = eval_pairs(cleaned_pairs)\n",
    "\n",
    "# Create output filename with timestamp\n",
    "timestamp = datetime.now().strftime(\"%Y%m%d_%H%M%S\")\n",
    "output_path = f\"evaluation_results_{timestamp}.json\"\n",
    "\n",
    "# Store both original and cleaned queries\n",
    "pairs_data = []\n",
    "for i, ((original_gt, original_pred), (cleaned_gt, cleaned_pred)) in enumerate(zip(test_pairs, cleaned_pairs)):\n",
    "    pairs_data.append({\n",
    "        \"pair_id\": i,\n",
    "        \"original_ground_truth\": original_gt,\n",
    "        \"original_prediction\": original_pred,\n",
    "        \"cleaned_ground_truth\": cleaned_gt,\n",
    "        \"cleaned_prediction\": cleaned_pred\n",
    "    })\n",
    "\n",
    "\n",
    "results_dict = {\n",
    "    \"metrics\": {metric: value for metric, value in evaluation_results.items()},\n",
    "    \"num_pairs_evaluated\": len(test_pairs),\n",
    "    \"query_pairs\": pairs_data\n",
    "}\n",
    "\n",
    "# Write to JSON file\n",
    "with open(output_path, 'w') as f:\n",
    "    json.dump(results_dict, f, indent=2)\n",
    "\n",
    "print(f\"Evaluation results saved to: {output_path}\")\n",
    "print(f\"Metrics: {evaluation_results}\")"
   ]
  },
  {
   "cell_type": "markdown",
   "metadata": {},
   "source": [
    "# Result comparision development"
   ]
  },
  {
   "cell_type": "code",
   "execution_count": 2,
   "metadata": {},
   "outputs": [],
   "source": [
    "import sys\n",
    "import os\n",
    "\n",
    "sys.path.append('/Users/sebastian/Documents/Bachelor Thesis/sparql-rag-agent/sparql-rag-agent')\n",
    "\n",
    "from entity_indexing.endpoint_loader import query_sparql"
   ]
  },
  {
   "cell_type": "code",
   "execution_count": 9,
   "metadata": {},
   "outputs": [],
   "source": [
    "ground_truth_query = \"\"\"PREFIX CHEBI: <http://purl.obolibrary.org/obo/CHEBI_>\n",
    "PREFIX rh: <http://rdf.rhea-db.org/>\n",
    "PREFIX skos: <http://www.w3.org/2004/02/skos/core#>\n",
    "PREFIX up: <http://purl.uniprot.org/core/>\n",
    "\n",
    "\n",
    "SELECT \n",
    "    DISTINCT\n",
    "        ?uniprot\n",
    "        ?uniprotID\n",
    "        ?recname\n",
    "        ?gene\n",
    "        ?chebi\n",
    "        ?uniprotName\n",
    "WHERE {\n",
    "  SERVICE <https://sparql.rhea-db.org/sparql> {\n",
    "     VALUES (?chebi) { (CHEBI:32395) }\n",
    "     ?rhea rh:side/rh:contains/rh:compound ?compound .\n",
    "     ?compound rh:chebi ?chebi .\n",
    "     ?chebi up:name ?uniprotName .\n",
    "  }\n",
    "  ?uniprot up:annotation/up:catalyticActivity/up:catalyzedReaction ?rhea .\n",
    "  ?uniprot up:mnemonic ?uniprotID .\n",
    "  ?uniprot up:recommendedName/up:fullName ?recname .\n",
    "  OPTIONAL {?uniprot up:encodedBy/skos:prefLabel ?gene .}\n",
    "}\n",
    "LIMIT 100\n",
    "\"\"\"\n",
    "\n",
    "target_endpoint = \"https://sparql.uniprot.org/sparql/\""
   ]
  },
  {
   "cell_type": "code",
   "execution_count": 10,
   "metadata": {},
   "outputs": [],
   "source": [
    "predicted_query = \"\"\"PREFIX obo: <http://purl.obolibrary.org/obo/>\n",
    "PREFIX rhea: <http://rdf.rhea-db.org/reaction/>\n",
    "\n",
    "SELECT DISTINCT ?protein ?reaction ?ecnumber\n",
    "WHERE {\n",
    "    # Identify the CHEBI ID for arachidonate\n",
    "    VALUES ?chebi {obo:CHEBI_32395}\n",
    "    \n",
    "    # Query Rhea to find reactions associated with arachidonate\n",
    "    SERVICE <https://sparql.rhea-db.org/sparql> {\n",
    "        ?reaction rhea:side ?side .\n",
    "        ?side rhea:contains ?chebi .\n",
    "        ?reaction rhea:catalyzedBy ?protein .\n",
    "    }\n",
    "    \n",
    "    # Retrieve EC numbers associated with the reactions\n",
    "    ?reaction obo:RO_0000057 ?ecnumber .\n",
    "}\"\"\""
   ]
  },
  {
   "cell_type": "code",
   "execution_count": 11,
   "metadata": {},
   "outputs": [
    {
     "name": "stdout",
     "output_type": "stream",
     "text": [
      "{'head': {'vars': ['uniprot', 'uniprotID', 'recname', 'gene', 'chebi', 'uniprotName']}, 'results': {'bindings': [{'uniprotName': {'type': 'literal', 'value': '(5Z,8Z,11Z,14Z)-eicosatetraenoate'}, 'chebi': {'type': 'uri', 'value': 'http://purl.obolibrary.org/obo/CHEBI_32395'}, 'gene': {'type': 'literal', 'value': 'CYP1A2'}, 'uniprot': {'type': 'uri', 'value': 'http://purl.uniprot.org/uniprot/O77809'}, 'uniprotID': {'type': 'literal', 'value': 'CP1A2_MACFA'}, 'recname': {'type': 'literal', 'value': 'Cytochrome P450 1A2'}}, {'uniprotName': {'type': 'literal', 'value': '(5Z,8Z,11Z,14Z)-eicosatetraenoate'}, 'chebi': {'type': 'uri', 'value': 'http://purl.obolibrary.org/obo/CHEBI_32395'}, 'gene': {'type': 'literal', 'value': 'CYP1A2'}, 'uniprot': {'type': 'uri', 'value': 'http://purl.uniprot.org/uniprot/O77810'}, 'uniprotID': {'type': 'literal', 'value': 'CP1A2_CALJA'}, 'recname': {'type': 'literal', 'value': 'Cytochrome P450 1A2'}}, {'uniprotName': {'type': 'literal', 'value': '(5Z,8Z,11Z,14Z)-eicosatetraenoate'}, 'chebi': {'type': 'uri', 'value': 'http://purl.obolibrary.org/obo/CHEBI_32395'}, 'gene': {'type': 'literal', 'value': 'Cyp1a1'}, 'uniprot': {'type': 'uri', 'value': 'http://purl.uniprot.org/uniprot/P00184'}, 'uniprotID': {'type': 'literal', 'value': 'CP1A1_MOUSE'}, 'recname': {'type': 'literal', 'value': 'Cytochrome P450 1A1'}}, {'uniprotName': {'type': 'literal', 'value': '(5Z,8Z,11Z,14Z)-eicosatetraenoate'}, 'chebi': {'type': 'uri', 'value': 'http://purl.obolibrary.org/obo/CHEBI_32395'}, 'gene': {'type': 'literal', 'value': 'Cyp1a2'}, 'uniprot': {'type': 'uri', 'value': 'http://purl.uniprot.org/uniprot/P00186'}, 'uniprotID': {'type': 'literal', 'value': 'CP1A2_MOUSE'}, 'recname': {'type': 'literal', 'value': 'Cytochrome P450 1A2'}}, {'uniprotName': {'type': 'literal', 'value': '(5Z,8Z,11Z,14Z)-eicosatetraenoate'}, 'chebi': {'type': 'uri', 'value': 'http://purl.obolibrary.org/obo/CHEBI_32395'}, 'gene': {'type': 'literal', 'value': 'CYP1A2'}, 'uniprot': {'type': 'uri', 'value': 'http://purl.uniprot.org/uniprot/P00187'}, 'uniprotID': {'type': 'literal', 'value': 'CP1A2_RABIT'}, 'recname': {'type': 'literal', 'value': 'Cytochrome P450 1A2'}}, {'uniprotName': {'type': 'literal', 'value': '(5Z,8Z,11Z,14Z)-eicosatetraenoate'}, 'chebi': {'type': 'uri', 'value': 'http://purl.obolibrary.org/obo/CHEBI_32395'}, 'gene': {'type': 'literal', 'value': 'CYP1A1'}, 'uniprot': {'type': 'uri', 'value': 'http://purl.uniprot.org/uniprot/P04798'}, 'uniprotID': {'type': 'literal', 'value': 'CP1A1_HUMAN'}, 'recname': {'type': 'literal', 'value': 'Cytochrome P450 1A1'}}, {'uniprotName': {'type': 'literal', 'value': '(5Z,8Z,11Z,14Z)-eicosatetraenoate'}, 'chebi': {'type': 'uri', 'value': 'http://purl.obolibrary.org/obo/CHEBI_32395'}, 'gene': {'type': 'literal', 'value': 'Cyp1a2'}, 'uniprot': {'type': 'uri', 'value': 'http://purl.uniprot.org/uniprot/P04799'}, 'uniprotID': {'type': 'literal', 'value': 'CP1A2_RAT'}, 'recname': {'type': 'literal', 'value': 'Cytochrome P450 1A2'}}, {'uniprotName': {'type': 'literal', 'value': '(5Z,8Z,11Z,14Z)-eicosatetraenoate'}, 'chebi': {'type': 'uri', 'value': 'http://purl.obolibrary.org/obo/CHEBI_32395'}, 'gene': {'type': 'literal', 'value': 'CYP1A1'}, 'uniprot': {'type': 'uri', 'value': 'http://purl.uniprot.org/uniprot/P05176'}, 'uniprotID': {'type': 'literal', 'value': 'CP1A1_RABIT'}, 'recname': {'type': 'literal', 'value': 'Cytochrome P450 1A1'}}, {'uniprotName': {'type': 'literal', 'value': '(5Z,8Z,11Z,14Z)-eicosatetraenoate'}, 'chebi': {'type': 'uri', 'value': 'http://purl.obolibrary.org/obo/CHEBI_32395'}, 'gene': {'type': 'literal', 'value': 'CYP1A2'}, 'uniprot': {'type': 'uri', 'value': 'http://purl.uniprot.org/uniprot/P05177'}, 'uniprotID': {'type': 'literal', 'value': 'CP1A2_HUMAN'}, 'recname': {'type': 'literal', 'value': 'Cytochrome P450 1A2'}}, {'uniprotName': {'type': 'literal', 'value': '(5Z,8Z,11Z,14Z)-eicosatetraenoate'}, 'chebi': {'type': 'uri', 'value': 'http://purl.obolibrary.org/obo/CHEBI_32395'}, 'gene': {'type': 'literal', 'value': 'CYP1A2'}, 'uniprot': {'type': 'uri', 'value': 'http://purl.uniprot.org/uniprot/P24453'}, 'uniprotID': {'type': 'literal', 'value': 'CP1A2_MESAU'}, 'recname': {'type': 'literal', 'value': 'Cytochrome P450 1A2'}}, {'uniprotName': {'type': 'literal', 'value': '(5Z,8Z,11Z,14Z)-eicosatetraenoate'}, 'chebi': {'type': 'uri', 'value': 'http://purl.obolibrary.org/obo/CHEBI_32395'}, 'gene': {'type': 'literal', 'value': 'CYP1A1'}, 'uniprot': {'type': 'uri', 'value': 'http://purl.uniprot.org/uniprot/P33616'}, 'uniprotID': {'type': 'literal', 'value': 'CP1A1_MACFA'}, 'recname': {'type': 'literal', 'value': 'Cytochrome P450 1A1'}}, {'uniprotName': {'type': 'literal', 'value': '(5Z,8Z,11Z,14Z)-eicosatetraenoate'}, 'chebi': {'type': 'uri', 'value': 'http://purl.obolibrary.org/obo/CHEBI_32395'}, 'gene': {'type': 'literal', 'value': 'CYP1A1'}, 'uniprot': {'type': 'uri', 'value': 'http://purl.uniprot.org/uniprot/P56590'}, 'uniprotID': {'type': 'literal', 'value': 'CP1A1_CANLF'}, 'recname': {'type': 'literal', 'value': 'Cytochrome P450 1A1'}}, {'uniprotName': {'type': 'literal', 'value': '(5Z,8Z,11Z,14Z)-eicosatetraenoate'}, 'chebi': {'type': 'uri', 'value': 'http://purl.obolibrary.org/obo/CHEBI_32395'}, 'gene': {'type': 'literal', 'value': 'CYP1A1'}, 'uniprot': {'type': 'uri', 'value': 'http://purl.uniprot.org/uniprot/P56591'}, 'uniprotID': {'type': 'literal', 'value': 'CP1A1_SHEEP'}, 'recname': {'type': 'literal', 'value': 'Cytochrome P450 1A1'}}, {'uniprotName': {'type': 'literal', 'value': '(5Z,8Z,11Z,14Z)-eicosatetraenoate'}, 'chebi': {'type': 'uri', 'value': 'http://purl.obolibrary.org/obo/CHEBI_32395'}, 'gene': {'type': 'literal', 'value': 'CYP1A2'}, 'uniprot': {'type': 'uri', 'value': 'http://purl.uniprot.org/uniprot/P56592'}, 'uniprotID': {'type': 'literal', 'value': 'CP1A2_CANLF'}, 'recname': {'type': 'literal', 'value': 'Cytochrome P450 1A2'}}, {'uniprotName': {'type': 'literal', 'value': '(5Z,8Z,11Z,14Z)-eicosatetraenoate'}, 'chebi': {'type': 'uri', 'value': 'http://purl.obolibrary.org/obo/CHEBI_32395'}, 'gene': {'type': 'literal', 'value': 'CYP1A1'}, 'uniprot': {'type': 'uri', 'value': 'http://purl.uniprot.org/uniprot/Q00557'}, 'uniprotID': {'type': 'literal', 'value': 'CP1A1_MESAU'}, 'recname': {'type': 'literal', 'value': 'Cytochrome P450 1A1'}}, {'uniprotName': {'type': 'literal', 'value': '(5Z,8Z,11Z,14Z)-eicosatetraenoate'}, 'chebi': {'type': 'uri', 'value': 'http://purl.obolibrary.org/obo/CHEBI_32395'}, 'gene': {'type': 'literal', 'value': 'CYP1A1'}, 'uniprot': {'type': 'uri', 'value': 'http://purl.uniprot.org/uniprot/Q06367'}, 'uniprotID': {'type': 'literal', 'value': 'CP1A1_CAVPO'}, 'recname': {'type': 'literal', 'value': 'Cytochrome P450 1A1'}}, {'uniprotName': {'type': 'literal', 'value': '(5Z,8Z,11Z,14Z)-eicosatetraenoate'}, 'chebi': {'type': 'uri', 'value': 'http://purl.obolibrary.org/obo/CHEBI_32395'}, 'gene': {'type': 'literal', 'value': 'CYP1A2'}, 'uniprot': {'type': 'uri', 'value': 'http://purl.uniprot.org/uniprot/Q3LFT9'}, 'uniprotID': {'type': 'literal', 'value': 'CP1A2_BALAC'}, 'recname': {'type': 'literal', 'value': 'Cytochrome P450 1A2'}}, {'uniprotName': {'type': 'literal', 'value': '(5Z,8Z,11Z,14Z)-eicosatetraenoate'}, 'chebi': {'type': 'uri', 'value': 'http://purl.obolibrary.org/obo/CHEBI_32395'}, 'gene': {'type': 'literal', 'value': 'CYP1A1'}, 'uniprot': {'type': 'uri', 'value': 'http://purl.uniprot.org/uniprot/Q3LFU0'}, 'uniprotID': {'type': 'literal', 'value': 'CP1A1_BALAC'}, 'recname': {'type': 'literal', 'value': 'Cytochrome P450 1A1'}}, {'uniprotName': {'type': 'literal', 'value': '(5Z,8Z,11Z,14Z)-eicosatetraenoate'}, 'chebi': {'type': 'uri', 'value': 'http://purl.obolibrary.org/obo/CHEBI_32395'}, 'gene': {'type': 'literal', 'value': 'CYP1A2'}, 'uniprot': {'type': 'uri', 'value': 'http://purl.uniprot.org/uniprot/Q4H4C3'}, 'uniprotID': {'type': 'literal', 'value': 'CP1A2_MACFU'}, 'recname': {'type': 'literal', 'value': 'Cytochrome P450 1A2'}}, {'uniprotName': {'type': 'literal', 'value': '(5Z,8Z,11Z,14Z)-eicosatetraenoate'}, 'chebi': {'type': 'uri', 'value': 'http://purl.obolibrary.org/obo/CHEBI_32395'}, 'gene': {'type': 'literal', 'value': 'CYP1A2'}, 'uniprot': {'type': 'uri', 'value': 'http://purl.uniprot.org/uniprot/Q5KQT6'}, 'uniprotID': {'type': 'literal', 'value': 'CP1A2_FELCA'}, 'recname': {'type': 'literal', 'value': 'Cytochrome P450 1A2'}}, {'uniprotName': {'type': 'literal', 'value': '(5Z,8Z,11Z,14Z)-eicosatetraenoate'}, 'chebi': {'type': 'uri', 'value': 'http://purl.obolibrary.org/obo/CHEBI_32395'}, 'gene': {'type': 'literal', 'value': 'CYP1A1'}, 'uniprot': {'type': 'uri', 'value': 'http://purl.uniprot.org/uniprot/Q5KQT7'}, 'uniprotID': {'type': 'literal', 'value': 'CP1A1_FELCA'}, 'recname': {'type': 'literal', 'value': 'Cytochrome P450 1A1'}}, {'uniprotName': {'type': 'literal', 'value': '(5Z,8Z,11Z,14Z)-eicosatetraenoate'}, 'chebi': {'type': 'uri', 'value': 'http://purl.obolibrary.org/obo/CHEBI_32395'}, 'gene': {'type': 'literal', 'value': 'CYP1A2'}, 'uniprot': {'type': 'uri', 'value': 'http://purl.uniprot.org/uniprot/Q5RBQ1'}, 'uniprotID': {'type': 'literal', 'value': 'CP1A2_PONAB'}, 'recname': {'type': 'literal', 'value': 'Cytochrome P450 1A2'}}, {'uniprotName': {'type': 'literal', 'value': '(5Z,8Z,11Z,14Z)-eicosatetraenoate'}, 'chebi': {'type': 'uri', 'value': 'http://purl.obolibrary.org/obo/CHEBI_32395'}, 'gene': {'type': 'literal', 'value': 'CYP1A2'}, 'uniprot': {'type': 'uri', 'value': 'http://purl.uniprot.org/uniprot/Q64391'}, 'uniprotID': {'type': 'literal', 'value': 'CP1A2_CAVPO'}, 'recname': {'type': 'literal', 'value': 'Cytochrome P450 1A2'}}, {'uniprotName': {'type': 'literal', 'value': '(5Z,8Z,11Z,14Z)-eicosatetraenoate'}, 'chebi': {'type': 'uri', 'value': 'http://purl.obolibrary.org/obo/CHEBI_32395'}, 'gene': {'type': 'literal', 'value': 'Cyp1b1'}, 'uniprot': {'type': 'uri', 'value': 'http://purl.uniprot.org/uniprot/Q64678'}, 'uniprotID': {'type': 'literal', 'value': 'CP1B1_RAT'}, 'recname': {'type': 'literal', 'value': 'Cytochrome P450 1B1'}}, {'uniprotName': {'type': 'literal', 'value': '(5Z,8Z,11Z,14Z)-eicosatetraenoate'}, 'chebi': {'type': 'uri', 'value': 'http://purl.obolibrary.org/obo/CHEBI_32395'}, 'gene': {'type': 'literal', 'value': 'CYP1A1'}, 'uniprot': {'type': 'uri', 'value': 'http://purl.uniprot.org/uniprot/Q6GUR1'}, 'uniprotID': {'type': 'literal', 'value': 'CP1A1_MACMU'}, 'recname': {'type': 'literal', 'value': 'Cytochrome P450 1A1'}}, {'uniprotName': {'type': 'literal', 'value': '(5Z,8Z,11Z,14Z)-eicosatetraenoate'}, 'chebi': {'type': 'uri', 'value': 'http://purl.obolibrary.org/obo/CHEBI_32395'}, 'gene': {'type': 'literal', 'value': 'CYP3A4'}, 'uniprot': {'type': 'uri', 'value': 'http://purl.uniprot.org/uniprot/P08684'}, 'uniprotID': {'type': 'literal', 'value': 'CP3A4_HUMAN'}, 'recname': {'type': 'literal', 'value': 'Cytochrome P450 3A4'}}, {'uniprotName': {'type': 'literal', 'value': '(5Z,8Z,11Z,14Z)-eicosatetraenoate'}, 'chebi': {'type': 'uri', 'value': 'http://purl.obolibrary.org/obo/CHEBI_32395'}, 'gene': {'type': 'literal', 'value': 'CYP2J2'}, 'uniprot': {'type': 'uri', 'value': 'http://purl.uniprot.org/uniprot/P51589'}, 'uniprotID': {'type': 'literal', 'value': 'CP2J2_HUMAN'}, 'recname': {'type': 'literal', 'value': 'Cytochrome P450 2J2'}}, {'uniprotName': {'type': 'literal', 'value': '(5Z,8Z,11Z,14Z)-eicosatetraenoate'}, 'chebi': {'type': 'uri', 'value': 'http://purl.obolibrary.org/obo/CHEBI_32395'}, 'gene': {'type': 'literal', 'value': 'CYP4F8'}, 'uniprot': {'type': 'uri', 'value': 'http://purl.uniprot.org/uniprot/P98187'}, 'uniprotID': {'type': 'literal', 'value': 'CP4F8_HUMAN'}, 'recname': {'type': 'literal', 'value': 'Cytochrome P450 4F8'}}, {'uniprotName': {'type': 'literal', 'value': '(5Z,8Z,11Z,14Z)-eicosatetraenoate'}, 'chebi': {'type': 'uri', 'value': 'http://purl.obolibrary.org/obo/CHEBI_32395'}, 'gene': {'type': 'literal', 'value': 'Cyp2c11'}, 'uniprot': {'type': 'uri', 'value': 'http://purl.uniprot.org/uniprot/P08683'}, 'uniprotID': {'type': 'literal', 'value': 'CP2CB_RAT'}, 'recname': {'type': 'literal', 'value': 'Cytochrome P450 2C11'}}, {'uniprotName': {'type': 'literal', 'value': '(5Z,8Z,11Z,14Z)-eicosatetraenoate'}, 'chebi': {'type': 'uri', 'value': 'http://purl.obolibrary.org/obo/CHEBI_32395'}, 'gene': {'type': 'literal', 'value': 'CYP2C8'}, 'uniprot': {'type': 'uri', 'value': 'http://purl.uniprot.org/uniprot/P10632'}, 'uniprotID': {'type': 'literal', 'value': 'CP2C8_HUMAN'}, 'recname': {'type': 'literal', 'value': 'Cytochrome P450 2C8'}}, {'uniprotName': {'type': 'literal', 'value': '(5Z,8Z,11Z,14Z)-eicosatetraenoate'}, 'chebi': {'type': 'uri', 'value': 'http://purl.obolibrary.org/obo/CHEBI_32395'}, 'gene': {'type': 'literal', 'value': 'CYP2D6'}, 'uniprot': {'type': 'uri', 'value': 'http://purl.uniprot.org/uniprot/P10635'}, 'uniprotID': {'type': 'literal', 'value': 'CP2D6_HUMAN'}, 'recname': {'type': 'literal', 'value': 'Cytochrome P450 2D6'}}, {'uniprotName': {'type': 'literal', 'value': '(5Z,8Z,11Z,14Z)-eicosatetraenoate'}, 'chebi': {'type': 'uri', 'value': 'http://purl.obolibrary.org/obo/CHEBI_32395'}, 'gene': {'type': 'literal', 'value': 'CYP2C9'}, 'uniprot': {'type': 'uri', 'value': 'http://purl.uniprot.org/uniprot/P11712'}, 'uniprotID': {'type': 'literal', 'value': 'CP2C9_HUMAN'}, 'recname': {'type': 'literal', 'value': 'Cytochrome P450 2C9'}}, {'uniprotName': {'type': 'literal', 'value': '(5Z,8Z,11Z,14Z)-eicosatetraenoate'}, 'chebi': {'type': 'uri', 'value': 'http://purl.obolibrary.org/obo/CHEBI_32395'}, 'gene': {'type': 'literal', 'value': 'Cyp2c23'}, 'uniprot': {'type': 'uri', 'value': 'http://purl.uniprot.org/uniprot/P24470'}, 'uniprotID': {'type': 'literal', 'value': 'CP2CN_RAT'}, 'recname': {'type': 'literal', 'value': 'Cytochrome P450 2C23'}}, {'uniprotName': {'type': 'literal', 'value': '(5Z,8Z,11Z,14Z)-eicosatetraenoate'}, 'chebi': {'type': 'uri', 'value': 'http://purl.obolibrary.org/obo/CHEBI_32395'}, 'gene': {'type': 'literal', 'value': 'Cyp2c40'}, 'uniprot': {'type': 'uri', 'value': 'http://purl.uniprot.org/uniprot/P56657'}, 'uniprotID': {'type': 'literal', 'value': 'CP240_MOUSE'}, 'recname': {'type': 'literal', 'value': 'Cytochrome P450 2C40'}}, {'uniprotName': {'type': 'literal', 'value': '(5Z,8Z,11Z,14Z)-eicosatetraenoate'}, 'chebi': {'type': 'uri', 'value': 'http://purl.obolibrary.org/obo/CHEBI_32395'}, 'gene': {'type': 'literal', 'value': 'CYP2D6'}, 'uniprot': {'type': 'uri', 'value': 'http://purl.uniprot.org/uniprot/Q2XNC8'}, 'uniprotID': {'type': 'literal', 'value': 'CP2D6_PANTR'}, 'recname': {'type': 'literal', 'value': 'Cytochrome P450 2D6'}}, {'uniprotName': {'type': 'literal', 'value': '(5Z,8Z,11Z,14Z)-eicosatetraenoate'}, 'chebi': {'type': 'uri', 'value': 'http://purl.obolibrary.org/obo/CHEBI_32395'}, 'gene': {'type': 'literal', 'value': 'CYP2D6'}, 'uniprot': {'type': 'uri', 'value': 'http://purl.uniprot.org/uniprot/Q2XNC9'}, 'uniprotID': {'type': 'literal', 'value': 'CP2D6_PANPA'}, 'recname': {'type': 'literal', 'value': 'Cytochrome P450 2D6'}}, {'uniprotName': {'type': 'literal', 'value': '(5Z,8Z,11Z,14Z)-eicosatetraenoate'}, 'chebi': {'type': 'uri', 'value': 'http://purl.obolibrary.org/obo/CHEBI_32395'}, 'gene': {'type': 'literal', 'value': 'CYP4Z1'}, 'uniprot': {'type': 'uri', 'value': 'http://purl.uniprot.org/uniprot/Q86W10'}, 'uniprotID': {'type': 'literal', 'value': 'CP4Z1_HUMAN'}, 'recname': {'type': 'literal', 'value': 'Cytochrome P450 4Z1'}}, {'uniprotName': {'type': 'literal', 'value': '(5Z,8Z,11Z,14Z)-eicosatetraenoate'}, 'chebi': {'type': 'uri', 'value': 'http://purl.obolibrary.org/obo/CHEBI_32395'}, 'gene': {'type': 'literal', 'value': 'ALOX15B'}, 'uniprot': {'type': 'uri', 'value': 'http://purl.uniprot.org/uniprot/O15296'}, 'uniprotID': {'type': 'literal', 'value': 'LX15B_HUMAN'}, 'recname': {'type': 'literal', 'value': 'Polyunsaturated fatty acid lipoxygenase ALOX15B'}}, {'uniprotName': {'type': 'literal', 'value': '(5Z,8Z,11Z,14Z)-eicosatetraenoate'}, 'chebi': {'type': 'uri', 'value': 'http://purl.obolibrary.org/obo/CHEBI_32395'}, 'gene': {'type': 'literal', 'value': 'Alox15b'}, 'uniprot': {'type': 'uri', 'value': 'http://purl.uniprot.org/uniprot/Q8K4F2'}, 'uniprotID': {'type': 'literal', 'value': 'LX15B_RAT'}, 'recname': {'type': 'literal', 'value': 'Polyunsaturated fatty acid lipoxygenase ALOX15B'}}, {'uniprotName': {'type': 'literal', 'value': '(5Z,8Z,11Z,14Z)-eicosatetraenoate'}, 'chebi': {'type': 'uri', 'value': 'http://purl.obolibrary.org/obo/CHEBI_32395'}, 'gene': {'type': 'literal', 'value': 'CYP1A1'}, 'uniprot': {'type': 'uri', 'value': 'http://purl.uniprot.org/uniprot/E7EMT5'}, 'uniprotID': {'type': 'literal', 'value': 'E7EMT5_HUMAN'}, 'recname': {'type': 'literal', 'value': 'Cytochrome P450 1A'}}, {'uniprotName': {'type': 'literal', 'value': '(5Z,8Z,11Z,14Z)-eicosatetraenoate'}, 'chebi': {'type': 'uri', 'value': 'http://purl.obolibrary.org/obo/CHEBI_32395'}, 'gene': {'type': 'literal', 'value': 'CYP1A1'}, 'uniprot': {'type': 'uri', 'value': 'http://purl.uniprot.org/uniprot/A0N0X8'}, 'uniprotID': {'type': 'literal', 'value': 'A0N0X8_HUMAN'}, 'recname': {'type': 'literal', 'value': 'Cytochrome P450 1A'}}, {'uniprotName': {'type': 'literal', 'value': '(5Z,8Z,11Z,14Z)-eicosatetraenoate'}, 'chebi': {'type': 'uri', 'value': 'http://purl.obolibrary.org/obo/CHEBI_32395'}, 'gene': {'type': 'literal', 'value': 'CYP1A1'}, 'uniprot': {'type': 'uri', 'value': 'http://purl.uniprot.org/uniprot/A4F3V8'}, 'uniprotID': {'type': 'literal', 'value': 'A4F3V8_HUMAN'}, 'recname': {'type': 'literal', 'value': 'Cytochrome P450 1A'}}, {'uniprotName': {'type': 'literal', 'value': '(5Z,8Z,11Z,14Z)-eicosatetraenoate'}, 'chebi': {'type': 'uri', 'value': 'http://purl.obolibrary.org/obo/CHEBI_32395'}, 'gene': {'type': 'literal', 'value': 'CYP1A1'}, 'uniprot': {'type': 'uri', 'value': 'http://purl.uniprot.org/uniprot/A4F4K4'}, 'uniprotID': {'type': 'literal', 'value': 'A4F4K4_HUMAN'}, 'recname': {'type': 'literal', 'value': 'Cytochrome P450 1A'}}, {'uniprotName': {'type': 'literal', 'value': '(5Z,8Z,11Z,14Z)-eicosatetraenoate'}, 'chebi': {'type': 'uri', 'value': 'http://purl.obolibrary.org/obo/CHEBI_32395'}, 'gene': {'type': 'literal', 'value': 'CYP1A1'}, 'uniprot': {'type': 'uri', 'value': 'http://purl.uniprot.org/uniprot/Q0VHD5'}, 'uniprotID': {'type': 'literal', 'value': 'Q0VHD5_HUMAN'}, 'recname': {'type': 'literal', 'value': 'Cytochrome P450 1A'}}, {'uniprotName': {'type': 'literal', 'value': '(5Z,8Z,11Z,14Z)-eicosatetraenoate'}, 'chebi': {'type': 'uri', 'value': 'http://purl.obolibrary.org/obo/CHEBI_32395'}, 'gene': {'type': 'literal', 'value': 'CYP1A1'}, 'uniprot': {'type': 'uri', 'value': 'http://purl.uniprot.org/uniprot/A4F4K3'}, 'uniprotID': {'type': 'literal', 'value': 'A4F4K3_HUMAN'}, 'recname': {'type': 'literal', 'value': 'Cytochrome P450 1A'}}, {'uniprotName': {'type': 'literal', 'value': '(5Z,8Z,11Z,14Z)-eicosatetraenoate'}, 'chebi': {'type': 'uri', 'value': 'http://purl.obolibrary.org/obo/CHEBI_32395'}, 'gene': {'type': 'literal', 'value': 'CYP1A1'}, 'uniprot': {'type': 'uri', 'value': 'http://purl.uniprot.org/uniprot/Q5J9B1'}, 'uniprotID': {'type': 'literal', 'value': 'Q5J9B1_HUMAN'}, 'recname': {'type': 'literal', 'value': 'Cytochrome P450 1A'}}, {'uniprotName': {'type': 'literal', 'value': '(5Z,8Z,11Z,14Z)-eicosatetraenoate'}, 'chebi': {'type': 'uri', 'value': 'http://purl.obolibrary.org/obo/CHEBI_32395'}, 'gene': {'type': 'literal', 'value': 'CYP1A1'}, 'uniprot': {'type': 'uri', 'value': 'http://purl.uniprot.org/uniprot/A0A2K6Q3V3'}, 'uniprotID': {'type': 'literal', 'value': 'A0A2K6Q3V3_RHIRO'}, 'recname': {'type': 'literal', 'value': 'Cytochrome P450 1A'}}, {'uniprotName': {'type': 'literal', 'value': '(5Z,8Z,11Z,14Z)-eicosatetraenoate'}, 'chebi': {'type': 'uri', 'value': 'http://purl.obolibrary.org/obo/CHEBI_32395'}, 'gene': {'type': 'literal', 'value': 'CYP1A1'}, 'uniprot': {'type': 'uri', 'value': 'http://purl.uniprot.org/uniprot/A0A2K6Q3V4'}, 'uniprotID': {'type': 'literal', 'value': 'A0A2K6Q3V4_RHIRO'}, 'recname': {'type': 'literal', 'value': 'Cytochrome P450 1A'}}, {'uniprotName': {'type': 'literal', 'value': '(5Z,8Z,11Z,14Z)-eicosatetraenoate'}, 'chebi': {'type': 'uri', 'value': 'http://purl.obolibrary.org/obo/CHEBI_32395'}, 'gene': {'type': 'literal', 'value': 'CYP1A2'}, 'uniprot': {'type': 'uri', 'value': 'http://purl.uniprot.org/uniprot/A0A2K6PHN4'}, 'uniprotID': {'type': 'literal', 'value': 'A0A2K6PHN4_RHIRO'}, 'recname': {'type': 'literal', 'value': 'Cytochrome P450 1A'}}, {'uniprotName': {'type': 'literal', 'value': '(5Z,8Z,11Z,14Z)-eicosatetraenoate'}, 'chebi': {'type': 'uri', 'value': 'http://purl.obolibrary.org/obo/CHEBI_32395'}, 'gene': {'type': 'literal', 'value': 'CYP1A1'}, 'uniprot': {'type': 'uri', 'value': 'http://purl.uniprot.org/uniprot/C5IMY1'}, 'uniprotID': {'type': 'literal', 'value': 'C5IMY1_PAPCY'}, 'recname': {'type': 'literal', 'value': 'Cytochrome P450 1A'}}, {'uniprotName': {'type': 'literal', 'value': '(5Z,8Z,11Z,14Z)-eicosatetraenoate'}, 'chebi': {'type': 'uri', 'value': 'http://purl.obolibrary.org/obo/CHEBI_32395'}, 'gene': {'type': 'literal', 'value': 'CYP1A1'}, 'uniprot': {'type': 'uri', 'value': 'http://purl.uniprot.org/uniprot/C5IN31'}, 'uniprotID': {'type': 'literal', 'value': 'C5IN31_PAPCY'}, 'recname': {'type': 'literal', 'value': 'Cytochrome P450 1A'}}, {'uniprotName': {'type': 'literal', 'value': '(5Z,8Z,11Z,14Z)-eicosatetraenoate'}, 'chebi': {'type': 'uri', 'value': 'http://purl.obolibrary.org/obo/CHEBI_32395'}, 'gene': {'type': 'literal', 'value': 'CYP1A1'}, 'uniprot': {'type': 'uri', 'value': 'http://purl.uniprot.org/uniprot/C5IN69'}, 'uniprotID': {'type': 'literal', 'value': 'C5IN69_PAPCY'}, 'recname': {'type': 'literal', 'value': 'Cytochrome P450 1A'}}, {'uniprotName': {'type': 'literal', 'value': '(5Z,8Z,11Z,14Z)-eicosatetraenoate'}, 'chebi': {'type': 'uri', 'value': 'http://purl.obolibrary.org/obo/CHEBI_32395'}, 'gene': {'type': 'literal', 'value': 'CYP1A1'}, 'uniprot': {'type': 'uri', 'value': 'http://purl.uniprot.org/uniprot/C5IMY0'}, 'uniprotID': {'type': 'literal', 'value': 'C5IMY0_PAPCY'}, 'recname': {'type': 'literal', 'value': 'Cytochrome P450 1A'}}, {'uniprotName': {'type': 'literal', 'value': '(5Z,8Z,11Z,14Z)-eicosatetraenoate'}, 'chebi': {'type': 'uri', 'value': 'http://purl.obolibrary.org/obo/CHEBI_32395'}, 'gene': {'type': 'literal', 'value': 'CYP1A2'}, 'uniprot': {'type': 'uri', 'value': 'http://purl.uniprot.org/uniprot/A0A2K5MBX2'}, 'uniprotID': {'type': 'literal', 'value': 'A0A2K5MBX2_CERAT'}, 'recname': {'type': 'literal', 'value': 'Cytochrome P450 1A'}}, {'uniprotName': {'type': 'literal', 'value': '(5Z,8Z,11Z,14Z)-eicosatetraenoate'}, 'chebi': {'type': 'uri', 'value': 'http://purl.obolibrary.org/obo/CHEBI_32395'}, 'gene': {'type': 'literal', 'value': 'CYP1D1'}, 'uniprot': {'type': 'uri', 'value': 'http://purl.uniprot.org/uniprot/A0A2K5KXR0'}, 'uniprotID': {'type': 'literal', 'value': 'A0A2K5KXR0_CERAT'}, 'recname': {'type': 'literal', 'value': 'Cytochrome P450 1A'}}, {'uniprotName': {'type': 'literal', 'value': '(5Z,8Z,11Z,14Z)-eicosatetraenoate'}, 'chebi': {'type': 'uri', 'value': 'http://purl.obolibrary.org/obo/CHEBI_32395'}, 'gene': {'type': 'literal', 'value': 'CYP1A1'}, 'uniprot': {'type': 'uri', 'value': 'http://purl.uniprot.org/uniprot/A0A2K5MMW4'}, 'uniprotID': {'type': 'literal', 'value': 'A0A2K5MMW4_CERAT'}, 'recname': {'type': 'literal', 'value': 'Cytochrome P450 1A'}}, {'uniprotName': {'type': 'literal', 'value': '(5Z,8Z,11Z,14Z)-eicosatetraenoate'}, 'chebi': {'type': 'uri', 'value': 'http://purl.obolibrary.org/obo/CHEBI_32395'}, 'gene': {'type': 'literal', 'value': 'CYP1A1'}, 'uniprot': {'type': 'uri', 'value': 'http://purl.uniprot.org/uniprot/A0A2K5PV53'}, 'uniprotID': {'type': 'literal', 'value': 'A0A2K5PV53_CEBIM'}, 'recname': {'type': 'literal', 'value': 'Cytochrome P450 1A'}}, {'uniprotName': {'type': 'literal', 'value': '(5Z,8Z,11Z,14Z)-eicosatetraenoate'}, 'chebi': {'type': 'uri', 'value': 'http://purl.obolibrary.org/obo/CHEBI_32395'}, 'gene': {'type': 'literal', 'value': 'CYP1A1'}, 'uniprot': {'type': 'uri', 'value': 'http://purl.uniprot.org/uniprot/A0A2K5PV71'}, 'uniprotID': {'type': 'literal', 'value': 'A0A2K5PV71_CEBIM'}, 'recname': {'type': 'literal', 'value': 'Cytochrome P450 1A'}}, {'uniprotName': {'type': 'literal', 'value': '(5Z,8Z,11Z,14Z)-eicosatetraenoate'}, 'chebi': {'type': 'uri', 'value': 'http://purl.obolibrary.org/obo/CHEBI_32395'}, 'gene': {'type': 'literal', 'value': 'CYP1A1'}, 'uniprot': {'type': 'uri', 'value': 'http://purl.uniprot.org/uniprot/A0A8I3VYX7'}, 'uniprotID': {'type': 'literal', 'value': 'A0A8I3VYX7_CALJA'}, 'recname': {'type': 'literal', 'value': 'Cytochrome P450 1A'}}, {'uniprotName': {'type': 'literal', 'value': '(5Z,8Z,11Z,14Z)-eicosatetraenoate'}, 'chebi': {'type': 'uri', 'value': 'http://purl.obolibrary.org/obo/CHEBI_32395'}, 'gene': {'type': 'literal', 'value': 'CYP1A1'}, 'uniprot': {'type': 'uri', 'value': 'http://purl.uniprot.org/uniprot/A0A2I3LF45'}, 'uniprotID': {'type': 'literal', 'value': 'A0A2I3LF45_PAPAN'}, 'recname': {'type': 'literal', 'value': 'Cytochrome P450 1A'}}, {'uniprotName': {'type': 'literal', 'value': '(5Z,8Z,11Z,14Z)-eicosatetraenoate'}, 'chebi': {'type': 'uri', 'value': 'http://purl.obolibrary.org/obo/CHEBI_32395'}, 'gene': {'type': 'literal', 'value': 'CYP1A2'}, 'uniprot': {'type': 'uri', 'value': 'http://purl.uniprot.org/uniprot/F7EIM3'}, 'uniprotID': {'type': 'literal', 'value': 'F7EIM3_MACMU'}, 'recname': {'type': 'literal', 'value': 'Cytochrome P450 1A'}}, {'uniprotName': {'type': 'literal', 'value': '(5Z,8Z,11Z,14Z)-eicosatetraenoate'}, 'chebi': {'type': 'uri', 'value': 'http://purl.obolibrary.org/obo/CHEBI_32395'}, 'gene': {'type': 'literal', 'value': 'CYP1A2'}, 'uniprot': {'type': 'uri', 'value': 'http://purl.uniprot.org/uniprot/A0A096NMR5'}, 'uniprotID': {'type': 'literal', 'value': 'A0A096NMR5_PAPAN'}, 'recname': {'type': 'literal', 'value': 'Cytochrome P450 1A'}}, {'uniprotName': {'type': 'literal', 'value': '(5Z,8Z,11Z,14Z)-eicosatetraenoate'}, 'chebi': {'type': 'uri', 'value': 'http://purl.obolibrary.org/obo/CHEBI_32395'}, 'gene': {'type': 'literal', 'value': 'CYP1A1'}, 'uniprot': {'type': 'uri', 'value': 'http://purl.uniprot.org/uniprot/A0A096NMR4'}, 'uniprotID': {'type': 'literal', 'value': 'A0A096NMR4_PAPAN'}, 'recname': {'type': 'literal', 'value': 'Cytochrome P450 1A'}}, {'uniprotName': {'type': 'literal', 'value': '(5Z,8Z,11Z,14Z)-eicosatetraenoate'}, 'chebi': {'type': 'uri', 'value': 'http://purl.obolibrary.org/obo/CHEBI_32395'}, 'gene': {'type': 'literal', 'value': 'CYP1D1'}, 'uniprot': {'type': 'uri', 'value': 'http://purl.uniprot.org/uniprot/G4V3Q9'}, 'uniprotID': {'type': 'literal', 'value': 'G4V3Q9_MACMU'}, 'recname': {'type': 'literal', 'value': 'Cytochrome P450 1A'}}, {'uniprotName': {'type': 'literal', 'value': '(5Z,8Z,11Z,14Z)-eicosatetraenoate'}, 'chebi': {'type': 'uri', 'value': 'http://purl.obolibrary.org/obo/CHEBI_32395'}, 'gene': {'type': 'literal', 'value': 'CYP1D1'}, 'uniprot': {'type': 'uri', 'value': 'http://purl.uniprot.org/uniprot/F7D7J7'}, 'uniprotID': {'type': 'literal', 'value': 'F7D7J7_MACMU'}, 'recname': {'type': 'literal', 'value': 'Cytochrome P450 1A'}}, {'uniprotName': {'type': 'literal', 'value': '(5Z,8Z,11Z,14Z)-eicosatetraenoate'}, 'chebi': {'type': 'uri', 'value': 'http://purl.obolibrary.org/obo/CHEBI_32395'}, 'gene': {'type': 'literal', 'value': 'LOC105854822'}, 'uniprot': {'type': 'uri', 'value': 'http://purl.uniprot.org/uniprot/A0A8B7E9I7'}, 'uniprotID': {'type': 'literal', 'value': 'A0A8B7E9I7_MICMU'}, 'recname': {'type': 'literal', 'value': 'Cytochrome P450 1A'}}, {'uniprotName': {'type': 'literal', 'value': '(5Z,8Z,11Z,14Z)-eicosatetraenoate'}, 'chebi': {'type': 'uri', 'value': 'http://purl.obolibrary.org/obo/CHEBI_32395'}, 'gene': {'type': 'literal', 'value': 'CYP1A1'}, 'uniprot': {'type': 'uri', 'value': 'http://purl.uniprot.org/uniprot/A0A2K6T358'}, 'uniprotID': {'type': 'literal', 'value': 'A0A2K6T358_SAIBB'}, 'recname': {'type': 'literal', 'value': 'Cytochrome P450 1A'}}, {'uniprotName': {'type': 'literal', 'value': '(5Z,8Z,11Z,14Z)-eicosatetraenoate'}, 'chebi': {'type': 'uri', 'value': 'http://purl.obolibrary.org/obo/CHEBI_32395'}, 'gene': {'type': 'literal', 'value': 'CYP1A1'}, 'uniprot': {'type': 'uri', 'value': 'http://purl.uniprot.org/uniprot/A0A8C5UY91'}, 'uniprotID': {'type': 'literal', 'value': 'A0A8C5UY91_MICMU'}, 'recname': {'type': 'literal', 'value': 'Cytochrome P450 1A'}}, {'uniprotName': {'type': 'literal', 'value': '(5Z,8Z,11Z,14Z)-eicosatetraenoate'}, 'chebi': {'type': 'uri', 'value': 'http://purl.obolibrary.org/obo/CHEBI_32395'}, 'gene': {'type': 'literal', 'value': 'CYP1A1'}, 'uniprot': {'type': 'uri', 'value': 'http://purl.uniprot.org/uniprot/A0A2K6Q3U5'}, 'uniprotID': {'type': 'literal', 'value': 'A0A2K6Q3U5_RHIRO'}, 'recname': {'type': 'literal', 'value': 'Cytochrome P450 1A'}}, {'uniprotName': {'type': 'literal', 'value': '(5Z,8Z,11Z,14Z)-eicosatetraenoate'}, 'chebi': {'type': 'uri', 'value': 'http://purl.obolibrary.org/obo/CHEBI_32395'}, 'gene': {'type': 'literal', 'value': 'CYP1A1'}, 'uniprot': {'type': 'uri', 'value': 'http://purl.uniprot.org/uniprot/C5IMY2'}, 'uniprotID': {'type': 'literal', 'value': 'C5IMY2_PAPCY'}, 'recname': {'type': 'literal', 'value': 'Cytochrome P450 1A'}}, {'uniprotName': {'type': 'literal', 'value': '(5Z,8Z,11Z,14Z)-eicosatetraenoate'}, 'chebi': {'type': 'uri', 'value': 'http://purl.obolibrary.org/obo/CHEBI_32395'}, 'gene': {'type': 'literal', 'value': 'CYP1A1'}, 'uniprot': {'type': 'uri', 'value': 'http://purl.uniprot.org/uniprot/C5IMY6'}, 'uniprotID': {'type': 'literal', 'value': 'C5IMY6_PAPCY'}, 'recname': {'type': 'literal', 'value': 'Cytochrome P450 1A'}}, {'uniprotName': {'type': 'literal', 'value': '(5Z,8Z,11Z,14Z)-eicosatetraenoate'}, 'chebi': {'type': 'uri', 'value': 'http://purl.obolibrary.org/obo/CHEBI_32395'}, 'gene': {'type': 'literal', 'value': 'CYP1A2'}, 'uniprot': {'type': 'uri', 'value': 'http://purl.uniprot.org/uniprot/A0A8C5XD37'}, 'uniprotID': {'type': 'literal', 'value': 'A0A8C5XD37_MICMU'}, 'recname': {'type': 'literal', 'value': 'Cytochrome P450 1A'}}, {'uniprotName': {'type': 'literal', 'value': '(5Z,8Z,11Z,14Z)-eicosatetraenoate'}, 'chebi': {'type': 'uri', 'value': 'http://purl.obolibrary.org/obo/CHEBI_32395'}, 'gene': {'type': 'literal', 'value': 'CYP1A2'}, 'uniprot': {'type': 'uri', 'value': 'http://purl.uniprot.org/uniprot/B6EY14'}, 'uniprotID': {'type': 'literal', 'value': 'B6EY14_MACFA'}, 'recname': {'type': 'literal', 'value': 'Cytochrome P450 1A'}}, {'uniprotName': {'type': 'literal', 'value': '(5Z,8Z,11Z,14Z)-eicosatetraenoate'}, 'chebi': {'type': 'uri', 'value': 'http://purl.obolibrary.org/obo/CHEBI_32395'}, 'gene': {'type': 'literal', 'value': 'CYP1A2'}, 'uniprot': {'type': 'uri', 'value': 'http://purl.uniprot.org/uniprot/B6EY27'}, 'uniprotID': {'type': 'literal', 'value': 'B6EY27_MACFA'}, 'recname': {'type': 'literal', 'value': 'Cytochrome P450 1A'}}, {'uniprotName': {'type': 'literal', 'value': '(5Z,8Z,11Z,14Z)-eicosatetraenoate'}, 'chebi': {'type': 'uri', 'value': 'http://purl.obolibrary.org/obo/CHEBI_32395'}, 'gene': {'type': 'literal', 'value': 'CYP1A2'}, 'uniprot': {'type': 'uri', 'value': 'http://purl.uniprot.org/uniprot/B6EY34'}, 'uniprotID': {'type': 'literal', 'value': 'B6EY34_MACFA'}, 'recname': {'type': 'literal', 'value': 'Cytochrome P450 1A'}}, {'uniprotName': {'type': 'literal', 'value': '(5Z,8Z,11Z,14Z)-eicosatetraenoate'}, 'chebi': {'type': 'uri', 'value': 'http://purl.obolibrary.org/obo/CHEBI_32395'}, 'gene': {'type': 'literal', 'value': 'CYP1A1'}, 'uniprot': {'type': 'uri', 'value': 'http://purl.uniprot.org/uniprot/A0A2K5VAK7'}, 'uniprotID': {'type': 'literal', 'value': 'A0A2K5VAK7_MACFA'}, 'recname': {'type': 'literal', 'value': 'Cytochrome P450 1A'}}, {'uniprotName': {'type': 'literal', 'value': '(5Z,8Z,11Z,14Z)-eicosatetraenoate'}, 'chebi': {'type': 'uri', 'value': 'http://purl.obolibrary.org/obo/CHEBI_32395'}, 'gene': {'type': 'literal', 'value': 'CYP1A1'}, 'uniprot': {'type': 'uri', 'value': 'http://purl.uniprot.org/uniprot/A0A2R9B9N4'}, 'uniprotID': {'type': 'literal', 'value': 'A0A2R9B9N4_PANPA'}, 'recname': {'type': 'literal', 'value': 'Cytochrome P450 1A'}}, {'uniprotName': {'type': 'literal', 'value': '(5Z,8Z,11Z,14Z)-eicosatetraenoate'}, 'chebi': {'type': 'uri', 'value': 'http://purl.obolibrary.org/obo/CHEBI_32395'}, 'gene': {'type': 'literal', 'value': 'CYP1D1'}, 'uniprot': {'type': 'uri', 'value': 'http://purl.uniprot.org/uniprot/G4V3Q8'}, 'uniprotID': {'type': 'literal', 'value': 'G4V3Q8_MACFA'}, 'recname': {'type': 'literal', 'value': 'Cytochrome P450 1A'}}, {'uniprotName': {'type': 'literal', 'value': '(5Z,8Z,11Z,14Z)-eicosatetraenoate'}, 'chebi': {'type': 'uri', 'value': 'http://purl.obolibrary.org/obo/CHEBI_32395'}, 'gene': {'type': 'literal', 'value': 'CYP1A2'}, 'uniprot': {'type': 'uri', 'value': 'http://purl.uniprot.org/uniprot/A0A7N9D4P8'}, 'uniprotID': {'type': 'literal', 'value': 'A0A7N9D4P8_MACFA'}, 'recname': {'type': 'literal', 'value': 'Cytochrome P450 1A'}}, {'uniprotName': {'type': 'literal', 'value': '(5Z,8Z,11Z,14Z)-eicosatetraenoate'}, 'chebi': {'type': 'uri', 'value': 'http://purl.obolibrary.org/obo/CHEBI_32395'}, 'gene': {'type': 'literal', 'value': 'CYP1A2'}, 'uniprot': {'type': 'uri', 'value': 'http://purl.uniprot.org/uniprot/B6EY15'}, 'uniprotID': {'type': 'literal', 'value': 'B6EY15_MACFA'}, 'recname': {'type': 'literal', 'value': 'Cytochrome P450 1A'}}, {'uniprotName': {'type': 'literal', 'value': '(5Z,8Z,11Z,14Z)-eicosatetraenoate'}, 'chebi': {'type': 'uri', 'value': 'http://purl.obolibrary.org/obo/CHEBI_32395'}, 'gene': {'type': 'literal', 'value': 'CYP1A2'}, 'uniprot': {'type': 'uri', 'value': 'http://purl.uniprot.org/uniprot/H0XNE6'}, 'uniprotID': {'type': 'literal', 'value': 'H0XNE6_OTOGA'}, 'recname': {'type': 'literal', 'value': 'Cytochrome P450 1A'}}, {'uniprotName': {'type': 'literal', 'value': '(5Z,8Z,11Z,14Z)-eicosatetraenoate'}, 'chebi': {'type': 'uri', 'value': 'http://purl.obolibrary.org/obo/CHEBI_32395'}, 'gene': {'type': 'literal', 'value': 'CYP1A1'}, 'uniprot': {'type': 'uri', 'value': 'http://purl.uniprot.org/uniprot/A0A2R9B9N0'}, 'uniprotID': {'type': 'literal', 'value': 'A0A2R9B9N0_PANPA'}, 'recname': {'type': 'literal', 'value': 'Cytochrome P450 1A'}}, {'uniprotName': {'type': 'literal', 'value': '(5Z,8Z,11Z,14Z)-eicosatetraenoate'}, 'chebi': {'type': 'uri', 'value': 'http://purl.obolibrary.org/obo/CHEBI_32395'}, 'gene': {'type': 'literal', 'value': 'CYP1A2'}, 'uniprot': {'type': 'uri', 'value': 'http://purl.uniprot.org/uniprot/B6EY23'}, 'uniprotID': {'type': 'literal', 'value': 'B6EY23_MACFA'}, 'recname': {'type': 'literal', 'value': 'Cytochrome P450 1A'}}, {'uniprotName': {'type': 'literal', 'value': '(5Z,8Z,11Z,14Z)-eicosatetraenoate'}, 'chebi': {'type': 'uri', 'value': 'http://purl.obolibrary.org/obo/CHEBI_32395'}, 'gene': {'type': 'literal', 'value': 'CYP1A2'}, 'uniprot': {'type': 'uri', 'value': 'http://purl.uniprot.org/uniprot/B6EY18'}, 'uniprotID': {'type': 'literal', 'value': 'B6EY18_MACFA'}, 'recname': {'type': 'literal', 'value': 'Cytochrome P450 1A'}}, {'uniprotName': {'type': 'literal', 'value': '(5Z,8Z,11Z,14Z)-eicosatetraenoate'}, 'chebi': {'type': 'uri', 'value': 'http://purl.obolibrary.org/obo/CHEBI_32395'}, 'gene': {'type': 'literal', 'value': 'CYP1A2'}, 'uniprot': {'type': 'uri', 'value': 'http://purl.uniprot.org/uniprot/B6EY36'}, 'uniprotID': {'type': 'literal', 'value': 'B6EY36_MACFA'}, 'recname': {'type': 'literal', 'value': 'Cytochrome P450 1A'}}, {'uniprotName': {'type': 'literal', 'value': '(5Z,8Z,11Z,14Z)-eicosatetraenoate'}, 'chebi': {'type': 'uri', 'value': 'http://purl.obolibrary.org/obo/CHEBI_32395'}, 'gene': {'type': 'literal', 'value': 'CYP1A1'}, 'uniprot': {'type': 'uri', 'value': 'http://purl.uniprot.org/uniprot/A0A481YJW7'}, 'uniprotID': {'type': 'literal', 'value': 'A0A481YJW7_MACFA'}, 'recname': {'type': 'literal', 'value': 'Cytochrome P450 1A'}}, {'uniprotName': {'type': 'literal', 'value': '(5Z,8Z,11Z,14Z)-eicosatetraenoate'}, 'chebi': {'type': 'uri', 'value': 'http://purl.obolibrary.org/obo/CHEBI_32395'}, 'gene': {'type': 'literal', 'value': 'CYP1A2'}, 'uniprot': {'type': 'uri', 'value': 'http://purl.uniprot.org/uniprot/B6EY30'}, 'uniprotID': {'type': 'literal', 'value': 'B6EY30_MACFA'}, 'recname': {'type': 'literal', 'value': 'Cytochrome P450 1A'}}, {'uniprotName': {'type': 'literal', 'value': '(5Z,8Z,11Z,14Z)-eicosatetraenoate'}, 'chebi': {'type': 'uri', 'value': 'http://purl.obolibrary.org/obo/CHEBI_32395'}, 'gene': {'type': 'literal', 'value': 'CYP1A2'}, 'uniprot': {'type': 'uri', 'value': 'http://purl.uniprot.org/uniprot/A0A2K5U801'}, 'uniprotID': {'type': 'literal', 'value': 'A0A2K5U801_MACFA'}, 'recname': {'type': 'literal', 'value': 'Cytochrome P450 1A'}}, {'uniprotName': {'type': 'literal', 'value': '(5Z,8Z,11Z,14Z)-eicosatetraenoate'}, 'chebi': {'type': 'uri', 'value': 'http://purl.obolibrary.org/obo/CHEBI_32395'}, 'gene': {'type': 'literal', 'value': 'CYP1A2'}, 'uniprot': {'type': 'uri', 'value': 'http://purl.uniprot.org/uniprot/B6EY24'}, 'uniprotID': {'type': 'literal', 'value': 'B6EY24_MACFA'}, 'recname': {'type': 'literal', 'value': 'Cytochrome P450 1A'}}, {'uniprotName': {'type': 'literal', 'value': '(5Z,8Z,11Z,14Z)-eicosatetraenoate'}, 'chebi': {'type': 'uri', 'value': 'http://purl.obolibrary.org/obo/CHEBI_32395'}, 'gene': {'type': 'literal', 'value': 'CYP1A2'}, 'uniprot': {'type': 'uri', 'value': 'http://purl.uniprot.org/uniprot/A0A481YIE0'}, 'uniprotID': {'type': 'literal', 'value': 'A0A481YIE0_MACFA'}, 'recname': {'type': 'literal', 'value': 'Cytochrome P450 1A'}}, {'uniprotName': {'type': 'literal', 'value': '(5Z,8Z,11Z,14Z)-eicosatetraenoate'}, 'chebi': {'type': 'uri', 'value': 'http://purl.obolibrary.org/obo/CHEBI_32395'}, 'gene': {'type': 'literal', 'value': 'CYP1D1'}, 'uniprot': {'type': 'uri', 'value': 'http://purl.uniprot.org/uniprot/A0A2K5VMH7'}, 'uniprotID': {'type': 'literal', 'value': 'A0A2K5VMH7_MACFA'}, 'recname': {'type': 'literal', 'value': 'Cytochrome P450 1A'}}, {'uniprotName': {'type': 'literal', 'value': '(5Z,8Z,11Z,14Z)-eicosatetraenoate'}, 'chebi': {'type': 'uri', 'value': 'http://purl.obolibrary.org/obo/CHEBI_32395'}, 'gene': {'type': 'literal', 'value': 'CYP1A1'}, 'uniprot': {'type': 'uri', 'value': 'http://purl.uniprot.org/uniprot/A0A2K5MN94'}, 'uniprotID': {'type': 'literal', 'value': 'A0A2K5MN94_CERAT'}, 'recname': {'type': 'literal', 'value': 'Cytochrome P450 1A'}}, {'uniprotName': {'type': 'literal', 'value': '(5Z,8Z,11Z,14Z)-eicosatetraenoate'}, 'chebi': {'type': 'uri', 'value': 'http://purl.obolibrary.org/obo/CHEBI_32395'}, 'gene': {'type': 'literal', 'value': 'CYP1A2'}, 'uniprot': {'type': 'uri', 'value': 'http://purl.uniprot.org/uniprot/B6EY19'}, 'uniprotID': {'type': 'literal', 'value': 'B6EY19_MACFA'}, 'recname': {'type': 'literal', 'value': 'Cytochrome P450 1A'}}, {'uniprotName': {'type': 'literal', 'value': '(5Z,8Z,11Z,14Z)-eicosatetraenoate'}, 'chebi': {'type': 'uri', 'value': 'http://purl.obolibrary.org/obo/CHEBI_32395'}, 'gene': {'type': 'literal', 'value': 'CYP1A2'}, 'uniprot': {'type': 'uri', 'value': 'http://purl.uniprot.org/uniprot/B6EY25'}, 'uniprotID': {'type': 'literal', 'value': 'B6EY25_MACFA'}, 'recname': {'type': 'literal', 'value': 'Cytochrome P450 1A'}}, {'uniprotName': {'type': 'literal', 'value': '(5Z,8Z,11Z,14Z)-eicosatetraenoate'}, 'chebi': {'type': 'uri', 'value': 'http://purl.obolibrary.org/obo/CHEBI_32395'}, 'gene': {'type': 'literal', 'value': 'CYP1A1'}, 'uniprot': {'type': 'uri', 'value': 'http://purl.uniprot.org/uniprot/G7P943'}, 'uniprotID': {'type': 'literal', 'value': 'G7P943_MACFA'}, 'recname': {'type': 'literal', 'value': 'Cytochrome P450 1A'}}, {'uniprotName': {'type': 'literal', 'value': '(5Z,8Z,11Z,14Z)-eicosatetraenoate'}, 'chebi': {'type': 'uri', 'value': 'http://purl.obolibrary.org/obo/CHEBI_32395'}, 'gene': {'type': 'literal', 'value': 'CYP1D1'}, 'uniprot': {'type': 'uri', 'value': 'http://purl.uniprot.org/uniprot/H0XKZ2'}, 'uniprotID': {'type': 'literal', 'value': 'H0XKZ2_OTOGA'}, 'recname': {'type': 'literal', 'value': 'Cytochrome P450 1A'}}, {'uniprotName': {'type': 'literal', 'value': '(5Z,8Z,11Z,14Z)-eicosatetraenoate'}, 'chebi': {'type': 'uri', 'value': 'http://purl.obolibrary.org/obo/CHEBI_32395'}, 'gene': {'type': 'literal', 'value': 'CYP1A2'}, 'uniprot': {'type': 'uri', 'value': 'http://purl.uniprot.org/uniprot/A0A2R8ZXU3'}, 'uniprotID': {'type': 'literal', 'value': 'A0A2R8ZXU3_PANPA'}, 'recname': {'type': 'literal', 'value': 'Cytochrome P450 1A'}}, {'uniprotName': {'type': 'literal', 'value': '(5Z,8Z,11Z,14Z)-eicosatetraenoate'}, 'chebi': {'type': 'uri', 'value': 'http://purl.obolibrary.org/obo/CHEBI_32395'}, 'gene': {'type': 'literal', 'value': 'CYP1A1'}, 'uniprot': {'type': 'uri', 'value': 'http://purl.uniprot.org/uniprot/H0XB84'}, 'uniprotID': {'type': 'literal', 'value': 'H0XB84_OTOGA'}, 'recname': {'type': 'literal', 'value': 'Cytochrome P450 1A'}}, {'uniprotName': {'type': 'literal', 'value': '(5Z,8Z,11Z,14Z)-eicosatetraenoate'}, 'chebi': {'type': 'uri', 'value': 'http://purl.obolibrary.org/obo/CHEBI_32395'}, 'gene': {'type': 'literal', 'value': 'CYP1A1'}, 'uniprot': {'type': 'uri', 'value': 'http://purl.uniprot.org/uniprot/A0A0D9RP42'}, 'uniprotID': {'type': 'literal', 'value': 'A0A0D9RP42_CHLSB'}, 'recname': {'type': 'literal', 'value': 'Cytochrome P450 1A'}}, {'uniprotName': {'type': 'literal', 'value': '(5Z,8Z,11Z,14Z)-eicosatetraenoate'}, 'chebi': {'type': 'uri', 'value': 'http://purl.obolibrary.org/obo/CHEBI_32395'}, 'gene': {'type': 'literal', 'value': 'CYP1A2'}, 'uniprot': {'type': 'uri', 'value': 'http://purl.uniprot.org/uniprot/B6EY29'}, 'uniprotID': {'type': 'literal', 'value': 'B6EY29_MACFA'}, 'recname': {'type': 'literal', 'value': 'Cytochrome P450 1A'}}]}}\n"
     ]
    }
   ],
   "source": [
    "results_ground_truth = query_sparql(ground_truth_query, target_endpoint)\n",
    "print(results_ground_truth)"
   ]
  },
  {
   "cell_type": "code",
   "execution_count": 12,
   "metadata": {},
   "outputs": [
    {
     "name": "stdout",
     "output_type": "stream",
     "text": [
      "error\n"
     ]
    }
   ],
   "source": [
    "results_predicted = query_sparql(predicted_query, target_endpoint)\n",
    "print(results_predicted)"
   ]
  },
  {
   "cell_type": "code",
   "execution_count": 13,
   "metadata": {},
   "outputs": [
    {
     "ename": "ValueError",
     "evalue": "DataFrame constructor not properly called!",
     "output_type": "error",
     "traceback": [
      "\u001b[31m---------------------------------------------------------------------------\u001b[39m",
      "\u001b[31mValueError\u001b[39m                                Traceback (most recent call last)",
      "\u001b[32m/var/folders/cf/q7bl9m0529ncggwfh1ml6k5m0000gn/T/ipykernel_39646/3441632925.py\u001b[39m in \u001b[36m?\u001b[39m\u001b[34m()\u001b[39m\n\u001b[32m      1\u001b[39m \u001b[38;5;28;01mimport\u001b[39;00m pandas \u001b[38;5;28;01mas\u001b[39;00m pd\n\u001b[32m      2\u001b[39m \n\u001b[32m----> \u001b[39m\u001b[32m3\u001b[39m df = pd.DataFrame(ground_truth_query)\n\u001b[32m      4\u001b[39m \n\u001b[32m      5\u001b[39m display(df.head())\n",
      "\u001b[32m~/Documents/Bachelor Thesis/sparql-rag-agent/sparql-rag-agent/.venv/lib/python3.11/site-packages/pandas/core/frame.py\u001b[39m in \u001b[36m?\u001b[39m\u001b[34m(self, data, index, columns, dtype, copy)\u001b[39m\n\u001b[32m    882\u001b[39m                 )\n\u001b[32m    883\u001b[39m         \u001b[38;5;66;03m# For data is scalar\u001b[39;00m\n\u001b[32m    884\u001b[39m         \u001b[38;5;28;01melse\u001b[39;00m:\n\u001b[32m    885\u001b[39m             \u001b[38;5;28;01mif\u001b[39;00m index \u001b[38;5;28;01mis\u001b[39;00m \u001b[38;5;28;01mNone\u001b[39;00m \u001b[38;5;28;01mor\u001b[39;00m columns \u001b[38;5;28;01mis\u001b[39;00m \u001b[38;5;28;01mNone\u001b[39;00m:\n\u001b[32m--> \u001b[39m\u001b[32m886\u001b[39m                 \u001b[38;5;28;01mraise\u001b[39;00m ValueError(\u001b[33m\"DataFrame constructor not properly called!\"\u001b[39m)\n\u001b[32m    887\u001b[39m \n\u001b[32m    888\u001b[39m             index = ensure_index(index)\n\u001b[32m    889\u001b[39m             columns = ensure_index(columns)\n",
      "\u001b[31mValueError\u001b[39m: DataFrame constructor not properly called!"
     ]
    }
   ],
   "source": [
    "import pandas as pd\n",
    "\n",
    "df = pd.DataFrame(ground_truth_query)\n",
    "\n",
    "display(df.head())"
   ]
  },
  {
   "cell_type": "code",
   "execution_count": null,
   "metadata": {},
   "outputs": [],
   "source": []
  }
 ],
 "metadata": {
  "kernelspec": {
   "display_name": ".venv",
   "language": "python",
   "name": "python3"
  },
  "language_info": {
   "codemirror_mode": {
    "name": "ipython",
    "version": 3
   },
   "file_extension": ".py",
   "mimetype": "text/x-python",
   "name": "python",
   "nbconvert_exporter": "python",
   "pygments_lexer": "ipython3",
   "version": "3.11.5"
  }
 },
 "nbformat": 4,
 "nbformat_minor": 2
}
