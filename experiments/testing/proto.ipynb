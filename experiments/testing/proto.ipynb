{
 "cells": [
  {
   "cell_type": "code",
   "execution_count": 1,
   "metadata": {},
   "outputs": [],
   "source": [
    "import sys\n",
    "import os\n",
    "sys.path.append(os.path.abspath(os.path.join(os.path.dirname(\"__file__\"), \"..\", \"utilities\")))\n",
    "from format import process_federated_dataset,process_specific_datasets_and_files\n",
    "\n",
    "# federated_endpoint_sets_to_test = [\"Uniprot\"]\n",
    "# # Process the federated dataset and get the output directory\n",
    "# output_dir = process_federated_dataset(\n",
    "#     endpoint_sets_to_test=federated_endpoint_sets_to_test\n",
    "# )\n",
    "\n",
    "# print(f\"Processing complete. Results stored in: {output_dir}\")"
   ]
  },
  {
   "cell_type": "code",
   "execution_count": 9,
   "metadata": {},
   "outputs": [
    {
     "name": "stdout",
     "output_type": "stream",
     "text": [
      "Processing endpoint set: Uniprot\n",
      "\n",
      "Processed: 50_tissues_where_genes_sphingosines_are_expressed.ttl\n",
      "\n",
      "Processed: 48_glycosylation_sites_and_glycans.ttl\n",
      "Processed 2 files from Uniprot\n",
      "Saved metadata for 2 files from 1 endpoint sets to:\n",
      "  - /Users/sebastian/Documents/Bachelor Thesis/sparql-rag-agent/sparql-rag-agent/experiments/eval/ev_2025-04-07_13-57-51/testset_meta_data.json\n",
      "Processing complete. Results stored in: /Users/sebastian/Documents/Bachelor Thesis/sparql-rag-agent/sparql-rag-agent/experiments/eval/ev_2025-04-07_13-57-51\n"
     ]
    }
   ],
   "source": [
    "result_dir = process_specific_datasets_and_files(\n",
    "    endpoint_files_map={\"Uniprot\": [\"48_glycosylation_sites_and_glycans.ttl\", \"50_tissues_where_genes_sphingosines_are_expressed.ttl\"]}\n",
    ")\n",
    "\n",
    "print(f\"Processing complete. Results stored in: {result_dir}\")"
   ]
  },
  {
   "cell_type": "code",
   "execution_count": 6,
   "metadata": {},
   "outputs": [
    {
     "name": "stdout",
     "output_type": "stream",
     "text": [
      "{'resource': ['https://sparql.uniprot.org/.well-known/sparql-examples/118_biosodafrontend_rat_brain_human_cancer'], 'natural_language_question': ['What are the Homo sapiens genes associated with cancer and their orthologs expressed in the Rattus norvegicus brain?'], 'query': ['PREFIX up:<http://purl.uniprot.org/core/>\\nPREFIX taxon:<http://purl.uniprot.org/taxonomy/>\\nPREFIX rdfs:<http://www.w3.org/2000/01/rdf-schema#>\\nPREFIX orth:<http://purl.org/net/orth#>\\nPREFIX dcterms:<http://purl.org/dc/terms/>\\nPREFIX obo:<http://purl.obolibrary.org/obo/>\\nPREFIX lscr:<http://purl.org/lscr#>\\nPREFIX genex:<http://purl.org/genex#>\\nPREFIX sio: <http://semanticscience.org/resource/>\\nSELECT ?gene ?orthologous_protein2 WHERE {\\n  {\\n    SELECT ?protein1 WHERE {\\n      ?protein1 a up:Protein;\\n        up:organism/up:scientificName \\'Homo sapiens\\' ;\\n        up:annotation ?annotation .\\n      ?annotation rdfs:comment ?annotation_text.\\n      ?annotation a up:Disease_Annotation .\\n      FILTER CONTAINS (?annotation_text, \"cancer\")\\n    }\\n  }\\n  SERVICE <https://sparql.omabrowser.org/sparql/> {\\n    SELECT ?orthologous_protein2 ?protein1 ?gene WHERE {\\n      ?protein_OMA a orth:Protein .\\n      ?orthologous_protein2 a orth:Protein .\\n      ?cluster a orth:OrthologsCluster .\\n      ?cluster orth:hasHomologousMember ?node1 .\\n      ?cluster orth:hasHomologousMember ?node2 .\\n      ?node2 orth:hasHomologousMember* ?protein_OMA .\\n      ?node1 orth:hasHomologousMember* ?orthologous_protein2 \\n      .?orthologous_protein2 orth:organism/obo:RO_0002162/up:scientificName \\'Rattus norvegicus\\' .\\n      ?orthologous_protein2 sio:SIO_010079 ?gene .\\n      ?protein_OMA lscr:xrefUniprot ?protein1 .\\n      FILTER(?node1 != ?node2)\\n    }\\n  }\\n  SERVICE <https://www.bgee.org/sparql/> {\\n    ?gene genex:isExpressedIn ?anatEntity .\\n    ?anatEntity rdfs:label \\'brain\\' .\\n    ?gene orth:organism ?org . \\n    ?org obo:RO_0002162 taxon:10116 .\\n  }\\n}'], 'target_endpoint': ['https://sparql.uniprot.org/sparql'], 'federates_with': ['https://sparql.omabrowser.org/sparql/'], 'endpoint_set': ['Uniprot'], 'file_path': ['UniProt/118_biosodafrontend_rat_brain_human_cancer.ttl']}\n"
     ]
    }
   ],
   "source": [
    "from datasets import Dataset\n",
    "from format import load_data_from_file\n",
    "\n",
    "test_set = load_data_from_file(os.path.join(output_dir, \"testset_meta_data.json\"))\n",
    "\n",
    "test_dataset = Dataset.from_dict(test_set)\n",
    "\n",
    "print(test_dataset[0:1])"
   ]
  },
  {
   "cell_type": "code",
   "execution_count": 8,
   "metadata": {},
   "outputs": [
    {
     "name": "stdout",
     "output_type": "stream",
     "text": [
      "{'final_state_response': '', 'run_id_langsmith': 'cbb898d2-5058-482d-a115-ef23fcb7aa5c', 'sparql_construction_prompt_tokens': 1780, 'sparql_construction_completion_tokens': 1300, 'sparql_construction_total_tokens': 3080, 'sparql_construction_prompt_cost': 0, 'sparql_construction_completion_cost': 0, 'sparql_construction_total_cost': 0, 'prompt_tokens': 2190, 'completion_tokens': 1913, 'total_tokens': 4103, 'prompt_cost': 0, 'completion_cost': 0, 'total_cost': 0}\n"
     ]
    }
   ],
   "source": [
    "from langsmith import Client\n",
    "from datetime import datetime\n",
    "\n",
    "client = Client()\n",
    "runs = client.list_runs(project_name=\"sparql-rag-agent\", is_root=True)\n",
    "first_run = next(runs)\n",
    "\n",
    "\n",
    "child_runs = list(client.list_runs(project_name=\"sparql-rag-agent\", parent_run_id=first_run.id))\n",
    "\n",
    "#print(child_runs)\n",
    "\n",
    "# Filter to find the sparql_query_construction run\n",
    "sparql_construction_run = None\n",
    "for run in child_runs:\n",
    "    if run.name == \"sparql_query_construction\":\n",
    "        sparql_construction_run = run\n",
    "        break\n",
    "\n",
    "if sparql_construction_run:\n",
    "    result = {\n",
    "        # Your existing fields...\n",
    "        \"final_state_response\": \"\",\n",
    "        \"run_id_langsmith\": str(first_run.id),\n",
    "        # Add the specific metrics for the sparql_query_construction run\n",
    "        \"sparql_construction_prompt_tokens\": sparql_construction_run.prompt_tokens or 0,\n",
    "        \"sparql_construction_completion_tokens\": sparql_construction_run.completion_tokens or 0,\n",
    "        \"sparql_construction_total_tokens\": sparql_construction_run.total_tokens or 0,\n",
    "        \"sparql_construction_prompt_cost\": sparql_construction_run.prompt_cost or 0,\n",
    "        \"sparql_construction_completion_cost\": sparql_construction_run.completion_cost or 0,\n",
    "        \"sparql_construction_total_cost\": sparql_construction_run.total_cost or 0,\n",
    "        # Keep the original metrics too if needed\n",
    "        \"prompt_tokens\": first_run.prompt_tokens or 0,\n",
    "        \"completion_tokens\": first_run.completion_tokens or 0,\n",
    "        \"total_tokens\": first_run.total_tokens or 0,\n",
    "        \"prompt_cost\": first_run.prompt_cost or 0,\n",
    "        \"completion_cost\": first_run.completion_cost or 0,\n",
    "        \"total_cost\": first_run.total_cost or 0,\n",
    "    }\n",
    "else:\n",
    "    print(\"Warning: Could not find the sparql_query_construction run\")\n",
    "    # Fall back to using the parent run metrics\n",
    "    result = {\n",
    "        # Original metrics...\n",
    "    }\n",
    "print(result)\n",
    "\n",
    "# # === BASIC INFORMATION ===\n",
    "# print(\"=== BASIC INFORMATION ===\")\n",
    "# print(f\"ID: {first_run.id}\")\n",
    "# print(f\"Name: {first_run.name}\")\n",
    "# print(f\"Run Type: {first_run.run_type}\")\n",
    "# print(f\"Status: {first_run.status}\")\n",
    "# print(f\"App Path: {first_run.app_path}\")\n",
    "\n",
    "# # === TIMING INFORMATION ===\n",
    "# print(\"\\n=== TIMING INFORMATION ===\")\n",
    "# print(f\"Start Time: {first_run.start_time}\")\n",
    "# print(f\"End Time: {first_run.end_time}\")\n",
    "# print(f\"First Token Time: {first_run.first_token_time}\")\n",
    "# print(f\"Execution Time: {first_run.end_time - first_run.start_time}\")\n",
    "\n",
    "# # === TOKEN AND COST METRICS ===\n",
    "# print(\"\\n=== TOKEN AND COST METRICS ===\")\n",
    "# print(f\"Prompt Tokens: {first_run.prompt_tokens}\")\n",
    "# print(f\"Completion Tokens: {first_run.completion_tokens}\")\n",
    "# print(f\"Total Tokens: {first_run.total_tokens}\")\n",
    "# print(f\"Prompt Cost: ${first_run.prompt_cost}\")\n",
    "# print(f\"Completion Cost: ${first_run.completion_cost}\")\n",
    "# print(f\"Total Cost: ${first_run.total_cost}\")\n",
    "\n",
    "# # === INPUT/OUTPUT DATA ===\n",
    "# print(\"\\n=== INPUT/OUTPUT DATA ===\")\n",
    "# print(f\"Inputs: {first_run.inputs}\")\n",
    "# print(f\"Outputs: {first_run.outputs}\")\n",
    "# print(f\"Error: {first_run.error}\")\n",
    "\n",
    "# # === RELATIONSHIP PROPERTIES ===\n",
    "# print(\"\\n=== RELATIONSHIP PROPERTIES ===\")\n",
    "# print(f\"Parent Run ID: {first_run.parent_run_id}\")\n",
    "# print(f\"Parent Run IDs: {first_run.parent_run_ids}\")\n",
    "# print(f\"Child Run IDs: {first_run.child_run_ids}\")\n",
    "# print(f\"Child Runs: {first_run.child_runs}\")\n",
    "# print(f\"Trace ID: {first_run.trace_id}\")\n",
    "# print(f\"Dotted Order: {first_run.dotted_order}\")\n",
    "\n",
    "# # === METADATA ===\n",
    "# print(\"\\n=== METADATA ===\")\n",
    "# print(f\"Tags: {first_run.tags}\")\n",
    "# print(f\"Extra: {first_run.extra}\")\n",
    "# print(f\"Serialized: {first_run.serialized}\")\n",
    "# print(f\"Events: {first_run.events}\")\n",
    "# print(f\"Feedback Stats: {first_run.feedback_stats}\")\n",
    "# print(f\"In Dataset: {first_run.in_dataset}\")\n",
    "# print(f\"Reference Example ID: {first_run.reference_example_id}\")\n",
    "# print(f\"Session ID: {first_run.session_id}\")\n",
    "# print(f\"Manifest ID: {first_run.manifest_id}\")"
   ]
  },
  {
   "cell_type": "code",
   "execution_count": 1,
   "metadata": {},
   "outputs": [
    {
     "name": "stdout",
     "output_type": "stream",
     "text": [
      "Processing endpoint set: Uniprot\n",
      "\n",
      "Processed: 48_glycosylation_sites_and_glycans.ttl\n",
      "Processed 1 files from Uniprot\n",
      "Saved metadata for 1 files from 1 endpoint sets to:\n",
      "  - /Users/sebastian/Documents/Bachelor Thesis/sparql-rag-agent/sparql-rag-agent/experiments/eval/ev_2025-04-08_00-56-44/testset_meta_data.json\n",
      "Sending question 1/1 to agent...\n"
     ]
    },
    {
     "name": "stderr",
     "output_type": "stream",
     "text": [
      "Retrying langchain_google_genai.chat_models._achat_with_retry.<locals>._achat_with_retry in 2.0 seconds as it raised NotFound: 404 models/gemini-2.5.pro-exp-03-25 is not found for API version v1beta, or is not supported for generateContent. Call ListModels to see the list of available models and their supported methods..\n",
      "WARNING: All log messages before absl::InitializeLog() is called are written to STDERR\n",
      "I0000 00:00:1744066607.856888  931022 fork_posix.cc:75] Other threads are currently calling into gRPC, skipping fork() handlers\n",
      "No entities found in structured question\n",
      "Retrying langchain_google_genai.chat_models._achat_with_retry.<locals>._achat_with_retry in 2.0 seconds as it raised NotFound: 404 models/gemini-2.5.pro-exp-03-25 is not found for API version v1beta, or is not supported for generateContent. Call ListModels to see the list of available models and their supported methods..\n"
     ]
    },
    {
     "name": "stdout",
     "output_type": "stream",
     "text": [
      "{'messages': [HumanMessage(content='Retrieve glycosylation sites and glycans on human enzymes (federated with Glyconnect)', additional_kwargs={}, response_metadata={}, id='ef8f5b3e-1c53-4e1d-b731-ed25b8cf693b')], 'structured_question': StructuredQuestion(intent='access_resources', extracted_classes=[], extracted_entities=[], question_steps=[]), 'retrieved_docs': [], 'extracted_entities': [], 'structured_output': '', 'steps': [StepOutput(label='Error in SPARQL query generation', details='Failed to generate query: 404 models/gemini-2.5.pro-exp-03-25 is not found for API version v1beta, or is not supported for generateContent. Call ListModels to see the list of available models and their supported methods.', substeps=[], type='fix-message', fixed_message=None)]}\n",
      "Got first run!\n",
      "Warning: Run has None value for start_time or end_time\n",
      "Error processing question 1/1: 'str' object has no attribute 'get'\n"
     ]
    }
   ],
   "source": [
    "import asyncio\n",
    "import sys\n",
    "sys.path.append('/Users/sebastian/Documents/Bachelor Thesis/sparql-rag-agent/sparql-rag-agent')\n",
    "\n",
    "from experiments.utilities.evaluation import AgentEvaluator\n",
    "\n",
    "\n",
    "evaluator = AgentEvaluator(\n",
    "    endpoint_sets={\"Uniprot\": [\"48_glycosylation_sites_and_glycans.ttl\"]},\n",
    "    test=True\n",
    ")\n",
    "\n",
    "await evaluator.run_all_tests()"
   ]
  },
  {
   "cell_type": "code",
   "execution_count": null,
   "metadata": {},
   "outputs": [],
   "source": []
  }
 ],
 "metadata": {
  "kernelspec": {
   "display_name": ".venv",
   "language": "python",
   "name": "python3"
  },
  "language_info": {
   "codemirror_mode": {
    "name": "ipython",
    "version": 3
   },
   "file_extension": ".py",
   "mimetype": "text/x-python",
   "name": "python",
   "nbconvert_exporter": "python",
   "pygments_lexer": "ipython3",
   "version": "3.11.5"
  }
 },
 "nbformat": 4,
 "nbformat_minor": 2
}
