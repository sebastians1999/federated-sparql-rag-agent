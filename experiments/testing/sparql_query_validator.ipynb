{
 "cells": [
  {
   "cell_type": "code",
   "execution_count": 23,
   "metadata": {},
   "outputs": [],
   "source": [
    "import requests\n",
    "from bs4 import BeautifulSoup\n",
    "\n",
    "def validate_sparql_syntax(query: str) -> tuple[bool, str | None]:\n",
    "    \"\"\"\n",
    "    Validates the syntax of a SPARQL query using the SPARQLer Query Validator.\n",
    "    \n",
    "    Parameters:\n",
    "      query (str): The SPARQL query string to validate.\n",
    "    \n",
    "    Returns:\n",
    "      tuple: (True, None) if the query is syntactically correct,\n",
    "             (False, error_message) if there is a syntax error.\n",
    "    \"\"\"\n",
    "    base_url = \"http://www.sparql.org/\"\n",
    "    endpoint = base_url + \"$/validate/query\"\n",
    "    \n",
    "    data = {\n",
    "        \"query\": query,\n",
    "        \"languageSyntax\": \"SPARQL\",\n",
    "        \"outputFormat\": \"sparql\",\n",
    "        \"linenumbers\": \"true\"\n",
    "    }\n",
    "    \n",
    "    headers = {\n",
    "        \"Referer\": \"http://www.sparql.org/query-validator.html\",\n",
    "    }\n",
    "    \n",
    "    try:\n",
    "        response = requests.post(endpoint, data=data, headers=headers)\n",
    "        response.raise_for_status()\n",
    "    except requests.RequestException as e:\n",
    "        return False, f\"Request failed: {e}\"\n",
    "    \n",
    "    # Parse the HTML response\n",
    "    soup = BeautifulSoup(response.text, 'html.parser')\n",
    "\n",
    "    #print(soup)\n",
    "    \n",
    "    # Check if there's a syntax error section\n",
    "    error_section = soup.find('p', text='Syntax error:')\n",
    "    \n",
    "    if error_section:\n",
    "        # Extract the error message\n",
    "        error_box = error_section.find_next('pre', class_='box')\n",
    "        if error_box:\n",
    "            return False, error_box.text.strip()\n",
    "        else:\n",
    "            return False, \"Unknown syntax error\"\n",
    "    else:\n",
    "        # No error section means the query is valid\n",
    "        return True, None"
   ]
  },
  {
   "cell_type": "code",
   "execution_count": 24,
   "metadata": {},
   "outputs": [
    {
     "name": "stderr",
     "output_type": "stream",
     "text": [
      "/var/folders/cf/q7bl9m0529ncggwfh1ml6k5m0000gn/T/ipykernel_49555/1194369607.py:41: DeprecationWarning: The 'text' argument to find()-type methods is deprecated. Use 'string' instead.\n",
      "  error_section = soup.find('p', text='Syntax error:')\n"
     ]
    },
    {
     "name": "stdout",
     "output_type": "stream",
     "text": [
      "✅ Valid query.\n",
      "❌ Invalid query: Encountered \"  \"?person \"\" at line 5, column 3.\n",
      "Was expecting one of:\n",
      "    \"values\" ...\n",
      "    \"graph\" ...\n",
      "    \"optional\" ...\n",
      "    \"minus\" ...\n",
      "    \"bind\" ...\n",
      "    \"service\" ...\n",
      "    \"filter\" ...\n",
      "    \"{\" ...\n",
      "    \"}\" ...\n",
      "    \";\" ...\n",
      "    \",\" ...\n",
      "    \".\" ...\n",
      "    \"{|\" ...\n"
     ]
    }
   ],
   "source": [
    "# Define a valid query\n",
    "valid_query = \"\"\"\n",
    "PREFIX foaf: <http://xmlns.com/foaf/0.1/>\n",
    "SELECT ?name WHERE {\n",
    "  ?person a foaf:Person .\n",
    "  ?person foaf:name ?name .\n",
    "}\n",
    "\"\"\"\n",
    "\n",
    "# Define an invalid query (intentionally missing a period to induce syntax error)\n",
    "invalid_query = \"\"\"\n",
    "PREFIX foaf: <http://xmlns.com/foaf/0.1/>\n",
    "SELECT ?name WHERE {\n",
    "  ?person a foaf:Person \n",
    "  ?person foaf:name ?name .   # Missing period between triple patterns?\n",
    "}\n",
    "\"\"\"\n",
    "\n",
    "# Test the valid query\n",
    "is_valid, error = validate_sparql_syntax(valid_query)\n",
    "if is_valid:\n",
    "    print(\"✅ Valid query.\")\n",
    "else:\n",
    "    print(\"❌ Invalid query:\", error)\n",
    "\n",
    "# Test the invalid query\n",
    "is_valid, error = validate_sparql_syntax(invalid_query)\n",
    "if is_valid:\n",
    "    print(\"✅ Valid query.\")\n",
    "else:\n",
    "    print(\"❌ Invalid query:\", error)\n"
   ]
  }
 ],
 "metadata": {
  "kernelspec": {
   "display_name": ".venv",
   "language": "python",
   "name": "python3"
  },
  "language_info": {
   "codemirror_mode": {
    "name": "ipython",
    "version": 3
   },
   "file_extension": ".py",
   "mimetype": "text/x-python",
   "name": "python",
   "nbconvert_exporter": "python",
   "pygments_lexer": "ipython3",
   "version": "3.11.5"
  }
 },
 "nbformat": 4,
 "nbformat_minor": 2
}
