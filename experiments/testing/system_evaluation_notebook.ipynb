{
 "cells": [
  {
   "cell_type": "code",
   "execution_count": 1,
   "metadata": {},
   "outputs": [
    {
     "name": "stderr",
     "output_type": "stream",
     "text": [
      "[nltk_data] Downloading package wordnet to\n",
      "[nltk_data]     /Users/sebastian/nltk_data...\n",
      "[nltk_data]   Package wordnet is already up-to-date!\n"
     ]
    }
   ],
   "source": [
    "import asyncio\n",
    "import sys\n",
    "sys.path.append('/Users/sebastian/Documents/Bachelor Thesis/sparql-rag-agent/sparql-rag-agent')\n",
    "from experiments.utilities.evaluation import AgentEvaluator"
   ]
  },
  {
   "cell_type": "code",
   "execution_count": 3,
   "metadata": {},
   "outputs": [],
   "source": [
    "# test_set = {\n",
    "#     \"SwissLipids\": [\"5.ttl\"],\n",
    "#     \"Uniprot\": [\"51_all_proteins_linked_to_arachidonate.ttl\"],\n",
    "#     \"Rhea\": [\"12.ttl\", \"112_Total_number_of_reaction_ec_protein_links.ttl\", \"117_Retrieve_parent_reactions_and_their_catalyzing_enzymes_for_a_metabolite_that_is_not_directly_involved_in_a_reaction.ttl\"]\n",
    "# }\n",
    "\n",
    "test_set = { \"SwissLipids\": [], \"Uniprot\": [], \"Rhea\": [] }"
   ]
  },
  {
   "cell_type": "code",
   "execution_count": 4,
   "metadata": {},
   "outputs": [
    {
     "name": "stdout",
     "output_type": "stream",
     "text": [
      "Processing endpoint set: SwissLipids\n",
      "Processed: 16.ttl\n",
      "Processed: 6.ttl\n",
      "Processed: 5.ttl\n",
      "Processed: 34.ttl\n",
      "Processed 4 files from SwissLipids\n",
      "Processing endpoint set: Uniprot\n",
      "Processed: 118_biosodafrontend_rat_brain_human_cancer.ttl\n",
      "Processed: 51_all_proteins_linked_to_arachidonate.ttl\n",
      "Processed: 40_human_enzymes_that_metabolize_sphingolipids.ttl\n",
      "Processed: 49_tissues_where_genes_metabolizing_cholestrol_are_expressed.ttl\n",
      "Processed: 53_mouse_homologs_of_sterol_enzymes_via_omabrowser.ttl\n",
      "Processed: 52_drugs_targeting_sterol_metabolism.ttl\n",
      "Processed: 54_binding_sites_for_ligands_similar_to_heme_sachem.ttl\n",
      "Processed: 43_patents_used_in_uniprot_granted_twenty_years_in_the_past.ttl\n",
      "Processed: 45_drugs_targeting_human_sterol_metabolism_enzymes.ttl\n",
      "Processed: 42_connect_patents_to_epo.ttl\n",
      "Processed: 67_draft_human_metabolome.ttl\n",
      "Processed: 60_enzymes_working_on_substrate_with_Cholestene_backbone.ttl\n",
      "Processed: 70_enzymes_interacting_with_molecules_similar_to_dopamine.ttl\n",
      "Processed: 38_find_gene_region_in_wikidata_for_known_entry.ttl\n",
      "Processed: 117_biosodafrontend_glioblastoma_orthologs_rat.ttl\n",
      "Processed: 116_biosodafrontend_rabit_mouse_orthologs.ttl\n",
      "Processed: 29_search_uniprot_in_japanese_with_allie.ttl\n",
      "Processed 17 files from Uniprot\n",
      "Processing endpoint set: Rhea\n",
      "Processed: 94_Select_all_approved_reactions_with_CHEBI_or_one_of_its_descendant_optional_UniProtKB_reviewed_EC.ttl\n",
      "Processed: 11.ttl\n",
      "Processed: 109_Distribution_of_reactions_according_to_the_first_level_of_enzyme_classification.ttl\n",
      "Processed: 12.ttl\n",
      "Processed: 112_Total_number_of_reaction_ec_protein_links.ttl\n",
      "Processed: 19_draft_human_metabolome.ttl\n",
      "Processed: 20_search_chemical_names_in_japanese.ttl\n",
      "Processed: 117_Retrieve_parent_reactions_and_their_catalyzing_enzymes_for_a_metabolite_that_is_not_directly_involved_in_a_reaction.ttl\n",
      "Processed: 18.ttl\n",
      "Processed: 115_Retrieve_the_set_of_metabolites_involved_in_reactions_catalyzed_by_human_genes_HUMAN_reference_proteome.ttl\n",
      "Processed 10 files from Rhea\n",
      "Saved metadata for 31 files from 3 endpoint sets to:\n",
      "  - /Users/sebastian/Documents/Bachelor Thesis/sparql-rag-agent/sparql-rag-agent/experiments/experiments_official/ev_2025-04-19_14-00-24/testset_meta_data.json\n",
      "Sending question 1/31 to agent...\n"
     ]
    },
    {
     "name": "stderr",
     "output_type": "stream",
     "text": [
      "WARNING: All log messages before absl::InitializeLog() is called are written to STDERR\n",
      "I0000 00:00:1745064027.309863   28529 fork_posix.cc:75] Other threads are currently calling into gRPC, skipping fork() handlers\n",
      "No entities or classes found in structured question\n"
     ]
    },
    {
     "name": "stdout",
     "output_type": "stream",
     "text": [
      "Warning: Run has None value for start_time or end_time\n",
      "Got result for question 1/31\n",
      "  Using cached result for query\n",
      "Querying ground truth endpoint...\n",
      "Sending question 2/31 to agent...\n"
     ]
    },
    {
     "name": "stderr",
     "output_type": "stream",
     "text": [
      "No entities or classes found in structured question\n"
     ]
    },
    {
     "name": "stdout",
     "output_type": "stream",
     "text": [
      "Warning: Run has None value for start_time or end_time\n",
      "Got result for question 2/31\n",
      "  Using cached result for query\n",
      "Querying ground truth endpoint...\n",
      "Sending question 3/31 to agent...\n"
     ]
    },
    {
     "name": "stderr",
     "output_type": "stream",
     "text": [
      "No entities or classes found in structured question\n"
     ]
    },
    {
     "name": "stdout",
     "output_type": "stream",
     "text": [
      "Warning: Run has None value for start_time or end_time\n",
      "Got result for question 3/31\n",
      "  Using cached result for query\n",
      "Querying ground truth endpoint...\n",
      "Sending question 4/31 to agent...\n"
     ]
    },
    {
     "name": "stderr",
     "output_type": "stream",
     "text": [
      "No entities or classes found in structured question\n"
     ]
    },
    {
     "name": "stdout",
     "output_type": "stream",
     "text": [
      "Warning: Run has None value for start_time or end_time\n",
      "Got result for question 4/31\n",
      "  Using cached result for query\n",
      "Querying ground truth endpoint...\n",
      "Sending question 5/31 to agent...\n"
     ]
    },
    {
     "name": "stderr",
     "output_type": "stream",
     "text": [
      "No entities or classes found in structured question\n"
     ]
    },
    {
     "name": "stdout",
     "output_type": "stream",
     "text": [
      "Warning: Run has None value for start_time or end_time\n",
      "Got result for question 5/31\n",
      "  Using cached result for query\n",
      "Querying ground truth endpoint...\n",
      "Sending question 6/31 to agent...\n"
     ]
    },
    {
     "name": "stderr",
     "output_type": "stream",
     "text": [
      "No entities or classes found in structured question\n"
     ]
    },
    {
     "ename": "CancelledError",
     "evalue": "",
     "output_type": "error",
     "traceback": [
      "\u001b[31m---------------------------------------------------------------------------\u001b[39m",
      "\u001b[31mCancelledError\u001b[39m                            Traceback (most recent call last)",
      "\u001b[36mCell\u001b[39m\u001b[36m \u001b[39m\u001b[32mIn[4]\u001b[39m\u001b[32m, line 7\u001b[39m\n\u001b[32m      1\u001b[39m evaluator = AgentEvaluator(\n\u001b[32m      2\u001b[39m     endpoint_sets=test_set,\n\u001b[32m      3\u001b[39m     experiment_dir=\u001b[33m\"\u001b[39m\u001b[33mexperiments_official\u001b[39m\u001b[33m\"\u001b[39m,\n\u001b[32m      4\u001b[39m     project_name_langsmith=\u001b[33m\"\u001b[39m\u001b[33msparql-rag-agent-baseline-version-1.0\u001b[39m\u001b[33m\"\u001b[39m,\n\u001b[32m      5\u001b[39m     timeout = \u001b[32m300\u001b[39m,\n\u001b[32m      6\u001b[39m )\n\u001b[32m----> \u001b[39m\u001b[32m7\u001b[39m evaluation_dataset_path = \u001b[38;5;28;01mawait\u001b[39;00m evaluator.run_all_tests()\n",
      "\u001b[36mFile \u001b[39m\u001b[32m~/Documents/Bachelor Thesis/sparql-rag-agent/sparql-rag-agent/experiments/utilities/evaluation.py:142\u001b[39m, in \u001b[36mAgentEvaluator.run_all_tests\u001b[39m\u001b[34m(self)\u001b[39m\n\u001b[32m    140\u001b[39m \u001b[38;5;28;01mtry\u001b[39;00m:\n\u001b[32m    141\u001b[39m     \u001b[38;5;28mprint\u001b[39m(\u001b[33mf\u001b[39m\u001b[33m\"\u001b[39m\u001b[33mSending question \u001b[39m\u001b[38;5;132;01m{\u001b[39;00mi+\u001b[32m1\u001b[39m\u001b[38;5;132;01m}\u001b[39;00m\u001b[33m/\u001b[39m\u001b[38;5;132;01m{\u001b[39;00m\u001b[38;5;28mlen\u001b[39m(test_dataset)\u001b[38;5;132;01m}\u001b[39;00m\u001b[33m to agent...\u001b[39m\u001b[33m\"\u001b[39m)\n\u001b[32m--> \u001b[39m\u001b[32m142\u001b[39m     result = \u001b[38;5;28;01mawait\u001b[39;00m \u001b[38;5;28mself\u001b[39m.run_single_test(question)\n\u001b[32m    143\u001b[39m     \u001b[38;5;28mprint\u001b[39m(\u001b[33mf\u001b[39m\u001b[33m\"\u001b[39m\u001b[33mGot result for question \u001b[39m\u001b[38;5;132;01m{\u001b[39;00mi+\u001b[32m1\u001b[39m\u001b[38;5;132;01m}\u001b[39;00m\u001b[33m/\u001b[39m\u001b[38;5;132;01m{\u001b[39;00m\u001b[38;5;28mlen\u001b[39m(test_dataset)\u001b[38;5;132;01m}\u001b[39;00m\u001b[33m\"\u001b[39m)\n\u001b[32m    145\u001b[39m     updated_item = {\n\u001b[32m    146\u001b[39m         \u001b[38;5;66;03m# Meta data - access fields directly\u001b[39;00m\n\u001b[32m    147\u001b[39m         \u001b[33m\"\u001b[39m\u001b[33mresource\u001b[39m\u001b[33m\"\u001b[39m: item.get(\u001b[33m\"\u001b[39m\u001b[33mresource\u001b[39m\u001b[33m\"\u001b[39m, \u001b[33m\"\u001b[39m\u001b[33m\"\u001b[39m),\n\u001b[32m   (...)\u001b[39m\u001b[32m    170\u001b[39m         \u001b[33m\"\u001b[39m\u001b[33mevaluation_timestamp\u001b[39m\u001b[33m\"\u001b[39m: datetime.now().isoformat()\n\u001b[32m    171\u001b[39m     }\n",
      "\u001b[36mFile \u001b[39m\u001b[32m~/Documents/Bachelor Thesis/sparql-rag-agent/sparql-rag-agent/experiments/utilities/evaluation.py:57\u001b[39m, in \u001b[36mAgentEvaluator.run_single_test\u001b[39m\u001b[34m(self, question)\u001b[39m\n\u001b[32m     52\u001b[39m \u001b[38;5;28;01mtry\u001b[39;00m:    \n\u001b[32m     53\u001b[39m     initial_state = State(\n\u001b[32m     54\u001b[39m         messages=[HumanMessage(content=question)]\n\u001b[32m     55\u001b[39m     )\n\u001b[32m---> \u001b[39m\u001b[32m57\u001b[39m     final_state = \u001b[38;5;28;01mawait\u001b[39;00m \u001b[38;5;28mself\u001b[39m.graph.ainvoke(initial_state)\n\u001b[32m     59\u001b[39m \u001b[38;5;28;01mexcept\u001b[39;00m \u001b[38;5;167;01mException\u001b[39;00m \u001b[38;5;28;01mas\u001b[39;00m e:\n\u001b[32m     60\u001b[39m     \u001b[38;5;28mprint\u001b[39m(\u001b[33mf\u001b[39m\u001b[33m\"\u001b[39m\u001b[33mError processing question in agent: \u001b[39m\u001b[38;5;132;01m{\u001b[39;00m\u001b[38;5;28mstr\u001b[39m(e)\u001b[38;5;132;01m}\u001b[39;00m\u001b[33m\"\u001b[39m)\n",
      "\u001b[36mFile \u001b[39m\u001b[32m~/Documents/Bachelor Thesis/sparql-rag-agent/sparql-rag-agent/.venv/lib/python3.11/site-packages/langgraph/pregel/__init__.py:2741\u001b[39m, in \u001b[36mPregel.ainvoke\u001b[39m\u001b[34m(self, input, config, stream_mode, output_keys, interrupt_before, interrupt_after, debug, **kwargs)\u001b[39m\n\u001b[32m   2739\u001b[39m \u001b[38;5;28;01melse\u001b[39;00m:\n\u001b[32m   2740\u001b[39m     chunks = []\n\u001b[32m-> \u001b[39m\u001b[32m2741\u001b[39m \u001b[38;5;28;01masync\u001b[39;00m \u001b[38;5;28;01mfor\u001b[39;00m chunk \u001b[38;5;129;01min\u001b[39;00m \u001b[38;5;28mself\u001b[39m.astream(\n\u001b[32m   2742\u001b[39m     \u001b[38;5;28minput\u001b[39m,\n\u001b[32m   2743\u001b[39m     config,\n\u001b[32m   2744\u001b[39m     stream_mode=stream_mode,\n\u001b[32m   2745\u001b[39m     output_keys=output_keys,\n\u001b[32m   2746\u001b[39m     interrupt_before=interrupt_before,\n\u001b[32m   2747\u001b[39m     interrupt_after=interrupt_after,\n\u001b[32m   2748\u001b[39m     debug=debug,\n\u001b[32m   2749\u001b[39m     **kwargs,\n\u001b[32m   2750\u001b[39m ):\n\u001b[32m   2751\u001b[39m     \u001b[38;5;28;01mif\u001b[39;00m stream_mode == \u001b[33m\"\u001b[39m\u001b[33mvalues\u001b[39m\u001b[33m\"\u001b[39m:\n\u001b[32m   2752\u001b[39m         latest = chunk\n",
      "\u001b[36mFile \u001b[39m\u001b[32m~/Documents/Bachelor Thesis/sparql-rag-agent/sparql-rag-agent/.venv/lib/python3.11/site-packages/langgraph/pregel/__init__.py:2626\u001b[39m, in \u001b[36mPregel.astream\u001b[39m\u001b[34m(self, input, config, stream_mode, output_keys, interrupt_before, interrupt_after, debug, subgraphs)\u001b[39m\n\u001b[32m   2620\u001b[39m \u001b[38;5;66;03m# Similarly to Bulk Synchronous Parallel / Pregel model\u001b[39;00m\n\u001b[32m   2621\u001b[39m \u001b[38;5;66;03m# computation proceeds in steps, while there are channel updates\u001b[39;00m\n\u001b[32m   2622\u001b[39m \u001b[38;5;66;03m# channel updates from step N are only visible in step N+1\u001b[39;00m\n\u001b[32m   2623\u001b[39m \u001b[38;5;66;03m# channels are guaranteed to be immutable for the duration of the step,\u001b[39;00m\n\u001b[32m   2624\u001b[39m \u001b[38;5;66;03m# with channel updates applied only at the transition between steps\u001b[39;00m\n\u001b[32m   2625\u001b[39m \u001b[38;5;28;01mwhile\u001b[39;00m loop.tick(input_keys=\u001b[38;5;28mself\u001b[39m.input_channels):\n\u001b[32m-> \u001b[39m\u001b[32m2626\u001b[39m     \u001b[38;5;28;01masync\u001b[39;00m \u001b[38;5;28;01mfor\u001b[39;00m _ \u001b[38;5;129;01min\u001b[39;00m runner.atick(\n\u001b[32m   2627\u001b[39m         loop.tasks.values(),\n\u001b[32m   2628\u001b[39m         timeout=\u001b[38;5;28mself\u001b[39m.step_timeout,\n\u001b[32m   2629\u001b[39m         retry_policy=\u001b[38;5;28mself\u001b[39m.retry_policy,\n\u001b[32m   2630\u001b[39m         get_waiter=get_waiter,\n\u001b[32m   2631\u001b[39m     ):\n\u001b[32m   2632\u001b[39m         \u001b[38;5;66;03m# emit output\u001b[39;00m\n\u001b[32m   2633\u001b[39m         \u001b[38;5;28;01mfor\u001b[39;00m o \u001b[38;5;129;01min\u001b[39;00m output():\n\u001b[32m   2634\u001b[39m             \u001b[38;5;28;01myield\u001b[39;00m o\n",
      "\u001b[36mFile \u001b[39m\u001b[32m~/Documents/Bachelor Thesis/sparql-rag-agent/sparql-rag-agent/.venv/lib/python3.11/site-packages/langgraph/pregel/runner.py:288\u001b[39m, in \u001b[36mPregelRunner.atick\u001b[39m\u001b[34m(self, tasks, reraise, timeout, retry_policy, get_waiter)\u001b[39m\n\u001b[32m    286\u001b[39m t = tasks[\u001b[32m0\u001b[39m]\n\u001b[32m    287\u001b[39m \u001b[38;5;28;01mtry\u001b[39;00m:\n\u001b[32m--> \u001b[39m\u001b[32m288\u001b[39m     \u001b[38;5;28;01mawait\u001b[39;00m arun_with_retry(\n\u001b[32m    289\u001b[39m         t,\n\u001b[32m    290\u001b[39m         retry_policy,\n\u001b[32m    291\u001b[39m         stream=\u001b[38;5;28mself\u001b[39m.use_astream,\n\u001b[32m    292\u001b[39m         configurable={\n\u001b[32m    293\u001b[39m             CONFIG_KEY_CALL: partial(\n\u001b[32m    294\u001b[39m                 _acall,\n\u001b[32m    295\u001b[39m                 weakref.ref(t),\n\u001b[32m    296\u001b[39m                 stream=\u001b[38;5;28mself\u001b[39m.use_astream,\n\u001b[32m    297\u001b[39m                 retry=retry_policy,\n\u001b[32m    298\u001b[39m                 futures=weakref.ref(futures),\n\u001b[32m    299\u001b[39m                 schedule_task=\u001b[38;5;28mself\u001b[39m.schedule_task,\n\u001b[32m    300\u001b[39m                 submit=\u001b[38;5;28mself\u001b[39m.submit,\n\u001b[32m    301\u001b[39m                 reraise=reraise,\n\u001b[32m    302\u001b[39m                 loop=loop,\n\u001b[32m    303\u001b[39m             ),\n\u001b[32m    304\u001b[39m         },\n\u001b[32m    305\u001b[39m     )\n\u001b[32m    306\u001b[39m     \u001b[38;5;28mself\u001b[39m.commit(t, \u001b[38;5;28;01mNone\u001b[39;00m)\n\u001b[32m    307\u001b[39m \u001b[38;5;28;01mexcept\u001b[39;00m \u001b[38;5;167;01mException\u001b[39;00m \u001b[38;5;28;01mas\u001b[39;00m exc:\n",
      "\u001b[36mFile \u001b[39m\u001b[32m~/Documents/Bachelor Thesis/sparql-rag-agent/sparql-rag-agent/.venv/lib/python3.11/site-packages/langgraph/pregel/retry.py:128\u001b[39m, in \u001b[36marun_with_retry\u001b[39m\u001b[34m(task, retry_policy, stream, configurable)\u001b[39m\n\u001b[32m    126\u001b[39m         \u001b[38;5;28;01mbreak\u001b[39;00m\n\u001b[32m    127\u001b[39m     \u001b[38;5;28;01melse\u001b[39;00m:\n\u001b[32m--> \u001b[39m\u001b[32m128\u001b[39m         \u001b[38;5;28;01mreturn\u001b[39;00m \u001b[38;5;28;01mawait\u001b[39;00m task.proc.ainvoke(task.input, config)\n\u001b[32m    129\u001b[39m \u001b[38;5;28;01mexcept\u001b[39;00m ParentCommand \u001b[38;5;28;01mas\u001b[39;00m exc:\n\u001b[32m    130\u001b[39m     ns: \u001b[38;5;28mstr\u001b[39m = config[CONF][CONFIG_KEY_CHECKPOINT_NS]\n",
      "\u001b[36mFile \u001b[39m\u001b[32m~/Documents/Bachelor Thesis/sparql-rag-agent/sparql-rag-agent/.venv/lib/python3.11/site-packages/langgraph/utils/runnable.py:645\u001b[39m, in \u001b[36mRunnableSeq.ainvoke\u001b[39m\u001b[34m(self, input, config, **kwargs)\u001b[39m\n\u001b[32m    643\u001b[39m             \u001b[38;5;28minput\u001b[39m = \u001b[38;5;28;01mawait\u001b[39;00m step.ainvoke(\u001b[38;5;28minput\u001b[39m, config, **kwargs)\n\u001b[32m    644\u001b[39m         \u001b[38;5;28;01melse\u001b[39;00m:\n\u001b[32m--> \u001b[39m\u001b[32m645\u001b[39m             \u001b[38;5;28minput\u001b[39m = \u001b[38;5;28;01mawait\u001b[39;00m step.ainvoke(\u001b[38;5;28minput\u001b[39m, config)\n\u001b[32m    646\u001b[39m \u001b[38;5;66;03m# finish the root run\u001b[39;00m\n\u001b[32m    647\u001b[39m \u001b[38;5;28;01mexcept\u001b[39;00m \u001b[38;5;167;01mBaseException\u001b[39;00m \u001b[38;5;28;01mas\u001b[39;00m e:\n",
      "\u001b[36mFile \u001b[39m\u001b[32m~/Documents/Bachelor Thesis/sparql-rag-agent/sparql-rag-agent/.venv/lib/python3.11/site-packages/langgraph/utils/runnable.py:419\u001b[39m, in \u001b[36mRunnableCallable.ainvoke\u001b[39m\u001b[34m(self, input, config, **kwargs)\u001b[39m\n\u001b[32m    417\u001b[39m coro = cast(Coroutine[\u001b[38;5;28;01mNone\u001b[39;00m, \u001b[38;5;28;01mNone\u001b[39;00m, Any], \u001b[38;5;28mself\u001b[39m.afunc(*args, **kwargs))\n\u001b[32m    418\u001b[39m \u001b[38;5;28;01mif\u001b[39;00m ASYNCIO_ACCEPTS_CONTEXT:\n\u001b[32m--> \u001b[39m\u001b[32m419\u001b[39m     ret = \u001b[38;5;28;01mawait\u001b[39;00m asyncio.create_task(coro, context=context)\n\u001b[32m    420\u001b[39m \u001b[38;5;28;01melse\u001b[39;00m:\n\u001b[32m    421\u001b[39m     ret = \u001b[38;5;28;01mawait\u001b[39;00m coro\n",
      "\u001b[36mFile \u001b[39m\u001b[32m~/Documents/Bachelor Thesis/sparql-rag-agent/sparql-rag-agent/.venv/lib/python3.11/site-packages/langgraph/pregel/write.py:105\u001b[39m, in \u001b[36mChannelWrite._awrite\u001b[39m\u001b[34m(self, input, config)\u001b[39m\n\u001b[32m     99\u001b[39m     \u001b[38;5;28mself\u001b[39m.do_write(\n\u001b[32m    100\u001b[39m         config,\n\u001b[32m    101\u001b[39m         writes,\n\u001b[32m    102\u001b[39m     )\n\u001b[32m    103\u001b[39m     \u001b[38;5;28;01mreturn\u001b[39;00m \u001b[38;5;28minput\u001b[39m\n\u001b[32m--> \u001b[39m\u001b[32m105\u001b[39m \u001b[38;5;28;01masync\u001b[39;00m \u001b[38;5;28;01mdef\u001b[39;00m\u001b[38;5;250m \u001b[39m\u001b[34m_awrite\u001b[39m(\u001b[38;5;28mself\u001b[39m, \u001b[38;5;28minput\u001b[39m: Any, config: RunnableConfig) -> \u001b[38;5;28;01mNone\u001b[39;00m:\n\u001b[32m    106\u001b[39m     writes = [\n\u001b[32m    107\u001b[39m         ChannelWriteEntry(write.channel, \u001b[38;5;28minput\u001b[39m, write.skip_none, write.mapper)\n\u001b[32m    108\u001b[39m         \u001b[38;5;28;01mif\u001b[39;00m \u001b[38;5;28misinstance\u001b[39m(write, ChannelWriteEntry) \u001b[38;5;129;01mand\u001b[39;00m write.value \u001b[38;5;129;01mis\u001b[39;00m PASSTHROUGH\n\u001b[32m   (...)\u001b[39m\u001b[32m    112\u001b[39m         \u001b[38;5;28;01mfor\u001b[39;00m write \u001b[38;5;129;01min\u001b[39;00m \u001b[38;5;28mself\u001b[39m.writes\n\u001b[32m    113\u001b[39m     ]\n\u001b[32m    114\u001b[39m     \u001b[38;5;28mself\u001b[39m.do_write(\n\u001b[32m    115\u001b[39m         config,\n\u001b[32m    116\u001b[39m         writes,\n\u001b[32m    117\u001b[39m     )\n",
      "\u001b[31mCancelledError\u001b[39m: "
     ]
    }
   ],
   "source": [
    "\n",
    "evaluator = AgentEvaluator(\n",
    "    endpoint_sets=test_set,\n",
    "    experiment_dir=\"experiments_official\",\n",
    "    project_name_langsmith=\"sparql-rag-agent-baseline-version-1.0\",\n",
    "    timeout = 300,\n",
    ")\n",
    "evaluation_dataset_path = await evaluator.run_all_tests()"
   ]
  },
  {
   "cell_type": "code",
   "execution_count": 7,
   "metadata": {},
   "outputs": [],
   "source": [
    "import pandas as pd\n",
    "\n",
    "\n",
    "evaluation_dataset_path = \"/Users/sebastian/Documents/Bachelor Thesis/sparql-rag-agent/sparql-rag-agent/experiments/experiments_official/ev_2025-04-16_11-21-33/evaluation_dataset.json\"\n",
    "df = pd.read_json(evaluation_dataset_path)"
   ]
  },
  {
   "cell_type": "code",
   "execution_count": 8,
   "metadata": {},
   "outputs": [
    {
     "data": {
      "text/html": [
       "<div>\n",
       "<style scoped>\n",
       "    .dataframe tbody tr th:only-of-type {\n",
       "        vertical-align: middle;\n",
       "    }\n",
       "\n",
       "    .dataframe tbody tr th {\n",
       "        vertical-align: top;\n",
       "    }\n",
       "\n",
       "    .dataframe thead th {\n",
       "        text-align: right;\n",
       "    }\n",
       "</style>\n",
       "<table border=\"1\" class=\"dataframe\">\n",
       "  <thead>\n",
       "    <tr style=\"text-align: right;\">\n",
       "      <th></th>\n",
       "      <th>resource</th>\n",
       "      <th>natural_language_question</th>\n",
       "      <th>ground_truth_query</th>\n",
       "      <th>target_endpoint</th>\n",
       "      <th>federates_with</th>\n",
       "      <th>endpoint_set</th>\n",
       "      <th>file_path</th>\n",
       "      <th>predicted_query</th>\n",
       "      <th>predicted_endpoint</th>\n",
       "      <th>predicted_endpoint_equal_to_target_endpoint</th>\n",
       "      <th>...</th>\n",
       "      <th>sparql_construction_completion_tokens</th>\n",
       "      <th>sparql_construction_total_tokens</th>\n",
       "      <th>is_valid_sparql</th>\n",
       "      <th>sparql_syntax_error</th>\n",
       "      <th>ground_truth_query_result_is_empty</th>\n",
       "      <th>result_eval_f1_score</th>\n",
       "      <th>result_eval_precision</th>\n",
       "      <th>result_eval_recall</th>\n",
       "      <th>error_occured_at_endpoint</th>\n",
       "      <th>predicted_query_result_is_empty</th>\n",
       "    </tr>\n",
       "  </thead>\n",
       "  <tbody>\n",
       "    <tr>\n",
       "      <th>0</th>\n",
       "      <td>https://sparql.swisslipids.org/.well-known/spa...</td>\n",
       "      <td>For a given lipid (SWISSLIPID:000399814, Ceram...</td>\n",
       "      <td>PREFIX SWISSLIPID: &lt;https://swisslipids.org/rd...</td>\n",
       "      <td>https://sparql.swisslipids.org/sparql/</td>\n",
       "      <td>[https://sparql.uniprot.org/sparql, https://sp...</td>\n",
       "      <td>SwissLipids</td>\n",
       "      <td>SwissLipids/6.ttl</td>\n",
       "      <td># https://sparql.swisslipids.ch/sparql\\nPREFIX...</td>\n",
       "      <td>https://sparql.swisslipids.ch/sparql</td>\n",
       "      <td>False</td>\n",
       "      <td>...</td>\n",
       "      <td>0</td>\n",
       "      <td>2361</td>\n",
       "      <td>False</td>\n",
       "      <td>Line 11, column 12: Unresolved prefixed name: ...</td>\n",
       "      <td>False</td>\n",
       "      <td>0</td>\n",
       "      <td>0</td>\n",
       "      <td>0</td>\n",
       "      <td>1.0</td>\n",
       "      <td>True</td>\n",
       "    </tr>\n",
       "    <tr>\n",
       "      <th>1</th>\n",
       "      <td>https://sparql.swisslipids.org/.well-known/spa...</td>\n",
       "      <td>For a given lipid (SWISSLIPID:000399814, Ceram...</td>\n",
       "      <td>PREFIX SWISSLIPID: &lt;https://swisslipids.org/rd...</td>\n",
       "      <td>https://sparql.swisslipids.org/sparql/</td>\n",
       "      <td>[https://sparql.rhea-db.org/sparql]</td>\n",
       "      <td>SwissLipids</td>\n",
       "      <td>SwissLipids/5.ttl</td>\n",
       "      <td># https://sparql.rhea-db.org/sparql\\nPREFIX rh...</td>\n",
       "      <td>https://sparql.rhea-db.org/sparql</td>\n",
       "      <td>False</td>\n",
       "      <td>...</td>\n",
       "      <td>0</td>\n",
       "      <td>1669</td>\n",
       "      <td>False</td>\n",
       "      <td>Line 13, column 36: Unresolved prefixed name: ...</td>\n",
       "      <td>False</td>\n",
       "      <td>0</td>\n",
       "      <td>0</td>\n",
       "      <td>0</td>\n",
       "      <td>0.0</td>\n",
       "      <td>True</td>\n",
       "    </tr>\n",
       "    <tr>\n",
       "      <th>2</th>\n",
       "      <td>https://sparql.swisslipids.org/.well-known/spa...</td>\n",
       "      <td>Lipids affected by human enzymes</td>\n",
       "      <td>PREFIX owl: &lt;http://www.w3.org/2002/07/owl#&gt;\\n...</td>\n",
       "      <td>https://sparql.swisslipids.org/sparql/</td>\n",
       "      <td>[https://sparql.uniprot.org/sparql, https://sp...</td>\n",
       "      <td>SwissLipids</td>\n",
       "      <td>SwissLipids/34.ttl</td>\n",
       "      <td># https://sparql.uniprot.org/sparql\\nPREFIX up...</td>\n",
       "      <td>https://sparql.uniprot.org/sparql</td>\n",
       "      <td>False</td>\n",
       "      <td>...</td>\n",
       "      <td>1086</td>\n",
       "      <td>2328</td>\n",
       "      <td>False</td>\n",
       "      <td>Line 27, column 12: Unresolved prefixed name: ...</td>\n",
       "      <td>False</td>\n",
       "      <td>0</td>\n",
       "      <td>0</td>\n",
       "      <td>0</td>\n",
       "      <td>1.0</td>\n",
       "      <td>True</td>\n",
       "    </tr>\n",
       "    <tr>\n",
       "      <th>3</th>\n",
       "      <td>https://sparql.uniprot.org/.well-known/sparql-...</td>\n",
       "      <td>What are the Homo sapiens genes associated wit...</td>\n",
       "      <td>PREFIX up:&lt;http://purl.uniprot.org/core/&gt;\\nPRE...</td>\n",
       "      <td>https://sparql.uniprot.org/sparql</td>\n",
       "      <td>[https://sparql.omabrowser.org/sparql/, https:...</td>\n",
       "      <td>Uniprot</td>\n",
       "      <td>UniProt/118_biosodafrontend_rat_brain_human_ca...</td>\n",
       "      <td># https://sparql.uniprot.org/sparql\\nPREFIX ta...</td>\n",
       "      <td>https://sparql.uniprot.org/sparql</td>\n",
       "      <td>True</td>\n",
       "      <td>...</td>\n",
       "      <td>481</td>\n",
       "      <td>2435</td>\n",
       "      <td>True</td>\n",
       "      <td>None</td>\n",
       "      <td>False</td>\n",
       "      <td>0</td>\n",
       "      <td>0</td>\n",
       "      <td>0</td>\n",
       "      <td>0.0</td>\n",
       "      <td>True</td>\n",
       "    </tr>\n",
       "    <tr>\n",
       "      <th>4</th>\n",
       "      <td>https://sparql.uniprot.org/.well-known/sparql-...</td>\n",
       "      <td>Find all proteins linked to arachidonate (CHEB...</td>\n",
       "      <td>PREFIX CHEBI: &lt;http://purl.obolibrary.org/obo/...</td>\n",
       "      <td>https://sparql.uniprot.org/sparql/</td>\n",
       "      <td>[https://sparql.rhea-db.org/sparql]</td>\n",
       "      <td>Uniprot</td>\n",
       "      <td>UniProt/51_all_proteins_linked_to_arachidonate...</td>\n",
       "      <td># https://sparql.uniprot.org/sparql\\nPREFIX up...</td>\n",
       "      <td>https://sparql.uniprot.org/sparql</td>\n",
       "      <td>True</td>\n",
       "      <td>...</td>\n",
       "      <td>0</td>\n",
       "      <td>1537</td>\n",
       "      <td>True</td>\n",
       "      <td>None</td>\n",
       "      <td>False</td>\n",
       "      <td>0</td>\n",
       "      <td>0</td>\n",
       "      <td>0</td>\n",
       "      <td>0.0</td>\n",
       "      <td>True</td>\n",
       "    </tr>\n",
       "  </tbody>\n",
       "</table>\n",
       "<p>5 rows × 27 columns</p>\n",
       "</div>"
      ],
      "text/plain": [
       "                                            resource  \\\n",
       "0  https://sparql.swisslipids.org/.well-known/spa...   \n",
       "1  https://sparql.swisslipids.org/.well-known/spa...   \n",
       "2  https://sparql.swisslipids.org/.well-known/spa...   \n",
       "3  https://sparql.uniprot.org/.well-known/sparql-...   \n",
       "4  https://sparql.uniprot.org/.well-known/sparql-...   \n",
       "\n",
       "                           natural_language_question  \\\n",
       "0  For a given lipid (SWISSLIPID:000399814, Ceram...   \n",
       "1  For a given lipid (SWISSLIPID:000399814, Ceram...   \n",
       "2                   Lipids affected by human enzymes   \n",
       "3  What are the Homo sapiens genes associated wit...   \n",
       "4  Find all proteins linked to arachidonate (CHEB...   \n",
       "\n",
       "                                  ground_truth_query  \\\n",
       "0  PREFIX SWISSLIPID: <https://swisslipids.org/rd...   \n",
       "1  PREFIX SWISSLIPID: <https://swisslipids.org/rd...   \n",
       "2  PREFIX owl: <http://www.w3.org/2002/07/owl#>\\n...   \n",
       "3  PREFIX up:<http://purl.uniprot.org/core/>\\nPRE...   \n",
       "4  PREFIX CHEBI: <http://purl.obolibrary.org/obo/...   \n",
       "\n",
       "                          target_endpoint  \\\n",
       "0  https://sparql.swisslipids.org/sparql/   \n",
       "1  https://sparql.swisslipids.org/sparql/   \n",
       "2  https://sparql.swisslipids.org/sparql/   \n",
       "3       https://sparql.uniprot.org/sparql   \n",
       "4      https://sparql.uniprot.org/sparql/   \n",
       "\n",
       "                                      federates_with endpoint_set  \\\n",
       "0  [https://sparql.uniprot.org/sparql, https://sp...  SwissLipids   \n",
       "1                [https://sparql.rhea-db.org/sparql]  SwissLipids   \n",
       "2  [https://sparql.uniprot.org/sparql, https://sp...  SwissLipids   \n",
       "3  [https://sparql.omabrowser.org/sparql/, https:...      Uniprot   \n",
       "4                [https://sparql.rhea-db.org/sparql]      Uniprot   \n",
       "\n",
       "                                           file_path  \\\n",
       "0                                  SwissLipids/6.ttl   \n",
       "1                                  SwissLipids/5.ttl   \n",
       "2                                 SwissLipids/34.ttl   \n",
       "3  UniProt/118_biosodafrontend_rat_brain_human_ca...   \n",
       "4  UniProt/51_all_proteins_linked_to_arachidonate...   \n",
       "\n",
       "                                     predicted_query  \\\n",
       "0  # https://sparql.swisslipids.ch/sparql\\nPREFIX...   \n",
       "1  # https://sparql.rhea-db.org/sparql\\nPREFIX rh...   \n",
       "2  # https://sparql.uniprot.org/sparql\\nPREFIX up...   \n",
       "3  # https://sparql.uniprot.org/sparql\\nPREFIX ta...   \n",
       "4  # https://sparql.uniprot.org/sparql\\nPREFIX up...   \n",
       "\n",
       "                     predicted_endpoint  \\\n",
       "0  https://sparql.swisslipids.ch/sparql   \n",
       "1     https://sparql.rhea-db.org/sparql   \n",
       "2     https://sparql.uniprot.org/sparql   \n",
       "3     https://sparql.uniprot.org/sparql   \n",
       "4     https://sparql.uniprot.org/sparql   \n",
       "\n",
       "   predicted_endpoint_equal_to_target_endpoint  ...  \\\n",
       "0                                        False  ...   \n",
       "1                                        False  ...   \n",
       "2                                        False  ...   \n",
       "3                                         True  ...   \n",
       "4                                         True  ...   \n",
       "\n",
       "   sparql_construction_completion_tokens sparql_construction_total_tokens  \\\n",
       "0                                      0                             2361   \n",
       "1                                      0                             1669   \n",
       "2                                   1086                             2328   \n",
       "3                                    481                             2435   \n",
       "4                                      0                             1537   \n",
       "\n",
       "  is_valid_sparql                                sparql_syntax_error  \\\n",
       "0           False  Line 11, column 12: Unresolved prefixed name: ...   \n",
       "1           False  Line 13, column 36: Unresolved prefixed name: ...   \n",
       "2           False  Line 27, column 12: Unresolved prefixed name: ...   \n",
       "3            True                                               None   \n",
       "4            True                                               None   \n",
       "\n",
       "   ground_truth_query_result_is_empty  result_eval_f1_score  \\\n",
       "0                               False                     0   \n",
       "1                               False                     0   \n",
       "2                               False                     0   \n",
       "3                               False                     0   \n",
       "4                               False                     0   \n",
       "\n",
       "   result_eval_precision  result_eval_recall  error_occured_at_endpoint  \\\n",
       "0                      0                   0                        1.0   \n",
       "1                      0                   0                        0.0   \n",
       "2                      0                   0                        1.0   \n",
       "3                      0                   0                        0.0   \n",
       "4                      0                   0                        0.0   \n",
       "\n",
       "   predicted_query_result_is_empty  \n",
       "0                             True  \n",
       "1                             True  \n",
       "2                             True  \n",
       "3                             True  \n",
       "4                             True  \n",
       "\n",
       "[5 rows x 27 columns]"
      ]
     },
     "execution_count": 8,
     "metadata": {},
     "output_type": "execute_result"
    }
   ],
   "source": [
    "df.head()"
   ]
  },
  {
   "cell_type": "code",
   "execution_count": 12,
   "metadata": {},
   "outputs": [
    {
     "name": "stdout",
     "output_type": "stream",
     "text": [
      "29\n"
     ]
    }
   ],
   "source": [
    "print(len(df))"
   ]
  },
  {
   "cell_type": "code",
   "execution_count": 9,
   "metadata": {},
   "outputs": [
    {
     "name": "stdout",
     "output_type": "stream",
     "text": [
      "is_valid_sparql\n",
      "True     21\n",
      "False     8\n",
      "Name: count, dtype: int64\n"
     ]
    }
   ],
   "source": [
    "print(df['is_valid_sparql'].value_counts())"
   ]
  },
  {
   "cell_type": "code",
   "execution_count": 13,
   "metadata": {},
   "outputs": [
    {
     "name": "stdout",
     "output_type": "stream",
     "text": [
      "error_occured_at_endpoint\n",
      "0.0    16\n",
      "1.0    10\n",
      "Name: count, dtype: int64\n"
     ]
    }
   ],
   "source": [
    "print(df['error_occured_at_endpoint'].value_counts())"
   ]
  },
  {
   "cell_type": "code",
   "execution_count": 10,
   "metadata": {},
   "outputs": [
    {
     "name": "stdout",
     "output_type": "stream",
     "text": [
      "predicted_endpoint_equal_to_target_endpoint\n",
      "True     17\n",
      "False    12\n",
      "Name: count, dtype: int64\n"
     ]
    }
   ],
   "source": [
    "print(df['predicted_endpoint_equal_to_target_endpoint'].value_counts())"
   ]
  },
  {
   "cell_type": "code",
   "execution_count": 11,
   "metadata": {},
   "outputs": [
    {
     "name": "stdout",
     "output_type": "stream",
     "text": [
      "predicted_endpoint_in_federates_with\n",
      "False    23\n",
      "True      6\n",
      "Name: count, dtype: int64\n"
     ]
    }
   ],
   "source": [
    "print(df['predicted_endpoint_in_federates_with'].value_counts())"
   ]
  }
 ],
 "metadata": {
  "kernelspec": {
   "display_name": ".venv",
   "language": "python",
   "name": "python3"
  },
  "language_info": {
   "codemirror_mode": {
    "name": "ipython",
    "version": 3
   },
   "file_extension": ".py",
   "mimetype": "text/x-python",
   "name": "python",
   "nbconvert_exporter": "python",
   "pygments_lexer": "ipython3",
   "version": "3.11.5"
  }
 },
 "nbformat": 4,
 "nbformat_minor": 2
}
