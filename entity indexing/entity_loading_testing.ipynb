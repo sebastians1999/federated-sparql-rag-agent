{
 "cells": [
  {
   "cell_type": "code",
   "execution_count": 5,
   "metadata": {},
   "outputs": [],
   "source": [
    "entities_list = [\n",
    "        # {\n",
    "        #     \"chebi_chemical_entities\": {\n",
    "        #         \"uri\": \"http://purl.obolibrary.org/obo/CHEBI\",\n",
    "        #         \"label\": \"chemical entities\",\n",
    "        #         \"description\": \"Chemical entities in ChEBI.\",\n",
    "        #         \"endpoint\": \"https://sparql.uniprot.org/sparql/\",\n",
    "        #         \"pagination\": True,\n",
    "        #         \"query\": \"\"\"\n",
    "        #                 PREFIX rdfs: <http://www.w3.org/2000/01/rdf-schema#>\n",
    "        #                 PREFIX rh:   <http://rdf.rhea-db.org/>\n",
    "        #                 SELECT DISTINCT ?uri ?label\n",
    "        #                 WHERE {\n",
    "        #                     # Restrict to things that are recognized as Rhea reactions\n",
    "        #                     ?reaction rdfs:subClassOf rh:Reaction ;\n",
    "        #                             rh:side        ?side .\n",
    "        #                     # Each reaction side contains one or more participants\n",
    "        #                     ?side rh:contains ?participant .\n",
    "        #                     # Each participant is linked to a ChEBI entity via 'rh:compound' \n",
    "        #                     ?participant rh:compound ?compound .\n",
    "        #                     # 'rh:chebi' points to the ChEBI identifier (e.g., http://purl.obolibrary.org/obo/CHEBI_15377)\n",
    "        #                     ?compound rh:chebi ?uri .\n",
    "        #                     ?uri rdfs:label ?label .\n",
    "        #                 }\"\"\"\n",
    "        #     }\n",
    "        # },\n",
    "        # {\n",
    "        #     \"uniprot_disease\": {\n",
    "        #         \"uri\": \"http://purl.uniprot.org/core/Disease\",\n",
    "        #         \"label\": \"Disease\",\n",
    "        #         \"description\": \"The preferred names of diseases.\",\n",
    "        #         \"endpoint\": \"https://sparql.uniprot.org/sparql/\",\n",
    "        #         \"pagination\": True,\n",
    "        #         \"query\": \"\"\"PREFIX rdfs: <http://www.w3.org/2000/01/rdf-schema#>\n",
    "        #                     PREFIX skos: <http://www.w3.org/2004/02/skos/core#>\n",
    "        #                     PREFIX up: <http://purl.uniprot.org/core/>\n",
    "        #                     SELECT ?uri ?label ?type WHERE {\n",
    "        #                         ?uri a up:Disease ;\n",
    "        #                             skos:prefLabel ?label .\n",
    "        #                     }\"\"\"\n",
    "        #     }\n",
    "        # },\n",
    "        {\n",
    "            \"uniprot_taxon\": {\n",
    "                \"uri\": \"http://purl.uniprot.org/core/Taxon\",\n",
    "                \"label\": \"species\",\n",
    "                \"description\": \"taxon scientific names\",\n",
    "                \"endpoint\": \"https://sparql.uniprot.org/sparql/\",\n",
    "                \"pagination\": True,\n",
    "                \"query\": \"\"\"PREFIX up: <http://purl.uniprot.org/core/>\n",
    "                            SELECT ?uri ?label\n",
    "                            WHERE {\n",
    "                                ?uri a up:Taxon ;\n",
    "                                    up:scientificName ?label .\n",
    "                            }\"\"\"\n",
    "            }\n",
    "        },\n",
    "        # {\n",
    "        #     \"rhea_reaction\": {\n",
    "        #         \"uri\": \"http://rdf.rhea-db.org/\",\n",
    "        #         \"label\": \"reactions\",\n",
    "        #         \"description\": \"Reactions in RHEA.\",\n",
    "        #         \"endpoint\": \"https://sparql.uniprot.org/sparql/\",\n",
    "        #         \"pagination\": True,\n",
    "        #         \"query\": \"\"\"PREFIX rdfs: <http://www.w3.org/2000/01/rdf-schema#>\n",
    "        #                     PREFIX rh:   <http://rdf.rhea-db.org/>\n",
    "        #                     SELECT DISTINCT ?uri ?label\n",
    "        #                     WHERE {\n",
    "        #                         ?uri rdfs:subClassOf rh:Reaction .\n",
    "        #                         ?uri rdfs:label ?label .\n",
    "        #                     }\"\"\"\n",
    "        #     }\n",
    "        # },\n",
    "        \n",
    "    ]"
   ]
  },
  {
   "cell_type": "code",
   "execution_count": 6,
   "metadata": {},
   "outputs": [
    {
     "name": "stdout",
     "output_type": "stream",
     "text": [
      "Flattened 1 entities for indexing\n",
      "Flattened entities: [{'uri': 'http://purl.uniprot.org/core/Taxon', 'label': 'species', 'description': 'taxon scientific names', 'endpoint': 'https://sparql.uniprot.org/sparql/', 'pagination': True, 'query': 'PREFIX up: <http://purl.uniprot.org/core/>\\n                            SELECT ?uri ?label\\n                            WHERE {\\n                                ?uri a up:Taxon ;\\n                                    up:scientificName ?label .\\n                            }'}]\n",
      "Loading entities from https://sparql.uniprot.org/sparql/ for species...\n",
      "Found 200000 entities for species in https://sparql.uniprot.org/sparql/\n",
      "  Retrieved 200000 entities, total so far: 200000\n",
      "Found 200000 entities for species in https://sparql.uniprot.org/sparql/\n",
      "  Retrieved 200000 entities, total so far: 400000\n",
      "Found 200000 entities for species in https://sparql.uniprot.org/sparql/\n",
      "  Retrieved 200000 entities, total so far: 600000\n",
      "Found 200000 entities for species in https://sparql.uniprot.org/sparql/\n",
      "  Retrieved 200000 entities, total so far: 800000\n",
      "Found 200000 entities for species in https://sparql.uniprot.org/sparql/\n",
      "  Retrieved 200000 entities, total so far: 1000000\n",
      "Found 200000 entities for species in https://sparql.uniprot.org/sparql/\n",
      "  Retrieved 200000 entities, total so far: 1200000\n",
      "Found 200000 entities for species in https://sparql.uniprot.org/sparql/\n",
      "  Retrieved 200000 entities, total so far: 1400000\n",
      "Found 200000 entities for species in https://sparql.uniprot.org/sparql/\n",
      "  Retrieved 200000 entities, total so far: 1600000\n",
      "Found 200000 entities for species in https://sparql.uniprot.org/sparql/\n",
      "  Retrieved 200000 entities, total so far: 1800000\n",
      "Found 200000 entities for species in https://sparql.uniprot.org/sparql/\n",
      "  Retrieved 200000 entities, total so far: 2000000\n",
      "Found 200000 entities for species in https://sparql.uniprot.org/sparql/\n",
      "  Retrieved 200000 entities, total so far: 2200000\n",
      "Found 200000 entities for species in https://sparql.uniprot.org/sparql/\n",
      "  Retrieved 200000 entities, total so far: 2400000\n",
      "Found 200000 entities for species in https://sparql.uniprot.org/sparql/\n",
      "  Retrieved 200000 entities, total so far: 2600000\n",
      "Found 14312 entities for species in https://sparql.uniprot.org/sparql/\n",
      "  Retrieved 14312 entities, total so far: 2614312\n",
      "Found 0 entities for species in https://sparql.uniprot.org/sparql/\n",
      "Done querying SPARQL endpoints in 1.36 minutes, retrieved 2614312 entities\n"
     ]
    },
    {
     "data": {
      "text/html": [
       "<div>\n",
       "<style scoped>\n",
       "    .dataframe tbody tr th:only-of-type {\n",
       "        vertical-align: middle;\n",
       "    }\n",
       "\n",
       "    .dataframe tbody tr th {\n",
       "        vertical-align: top;\n",
       "    }\n",
       "\n",
       "    .dataframe thead th {\n",
       "        text-align: right;\n",
       "    }\n",
       "</style>\n",
       "<table border=\"1\" class=\"dataframe\">\n",
       "  <thead>\n",
       "    <tr style=\"text-align: right;\">\n",
       "      <th></th>\n",
       "      <th>label</th>\n",
       "      <th>uri</th>\n",
       "      <th>endpoint_url</th>\n",
       "      <th>entity_type</th>\n",
       "      <th>description</th>\n",
       "    </tr>\n",
       "  </thead>\n",
       "  <tbody>\n",
       "    <tr>\n",
       "      <th>0</th>\n",
       "      <td>Hysteriaceae</td>\n",
       "      <td>http://purl.uniprot.org/taxonomy/100025</td>\n",
       "      <td>https://sparql.uniprot.org/sparql/</td>\n",
       "      <td>literal</td>\n",
       "      <td>taxon scientific names</td>\n",
       "    </tr>\n",
       "    <tr>\n",
       "      <th>1</th>\n",
       "      <td>Thomomys</td>\n",
       "      <td>http://purl.uniprot.org/taxonomy/10011</td>\n",
       "      <td>https://sparql.uniprot.org/sparql/</td>\n",
       "      <td>literal</td>\n",
       "      <td>taxon scientific names</td>\n",
       "    </tr>\n",
       "    <tr>\n",
       "      <th>2</th>\n",
       "      <td>Thomomys bottae</td>\n",
       "      <td>http://purl.uniprot.org/taxonomy/10013</td>\n",
       "      <td>https://sparql.uniprot.org/sparql/</td>\n",
       "      <td>literal</td>\n",
       "      <td>taxon scientific names</td>\n",
       "    </tr>\n",
       "    <tr>\n",
       "      <th>3</th>\n",
       "      <td>Heteromyidae</td>\n",
       "      <td>http://purl.uniprot.org/taxonomy/10015</td>\n",
       "      <td>https://sparql.uniprot.org/sparql/</td>\n",
       "      <td>literal</td>\n",
       "      <td>taxon scientific names</td>\n",
       "    </tr>\n",
       "    <tr>\n",
       "      <th>4</th>\n",
       "      <td>Philenoptera</td>\n",
       "      <td>http://purl.uniprot.org/taxonomy/100163</td>\n",
       "      <td>https://sparql.uniprot.org/sparql/</td>\n",
       "      <td>literal</td>\n",
       "      <td>taxon scientific names</td>\n",
       "    </tr>\n",
       "  </tbody>\n",
       "</table>\n",
       "</div>"
      ],
      "text/plain": [
       "             label                                      uri  \\\n",
       "0     Hysteriaceae  http://purl.uniprot.org/taxonomy/100025   \n",
       "1         Thomomys   http://purl.uniprot.org/taxonomy/10011   \n",
       "2  Thomomys bottae   http://purl.uniprot.org/taxonomy/10013   \n",
       "3     Heteromyidae   http://purl.uniprot.org/taxonomy/10015   \n",
       "4     Philenoptera  http://purl.uniprot.org/taxonomy/100163   \n",
       "\n",
       "                         endpoint_url entity_type             description  \n",
       "0  https://sparql.uniprot.org/sparql/     literal  taxon scientific names  \n",
       "1  https://sparql.uniprot.org/sparql/     literal  taxon scientific names  \n",
       "2  https://sparql.uniprot.org/sparql/     literal  taxon scientific names  \n",
       "3  https://sparql.uniprot.org/sparql/     literal  taxon scientific names  \n",
       "4  https://sparql.uniprot.org/sparql/     literal  taxon scientific names  "
      ]
     },
     "metadata": {},
     "output_type": "display_data"
    },
    {
     "name": "stdout",
     "output_type": "stream",
     "text": [
      "Total entities: 2614312\n",
      "Columns: ['label', 'uri', 'endpoint_url', 'entity_type', 'description']\n",
      "Entity types: ['literal']\n"
     ]
    }
   ],
   "source": [
    "from endpoint_loader import *\n",
    "import pandas as pd\n",
    "entities = load_entities_from_endpoints(entities_list)\n",
    "\n",
    "df = pd.DataFrame(entities)\n",
    "\n",
    "display(df.head())\n",
    "\n",
    "print(f\"Total entities: {len(df)}\")\n",
    "print(f\"Columns: {df.columns.tolist()}\")\n",
    "print(f\"Entity types: {df['entity_type'].unique()}\")"
   ]
  },
  {
   "cell_type": "code",
   "execution_count": 3,
   "metadata": {},
   "outputs": [],
   "source": [
    "import pickle\n",
    "\n",
    "df.to_csv('entities_dataframe.csv', index=False)  \n",
    "with open('entities_dataframe.pkl', 'wb') as f:\n",
    "    pickle.dump(df, f)"
   ]
  },
  {
   "cell_type": "code",
   "execution_count": 2,
   "metadata": {},
   "outputs": [],
   "source": [
    "import os\n",
    "import pickle\n",
    "if os.path.exists('entities_dataframe.pkl'):\n",
    "    with open('entities_dataframe.pkl', 'rb') as f:\n",
    "        df = pickle.load(f)\n",
    "        entities = df.to_dict('records')\n",
    "else:\n",
    "    # Load from endpoint if file doesn't exist\n",
    "    from endpoint_loader import *\n",
    "    entities = load_entities_from_endpoints(entities_list)\n",
    "    df = pd.DataFrame(entities)\n",
    "    # Save for next time\n",
    "    with open('entities_data.pkl', 'wb') as f:\n",
    "        pickle.dump(df, f)"
   ]
  },
  {
   "cell_type": "code",
   "execution_count": null,
   "metadata": {},
   "outputs": [
    {
     "name": "stderr",
     "output_type": "stream",
     "text": [
      "2025-03-29 10:39:10,837\tINFO worker.py:1843 -- Started a local Ray instance. View the dashboard at \u001b[1m\u001b[32mhttp://127.0.0.1:8265 \u001b[39m\u001b[22m\n"
     ]
    },
    {
     "name": "stdout",
     "output_type": "stream",
     "text": [
      "Creating embedding workers...\n",
      "Initializing Qdrant client...\n"
     ]
    },
    {
     "data": {
      "application/vnd.jupyter.widget-view+json": {
       "model_id": "408be1579cd447cf9825158d21fd8cf5",
       "version_major": 2,
       "version_minor": 0
      },
      "text/plain": [
       "Fetching 5 files:   0%|          | 0/5 [00:00<?, ?it/s]"
      ]
     },
     "metadata": {},
     "output_type": "display_data"
    },
    {
     "data": {
      "application/vnd.jupyter.widget-view+json": {
       "model_id": "bd8bf0f90b7a48d18e05d02a258d093a",
       "version_major": 2,
       "version_minor": 0
      },
      "text/plain": [
       "tokenizer.json:   0%|          | 0.00/711k [00:00<?, ?B/s]"
      ]
     },
     "metadata": {},
     "output_type": "display_data"
    },
    {
     "data": {
      "application/vnd.jupyter.widget-view+json": {
       "model_id": "f976cdc7bbbf4bb0a52b81c301cd1b94",
       "version_major": 2,
       "version_minor": 0
      },
      "text/plain": [
       "special_tokens_map.json:   0%|          | 0.00/695 [00:00<?, ?B/s]"
      ]
     },
     "metadata": {},
     "output_type": "display_data"
    },
    {
     "data": {
      "application/vnd.jupyter.widget-view+json": {
       "model_id": "303f785e43c642f9a31b4c8bdd7df817",
       "version_major": 2,
       "version_minor": 0
      },
      "text/plain": [
       "tokenizer_config.json:   0%|          | 0.00/1.24k [00:00<?, ?B/s]"
      ]
     },
     "metadata": {},
     "output_type": "display_data"
    },
    {
     "data": {
      "application/vnd.jupyter.widget-view+json": {
       "model_id": "f2f2203b8ffe49379ac3a87cf1a91018",
       "version_major": 2,
       "version_minor": 0
      },
      "text/plain": [
       "config.json:   0%|          | 0.00/706 [00:00<?, ?B/s]"
      ]
     },
     "metadata": {},
     "output_type": "display_data"
    },
    {
     "data": {
      "application/vnd.jupyter.widget-view+json": {
       "model_id": "48b02e0f4ec04a66beb7c486662da474",
       "version_major": 2,
       "version_minor": 0
      },
      "text/plain": [
       "model_optimized.onnx:   0%|          | 0.00/66.5M [00:00<?, ?B/s]"
      ]
     },
     "metadata": {},
     "output_type": "display_data"
    },
    {
     "data": {
      "application/vnd.jupyter.widget-view+json": {
       "model_id": "a479fb84026b47f08c3f9e5fe5900236",
       "version_major": 2,
       "version_minor": 0
      },
      "text/plain": [
       "Fetching 5 files:   0%|          | 0/5 [00:00<?, ?it/s]"
      ]
     },
     "metadata": {},
     "output_type": "display_data"
    },
    {
     "data": {
      "application/vnd.jupyter.widget-view+json": {
       "model_id": "a66f560f1f564407bc09b5b31a67b5d8",
       "version_major": 2,
       "version_minor": 0
      },
      "text/plain": [
       "model.onnx:   0%|          | 0.00/532M [00:00<?, ?B/s]"
      ]
     },
     "metadata": {},
     "output_type": "display_data"
    },
    {
     "data": {
      "application/vnd.jupyter.widget-view+json": {
       "model_id": "3a37f05afb364fcea82e2f1d13222f0d",
       "version_major": 2,
       "version_minor": 0
      },
      "text/plain": [
       "special_tokens_map.json:   0%|          | 0.00/695 [00:00<?, ?B/s]"
      ]
     },
     "metadata": {},
     "output_type": "display_data"
    },
    {
     "data": {
      "application/vnd.jupyter.widget-view+json": {
       "model_id": "60532e4af73d4ca78b804435bcf4f2af",
       "version_major": 2,
       "version_minor": 0
      },
      "text/plain": [
       "config.json:   0%|          | 0.00/755 [00:00<?, ?B/s]"
      ]
     },
     "metadata": {},
     "output_type": "display_data"
    },
    {
     "data": {
      "application/vnd.jupyter.widget-view+json": {
       "model_id": "e7fc2aac69a241af99a46c208f576020",
       "version_major": 2,
       "version_minor": 0
      },
      "text/plain": [
       "tokenizer_config.json:   0%|          | 0.00/1.38k [00:00<?, ?B/s]"
      ]
     },
     "metadata": {},
     "output_type": "display_data"
    },
    {
     "data": {
      "application/vnd.jupyter.widget-view+json": {
       "model_id": "e364f3aebacd44688e1c20257861968b",
       "version_major": 2,
       "version_minor": 0
      },
      "text/plain": [
       "tokenizer.json:   0%|          | 0.00/712k [00:00<?, ?B/s]"
      ]
     },
     "metadata": {},
     "output_type": "display_data"
    },
    {
     "name": "stdout",
     "output_type": "stream",
     "text": [
      "Error loading upload log: Expecting ',' delimiter: line 1 column 19775128 (char 19775127)\n",
      "Collection 'biomedical_entities' exists, skipping initialization\n",
      "Adding 2650724 documents in batches of 144\n",
      "Chunk size: 36\n",
      "Time taken to generate dense embeddings with Ray Distributed Computing: 3.075160026550293 seconds\n",
      "Time taken to generate sparse embeddings with Ray Distributed Computing: 13.96476697921753 seconds\n",
      "Creating points...\n",
      "Uploading points...\n",
      "✓ Batch 1/18408 - Total uploaded: 144\n",
      "Chunk size: 36\n",
      "Time taken to generate dense embeddings with Ray Distributed Computing: 3.969425916671753 seconds\n",
      "Time taken to generate sparse embeddings with Ray Distributed Computing: 22.855857133865356 seconds\n",
      "Creating points...\n",
      "Uploading points...\n",
      "✓ Batch 2/18408 - Total uploaded: 288\n",
      "Chunk size: 36\n",
      "Time taken to generate dense embeddings with Ray Distributed Computing: 3.8981409072875977 seconds\n",
      "Time taken to generate sparse embeddings with Ray Distributed Computing: 23.256271839141846 seconds\n",
      "Creating points...\n",
      "Uploading points...\n",
      "✓ Batch 3/18408 - Total uploaded: 432\n",
      "Chunk size: 36\n",
      "Time taken to generate dense embeddings with Ray Distributed Computing: 6.470654010772705 seconds\n",
      "Time taken to generate sparse embeddings with Ray Distributed Computing: 16.287371158599854 seconds\n",
      "Creating points...\n",
      "Uploading points...\n",
      "✓ Batch 4/18408 - Total uploaded: 576\n",
      "Chunk size: 36\n",
      "Time taken to generate dense embeddings with Ray Distributed Computing: 3.1924970149993896 seconds\n",
      "Time taken to generate sparse embeddings with Ray Distributed Computing: 14.481281995773315 seconds\n",
      "Creating points...\n",
      "Uploading points...\n",
      "✓ Batch 5/18408 - Total uploaded: 720\n",
      "Chunk size: 36\n",
      "Time taken to generate dense embeddings with Ray Distributed Computing: 3.9641411304473877 seconds\n",
      "Time taken to generate sparse embeddings with Ray Distributed Computing: 10.650140047073364 seconds\n",
      "Creating points...\n",
      "Uploading points...\n",
      "✓ Batch 6/18408 - Total uploaded: 864\n",
      "Chunk size: 36\n",
      "Time taken to generate dense embeddings with Ray Distributed Computing: 2.6710829734802246 seconds\n"
     ]
    },
    {
     "name": "stderr",
     "output_type": "stream",
     "text": [
      "Exception ignored in: <bound method IPythonKernel._clean_thread_parent_frames of <ipykernel.ipkernel.IPythonKernel object at 0x103114790>>\n",
      "Traceback (most recent call last):\n",
      "  File \"/Users/sebastian/Documents/Bachelor Thesis/sparql-rag-agent/sparql-rag-agent/.venv/lib/python3.11/site-packages/ipykernel/ipkernel.py\", line 775, in _clean_thread_parent_frames\n",
      "    def _clean_thread_parent_frames(\n",
      "\n",
      "KeyboardInterrupt: \n"
     ]
    },
    {
     "name": "stdout",
     "output_type": "stream",
     "text": [
      "Time taken to generate sparse embeddings with Ray Distributed Computing: 8.83504581451416 seconds\n",
      "Creating points...\n",
      "Uploading points...\n",
      "✓ Batch 7/18408 - Total uploaded: 1008\n",
      "Chunk size: 36\n",
      "Time taken to generate dense embeddings with Ray Distributed Computing: 4.275254964828491 seconds\n"
     ]
    }
   ],
   "source": [
    "from entity_indexing_pipeline_v3 import EmbeddingPipeline\n",
    "import ray\n",
    "\n",
    "\n",
    "ray.init(ignore_reinit_error=True)\n",
    "s\n",
    "pipeline = EmbeddingPipeline()\n",
    "pipeline.add_documents(entities, batch_size=144)\n",
    "\n",
    "ray.shutdown()"
   ]
  },
  {
   "cell_type": "code",
   "execution_count": 5,
   "metadata": {},
   "outputs": [],
   "source": [
    "ray.shutdown()"
   ]
  },
  {
   "cell_type": "code",
   "execution_count": 1,
   "metadata": {},
   "outputs": [],
   "source": [
    "entities_list = [\n",
    "        # {\n",
    "        #     \"chebi_chemical_entities\": {\n",
    "        #         \"uri\": \"http://purl.obolibrary.org/obo/CHEBI\",\n",
    "        #         \"label\": \"chemical entities\",\n",
    "        #         \"description\": \"Chemical entities in ChEBI.\",\n",
    "        #         \"endpoint\": \"https://sparql.uniprot.org/sparql/\",\n",
    "        #         \"pagination\": True,\n",
    "        #         \"query\": \"\"\"\n",
    "        #                 PREFIX rdfs: <http://www.w3.org/2000/01/rdf-schema#>\n",
    "        #                 PREFIX rh:   <http://rdf.rhea-db.org/>\n",
    "        #                 SELECT DISTINCT ?uri ?label\n",
    "        #                 WHERE {\n",
    "        #                     # Restrict to things that are recognized as Rhea reactions\n",
    "        #                     ?reaction rdfs:subClassOf rh:Reaction ;\n",
    "        #                             rh:side        ?side .\n",
    "        #                     # Each reaction side contains one or more participants\n",
    "        #                     ?side rh:contains ?participant .\n",
    "        #                     # Each participant is linked to a ChEBI entity via 'rh:compound' \n",
    "        #                     ?participant rh:compound ?compound .\n",
    "        #                     # 'rh:chebi' points to the ChEBI identifier (e.g., http://purl.obolibrary.org/obo/CHEBI_15377)\n",
    "        #                     ?compound rh:chebi ?uri .\n",
    "        #                     ?uri rdfs:label ?label .\n",
    "        #                 }\"\"\"\n",
    "        #     }\n",
    "        # },\n",
    "        # {\n",
    "        #     \"uniprot_disease\": {\n",
    "        #         \"uri\": \"http://purl.uniprot.org/core/Disease\",\n",
    "        #         \"label\": \"Disease\",\n",
    "        #         \"description\": \"The preferred names of diseases.\",\n",
    "        #         \"endpoint\": \"https://sparql.uniprot.org/sparql/\",\n",
    "        #         \"pagination\": True,\n",
    "        #         \"query\": \"\"\"PREFIX rdfs: <http://www.w3.org/2000/01/rdf-schema#>\n",
    "        #                     PREFIX skos: <http://www.w3.org/2004/02/skos/core#>\n",
    "        #                     PREFIX up: <http://purl.uniprot.org/core/>\n",
    "        #                     SELECT ?uri ?label ?type WHERE {\n",
    "        #                         ?uri a up:Disease ;\n",
    "        #                             skos:prefLabel ?label .\n",
    "        #                     }\"\"\"\n",
    "        #     }\n",
    "        # },\n",
    "        # {\n",
    "        #     \"uniprot_taxon\": {\n",
    "        #         \"uri\": \"http://purl.uniprot.org/core/Taxon\",\n",
    "        #         \"label\": \"species\",\n",
    "        #         \"description\": \"taxon scientific names\",\n",
    "        #         \"endpoint\": \"https://sparql.uniprot.org/sparql/\",\n",
    "        #         \"pagination\": True,\n",
    "        #         \"query\": \"\"\"PREFIX up: <http://purl.uniprot.org/core/>\n",
    "        #                     SELECT ?uri ?label\n",
    "        #                     WHERE {\n",
    "        #                         ?uri a up:Taxon ;\n",
    "        #                             up:scientificName ?label .\n",
    "        #                     }\"\"\"\n",
    "        #     }\n",
    "        # },\n",
    "        {\n",
    "            \"rhea_reaction\": {\n",
    "                \"uri\": \"http://rdf.rhea-db.org/\",\n",
    "                \"label\": \"reactions\",\n",
    "                \"description\": \"Reactions in RHEA.\",\n",
    "                \"endpoint\": \"https://sparql.uniprot.org/sparql/\",\n",
    "                \"pagination\": True,\n",
    "                \"query\": \"\"\"PREFIX rdfs: <http://www.w3.org/2000/01/rdf-schema#>\n",
    "                            PREFIX rh:   <http://rdf.rhea-db.org/>\n",
    "                            SELECT DISTINCT ?uri ?label\n",
    "                            WHERE {\n",
    "                                ?uri rdfs:subClassOf rh:Reaction .\n",
    "                                ?uri rdfs:label ?label .\n",
    "                            }\"\"\"\n",
    "            }\n",
    "        },\n",
    "        \n",
    "    ]"
   ]
  },
  {
   "cell_type": "code",
   "execution_count": 2,
   "metadata": {},
   "outputs": [
    {
     "name": "stdout",
     "output_type": "stream",
     "text": [
      "Flattened 1 entities for indexing\n",
      "Flattened entities: [{'uri': 'http://rdf.rhea-db.org/', 'label': 'reactions', 'description': 'Reactions in RHEA.', 'endpoint': 'https://sparql.uniprot.org/sparql/', 'pagination': True, 'query': 'PREFIX rdfs: <http://www.w3.org/2000/01/rdf-schema#>\\n                            PREFIX rh:   <http://rdf.rhea-db.org/>\\n                            SELECT DISTINCT ?uri ?label\\n                            WHERE {\\n                                ?uri rdfs:subClassOf rh:Reaction .\\n                                ?uri rdfs:label ?label .\\n                            }'}]\n",
      "Loading entities from https://sparql.uniprot.org/sparql/ for reactions...\n",
      "Found 17422 entities for reactions in https://sparql.uniprot.org/sparql/\n",
      "  Retrieved 17422 entities, total so far: 17422\n",
      "Found 0 entities for reactions in https://sparql.uniprot.org/sparql/\n",
      "Done querying SPARQL endpoints in 0.03 minutes, retrieved 17422 entities\n"
     ]
    },
    {
     "data": {
      "text/html": [
       "<div>\n",
       "<style scoped>\n",
       "    .dataframe tbody tr th:only-of-type {\n",
       "        vertical-align: middle;\n",
       "    }\n",
       "\n",
       "    .dataframe tbody tr th {\n",
       "        vertical-align: top;\n",
       "    }\n",
       "\n",
       "    .dataframe thead th {\n",
       "        text-align: right;\n",
       "    }\n",
       "</style>\n",
       "<table border=\"1\" class=\"dataframe\">\n",
       "  <thead>\n",
       "    <tr style=\"text-align: right;\">\n",
       "      <th></th>\n",
       "      <th>label</th>\n",
       "      <th>uri</th>\n",
       "      <th>endpoint_url</th>\n",
       "      <th>entity_type</th>\n",
       "      <th>description</th>\n",
       "    </tr>\n",
       "  </thead>\n",
       "  <tbody>\n",
       "    <tr>\n",
       "      <th>0</th>\n",
       "      <td>(25R)-3beta-hydroxycholest-5-en-7-one-26-al + ...</td>\n",
       "      <td>http://rdf.rhea-db.org/47380</td>\n",
       "      <td>https://sparql.uniprot.org/sparql/</td>\n",
       "      <td>literal</td>\n",
       "      <td>Reactions in RHEA.</td>\n",
       "    </tr>\n",
       "    <tr>\n",
       "      <th>1</th>\n",
       "      <td>4-acetoxyphenol + H2O = hydroquinone + acetate...</td>\n",
       "      <td>http://rdf.rhea-db.org/47384</td>\n",
       "      <td>https://sparql.uniprot.org/sparql/</td>\n",
       "      <td>literal</td>\n",
       "      <td>Reactions in RHEA.</td>\n",
       "    </tr>\n",
       "    <tr>\n",
       "      <th>2</th>\n",
       "      <td>a tetradecanoate ester + H2O = an aliphatic al...</td>\n",
       "      <td>http://rdf.rhea-db.org/47388</td>\n",
       "      <td>https://sparql.uniprot.org/sparql/</td>\n",
       "      <td>literal</td>\n",
       "      <td>Reactions in RHEA.</td>\n",
       "    </tr>\n",
       "    <tr>\n",
       "      <th>3</th>\n",
       "      <td>hexadecanoate ester + H2O = an aliphatic alcoh...</td>\n",
       "      <td>http://rdf.rhea-db.org/47392</td>\n",
       "      <td>https://sparql.uniprot.org/sparql/</td>\n",
       "      <td>literal</td>\n",
       "      <td>Reactions in RHEA.</td>\n",
       "    </tr>\n",
       "    <tr>\n",
       "      <th>4</th>\n",
       "      <td>octadecanoate ester + H2O = an aliphatic alcoh...</td>\n",
       "      <td>http://rdf.rhea-db.org/47396</td>\n",
       "      <td>https://sparql.uniprot.org/sparql/</td>\n",
       "      <td>literal</td>\n",
       "      <td>Reactions in RHEA.</td>\n",
       "    </tr>\n",
       "  </tbody>\n",
       "</table>\n",
       "</div>"
      ],
      "text/plain": [
       "                                               label  \\\n",
       "0  (25R)-3beta-hydroxycholest-5-en-7-one-26-al + ...   \n",
       "1  4-acetoxyphenol + H2O = hydroquinone + acetate...   \n",
       "2  a tetradecanoate ester + H2O = an aliphatic al...   \n",
       "3  hexadecanoate ester + H2O = an aliphatic alcoh...   \n",
       "4  octadecanoate ester + H2O = an aliphatic alcoh...   \n",
       "\n",
       "                            uri                        endpoint_url  \\\n",
       "0  http://rdf.rhea-db.org/47380  https://sparql.uniprot.org/sparql/   \n",
       "1  http://rdf.rhea-db.org/47384  https://sparql.uniprot.org/sparql/   \n",
       "2  http://rdf.rhea-db.org/47388  https://sparql.uniprot.org/sparql/   \n",
       "3  http://rdf.rhea-db.org/47392  https://sparql.uniprot.org/sparql/   \n",
       "4  http://rdf.rhea-db.org/47396  https://sparql.uniprot.org/sparql/   \n",
       "\n",
       "  entity_type         description  \n",
       "0     literal  Reactions in RHEA.  \n",
       "1     literal  Reactions in RHEA.  \n",
       "2     literal  Reactions in RHEA.  \n",
       "3     literal  Reactions in RHEA.  \n",
       "4     literal  Reactions in RHEA.  "
      ]
     },
     "metadata": {},
     "output_type": "display_data"
    },
    {
     "name": "stdout",
     "output_type": "stream",
     "text": [
      "Total entities: 17422\n",
      "Columns: ['label', 'uri', 'endpoint_url', 'entity_type', 'description']\n",
      "Entity types: ['literal']\n"
     ]
    }
   ],
   "source": [
    "from endpoint_loader import *\n",
    "import pandas as pd\n",
    "entities = load_entities_from_endpoints(entities_list)\n",
    "\n",
    "df = pd.DataFrame(entities)\n",
    "\n",
    "display(df.head())\n",
    "print(f\"Total entities: {len(df)}\")\n",
    "print(f\"Columns: {df.columns.tolist()}\")\n",
    "print(f\"Entity types: {df['entity_type'].unique()}\")"
   ]
  },
  {
   "cell_type": "code",
   "execution_count": 3,
   "metadata": {},
   "outputs": [
    {
     "name": "stderr",
     "output_type": "stream",
     "text": [
      "2025-03-31 14:03:52,458\tINFO worker.py:1843 -- Started a local Ray instance. View the dashboard at \u001b[1m\u001b[32mhttp://127.0.0.1:8265 \u001b[39m\u001b[22m\n"
     ]
    },
    {
     "name": "stdout",
     "output_type": "stream",
     "text": [
      "Creating embedding workers...\n",
      "Initializing Qdrant client...\n",
      "Loaded 631852 previously uploaded IDs from log\n",
      "Collection 'biomedical_entity_collection' exists, skipping initialization\n",
      "Skipping 576 already uploaded entities\n",
      "Adding 16846 documents in batches of 144\n",
      "Chunk size: 36\n",
      "Time taken to generate dense embeddings with Ray Distributed Computing: 10.555047273635864 seconds\n",
      "Time taken to generate sparse embeddings with Ray Distributed Computing: 27.570149898529053 seconds\n",
      "Creating points...\n",
      "aa003d43-7f85-5d26-8ef8-ff61bfb7a5b0\n",
      "ee271bf2-ec5c-5a72-b230-3f367b9f8663\n",
      "2a5255b0-a105-5fe0-8b71-1f7f8a1b0595\n",
      "c6c8b5a4-a79f-5175-96ca-320a744960f3\n",
      "ed65eba4-ef18-5a02-a5ce-deec36fd1101\n",
      "c102137e-f277-5a43-937a-e2a32aae04da\n",
      "dd9807cb-3b3b-568f-b72d-a3c3087e28e7\n",
      "fa197c6a-7dd8-53bc-8c69-7d84a56db4a7\n",
      "57fb262c-f3a0-5bd5-8697-89fdcc04ad6c\n",
      "0d5fe569-2e64-5bea-8c0a-183a20dfa1aa\n",
      "15d8a708-7bdd-5377-a5d9-31f34bd7b517\n",
      "df89e6a4-e6b8-5ca9-be77-8a7974436b13\n",
      "49451d49-a675-5fc1-bc85-6aae0ef5d682\n",
      "7a886c75-1992-5ea8-9220-9ada34f25a96\n",
      "ca8bf8d7-5a05-5fbd-af97-faee351bd6ca\n",
      "52286732-7e7a-50a8-a70c-07242fa94636\n",
      "5e0a91ab-ed75-5985-9fb3-49a7de296511\n",
      "36f161c3-dea4-588a-83e1-8830826ba33b\n",
      "c4fa7c1d-b4f9-54ac-8a88-a15d9980c44a\n",
      "4eeb9a41-2853-5033-bead-f9ad15dd70a7\n",
      "3ad035b4-b2d5-566f-bae3-7f5bc4a9f579\n",
      "acd21795-812d-5715-a2a7-88b8680cc4ec\n",
      "b114d628-0bd8-5a94-bdb9-be307ec7a231\n",
      "9f26a37b-8225-501c-8234-49ea528333ec\n",
      "dbffd133-6be4-54bd-932f-589fe7b6f997\n",
      "905c9a92-c0e6-576f-b0de-d361ad5106dc\n",
      "1cb26546-765e-5b25-9713-448add70f630\n",
      "a50ae59f-42fc-5498-9a6b-6501c2ec44b2\n",
      "a594071a-36e7-5524-a337-b52e574906eb\n",
      "39dc9c46-a444-5a50-b460-a1c830c39adf\n",
      "cdf97acf-0e7e-542b-83a4-78414ded217a\n",
      "82f02361-d658-578f-9ad0-b2e48692a6f0\n",
      "76ce9e74-b3c1-518d-8114-d5791f2c97dd\n",
      "a313624c-c123-5acc-b892-22be02cdd6f7\n",
      "d8f69ade-7d5a-55ff-9392-93d7d5a2a80d\n",
      "db8af3c8-cd84-59c9-a27c-b4bacf0a8d79\n",
      "aeb4c3f3-1d0f-57a5-83b5-f7a6633ca9c7\n",
      "16f928f1-b2ef-5a23-b100-ff756795b5dc\n",
      "2d44c59c-798d-523e-ba1d-2e7b3a036535\n",
      "696f9a49-9f0e-53f8-87b8-f9d1c74dec6b\n",
      "03dfa619-336e-5a54-a061-fc1d57686972\n",
      "2207e501-a097-5cd7-bd28-f8608f39a7fe\n",
      "eb48a561-9660-5e8e-8554-f75405aad102\n",
      "1d0647bf-6c37-581d-88be-5eda6d1b7381\n",
      "122da677-7225-5bbc-8f68-e37d280dbe29\n",
      "e1e8a38e-3263-571b-91b6-188fad991c72\n",
      "e20b1c2d-0fcd-5eff-8b4e-21579fd5fec7\n",
      "d3cb7dab-39c2-52cd-91d3-ed88c51d557d\n",
      "44e5777f-7573-59cf-a86a-4666111d0bfb\n",
      "5f556b8e-be8a-5b0e-875e-75fa693cb251\n",
      "dc2429ea-88fa-5ac6-94c6-0e4555b93865\n",
      "15c061a5-d39b-565d-bbe7-fb8988f97766\n",
      "15470e75-30cd-5e16-b954-93360a0f8093\n",
      "4ed56c4b-3b38-59f0-bcde-e2e42d3b2e08\n",
      "96d51b9c-c608-56c3-80a4-256026e586b8\n",
      "d78e3159-3573-53b2-9c2d-2c4ce1616c2d\n",
      "cc242463-016b-5434-a456-01e9c09e6f6e\n",
      "d46ae4f1-0e5d-5c59-b8dc-6879961cb3b2\n",
      "9dcabcc8-21a2-5b39-9747-5c1fe5ac6eb5\n",
      "6a7f2c03-080a-5647-9b85-14cdad5bfbc7\n",
      "995fa916-4573-5b8c-8db7-e48469137223\n",
      "0996473c-4259-501f-baba-cd91ba8a2da9\n",
      "99ccc0f9-e6ed-5439-aae9-354745dcd0d8\n",
      "e8f220a1-6d63-508b-9808-64c307342c10\n",
      "b6bc4dcd-6fb5-5893-9749-b42166050326\n",
      "4c1e626e-0c53-5b05-88c7-8b76c5c53ac6\n",
      "d2849355-2742-5061-bc70-d1f3c1f2a549\n",
      "3c115fd9-aaac-5401-be4d-b801a240eaee\n",
      "e479650b-ae93-549f-a573-90faf86b5023\n",
      "6fc86dbb-34e9-52a2-ad24-15f764895492\n",
      "fd539cb3-f2ee-53c1-941d-fb3d775f3509\n",
      "298a1e34-a7ed-583c-81bc-72fe70958cae\n",
      "a037fffa-19e1-5e7d-9163-a92d668a894e\n",
      "586a51f5-592c-5825-81eb-c02145d28fa4\n",
      "b8ba1f47-d140-5a88-b19a-1aa197204d4f\n",
      "2fd54c46-7058-5530-bc66-e1ed4ced476d\n",
      "d2149cce-0b95-58c3-8ca3-aa34a3c0cf76\n",
      "f55c7b22-28be-5fbe-b2a1-e64864a0b92a\n",
      "795d040e-9e96-59fc-83c2-06821382ed0a\n",
      "8cda55b0-32e8-5c0b-ab83-64625edb20d7\n",
      "2d6a6d60-7f38-549d-ba42-32ae3ce9fe97\n",
      "60998eb3-7e8c-5886-a371-5a542d1bf6da\n",
      "d715fd4b-1ddc-590a-bc0d-458f9a0bdb08\n",
      "d609a1cc-281f-57e1-aedb-a50897e3aac5\n",
      "4ea98ec7-2962-5d98-9609-1511176326fe\n",
      "a6438d71-e53b-54ae-a953-86ca6b9b124d\n",
      "139abec4-d2a9-589d-a04d-e2f250c1e70c\n",
      "a3e9049f-a914-5ab1-b2bb-1d0d75d93147\n",
      "ddaf3a8e-a118-5ff4-8703-6d396c9319c4\n",
      "b37be126-2a0f-56d6-9f14-4cb31a951fa2\n",
      "72202219-301f-5748-8a8d-b79eea147673\n",
      "ccb2f711-db45-57f5-9cd6-3e3d1f555f21\n",
      "3b1ef138-df32-5cee-9372-223be0af5106\n",
      "4ecd4a81-295f-587d-8323-b5b20c25f14e\n",
      "cbc5d8e0-5744-5c64-b43a-3e26988765c8\n",
      "441ea54e-fc5c-5967-8b8a-43a117b06407\n",
      "b9ee64c4-e13f-56dc-a4a5-a5e2050472eb\n",
      "76e4c98a-3235-5cec-b90c-ebf5c00f9017\n",
      "b6d8dd7e-4604-5677-90ea-73a460985832\n",
      "0cbd6099-a188-54ec-897f-dbfc69c6cf32\n",
      "a22df09b-bf58-5e70-a993-b0b5763a6fac\n",
      "c486ef02-a48f-519e-8c14-b87740076792\n",
      "d5f6439d-7d2c-5651-bda6-c8d889b26ef0\n",
      "443b6946-e74c-5f48-850f-d6d739b7738f\n",
      "073ab9cc-0d49-5443-8349-03abe8fc3be3\n",
      "6401b2fb-59ba-5f93-9a55-efd91589cf4b\n",
      "89195265-83c3-5389-b8b8-2d9f1ebb743c\n",
      "f44c8b9c-1f40-5e51-bd7a-8dabb48c5149\n",
      "67bc13a1-80a3-5762-b9d2-2da5704f2106\n",
      "cff6df2c-0ff8-58e5-ae87-480e10a6c800\n",
      "b9404784-6d11-54d3-b540-94ee6ac3c801\n",
      "d1e3fd9d-6bef-59d3-85a8-6aa43b04cd4f\n",
      "e23d72e4-c621-5406-8cae-ec9eae9829b8\n",
      "316fca3d-a14a-5f9b-85ba-e2b55b7456c9\n",
      "0f9c1e90-2e39-55e1-b5d6-67a912b521a7\n",
      "cfc1b962-d3da-5458-ad4d-85f8c9cfa28e\n",
      "d5f618cf-0388-5067-8427-80769f1aadd4\n",
      "96bf6437-8043-5ee1-9a0e-d3be3d88a67d\n",
      "b49dc686-9ec9-5cf6-9577-2079848ba5bb\n",
      "9d3bc027-07d9-59c9-be94-66db36d7f145\n",
      "c4f729e3-a1eb-5e07-9c4a-66305e8438d0\n",
      "3e5d6fd6-2d1d-53cc-aab0-ea4bf0e51a4f\n",
      "6e3a7541-6d66-5753-9c5b-b69a1174d317\n",
      "25911344-ee2c-561d-9793-c1731ce92a11\n",
      "47196e0e-3659-5d05-9dc4-7efde28021cc\n",
      "c93545ab-30a2-5c51-9a22-fb2a5303d6c1\n",
      "1352f4e4-bf0d-5d2e-831e-830b0da50eb8\n",
      "b40123f3-4961-563d-a214-9ff4d4c89128\n",
      "3eed31d2-eced-5695-939e-62b29829e0b9\n",
      "c4fb83d6-2939-58f5-9681-b0b33b486292\n",
      "9052ef1a-d969-5175-b911-781c7beb1262\n",
      "0fcbe0d4-1614-536a-be27-d744ff6f2ee0\n",
      "af0b720c-977e-5925-a10f-0b23b10e2d1e\n",
      "d95c2338-1d2a-561e-b439-99a4db95afed\n",
      "ab4db6b3-e11a-5454-9ce0-29bf1815e7e6\n",
      "02922062-7b45-5c10-b3a3-23cf5fb97c7b\n",
      "839fdbf6-3f55-5344-9c51-ba238babbffa\n",
      "a5ce1b2f-734a-5780-b8a8-0bda28563f17\n",
      "daaae5e0-0f75-566a-b159-b5eb9f46aeaf\n",
      "7a2836fb-8b7a-5b82-93fe-61c40dabca57\n",
      "bd2b7090-90a3-5b64-9b23-ab050744d107\n",
      "84cfbc78-6bd8-5d5a-b0bb-97184ee4201e\n",
      "b241078d-49b0-5d63-84ee-bf8de0295ec9\n",
      "1a2e6b16-1bd1-594f-85d5-c79e44b00122\n",
      "Uploading points...\n",
      "✓ Batch 1/117 - Total uploaded: 631996\n",
      "Chunk size: 36\n"
     ]
    },
    {
     "ename": "KeyboardInterrupt",
     "evalue": "",
     "output_type": "error",
     "traceback": [
      "\u001b[31m---------------------------------------------------------------------------\u001b[39m",
      "\u001b[31mKeyboardInterrupt\u001b[39m                         Traceback (most recent call last)",
      "\u001b[36mCell\u001b[39m\u001b[36m \u001b[39m\u001b[32mIn[3]\u001b[39m\u001b[32m, line 9\u001b[39m\n\u001b[32m      6\u001b[39m \u001b[38;5;66;03m#dense_model_name=\"BAAI/bge-base-en-v1.5\"\u001b[39;00m\n\u001b[32m      8\u001b[39m pipeline = EmbeddingPipeline(collection_name=\u001b[33m\"\u001b[39m\u001b[33mbiomedical_entity_collection\u001b[39m\u001b[33m\"\u001b[39m)\n\u001b[32m----> \u001b[39m\u001b[32m9\u001b[39m \u001b[43mpipeline\u001b[49m\u001b[43m.\u001b[49m\u001b[43madd_documents\u001b[49m\u001b[43m(\u001b[49m\u001b[43mentities\u001b[49m\u001b[43m,\u001b[49m\u001b[43m \u001b[49m\u001b[43mbatch_size\u001b[49m\u001b[43m=\u001b[49m\u001b[32;43m144\u001b[39;49m\u001b[43m)\u001b[49m\n\u001b[32m     11\u001b[39m ray.shutdown()\n",
      "\u001b[36mFile \u001b[39m\u001b[32m~/Documents/Bachelor Thesis/sparql-rag-agent/sparql-rag-agent/entity indexing/entity_indexing_pipeline_v3.py:162\u001b[39m, in \u001b[36mEmbeddingPipeline.add_documents\u001b[39m\u001b[34m(self, documents, batch_size, skip_existing)\u001b[39m\n\u001b[32m    160\u001b[39m texts = [doc[\u001b[33m'\u001b[39m\u001b[33mlabel\u001b[39m\u001b[33m'\u001b[39m] \u001b[38;5;28;01mfor\u001b[39;00m doc \u001b[38;5;129;01min\u001b[39;00m batch]\n\u001b[32m    161\u001b[39m \u001b[38;5;66;03m#print(texts)\u001b[39;00m\n\u001b[32m--> \u001b[39m\u001b[32m162\u001b[39m dense_embeddings = \u001b[38;5;28;43mself\u001b[39;49m\u001b[43m.\u001b[49m\u001b[43mchunk_encode_dense\u001b[49m\u001b[43m(\u001b[49m\u001b[43mtexts\u001b[49m\u001b[43m)\u001b[49m\n\u001b[32m    164\u001b[39m \u001b[38;5;66;03m#contains list of sparse embeddings objects. Each object has indices and values\u001b[39;00m\n\u001b[32m    165\u001b[39m sparse_embeddings = \u001b[38;5;28mself\u001b[39m.chunk_encode_sparse(texts)\n",
      "\u001b[36mFile \u001b[39m\u001b[32m~/Documents/Bachelor Thesis/sparql-rag-agent/sparql-rag-agent/entity indexing/entity_indexing_pipeline_v3.py:248\u001b[39m, in \u001b[36mEmbeddingPipeline.chunk_encode_dense\u001b[39m\u001b[34m(self, texts)\u001b[39m\n\u001b[32m    246\u001b[39m start_time = time.time()\n\u001b[32m    247\u001b[39m embedding_tasks_ref = [worker.encode_dense.remote(chunk_ref) \u001b[38;5;28;01mfor\u001b[39;00m worker, chunk_ref \u001b[38;5;129;01min\u001b[39;00m \u001b[38;5;28mzip\u001b[39m(\u001b[38;5;28mself\u001b[39m.worker_pool, chunk_object_ref)]\n\u001b[32m--> \u001b[39m\u001b[32m248\u001b[39m embeddings = \u001b[43mray\u001b[49m\u001b[43m.\u001b[49m\u001b[43mget\u001b[49m\u001b[43m(\u001b[49m\u001b[43membedding_tasks_ref\u001b[49m\u001b[43m)\u001b[49m\n\u001b[32m    249\u001b[39m end_time = time.time()\n\u001b[32m    251\u001b[39m \u001b[38;5;28;01mfor\u001b[39;00m refs \u001b[38;5;129;01min\u001b[39;00m chunk_object_ref:\n",
      "\u001b[36mFile \u001b[39m\u001b[32m~/Documents/Bachelor Thesis/sparql-rag-agent/sparql-rag-agent/.venv/lib/python3.11/site-packages/ray/_private/auto_init_hook.py:21\u001b[39m, in \u001b[36mwrap_auto_init.<locals>.auto_init_wrapper\u001b[39m\u001b[34m(*args, **kwargs)\u001b[39m\n\u001b[32m     18\u001b[39m \u001b[38;5;129m@wraps\u001b[39m(fn)\n\u001b[32m     19\u001b[39m \u001b[38;5;28;01mdef\u001b[39;00m\u001b[38;5;250m \u001b[39m\u001b[34mauto_init_wrapper\u001b[39m(*args, **kwargs):\n\u001b[32m     20\u001b[39m     auto_init_ray()\n\u001b[32m---> \u001b[39m\u001b[32m21\u001b[39m     \u001b[38;5;28;01mreturn\u001b[39;00m \u001b[43mfn\u001b[49m\u001b[43m(\u001b[49m\u001b[43m*\u001b[49m\u001b[43margs\u001b[49m\u001b[43m,\u001b[49m\u001b[43m \u001b[49m\u001b[43m*\u001b[49m\u001b[43m*\u001b[49m\u001b[43mkwargs\u001b[49m\u001b[43m)\u001b[49m\n",
      "\u001b[36mFile \u001b[39m\u001b[32m~/Documents/Bachelor Thesis/sparql-rag-agent/sparql-rag-agent/.venv/lib/python3.11/site-packages/ray/_private/client_mode_hook.py:103\u001b[39m, in \u001b[36mclient_mode_hook.<locals>.wrapper\u001b[39m\u001b[34m(*args, **kwargs)\u001b[39m\n\u001b[32m    101\u001b[39m     \u001b[38;5;28;01mif\u001b[39;00m func.\u001b[34m__name__\u001b[39m != \u001b[33m\"\u001b[39m\u001b[33minit\u001b[39m\u001b[33m\"\u001b[39m \u001b[38;5;129;01mor\u001b[39;00m is_client_mode_enabled_by_default:\n\u001b[32m    102\u001b[39m         \u001b[38;5;28;01mreturn\u001b[39;00m \u001b[38;5;28mgetattr\u001b[39m(ray, func.\u001b[34m__name__\u001b[39m)(*args, **kwargs)\n\u001b[32m--> \u001b[39m\u001b[32m103\u001b[39m \u001b[38;5;28;01mreturn\u001b[39;00m \u001b[43mfunc\u001b[49m\u001b[43m(\u001b[49m\u001b[43m*\u001b[49m\u001b[43margs\u001b[49m\u001b[43m,\u001b[49m\u001b[43m \u001b[49m\u001b[43m*\u001b[49m\u001b[43m*\u001b[49m\u001b[43mkwargs\u001b[49m\u001b[43m)\u001b[49m\n",
      "\u001b[36mFile \u001b[39m\u001b[32m~/Documents/Bachelor Thesis/sparql-rag-agent/sparql-rag-agent/.venv/lib/python3.11/site-packages/ray/_private/worker.py:2782\u001b[39m, in \u001b[36mget\u001b[39m\u001b[34m(object_refs, timeout)\u001b[39m\n\u001b[32m   2776\u001b[39m     \u001b[38;5;28;01mraise\u001b[39;00m \u001b[38;5;167;01mValueError\u001b[39;00m(\n\u001b[32m   2777\u001b[39m         \u001b[33mf\u001b[39m\u001b[33m\"\u001b[39m\u001b[33mInvalid type of object refs, \u001b[39m\u001b[38;5;132;01m{\u001b[39;00m\u001b[38;5;28mtype\u001b[39m(object_refs)\u001b[38;5;132;01m}\u001b[39;00m\u001b[33m, is given. \u001b[39m\u001b[33m\"\u001b[39m\n\u001b[32m   2778\u001b[39m         \u001b[33m\"\u001b[39m\u001b[33m'\u001b[39m\u001b[33mobject_refs\u001b[39m\u001b[33m'\u001b[39m\u001b[33m must either be an ObjectRef or a list of ObjectRefs. \u001b[39m\u001b[33m\"\u001b[39m\n\u001b[32m   2779\u001b[39m     )\n\u001b[32m   2781\u001b[39m \u001b[38;5;66;03m# TODO(ujvl): Consider how to allow user to retrieve the ready objects.\u001b[39;00m\n\u001b[32m-> \u001b[39m\u001b[32m2782\u001b[39m values, debugger_breakpoint = \u001b[43mworker\u001b[49m\u001b[43m.\u001b[49m\u001b[43mget_objects\u001b[49m\u001b[43m(\u001b[49m\u001b[43mobject_refs\u001b[49m\u001b[43m,\u001b[49m\u001b[43m \u001b[49m\u001b[43mtimeout\u001b[49m\u001b[43m=\u001b[49m\u001b[43mtimeout\u001b[49m\u001b[43m)\u001b[49m\n\u001b[32m   2783\u001b[39m \u001b[38;5;28;01mfor\u001b[39;00m i, value \u001b[38;5;129;01min\u001b[39;00m \u001b[38;5;28menumerate\u001b[39m(values):\n\u001b[32m   2784\u001b[39m     \u001b[38;5;28;01mif\u001b[39;00m \u001b[38;5;28misinstance\u001b[39m(value, RayError):\n",
      "\u001b[36mFile \u001b[39m\u001b[32m~/Documents/Bachelor Thesis/sparql-rag-agent/sparql-rag-agent/.venv/lib/python3.11/site-packages/ray/_private/worker.py:903\u001b[39m, in \u001b[36mWorker.get_objects\u001b[39m\u001b[34m(self, object_refs, timeout, return_exceptions, skip_deserialization)\u001b[39m\n\u001b[32m    893\u001b[39m         \u001b[38;5;28;01mraise\u001b[39;00m \u001b[38;5;167;01mTypeError\u001b[39;00m(\n\u001b[32m    894\u001b[39m             \u001b[33mf\u001b[39m\u001b[33m\"\u001b[39m\u001b[33mAttempting to call `get` on the value \u001b[39m\u001b[38;5;132;01m{\u001b[39;00mobject_ref\u001b[38;5;132;01m}\u001b[39;00m\u001b[33m, \u001b[39m\u001b[33m\"\u001b[39m\n\u001b[32m    895\u001b[39m             \u001b[33m\"\u001b[39m\u001b[33mwhich is not an ray.ObjectRef.\u001b[39m\u001b[33m\"\u001b[39m\n\u001b[32m    896\u001b[39m         )\n\u001b[32m    898\u001b[39m timeout_ms = (\n\u001b[32m    899\u001b[39m     \u001b[38;5;28mint\u001b[39m(timeout * \u001b[32m1000\u001b[39m) \u001b[38;5;28;01mif\u001b[39;00m timeout \u001b[38;5;129;01mis\u001b[39;00m \u001b[38;5;129;01mnot\u001b[39;00m \u001b[38;5;28;01mNone\u001b[39;00m \u001b[38;5;129;01mand\u001b[39;00m timeout != -\u001b[32m1\u001b[39m \u001b[38;5;28;01melse\u001b[39;00m -\u001b[32m1\u001b[39m\n\u001b[32m    900\u001b[39m )\n\u001b[32m    901\u001b[39m data_metadata_pairs: List[\n\u001b[32m    902\u001b[39m     Tuple[ray._raylet.Buffer, \u001b[38;5;28mbytes\u001b[39m]\n\u001b[32m--> \u001b[39m\u001b[32m903\u001b[39m ] = \u001b[38;5;28;43mself\u001b[39;49m\u001b[43m.\u001b[49m\u001b[43mcore_worker\u001b[49m\u001b[43m.\u001b[49m\u001b[43mget_objects\u001b[49m\u001b[43m(\u001b[49m\n\u001b[32m    904\u001b[39m \u001b[43m    \u001b[49m\u001b[43mobject_refs\u001b[49m\u001b[43m,\u001b[49m\n\u001b[32m    905\u001b[39m \u001b[43m    \u001b[49m\u001b[43mtimeout_ms\u001b[49m\u001b[43m,\u001b[49m\n\u001b[32m    906\u001b[39m \u001b[43m\u001b[49m\u001b[43m)\u001b[49m\n\u001b[32m    908\u001b[39m debugger_breakpoint = \u001b[33mb\u001b[39m\u001b[33m\"\u001b[39m\u001b[33m\"\u001b[39m\n\u001b[32m    909\u001b[39m \u001b[38;5;28;01mfor\u001b[39;00m data, metadata \u001b[38;5;129;01min\u001b[39;00m data_metadata_pairs:\n",
      "\u001b[36mFile \u001b[39m\u001b[32mpython/ray/_raylet.pyx:3211\u001b[39m, in \u001b[36mray._raylet.CoreWorker.get_objects\u001b[39m\u001b[34m()\u001b[39m\n",
      "\u001b[36mFile \u001b[39m\u001b[32mpython/ray/includes/common.pxi:83\u001b[39m, in \u001b[36mray._raylet.check_status\u001b[39m\u001b[34m()\u001b[39m\n",
      "\u001b[31mKeyboardInterrupt\u001b[39m: "
     ]
    }
   ],
   "source": [
    "from entity_indexing_pipeline_v3 import EmbeddingPipeline\n",
    "import ray\n",
    "\n",
    "\n",
    "ray.init(ignore_reinit_error=True)\n",
    "#dense_model_name=\"BAAI/bge-base-en-v1.5\"\n",
    "\n",
    "pipeline = EmbeddingPipeline(collection_name=\"biomedical_entity_collection\")\n",
    "pipeline.add_documents(entities, batch_size=144)\n",
    "\n",
    "ray.shutdown()"
   ]
  },
  {
   "cell_type": "code",
   "execution_count": 4,
   "metadata": {},
   "outputs": [],
   "source": [
    "import ray\n",
    "\n",
    "ray.shutdown()"
   ]
  },
  {
   "cell_type": "code",
   "execution_count": null,
   "metadata": {},
   "outputs": [],
   "source": []
  }
 ],
 "metadata": {
  "kernelspec": {
   "display_name": ".venv",
   "language": "python",
   "name": "python3"
  },
  "language_info": {
   "codemirror_mode": {
    "name": "ipython",
    "version": 3
   },
   "file_extension": ".py",
   "mimetype": "text/x-python",
   "name": "python",
   "nbconvert_exporter": "python",
   "pygments_lexer": "ipython3",
   "version": "3.11.5"
  }
 },
 "nbformat": 4,
 "nbformat_minor": 2
}
